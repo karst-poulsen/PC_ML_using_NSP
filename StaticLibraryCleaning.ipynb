{
 "cells": [
  {
   "cell_type": "code",
   "execution_count": null,
   "metadata": {
    "collapsed": true,
    "pycharm": {
     "name": "#%%\n"
    }
   },
   "outputs": [],
   "source": [
    "import os\n",
    "import pandas as pd\n",
    "import numpy as np\n",
    "from sklearn.ensemble import RandomForestClassifier\n",
    "from sklearn.ensemble import RandomForestRegressor\n",
    "from sklearn import metrics\n",
    "import matplotlib.pyplot as plt\n",
    "import seaborn as sns\n",
    "from helper_functions_pipe_testing import *\n",
    "from sklearn.metrics import  f1_score, recall_score, precision_score, confusion_matrix\n",
    "from sklearn.model_selection import StratifiedShuffleSplit\n",
    "from sklearn.model_selection import train_test_split\n",
    "from sklearn.preprocessing import MinMaxScaler\n",
    "from imblearn.over_sampling import *"
   ]
  },
  {
   "cell_type": "code",
   "execution_count": null,
   "outputs": [],
   "source": [
    "#Make static BioPy Library from UniProt library\n",
    "uniprot_filepath='UniProt/Bovine_Mouse_proteome.xlsx'\n",
    "uniprot_dat=pd.read_excel(uniprot_filepath,header=0)\n",
    "PROT_cleaned_data = clean_up_data_biopy(uniprot_dat)\n",
    "PROT_cleaned_data.to_excel('UniProt/Bovine_Mouse_proteome_biopyCalcs.xlsx')"
   ],
   "metadata": {
    "collapsed": false,
    "pycharm": {
     "name": "#%%\n"
    }
   }
  },
  {
   "cell_type": "code",
   "execution_count": null,
   "outputs": [],
   "source": [
    "#determine any proteins missing from NSP database that are in uniprot database and export to excel spreadsheet\n",
    "NSPfilePath='NetsurfP_Proteomes/Bovine_Mouse_Proteome.xlsx'\n",
    "NSP_data=pd.read_excel(NSPfilePath)\n",
    "df=pd.merge(uniprot_dat,NSP_data,on='Entry',how='outer',indicator=True)\n",
    "df=df[df['_merge']=='left_only']\n",
    "df.to_excel('NetsurfP_Proteomes/Bovine_Mouse_Proteome_missingproteins.xlsx')\n",
    "#use this spreadsheet to find list of accession numbers, get FASTA files from uniprot\n",
    "#run data through NSP (if small enough just do by hand)"
   ],
   "metadata": {
    "collapsed": false,
    "pycharm": {
     "name": "#%%\n"
    }
   }
  },
  {
   "cell_type": "code",
   "execution_count": null,
   "outputs": [],
   "source": [],
   "metadata": {
    "collapsed": false,
    "pycharm": {
     "name": "#%%\n"
    }
   }
  }
 ],
 "metadata": {
  "kernelspec": {
   "display_name": "Python 3",
   "language": "python",
   "name": "python3"
  },
  "language_info": {
   "codemirror_mode": {
    "name": "ipython",
    "version": 2
   },
   "file_extension": ".py",
   "mimetype": "text/x-python",
   "name": "python",
   "nbconvert_exporter": "python",
   "pygments_lexer": "ipython2",
   "version": "2.7.6"
  }
 },
 "nbformat": 4,
 "nbformat_minor": 0
}
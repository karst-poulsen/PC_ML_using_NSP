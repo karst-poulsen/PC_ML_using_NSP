{
 "cells": [
  {
   "cell_type": "code",
   "execution_count": null,
   "metadata": {
    "collapsed": true,
    "pycharm": {
     "name": "#%%\n"
    }
   },
   "outputs": [],
   "source": [
    "#Code for processing NSP3 output for Bovine Proteome\n",
    "\n",
    "import os\n",
    "from os import listdir\n",
    "from os.path import isfile, join\n",
    "import csv\n",
    "import hashlib\n",
    "from NSP_functions import *\n",
    "\n",
    "direct2= 'C:/Users/kmp95/OneDrive - Duke University/NSP3_Working_stuff/Bovine_clean_results/Cleaner_results/'\n",
    "direct3= 'C:/Users/kmp95/OneDrive - Duke University/NSP3_Working_stuff/Bovine_clean_results/Proc_results/'\n",
    "files = [f for f in listdir(direct2) if isfile(join(direct2,f)) ]\n",
    "descript= 'proc_results'\n",
    "# print(files)\n",
    "# for i in range(len(files)):\n",
    "for i in range(1):\n",
    "    filename=direct2+files[i]\n",
    "    unique_lines= set()\n",
    "    # print('check2')\n",
    "    with open(filename, newline='') as csvfile:\n",
    "        reader= csv.reader(csvfile,delimiter=' ', quotechar='|')\n",
    "        for row in reader:\n",
    "            x=row[0]\n",
    "            y=x[4:10]\n",
    "            hashval=hashlib.md5(y.rstrip().encode('utf-8')).hexdigest()\n",
    "            if hashval not in unique_lines:\n",
    "                unique_lines.add(y)\n",
    "    uniqueIds=list(unique_lines)\n",
    "    # print(uniqueIds[1:])\n",
    "    raw_netsurfp_data = pd.read_csv(filename)\n",
    "    raw_netsurfp_data.columns = raw_netsurfp_data.columns.str.strip()\n",
    "    processed_data = netsurfp_2_data_processing(uniqueIds[1:], raw_netsurfp_data)\n",
    "    processed_data.to_excel(direct3+descript+str(i)+'.xlsx')\n",
    "    print(i,'out of ', len(files))\n",
    "                # print(y)\n",
    "                # file1.write(x+'\\n')\n"
   ]
  },
  {
   "cell_type": "code",
   "execution_count": null,
   "outputs": [],
   "source": [
    "#Combine all processed files into one complete proteome file for Bovine Proteome\n",
    "\n",
    "import glob\n",
    "import pandas as pd\n",
    "\n",
    "path= 'C:/Users/kmp95/OneDrive - Duke University/NSP3_Working_stuff/Bovine_clean_results/Proc_results/'\n",
    "\n",
    "file_list = glob.glob(path + \"/*.xlsx\")\n",
    "\n",
    "excl_list =[]\n",
    "\n",
    "for file in file_list:\n",
    "    excl_list.append(pd.read_excel(file))\n",
    "excl_merged=pd.DataFrame()\n",
    "\n",
    "for excl_file in excl_list:\n",
    "    excl_merged= pd.concat([excl_merged,excl_file] , ignore_index=True)\n",
    "\n",
    "excl_merged.to_excel(path+'combined_processed_results2.xlsx', index= False)"
   ],
   "metadata": {
    "collapsed": false,
    "pycharm": {
     "name": "#%%\n"
    }
   }
  },
  {
   "cell_type": "code",
   "execution_count": null,
   "outputs": [],
   "source": [
    "#Code for processing NSP3 output for Mouse Proteome\n",
    "\n",
    "from os import listdir\n",
    "from os.path import isfile, join\n",
    "import csv\n",
    "import hashlib\n",
    "\n",
    "direct2= 'C:/Users/kmp95/OneDrive - Duke University/NSP3_Working_stuff/Mouse_clean_results/Cleaner/'\n",
    "direct3= 'C:/Users/kmp95/OneDrive - Duke University/NSP3_Working_stuff/Mouse_clean_results/Proc_results/'\n",
    "files = [f for f in listdir(direct2) if isfile(join(direct2,f)) ]\n",
    "descript= 'proc_results'\n",
    "# print(files)\n",
    "# for i in range(len(files)):\n",
    "for i in range(1):\n",
    "    filename=direct2+files[i]\n",
    "    unique_lines= set()\n",
    "    # print('check2')\n",
    "    with open(filename, newline='') as csvfile:\n",
    "        reader= csv.reader(csvfile,delimiter=' ', quotechar='|')\n",
    "        for row in reader:\n",
    "            x=row[0]\n",
    "            y=x[4:10]\n",
    "            hashval=hashlib.md5(y.rstrip().encode('utf-8')).hexdigest()\n",
    "            if hashval not in unique_lines:\n",
    "                unique_lines.add(y)\n",
    "    uniqueIds=list(unique_lines)\n",
    "    # print(uniqueIds[1:])\n",
    "    raw_netsurfp_data = pd.read_csv(filename)\n",
    "    raw_netsurfp_data.columns = raw_netsurfp_data.columns.str.strip()\n",
    "    processed_data = netsurfp_2_data_processing(uniqueIds[1:], raw_netsurfp_data)\n",
    "    processed_data.to_excel(direct3+descript+str(i)+'.xlsx')\n",
    "    # processed_data.to_excel(direct3+'aaaaa'+str(i)+'.xlsx')"
   ],
   "metadata": {
    "collapsed": false,
    "pycharm": {
     "name": "#%%\n"
    }
   }
  },
  {
   "cell_type": "code",
   "execution_count": null,
   "outputs": [],
   "source": [
    "#Combine all processed files into one complete proteome file for mouse Proteome\n",
    "import glob\n",
    "import pandas as pd\n",
    "\n",
    "path= 'C:/Users/kmp95/OneDrive - Duke University/NSP3_Working_stuff/Mouse_clean_results/Proc_results/'\n",
    "\n",
    "file_list = glob.glob(path + \"/*.xlsx\")\n",
    "\n",
    "excl_list =[]\n",
    "\n",
    "for file in file_list:\n",
    "    excl_list.append(pd.read_excel(file))\n",
    "excl_merged=pd.DataFrame()\n",
    "\n",
    "for excl_file in excl_list:\n",
    "    excl_merged= pd.concat([excl_merged,excl_file] , ignore_index=True)\n",
    "\n",
    "excl_merged.to_excel(path+'combined_processed_results.xlsx', index= False)"
   ],
   "metadata": {
    "collapsed": false,
    "pycharm": {
     "name": "#%%\n"
    }
   }
  }
 ],
 "metadata": {
  "kernelspec": {
   "display_name": "Python 3",
   "language": "python",
   "name": "python3"
  },
  "language_info": {
   "codemirror_mode": {
    "name": "ipython",
    "version": 2
   },
   "file_extension": ".py",
   "mimetype": "text/x-python",
   "name": "python",
   "nbconvert_exporter": "python",
   "pygments_lexer": "ipython2",
   "version": "2.7.6"
  }
 },
 "nbformat": 4,
 "nbformat_minor": 0
}
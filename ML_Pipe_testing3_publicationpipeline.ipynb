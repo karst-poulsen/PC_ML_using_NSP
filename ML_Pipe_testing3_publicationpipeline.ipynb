{
 "cells": [
  {
   "cell_type": "code",
   "execution_count": 1,
   "metadata": {
    "collapsed": true,
    "pycharm": {
     "name": "#%%\n"
    }
   },
   "outputs": [],
   "source": [
    "import os\n",
    "import pandas as pd\n",
    "import numpy as np\n",
    "import sklearn.metrics\n",
    "from sklearn.ensemble import RandomForestClassifier\n",
    "from sklearn.ensemble import RandomForestRegressor\n",
    "from sklearn.ensemble import _gradient_boosting\n",
    "from sklearn import metrics\n",
    "import matplotlib.pyplot as plt\n",
    "import seaborn as sns\n",
    "from helper_functions_pipe_testing import *\n",
    "from sklearn.metrics import  f1_score, recall_score, precision_score, confusion_matrix\n",
    "from sklearn.model_selection import StratifiedShuffleSplit\n",
    "from sklearn.model_selection import train_test_split\n",
    "from sklearn.preprocessing import MinMaxScaler\n",
    "from imblearn.over_sampling import *\n",
    "from sklearn.preprocessing import LabelEncoder\n",
    "from helper_functions_KP import *\n",
    "from sklearn.feature_selection import RFECV\n",
    "from sklearn.model_selection import StratifiedKFold\n",
    "from sklearn.linear_model import LogisticRegression"
   ]
  },
  {
   "cell_type": "markdown",
   "source": [
    "#Instructions for the pipeline Requires two inputs for training: - Mass spec data with corresponding NP surface characteristics and experimental conditions (time, concentration) - NetsurfP and Biopython data that has been precalculated - X characteristics to predict\n",
    "pipeline Take mass spec spreadsheet Accession,Enrichment,Dh,TEM,Zp,BET,Composition,Ligand,Shape,IncubationTime,IncubationConcentration Merge with Proteome data to get file that has Accession,Enrichment,Dh,TEM,Zp,BET,Composition,Ligand,Shape,IncubationTime,IncubationConcentration,Mass,Length,Sequence Calculate protein features using biopython Merge with NSP data to get all protein features\n",
    "Split into X and Y dataset with Entries as labels"
   ],
   "metadata": {
    "collapsed": false,
    "pycharm": {
     "name": "#%% md\n"
    }
   }
  },
  {
   "cell_type": "code",
   "execution_count": 3,
   "outputs": [
    {
     "name": "stdout",
     "output_type": "stream",
     "text": [
      "[31, 32, 33, 34, 35, 36, 37, 38, 44, 45, 46, 47, 48, 49, 50, 'Unnamed: 26']\n"
     ]
    }
   ],
   "source": [
    "all_file='Input_data/Proteomic data/abundance/Norm_Intensity_Bovsynth022123.xlsx'\n",
    "raw_MS_data=pd.read_excel(all_file,header=0)\n",
    "col_length=raw_MS_data.shape[0]\n",
    "to_drop=[]\n",
    "for i in raw_MS_data.columns:\n",
    "    column=raw_MS_data[i]\n",
    "    zeros=(column==0).sum()\n",
    "    # print(zeros)\n",
    "    # print(zeros)\n",
    "    # print(raw_MS_data[i])\n",
    "    if zeros>int(col_length/2):\n",
    "        to_drop.append(i)\n",
    "        # print(raw_MS_data.shape[1])\n",
    "# print(raw_MS_data.shape[1])\n",
    "print(to_drop)\n",
    "raw_MS_data.drop(columns=to_drop,inplace=True)"
   ],
   "metadata": {
    "collapsed": false,
    "pycharm": {
     "name": "#%%\n"
    }
   }
  },
  {
   "cell_type": "code",
   "execution_count": 3,
   "outputs": [
    {
     "name": "stderr",
     "output_type": "stream",
     "text": [
      "C:\\Users\\pouls\\anaconda3\\lib\\site-packages\\pandas\\core\\arraylike.py:397: RuntimeWarning: divide by zero encountered in log2\n",
      "  result = getattr(ufunc, method)(*inputs, **kwargs)\n"
     ]
    }
   ],
   "source": [
    "# Pull together Proteomic data\n",
    "in_dir=\"Input_data/Proteomic data/abundance/\"\n",
    "all_file='Input_data/Proteomic data/abundance/Intensity _all20230202.xlsx'\n",
    "#combine Mass Spec data input into one excel spreadsheet - Entry - Abundance labeled by NP Unique ID\n",
    "#Abundance as a percent\n",
    "#take files in_dir and combine then into one pandas df (raw_MS_data)\n",
    "# files = os.listdir(in_dir)\n",
    "# for i,f in enumerate(files):\n",
    "#     if i==0:\n",
    "#         raw_MS_data=pd.read_excel(in_dir+f,header=0)\n",
    "#     else:\n",
    "#         temp = pd.read_excel(in_dir+f,header=0)\n",
    "#         raw_MS_data=raw_MS_data.merge(temp,how='outer',on='Entry')\n",
    "raw_MS_data=pd.read_excel(all_file,header=0)\n",
    "#drop samples that are missing more than half of the proteins in their file, dont use this section currently\n",
    "# col_length=raw_MS_data.shape[0]\n",
    "# to_drop=[]\n",
    "# for i in raw_MS_data.columns:\n",
    "#     column=raw_MS_data[i]\n",
    "#     zeros=(column==0).sum()\n",
    "#     if zeros>int(col_length/2):\n",
    "#         to_drop.append(i)\n",
    "# raw_MS_data.drop(columns=to_drop,inplace=True)\n",
    "# melt the df to make it an accession number, NPUNID, Abundance dataset\n",
    "raw_MS_data = pd.melt(raw_MS_data, id_vars=['Entry'],var_name='Sample_num', value_name='Abundance')\n",
    "#remove prots that were added due to merge\n",
    "raw_MS_data=raw_MS_data.dropna()\n",
    "###Bring in controls (MS data for serums)##\n",
    "controls=pd.read_excel('Input_data/Proteomic data/controls_combined.xlsx',header=0)\n",
    "MS_data_controls = pd.merge(raw_MS_data,controls,how='left', on='Entry')\n",
    "###Bring in Uniprot_data,NSPdata and NP data##\n",
    "uniprot_filepath='Input_data/BioPython_data/Combined_biopyCalcs.xlsx'\n",
    "uniprot_dat=pd.read_excel(uniprot_filepath,header=0)\n",
    "NSPfilePath='Input_data/NetSurfP_data/Combined.xlsx'\n",
    "NSP_data=pd.read_excel(NSPfilePath)\n",
    "###Bring in NP data and merge to get complete NP dataset###\n",
    "NP_filepath='Input_data/NPs/NP_Database.xlsx'\n",
    "NPUNdata=pd.read_excel(NP_filepath,header=0,sheet_name='NPUNID')\n",
    "NPprop=pd.read_excel(NP_filepath,header=0,sheet_name='NP_Props')\n",
    "NPdata=pd.merge(NPUNdata,NPprop,how=\"left\",on='NPID')\n",
    "NPdata.dropna(inplace=True)\n",
    "#calculate Enrichment\n",
    "#####MAYBE add binning here to keep negative results and improve capapbilities######\n",
    "MS_data_controls['Enrichment']= np.log2(MS_data_controls['Abundance']/MS_data_controls['Abundance_Controls'])\n",
    "# MS_data=MS_data_controls.drop(columns=['Abundance','Abundance_Controls'])\n",
    "#keep abundance Controls\n",
    "# MS_data=MS_data_controls.drop(columns=['Abundance'])\n",
    "raw_prop_data=pd.merge(MS_data_controls, uniprot_dat.drop_duplicates(subset=['Entry']), how='left',on='Entry')\n",
    "Protein_data_complete = pd.merge(raw_prop_data, NSP_data.drop_duplicates(subset=['Entry']),how='left', on='Entry') #merges netsurfp features and biopython features\n",
    "Protein_data_complete.fillna(0,inplace=True)\n",
    "#creates new column called asa_sum_normalized which is the asa_sum value divide by the mass of the protein\n",
    "for df in [Protein_data_complete]:\n",
    "    for col in ['asa_sum']:\n",
    "        df[col+'_normalized'] = df[col] / df['Mass']\n",
    "\n",
    "data_complete= pd.merge(Protein_data_complete,NPdata,how='inner', on='Sample_num')\n",
    "data_complete.drop(columns=['notes','Notes','NPUNID'],inplace=True)\n",
    "data_complete.fillna(0,inplace=True)\n",
    "data_complete= data_complete.replace([-np.inf],'-12')\n",
    "data_complete=data_complete.replace([np.inf],'12')\n",
    "#create ordinal variables\n",
    "# data_complete2=pd.get_dummies(data_complete, columns=['Core Material','Surface_Ligand'])\n",
    "le=LabelEncoder()\n",
    "data_complete['Core Material']=le.fit_transform(data_complete['Core Material'])\n",
    "data_complete['Surface_Ligand']=le.fit_transform(data_complete['Surface_Ligand'])\n",
    "\n",
    "#set labels (what we are trying to predict) as Enrichment column\n",
    "# labels=data_complete['Enrichment'].copy()\n",
    "label_abund=np.ravel(data_complete['Abundance'].copy())\n",
    "label_enrich=np.ravel(data_complete['Enrichment'].copy())\n",
    "#make it one dimenisional\n",
    "#drop qualitative, not neccessary, and label columns\n",
    "#create df without bonus NSP columns (remove total_exposed)\n",
    "to_drop=data_complete.filter(like='total_exposed_')\n",
    "data_complete.drop(columns=to_drop,inplace=True)\n",
    "df=data_complete.drop(['Entry','Abundance','Sequence','NPID','Enrichment','Ligands','Protein Source','Sample_num','Unnamed: 5','Raw_FileID'],axis=1)\n",
    "# df_enrich=data_complete.drop(['Entry','Abundance','Sequence','NPID','Ligands','Protein Source','Sample_num','Unnamed: 5','Raw_FileID'],axis=1)\n"
   ],
   "metadata": {
    "collapsed": false,
    "pycharm": {
     "name": "#%%\n"
    }
   }
  },
  {
   "cell_type": "code",
   "execution_count": 9,
   "outputs": [
    {
     "data": {
      "text/plain": "<Figure size 432x288 with 1 Axes>",
      "image/png": "[encoded data removed]"
     },
     "metadata": {},
     "output_type": "display_data"
    }
   ],
   "source": [
    "#Run PCA to seee how data differentiates#\n",
    "from sklearn.decomposition import PCA\n",
    "pca= PCA(n_components=2)\n",
    "x_pca=pca.fit_transform(df)\n",
    "\n",
    "plt.scatter(x_pca[:, 0], x_pca[:, 1], c=label_abund, cmap='viridis')\n",
    "plt.xlabel('PC1')\n",
    "plt.ylabel('PC2')\n",
    "plt.show()"
   ],
   "metadata": {
    "collapsed": false,
    "pycharm": {
     "name": "#%%\n"
    }
   }
  },
  {
   "cell_type": "code",
   "execution_count": 22,
   "outputs": [
    {
     "data": {
      "text/plain": "{'Ligand_BSA',\n 'Ligand_Citrate',\n 'Ligand_PEI',\n 'Mass',\n 'NP_incubation Concentration (mg/mL)',\n 'Surface_Ligand',\n 'asa_sum',\n 'flexibility_max',\n 'flexibility_median',\n 'flexibility_min',\n 'flexibility_std',\n 'flexibility_var',\n 'fraction_buried',\n 'fraction_exposed_exposed_G',\n 'fraction_exposed_exposed_H',\n 'fraction_exposed_exposed_K',\n 'fraction_exposed_exposed_N',\n 'fraction_exposed_exposed_P',\n 'fraction_exposed_exposed_R',\n 'fraction_exposed_nonpolar_exposed',\n 'fraction_exposed_nonpolar_total',\n 'fraction_exposed_polar_exposed',\n 'fraction_exposed_polar_total',\n 'molecular_weight',\n 'nsp_disordered',\n 'nsp_secondary_structure_helix',\n 'rsa_mean',\n 'rsa_median',\n 'secondary_structure_fraction_sheet',\n 'secondary_structure_fraction_turn'}"
     },
     "execution_count": 22,
     "metadata": {},
     "output_type": "execute_result"
    }
   ],
   "source": [
    "#Remove correlated features (over r2 threshold level) and output reduced dataframe (df2)#\n",
    "corr_matrix = df.corr()\n",
    "threshold = 0.8\n",
    "correlated_features = set()\n",
    "\n",
    "for i in range(len(corr_matrix.columns)):\n",
    "    for j in range(i):\n",
    "        if threshold < abs(corr_matrix.iloc[i, j]) < 1:\n",
    "            colname = corr_matrix.columns[i]\n",
    "            correlated_features.add(colname)\n",
    "correlated_features\n",
    "df_2=df.drop(columns=correlated_features)"
   ],
   "metadata": {
    "collapsed": false,
    "pycharm": {
     "name": "#%%\n"
    }
   }
  },
  {
   "cell_type": "code",
   "execution_count": null,
   "outputs": [],
   "source": [
    "#run Recursive feature elimination with cross validation\n",
    "from sklearn.model_selection import KFold\n",
    "step=1\n",
    "min_feats=10\n",
    "cv= KFold(n_splits=10)\n",
    "estimator=RandomForestRegressor(n_estimators=100)\n",
    "# estimator=Lasso(alpha=.05)\n",
    "selector = RFECV(estimator=estimator, cv=cv, scoring='neg_mean_squared_error', min_features_to_select=min_feats, step=step)\n",
    "selector = selector.fit(df_2, label_abund)\n",
    "selector.support_\n",
    "feat_list2 = selector.get_feature_names_out()"
   ],
   "metadata": {
    "collapsed": false,
    "pycharm": {
     "name": "#%%\n"
    }
   }
  },
  {
   "cell_type": "code",
   "execution_count": 12,
   "outputs": [],
   "source": [
    "#use recursive feature elimination with Random Forest Regression as the estimator to select top 45 important features\n",
    "step=3\n",
    "feats=45\n",
    "estimator=RandomForestRegressor(n_estimators=100)\n",
    "selector = RFE(estimator, n_features_to_select=feats, step=step)\n",
    "selector = selector.fit(df, label_abund)\n",
    "selector.support_\n",
    "feat_list = selector.get_feature_names_out()"
   ],
   "metadata": {
    "collapsed": false,
    "pycharm": {
     "name": "#%%\n"
    }
   }
  },
  {
   "cell_type": "code",
   "execution_count": 15,
   "outputs": [
    {
     "name": "stdout",
     "output_type": "stream",
     "text": [
      "Selected features: Index(['Abundance_Controls', 'Mass', 'molecular_weight',\n",
      "       'fraction_exposed_exposed_M', 'fraction_exposed_exposed_N',\n",
      "       'fraction_exposed_exposed_V', 'nsp_secondary_structure_coil'],\n",
      "      dtype='object')\n"
     ]
    }
   ],
   "source": [
    "from sklearn.preprocessing import StandardScaler\n",
    "from sklearn.linear_model import Lasso\n",
    "\n",
    "# Load the breast cancer dataset\n",
    "\n",
    "\n",
    "# Split the data into features and target\n",
    "X = df\n",
    "y = label_abund\n",
    "\n",
    "# Standardize the data\n",
    "scaler = StandardScaler()\n",
    "X_std = scaler.fit_transform(X)\n",
    "\n",
    "# Apply Lasso regularization for feature selection\n",
    "lasso = Lasso(alpha=0.1, max_iter=10000)\n",
    "lasso.fit(X_std, y)\n",
    "\n",
    "# Print the selected features based on the estimated coefficients\n",
    "selected_features = df.columns[lasso.coef_ != 0]\n",
    "print('Selected features:', selected_features)\n"
   ],
   "metadata": {
    "collapsed": false,
    "pycharm": {
     "name": "#%%\n"
    }
   }
  },
  {
   "cell_type": "code",
   "execution_count": 13,
   "outputs": [
    {
     "data": {
      "text/plain": "array(['Abundance_Controls', 'Length', 'frac_aa_A', 'frac_aa_C',\n       'frac_aa_D', 'frac_aa_E', 'frac_aa_F', 'frac_aa_H', 'frac_aa_I',\n       'frac_aa_K', 'frac_aa_N', 'frac_aa_Q', 'frac_aa_R', 'frac_aa_T',\n       'frac_aa_V', 'molecular_weight', 'flexibility_max',\n       'flexibility_min', 'secondary_structure_fraction_sheet',\n       'secondary_structure_fraction_disordered', 'asa_sum',\n       'fraction_exposed_exposed_E', 'fraction_exposed_exposed_G',\n       'fraction_exposed_exposed_H', 'fraction_exposed_exposed_I',\n       'fraction_exposed_exposed_K', 'fraction_exposed_exposed_N',\n       'fraction_exposed_exposed_P', 'fraction_exposed_exposed_V',\n       'nsp_secondary_structure_coil', 'nsp_secondary_structure_helix',\n       'nsp_disordered', 'BatchID', 'Zeta Potential', 'Core Material',\n       'Ligand_BSA', 'Ligand_PEG', 'Surface_Ligand', 'Dtem', 'Dh_core',\n       'Dh_functionalized', 'Centrifuged',\n       'NP_incubation Concentration (mg/mL)',\n       'Incubation Concentration (mg/ml)', 'Incubation Time (minutes)'],\n      dtype=object)"
     },
     "execution_count": 13,
     "metadata": {},
     "output_type": "execute_result"
    }
   ],
   "source": [
    "df_rfe=df[feat_list]\n",
    "feat_list"
   ],
   "metadata": {
    "collapsed": false,
    "pycharm": {
     "name": "#%%\n"
    }
   }
  },
  {
   "cell_type": "code",
   "execution_count": 24,
   "outputs": [
    {
     "name": "stderr",
     "output_type": "stream",
     "text": [
      "C:\\Users\\pouls\\anaconda3\\lib\\site-packages\\sklearn\\linear_model\\_coordinate_descent.py:648: ConvergenceWarning: Objective did not converge. You might want to increase the number of iterations, check the scale of the features or consider increasing regularisation. Duality gap: 4.472e+03, tolerance: 2.942e+00\n",
      "  model = cd_fast.enet_coordinate_descent(\n",
      "C:\\Users\\pouls\\anaconda3\\lib\\site-packages\\sklearn\\linear_model\\_coordinate_descent.py:648: ConvergenceWarning: Objective did not converge. You might want to increase the number of iterations, check the scale of the features or consider increasing regularisation. Duality gap: 4.472e+03, tolerance: 2.942e+00\n",
      "  model = cd_fast.enet_coordinate_descent(\n",
      "C:\\Users\\pouls\\anaconda3\\lib\\site-packages\\sklearn\\linear_model\\_coordinate_descent.py:648: ConvergenceWarning: Objective did not converge. You might want to increase the number of iterations, check the scale of the features or consider increasing regularisation. Duality gap: 4.472e+03, tolerance: 2.942e+00\n",
      "  model = cd_fast.enet_coordinate_descent(\n",
      "C:\\Users\\pouls\\anaconda3\\lib\\site-packages\\sklearn\\linear_model\\_coordinate_descent.py:648: ConvergenceWarning: Objective did not converge. You might want to increase the number of iterations, check the scale of the features or consider increasing regularisation. Duality gap: 4.472e+03, tolerance: 2.942e+00\n",
      "  model = cd_fast.enet_coordinate_descent(\n",
      "C:\\Users\\pouls\\anaconda3\\lib\\site-packages\\sklearn\\linear_model\\_coordinate_descent.py:648: ConvergenceWarning: Objective did not converge. You might want to increase the number of iterations, check the scale of the features or consider increasing regularisation. Duality gap: 4.472e+03, tolerance: 2.942e+00\n",
      "  model = cd_fast.enet_coordinate_descent(\n",
      "C:\\Users\\pouls\\anaconda3\\lib\\site-packages\\sklearn\\linear_model\\_coordinate_descent.py:648: ConvergenceWarning: Objective did not converge. You might want to increase the number of iterations, check the scale of the features or consider increasing regularisation. Duality gap: 4.472e+03, tolerance: 2.942e+00\n",
      "  model = cd_fast.enet_coordinate_descent(\n",
      "C:\\Users\\pouls\\anaconda3\\lib\\site-packages\\sklearn\\linear_model\\_coordinate_descent.py:648: ConvergenceWarning: Objective did not converge. You might want to increase the number of iterations, check the scale of the features or consider increasing regularisation. Duality gap: 4.472e+03, tolerance: 2.942e+00\n",
      "  model = cd_fast.enet_coordinate_descent(\n",
      "C:\\Users\\pouls\\anaconda3\\lib\\site-packages\\sklearn\\linear_model\\_coordinate_descent.py:648: ConvergenceWarning: Objective did not converge. You might want to increase the number of iterations, check the scale of the features or consider increasing regularisation. Duality gap: 4.472e+03, tolerance: 2.942e+00\n",
      "  model = cd_fast.enet_coordinate_descent(\n",
      "C:\\Users\\pouls\\anaconda3\\lib\\site-packages\\sklearn\\linear_model\\_coordinate_descent.py:648: ConvergenceWarning: Objective did not converge. You might want to increase the number of iterations, check the scale of the features or consider increasing regularisation. Duality gap: 4.472e+03, tolerance: 2.942e+00\n",
      "  model = cd_fast.enet_coordinate_descent(\n",
      "C:\\Users\\pouls\\anaconda3\\lib\\site-packages\\sklearn\\linear_model\\_coordinate_descent.py:648: ConvergenceWarning: Objective did not converge. You might want to increase the number of iterations, check the scale of the features or consider increasing regularisation. Duality gap: 4.472e+03, tolerance: 2.942e+00\n",
      "  model = cd_fast.enet_coordinate_descent(\n",
      "C:\\Users\\pouls\\anaconda3\\lib\\site-packages\\sklearn\\linear_model\\_coordinate_descent.py:648: ConvergenceWarning: Objective did not converge. You might want to increase the number of iterations, check the scale of the features or consider increasing regularisation. Duality gap: 4.472e+03, tolerance: 2.942e+00\n",
      "  model = cd_fast.enet_coordinate_descent(\n",
      "C:\\Users\\pouls\\anaconda3\\lib\\site-packages\\sklearn\\linear_model\\_coordinate_descent.py:648: ConvergenceWarning: Objective did not converge. You might want to increase the number of iterations, check the scale of the features or consider increasing regularisation. Duality gap: 4.472e+03, tolerance: 2.942e+00\n",
      "  model = cd_fast.enet_coordinate_descent(\n",
      "C:\\Users\\pouls\\anaconda3\\lib\\site-packages\\sklearn\\linear_model\\_coordinate_descent.py:648: ConvergenceWarning: Objective did not converge. You might want to increase the number of iterations, check the scale of the features or consider increasing regularisation. Duality gap: 4.472e+03, tolerance: 2.942e+00\n",
      "  model = cd_fast.enet_coordinate_descent(\n",
      "C:\\Users\\pouls\\anaconda3\\lib\\site-packages\\sklearn\\linear_model\\_coordinate_descent.py:648: ConvergenceWarning: Objective did not converge. You might want to increase the number of iterations, check the scale of the features or consider increasing regularisation. Duality gap: 4.472e+03, tolerance: 2.942e+00\n",
      "  model = cd_fast.enet_coordinate_descent(\n",
      "C:\\Users\\pouls\\anaconda3\\lib\\site-packages\\sklearn\\linear_model\\_coordinate_descent.py:648: ConvergenceWarning: Objective did not converge. You might want to increase the number of iterations, check the scale of the features or consider increasing regularisation. Duality gap: 4.472e+03, tolerance: 2.942e+00\n",
      "  model = cd_fast.enet_coordinate_descent(\n",
      "C:\\Users\\pouls\\anaconda3\\lib\\site-packages\\sklearn\\linear_model\\_coordinate_descent.py:648: ConvergenceWarning: Objective did not converge. You might want to increase the number of iterations, check the scale of the features or consider increasing regularisation. Duality gap: 4.472e+03, tolerance: 2.942e+00\n",
      "  model = cd_fast.enet_coordinate_descent(\n",
      "C:\\Users\\pouls\\anaconda3\\lib\\site-packages\\sklearn\\linear_model\\_coordinate_descent.py:648: ConvergenceWarning: Objective did not converge. You might want to increase the number of iterations, check the scale of the features or consider increasing regularisation. Duality gap: 4.472e+03, tolerance: 2.942e+00\n",
      "  model = cd_fast.enet_coordinate_descent(\n",
      "C:\\Users\\pouls\\anaconda3\\lib\\site-packages\\sklearn\\linear_model\\_coordinate_descent.py:648: ConvergenceWarning: Objective did not converge. You might want to increase the number of iterations, check the scale of the features or consider increasing regularisation. Duality gap: 4.472e+03, tolerance: 2.942e+00\n",
      "  model = cd_fast.enet_coordinate_descent(\n",
      "C:\\Users\\pouls\\anaconda3\\lib\\site-packages\\sklearn\\linear_model\\_coordinate_descent.py:648: ConvergenceWarning: Objective did not converge. You might want to increase the number of iterations, check the scale of the features or consider increasing regularisation. Duality gap: 4.472e+03, tolerance: 2.942e+00\n",
      "  model = cd_fast.enet_coordinate_descent(\n",
      "C:\\Users\\pouls\\anaconda3\\lib\\site-packages\\sklearn\\linear_model\\_coordinate_descent.py:648: ConvergenceWarning: Objective did not converge. You might want to increase the number of iterations, check the scale of the features or consider increasing regularisation. Duality gap: 4.472e+03, tolerance: 2.942e+00\n",
      "  model = cd_fast.enet_coordinate_descent(\n",
      "C:\\Users\\pouls\\anaconda3\\lib\\site-packages\\sklearn\\linear_model\\_coordinate_descent.py:648: ConvergenceWarning: Objective did not converge. You might want to increase the number of iterations, check the scale of the features or consider increasing regularisation. Duality gap: 4.472e+03, tolerance: 2.942e+00\n",
      "  model = cd_fast.enet_coordinate_descent(\n",
      "C:\\Users\\pouls\\anaconda3\\lib\\site-packages\\sklearn\\linear_model\\_coordinate_descent.py:648: ConvergenceWarning: Objective did not converge. You might want to increase the number of iterations, check the scale of the features or consider increasing regularisation. Duality gap: 4.472e+03, tolerance: 2.942e+00\n",
      "  model = cd_fast.enet_coordinate_descent(\n",
      "C:\\Users\\pouls\\anaconda3\\lib\\site-packages\\sklearn\\linear_model\\_coordinate_descent.py:648: ConvergenceWarning: Objective did not converge. You might want to increase the number of iterations, check the scale of the features or consider increasing regularisation. Duality gap: 4.472e+03, tolerance: 2.942e+00\n",
      "  model = cd_fast.enet_coordinate_descent(\n",
      "C:\\Users\\pouls\\anaconda3\\lib\\site-packages\\sklearn\\linear_model\\_coordinate_descent.py:648: ConvergenceWarning: Objective did not converge. You might want to increase the number of iterations, check the scale of the features or consider increasing regularisation. Duality gap: 4.472e+03, tolerance: 2.942e+00\n",
      "  model = cd_fast.enet_coordinate_descent(\n",
      "C:\\Users\\pouls\\anaconda3\\lib\\site-packages\\sklearn\\linear_model\\_coordinate_descent.py:648: ConvergenceWarning: Objective did not converge. You might want to increase the number of iterations, check the scale of the features or consider increasing regularisation. Duality gap: 4.472e+03, tolerance: 2.942e+00\n",
      "  model = cd_fast.enet_coordinate_descent(\n",
      "C:\\Users\\pouls\\anaconda3\\lib\\site-packages\\sklearn\\linear_model\\_coordinate_descent.py:648: ConvergenceWarning: Objective did not converge. You might want to increase the number of iterations, check the scale of the features or consider increasing regularisation. Duality gap: 4.472e+03, tolerance: 2.942e+00\n",
      "  model = cd_fast.enet_coordinate_descent(\n",
      "C:\\Users\\pouls\\anaconda3\\lib\\site-packages\\sklearn\\linear_model\\_coordinate_descent.py:648: ConvergenceWarning: Objective did not converge. You might want to increase the number of iterations, check the scale of the features or consider increasing regularisation. Duality gap: 4.472e+03, tolerance: 2.942e+00\n",
      "  model = cd_fast.enet_coordinate_descent(\n",
      "C:\\Users\\pouls\\anaconda3\\lib\\site-packages\\sklearn\\linear_model\\_coordinate_descent.py:648: ConvergenceWarning: Objective did not converge. You might want to increase the number of iterations, check the scale of the features or consider increasing regularisation. Duality gap: 4.472e+03, tolerance: 2.942e+00\n",
      "  model = cd_fast.enet_coordinate_descent(\n",
      "C:\\Users\\pouls\\anaconda3\\lib\\site-packages\\sklearn\\linear_model\\_coordinate_descent.py:648: ConvergenceWarning: Objective did not converge. You might want to increase the number of iterations, check the scale of the features or consider increasing regularisation. Duality gap: 4.472e+03, tolerance: 2.942e+00\n",
      "  model = cd_fast.enet_coordinate_descent(\n",
      "C:\\Users\\pouls\\anaconda3\\lib\\site-packages\\sklearn\\linear_model\\_coordinate_descent.py:648: ConvergenceWarning: Objective did not converge. You might want to increase the number of iterations, check the scale of the features or consider increasing regularisation. Duality gap: 4.472e+03, tolerance: 2.942e+00\n",
      "  model = cd_fast.enet_coordinate_descent(\n",
      "C:\\Users\\pouls\\anaconda3\\lib\\site-packages\\sklearn\\linear_model\\_coordinate_descent.py:648: ConvergenceWarning: Objective did not converge. You might want to increase the number of iterations, check the scale of the features or consider increasing regularisation. Duality gap: 4.472e+03, tolerance: 2.942e+00\n",
      "  model = cd_fast.enet_coordinate_descent(\n",
      "C:\\Users\\pouls\\anaconda3\\lib\\site-packages\\sklearn\\linear_model\\_coordinate_descent.py:648: ConvergenceWarning: Objective did not converge. You might want to increase the number of iterations, check the scale of the features or consider increasing regularisation. Duality gap: 4.472e+03, tolerance: 2.942e+00\n",
      "  model = cd_fast.enet_coordinate_descent(\n",
      "C:\\Users\\pouls\\anaconda3\\lib\\site-packages\\sklearn\\linear_model\\_coordinate_descent.py:648: ConvergenceWarning: Objective did not converge. You might want to increase the number of iterations, check the scale of the features or consider increasing regularisation. Duality gap: 4.472e+03, tolerance: 2.942e+00\n",
      "  model = cd_fast.enet_coordinate_descent(\n",
      "C:\\Users\\pouls\\anaconda3\\lib\\site-packages\\sklearn\\linear_model\\_coordinate_descent.py:648: ConvergenceWarning: Objective did not converge. You might want to increase the number of iterations, check the scale of the features or consider increasing regularisation. Duality gap: 4.472e+03, tolerance: 2.942e+00\n",
      "  model = cd_fast.enet_coordinate_descent(\n",
      "C:\\Users\\pouls\\anaconda3\\lib\\site-packages\\sklearn\\linear_model\\_coordinate_descent.py:648: ConvergenceWarning: Objective did not converge. You might want to increase the number of iterations, check the scale of the features or consider increasing regularisation. Duality gap: 4.472e+03, tolerance: 2.942e+00\n",
      "  model = cd_fast.enet_coordinate_descent(\n",
      "C:\\Users\\pouls\\anaconda3\\lib\\site-packages\\sklearn\\linear_model\\_coordinate_descent.py:648: ConvergenceWarning: Objective did not converge. You might want to increase the number of iterations, check the scale of the features or consider increasing regularisation. Duality gap: 4.472e+03, tolerance: 2.942e+00\n",
      "  model = cd_fast.enet_coordinate_descent(\n",
      "C:\\Users\\pouls\\anaconda3\\lib\\site-packages\\sklearn\\linear_model\\_coordinate_descent.py:648: ConvergenceWarning: Objective did not converge. You might want to increase the number of iterations, check the scale of the features or consider increasing regularisation. Duality gap: 4.472e+03, tolerance: 2.942e+00\n",
      "  model = cd_fast.enet_coordinate_descent(\n",
      "C:\\Users\\pouls\\anaconda3\\lib\\site-packages\\sklearn\\linear_model\\_coordinate_descent.py:648: ConvergenceWarning: Objective did not converge. You might want to increase the number of iterations, check the scale of the features or consider increasing regularisation. Duality gap: 4.472e+03, tolerance: 2.942e+00\n",
      "  model = cd_fast.enet_coordinate_descent(\n",
      "C:\\Users\\pouls\\anaconda3\\lib\\site-packages\\sklearn\\linear_model\\_coordinate_descent.py:648: ConvergenceWarning: Objective did not converge. You might want to increase the number of iterations, check the scale of the features or consider increasing regularisation. Duality gap: 4.472e+03, tolerance: 2.942e+00\n",
      "  model = cd_fast.enet_coordinate_descent(\n",
      "C:\\Users\\pouls\\anaconda3\\lib\\site-packages\\sklearn\\linear_model\\_coordinate_descent.py:648: ConvergenceWarning: Objective did not converge. You might want to increase the number of iterations, check the scale of the features or consider increasing regularisation. Duality gap: 7.459e+01, tolerance: 2.942e+00\n",
      "  model = cd_fast.enet_coordinate_descent(\n",
      "C:\\Users\\pouls\\anaconda3\\lib\\site-packages\\sklearn\\linear_model\\_coordinate_descent.py:648: ConvergenceWarning: Objective did not converge. You might want to increase the number of iterations, check the scale of the features or consider increasing regularisation. Duality gap: 7.459e+01, tolerance: 2.942e+00\n",
      "  model = cd_fast.enet_coordinate_descent(\n",
      "C:\\Users\\pouls\\anaconda3\\lib\\site-packages\\sklearn\\linear_model\\_coordinate_descent.py:648: ConvergenceWarning: Objective did not converge. You might want to increase the number of iterations, check the scale of the features or consider increasing regularisation. Duality gap: 4.458e+03, tolerance: 3.099e+00\n",
      "  model = cd_fast.enet_coordinate_descent(\n",
      "C:\\Users\\pouls\\anaconda3\\lib\\site-packages\\sklearn\\linear_model\\_coordinate_descent.py:648: ConvergenceWarning: Objective did not converge. You might want to increase the number of iterations, check the scale of the features or consider increasing regularisation. Duality gap: 4.458e+03, tolerance: 3.099e+00\n",
      "  model = cd_fast.enet_coordinate_descent(\n",
      "C:\\Users\\pouls\\anaconda3\\lib\\site-packages\\sklearn\\linear_model\\_coordinate_descent.py:648: ConvergenceWarning: Objective did not converge. You might want to increase the number of iterations, check the scale of the features or consider increasing regularisation. Duality gap: 4.458e+03, tolerance: 3.099e+00\n",
      "  model = cd_fast.enet_coordinate_descent(\n",
      "C:\\Users\\pouls\\anaconda3\\lib\\site-packages\\sklearn\\linear_model\\_coordinate_descent.py:648: ConvergenceWarning: Objective did not converge. You might want to increase the number of iterations, check the scale of the features or consider increasing regularisation. Duality gap: 4.458e+03, tolerance: 3.099e+00\n",
      "  model = cd_fast.enet_coordinate_descent(\n",
      "C:\\Users\\pouls\\anaconda3\\lib\\site-packages\\sklearn\\linear_model\\_coordinate_descent.py:648: ConvergenceWarning: Objective did not converge. You might want to increase the number of iterations, check the scale of the features or consider increasing regularisation. Duality gap: 4.458e+03, tolerance: 3.099e+00\n",
      "  model = cd_fast.enet_coordinate_descent(\n",
      "C:\\Users\\pouls\\anaconda3\\lib\\site-packages\\sklearn\\linear_model\\_coordinate_descent.py:648: ConvergenceWarning: Objective did not converge. You might want to increase the number of iterations, check the scale of the features or consider increasing regularisation. Duality gap: 4.458e+03, tolerance: 3.099e+00\n",
      "  model = cd_fast.enet_coordinate_descent(\n",
      "C:\\Users\\pouls\\anaconda3\\lib\\site-packages\\sklearn\\linear_model\\_coordinate_descent.py:648: ConvergenceWarning: Objective did not converge. You might want to increase the number of iterations, check the scale of the features or consider increasing regularisation. Duality gap: 4.458e+03, tolerance: 3.099e+00\n",
      "  model = cd_fast.enet_coordinate_descent(\n",
      "C:\\Users\\pouls\\anaconda3\\lib\\site-packages\\sklearn\\linear_model\\_coordinate_descent.py:648: ConvergenceWarning: Objective did not converge. You might want to increase the number of iterations, check the scale of the features or consider increasing regularisation. Duality gap: 4.458e+03, tolerance: 3.099e+00\n",
      "  model = cd_fast.enet_coordinate_descent(\n",
      "C:\\Users\\pouls\\anaconda3\\lib\\site-packages\\sklearn\\linear_model\\_coordinate_descent.py:648: ConvergenceWarning: Objective did not converge. You might want to increase the number of iterations, check the scale of the features or consider increasing regularisation. Duality gap: 4.458e+03, tolerance: 3.099e+00\n",
      "  model = cd_fast.enet_coordinate_descent(\n",
      "C:\\Users\\pouls\\anaconda3\\lib\\site-packages\\sklearn\\linear_model\\_coordinate_descent.py:648: ConvergenceWarning: Objective did not converge. You might want to increase the number of iterations, check the scale of the features or consider increasing regularisation. Duality gap: 4.458e+03, tolerance: 3.099e+00\n",
      "  model = cd_fast.enet_coordinate_descent(\n",
      "C:\\Users\\pouls\\anaconda3\\lib\\site-packages\\sklearn\\linear_model\\_coordinate_descent.py:648: ConvergenceWarning: Objective did not converge. You might want to increase the number of iterations, check the scale of the features or consider increasing regularisation. Duality gap: 4.458e+03, tolerance: 3.099e+00\n",
      "  model = cd_fast.enet_coordinate_descent(\n",
      "C:\\Users\\pouls\\anaconda3\\lib\\site-packages\\sklearn\\linear_model\\_coordinate_descent.py:648: ConvergenceWarning: Objective did not converge. You might want to increase the number of iterations, check the scale of the features or consider increasing regularisation. Duality gap: 4.458e+03, tolerance: 3.099e+00\n",
      "  model = cd_fast.enet_coordinate_descent(\n",
      "C:\\Users\\pouls\\anaconda3\\lib\\site-packages\\sklearn\\linear_model\\_coordinate_descent.py:648: ConvergenceWarning: Objective did not converge. You might want to increase the number of iterations, check the scale of the features or consider increasing regularisation. Duality gap: 4.458e+03, tolerance: 3.099e+00\n",
      "  model = cd_fast.enet_coordinate_descent(\n",
      "C:\\Users\\pouls\\anaconda3\\lib\\site-packages\\sklearn\\linear_model\\_coordinate_descent.py:648: ConvergenceWarning: Objective did not converge. You might want to increase the number of iterations, check the scale of the features or consider increasing regularisation. Duality gap: 4.458e+03, tolerance: 3.099e+00\n",
      "  model = cd_fast.enet_coordinate_descent(\n",
      "C:\\Users\\pouls\\anaconda3\\lib\\site-packages\\sklearn\\linear_model\\_coordinate_descent.py:648: ConvergenceWarning: Objective did not converge. You might want to increase the number of iterations, check the scale of the features or consider increasing regularisation. Duality gap: 4.458e+03, tolerance: 3.099e+00\n",
      "  model = cd_fast.enet_coordinate_descent(\n",
      "C:\\Users\\pouls\\anaconda3\\lib\\site-packages\\sklearn\\linear_model\\_coordinate_descent.py:648: ConvergenceWarning: Objective did not converge. You might want to increase the number of iterations, check the scale of the features or consider increasing regularisation. Duality gap: 4.458e+03, tolerance: 3.099e+00\n",
      "  model = cd_fast.enet_coordinate_descent(\n",
      "C:\\Users\\pouls\\anaconda3\\lib\\site-packages\\sklearn\\linear_model\\_coordinate_descent.py:648: ConvergenceWarning: Objective did not converge. You might want to increase the number of iterations, check the scale of the features or consider increasing regularisation. Duality gap: 4.458e+03, tolerance: 3.099e+00\n",
      "  model = cd_fast.enet_coordinate_descent(\n",
      "C:\\Users\\pouls\\anaconda3\\lib\\site-packages\\sklearn\\linear_model\\_coordinate_descent.py:648: ConvergenceWarning: Objective did not converge. You might want to increase the number of iterations, check the scale of the features or consider increasing regularisation. Duality gap: 4.458e+03, tolerance: 3.099e+00\n",
      "  model = cd_fast.enet_coordinate_descent(\n",
      "C:\\Users\\pouls\\anaconda3\\lib\\site-packages\\sklearn\\linear_model\\_coordinate_descent.py:648: ConvergenceWarning: Objective did not converge. You might want to increase the number of iterations, check the scale of the features or consider increasing regularisation. Duality gap: 4.458e+03, tolerance: 3.099e+00\n",
      "  model = cd_fast.enet_coordinate_descent(\n",
      "C:\\Users\\pouls\\anaconda3\\lib\\site-packages\\sklearn\\linear_model\\_coordinate_descent.py:648: ConvergenceWarning: Objective did not converge. You might want to increase the number of iterations, check the scale of the features or consider increasing regularisation. Duality gap: 4.458e+03, tolerance: 3.099e+00\n",
      "  model = cd_fast.enet_coordinate_descent(\n",
      "C:\\Users\\pouls\\anaconda3\\lib\\site-packages\\sklearn\\linear_model\\_coordinate_descent.py:648: ConvergenceWarning: Objective did not converge. You might want to increase the number of iterations, check the scale of the features or consider increasing regularisation. Duality gap: 4.458e+03, tolerance: 3.099e+00\n",
      "  model = cd_fast.enet_coordinate_descent(\n",
      "C:\\Users\\pouls\\anaconda3\\lib\\site-packages\\sklearn\\linear_model\\_coordinate_descent.py:648: ConvergenceWarning: Objective did not converge. You might want to increase the number of iterations, check the scale of the features or consider increasing regularisation. Duality gap: 4.458e+03, tolerance: 3.099e+00\n",
      "  model = cd_fast.enet_coordinate_descent(\n",
      "C:\\Users\\pouls\\anaconda3\\lib\\site-packages\\sklearn\\linear_model\\_coordinate_descent.py:648: ConvergenceWarning: Objective did not converge. You might want to increase the number of iterations, check the scale of the features or consider increasing regularisation. Duality gap: 4.458e+03, tolerance: 3.099e+00\n",
      "  model = cd_fast.enet_coordinate_descent(\n",
      "C:\\Users\\pouls\\anaconda3\\lib\\site-packages\\sklearn\\linear_model\\_coordinate_descent.py:648: ConvergenceWarning: Objective did not converge. You might want to increase the number of iterations, check the scale of the features or consider increasing regularisation. Duality gap: 4.458e+03, tolerance: 3.099e+00\n",
      "  model = cd_fast.enet_coordinate_descent(\n",
      "C:\\Users\\pouls\\anaconda3\\lib\\site-packages\\sklearn\\linear_model\\_coordinate_descent.py:648: ConvergenceWarning: Objective did not converge. You might want to increase the number of iterations, check the scale of the features or consider increasing regularisation. Duality gap: 4.458e+03, tolerance: 3.099e+00\n",
      "  model = cd_fast.enet_coordinate_descent(\n",
      "C:\\Users\\pouls\\anaconda3\\lib\\site-packages\\sklearn\\linear_model\\_coordinate_descent.py:648: ConvergenceWarning: Objective did not converge. You might want to increase the number of iterations, check the scale of the features or consider increasing regularisation. Duality gap: 4.458e+03, tolerance: 3.099e+00\n",
      "  model = cd_fast.enet_coordinate_descent(\n",
      "C:\\Users\\pouls\\anaconda3\\lib\\site-packages\\sklearn\\linear_model\\_coordinate_descent.py:648: ConvergenceWarning: Objective did not converge. You might want to increase the number of iterations, check the scale of the features or consider increasing regularisation. Duality gap: 4.458e+03, tolerance: 3.099e+00\n",
      "  model = cd_fast.enet_coordinate_descent(\n",
      "C:\\Users\\pouls\\anaconda3\\lib\\site-packages\\sklearn\\linear_model\\_coordinate_descent.py:648: ConvergenceWarning: Objective did not converge. You might want to increase the number of iterations, check the scale of the features or consider increasing regularisation. Duality gap: 4.458e+03, tolerance: 3.099e+00\n",
      "  model = cd_fast.enet_coordinate_descent(\n",
      "C:\\Users\\pouls\\anaconda3\\lib\\site-packages\\sklearn\\linear_model\\_coordinate_descent.py:648: ConvergenceWarning: Objective did not converge. You might want to increase the number of iterations, check the scale of the features or consider increasing regularisation. Duality gap: 4.458e+03, tolerance: 3.099e+00\n",
      "  model = cd_fast.enet_coordinate_descent(\n",
      "C:\\Users\\pouls\\anaconda3\\lib\\site-packages\\sklearn\\linear_model\\_coordinate_descent.py:648: ConvergenceWarning: Objective did not converge. You might want to increase the number of iterations, check the scale of the features or consider increasing regularisation. Duality gap: 4.458e+03, tolerance: 3.099e+00\n",
      "  model = cd_fast.enet_coordinate_descent(\n",
      "C:\\Users\\pouls\\anaconda3\\lib\\site-packages\\sklearn\\linear_model\\_coordinate_descent.py:648: ConvergenceWarning: Objective did not converge. You might want to increase the number of iterations, check the scale of the features or consider increasing regularisation. Duality gap: 4.458e+03, tolerance: 3.099e+00\n",
      "  model = cd_fast.enet_coordinate_descent(\n",
      "C:\\Users\\pouls\\anaconda3\\lib\\site-packages\\sklearn\\linear_model\\_coordinate_descent.py:648: ConvergenceWarning: Objective did not converge. You might want to increase the number of iterations, check the scale of the features or consider increasing regularisation. Duality gap: 4.458e+03, tolerance: 3.099e+00\n",
      "  model = cd_fast.enet_coordinate_descent(\n",
      "C:\\Users\\pouls\\anaconda3\\lib\\site-packages\\sklearn\\linear_model\\_coordinate_descent.py:648: ConvergenceWarning: Objective did not converge. You might want to increase the number of iterations, check the scale of the features or consider increasing regularisation. Duality gap: 4.458e+03, tolerance: 3.099e+00\n",
      "  model = cd_fast.enet_coordinate_descent(\n",
      "C:\\Users\\pouls\\anaconda3\\lib\\site-packages\\sklearn\\linear_model\\_coordinate_descent.py:648: ConvergenceWarning: Objective did not converge. You might want to increase the number of iterations, check the scale of the features or consider increasing regularisation. Duality gap: 4.458e+03, tolerance: 3.099e+00\n",
      "  model = cd_fast.enet_coordinate_descent(\n",
      "C:\\Users\\pouls\\anaconda3\\lib\\site-packages\\sklearn\\linear_model\\_coordinate_descent.py:648: ConvergenceWarning: Objective did not converge. You might want to increase the number of iterations, check the scale of the features or consider increasing regularisation. Duality gap: 4.458e+03, tolerance: 3.099e+00\n",
      "  model = cd_fast.enet_coordinate_descent(\n",
      "C:\\Users\\pouls\\anaconda3\\lib\\site-packages\\sklearn\\linear_model\\_coordinate_descent.py:648: ConvergenceWarning: Objective did not converge. You might want to increase the number of iterations, check the scale of the features or consider increasing regularisation. Duality gap: 4.458e+03, tolerance: 3.099e+00\n",
      "  model = cd_fast.enet_coordinate_descent(\n",
      "C:\\Users\\pouls\\anaconda3\\lib\\site-packages\\sklearn\\linear_model\\_coordinate_descent.py:648: ConvergenceWarning: Objective did not converge. You might want to increase the number of iterations, check the scale of the features or consider increasing regularisation. Duality gap: 4.458e+03, tolerance: 3.099e+00\n",
      "  model = cd_fast.enet_coordinate_descent(\n",
      "C:\\Users\\pouls\\anaconda3\\lib\\site-packages\\sklearn\\linear_model\\_coordinate_descent.py:648: ConvergenceWarning: Objective did not converge. You might want to increase the number of iterations, check the scale of the features or consider increasing regularisation. Duality gap: 4.458e+03, tolerance: 3.099e+00\n",
      "  model = cd_fast.enet_coordinate_descent(\n",
      "C:\\Users\\pouls\\anaconda3\\lib\\site-packages\\sklearn\\linear_model\\_coordinate_descent.py:648: ConvergenceWarning: Objective did not converge. You might want to increase the number of iterations, check the scale of the features or consider increasing regularisation. Duality gap: 5.531e+01, tolerance: 3.099e+00\n",
      "  model = cd_fast.enet_coordinate_descent(\n",
      "C:\\Users\\pouls\\anaconda3\\lib\\site-packages\\sklearn\\linear_model\\_coordinate_descent.py:648: ConvergenceWarning: Objective did not converge. You might want to increase the number of iterations, check the scale of the features or consider increasing regularisation. Duality gap: 5.531e+01, tolerance: 3.099e+00\n",
      "  model = cd_fast.enet_coordinate_descent(\n",
      "C:\\Users\\pouls\\anaconda3\\lib\\site-packages\\sklearn\\linear_model\\_coordinate_descent.py:648: ConvergenceWarning: Objective did not converge. You might want to increase the number of iterations, check the scale of the features or consider increasing regularisation. Duality gap: 5.531e+01, tolerance: 3.099e+00\n",
      "  model = cd_fast.enet_coordinate_descent(\n",
      "C:\\Users\\pouls\\anaconda3\\lib\\site-packages\\sklearn\\linear_model\\_coordinate_descent.py:648: ConvergenceWarning: Objective did not converge. You might want to increase the number of iterations, check the scale of the features or consider increasing regularisation. Duality gap: 5.087e+03, tolerance: 3.046e+00\n",
      "  model = cd_fast.enet_coordinate_descent(\n",
      "C:\\Users\\pouls\\anaconda3\\lib\\site-packages\\sklearn\\linear_model\\_coordinate_descent.py:648: ConvergenceWarning: Objective did not converge. You might want to increase the number of iterations, check the scale of the features or consider increasing regularisation. Duality gap: 5.087e+03, tolerance: 3.046e+00\n",
      "  model = cd_fast.enet_coordinate_descent(\n",
      "C:\\Users\\pouls\\anaconda3\\lib\\site-packages\\sklearn\\linear_model\\_coordinate_descent.py:648: ConvergenceWarning: Objective did not converge. You might want to increase the number of iterations, check the scale of the features or consider increasing regularisation. Duality gap: 5.087e+03, tolerance: 3.046e+00\n",
      "  model = cd_fast.enet_coordinate_descent(\n",
      "C:\\Users\\pouls\\anaconda3\\lib\\site-packages\\sklearn\\linear_model\\_coordinate_descent.py:648: ConvergenceWarning: Objective did not converge. You might want to increase the number of iterations, check the scale of the features or consider increasing regularisation. Duality gap: 5.087e+03, tolerance: 3.046e+00\n",
      "  model = cd_fast.enet_coordinate_descent(\n",
      "C:\\Users\\pouls\\anaconda3\\lib\\site-packages\\sklearn\\linear_model\\_coordinate_descent.py:648: ConvergenceWarning: Objective did not converge. You might want to increase the number of iterations, check the scale of the features or consider increasing regularisation. Duality gap: 5.087e+03, tolerance: 3.046e+00\n",
      "  model = cd_fast.enet_coordinate_descent(\n",
      "C:\\Users\\pouls\\anaconda3\\lib\\site-packages\\sklearn\\linear_model\\_coordinate_descent.py:648: ConvergenceWarning: Objective did not converge. You might want to increase the number of iterations, check the scale of the features or consider increasing regularisation. Duality gap: 5.087e+03, tolerance: 3.046e+00\n",
      "  model = cd_fast.enet_coordinate_descent(\n",
      "C:\\Users\\pouls\\anaconda3\\lib\\site-packages\\sklearn\\linear_model\\_coordinate_descent.py:648: ConvergenceWarning: Objective did not converge. You might want to increase the number of iterations, check the scale of the features or consider increasing regularisation. Duality gap: 5.087e+03, tolerance: 3.046e+00\n",
      "  model = cd_fast.enet_coordinate_descent(\n",
      "C:\\Users\\pouls\\anaconda3\\lib\\site-packages\\sklearn\\linear_model\\_coordinate_descent.py:648: ConvergenceWarning: Objective did not converge. You might want to increase the number of iterations, check the scale of the features or consider increasing regularisation. Duality gap: 5.087e+03, tolerance: 3.046e+00\n",
      "  model = cd_fast.enet_coordinate_descent(\n",
      "C:\\Users\\pouls\\anaconda3\\lib\\site-packages\\sklearn\\linear_model\\_coordinate_descent.py:648: ConvergenceWarning: Objective did not converge. You might want to increase the number of iterations, check the scale of the features or consider increasing regularisation. Duality gap: 5.087e+03, tolerance: 3.046e+00\n",
      "  model = cd_fast.enet_coordinate_descent(\n",
      "C:\\Users\\pouls\\anaconda3\\lib\\site-packages\\sklearn\\linear_model\\_coordinate_descent.py:648: ConvergenceWarning: Objective did not converge. You might want to increase the number of iterations, check the scale of the features or consider increasing regularisation. Duality gap: 5.087e+03, tolerance: 3.046e+00\n",
      "  model = cd_fast.enet_coordinate_descent(\n",
      "C:\\Users\\pouls\\anaconda3\\lib\\site-packages\\sklearn\\linear_model\\_coordinate_descent.py:648: ConvergenceWarning: Objective did not converge. You might want to increase the number of iterations, check the scale of the features or consider increasing regularisation. Duality gap: 5.087e+03, tolerance: 3.046e+00\n",
      "  model = cd_fast.enet_coordinate_descent(\n",
      "C:\\Users\\pouls\\anaconda3\\lib\\site-packages\\sklearn\\linear_model\\_coordinate_descent.py:648: ConvergenceWarning: Objective did not converge. You might want to increase the number of iterations, check the scale of the features or consider increasing regularisation. Duality gap: 5.087e+03, tolerance: 3.046e+00\n",
      "  model = cd_fast.enet_coordinate_descent(\n",
      "C:\\Users\\pouls\\anaconda3\\lib\\site-packages\\sklearn\\linear_model\\_coordinate_descent.py:648: ConvergenceWarning: Objective did not converge. You might want to increase the number of iterations, check the scale of the features or consider increasing regularisation. Duality gap: 5.087e+03, tolerance: 3.046e+00\n",
      "  model = cd_fast.enet_coordinate_descent(\n",
      "C:\\Users\\pouls\\anaconda3\\lib\\site-packages\\sklearn\\linear_model\\_coordinate_descent.py:648: ConvergenceWarning: Objective did not converge. You might want to increase the number of iterations, check the scale of the features or consider increasing regularisation. Duality gap: 5.087e+03, tolerance: 3.046e+00\n",
      "  model = cd_fast.enet_coordinate_descent(\n",
      "C:\\Users\\pouls\\anaconda3\\lib\\site-packages\\sklearn\\linear_model\\_coordinate_descent.py:648: ConvergenceWarning: Objective did not converge. You might want to increase the number of iterations, check the scale of the features or consider increasing regularisation. Duality gap: 5.087e+03, tolerance: 3.046e+00\n",
      "  model = cd_fast.enet_coordinate_descent(\n",
      "C:\\Users\\pouls\\anaconda3\\lib\\site-packages\\sklearn\\linear_model\\_coordinate_descent.py:648: ConvergenceWarning: Objective did not converge. You might want to increase the number of iterations, check the scale of the features or consider increasing regularisation. Duality gap: 5.087e+03, tolerance: 3.046e+00\n",
      "  model = cd_fast.enet_coordinate_descent(\n",
      "C:\\Users\\pouls\\anaconda3\\lib\\site-packages\\sklearn\\linear_model\\_coordinate_descent.py:648: ConvergenceWarning: Objective did not converge. You might want to increase the number of iterations, check the scale of the features or consider increasing regularisation. Duality gap: 5.087e+03, tolerance: 3.046e+00\n",
      "  model = cd_fast.enet_coordinate_descent(\n",
      "C:\\Users\\pouls\\anaconda3\\lib\\site-packages\\sklearn\\linear_model\\_coordinate_descent.py:648: ConvergenceWarning: Objective did not converge. You might want to increase the number of iterations, check the scale of the features or consider increasing regularisation. Duality gap: 5.087e+03, tolerance: 3.046e+00\n",
      "  model = cd_fast.enet_coordinate_descent(\n",
      "C:\\Users\\pouls\\anaconda3\\lib\\site-packages\\sklearn\\linear_model\\_coordinate_descent.py:648: ConvergenceWarning: Objective did not converge. You might want to increase the number of iterations, check the scale of the features or consider increasing regularisation. Duality gap: 5.087e+03, tolerance: 3.046e+00\n",
      "  model = cd_fast.enet_coordinate_descent(\n",
      "C:\\Users\\pouls\\anaconda3\\lib\\site-packages\\sklearn\\linear_model\\_coordinate_descent.py:648: ConvergenceWarning: Objective did not converge. You might want to increase the number of iterations, check the scale of the features or consider increasing regularisation. Duality gap: 5.087e+03, tolerance: 3.046e+00\n",
      "  model = cd_fast.enet_coordinate_descent(\n",
      "C:\\Users\\pouls\\anaconda3\\lib\\site-packages\\sklearn\\linear_model\\_coordinate_descent.py:648: ConvergenceWarning: Objective did not converge. You might want to increase the number of iterations, check the scale of the features or consider increasing regularisation. Duality gap: 5.087e+03, tolerance: 3.046e+00\n",
      "  model = cd_fast.enet_coordinate_descent(\n",
      "C:\\Users\\pouls\\anaconda3\\lib\\site-packages\\sklearn\\linear_model\\_coordinate_descent.py:648: ConvergenceWarning: Objective did not converge. You might want to increase the number of iterations, check the scale of the features or consider increasing regularisation. Duality gap: 5.087e+03, tolerance: 3.046e+00\n",
      "  model = cd_fast.enet_coordinate_descent(\n",
      "C:\\Users\\pouls\\anaconda3\\lib\\site-packages\\sklearn\\linear_model\\_coordinate_descent.py:648: ConvergenceWarning: Objective did not converge. You might want to increase the number of iterations, check the scale of the features or consider increasing regularisation. Duality gap: 5.087e+03, tolerance: 3.046e+00\n",
      "  model = cd_fast.enet_coordinate_descent(\n",
      "C:\\Users\\pouls\\anaconda3\\lib\\site-packages\\sklearn\\linear_model\\_coordinate_descent.py:648: ConvergenceWarning: Objective did not converge. You might want to increase the number of iterations, check the scale of the features or consider increasing regularisation. Duality gap: 5.087e+03, tolerance: 3.046e+00\n",
      "  model = cd_fast.enet_coordinate_descent(\n",
      "C:\\Users\\pouls\\anaconda3\\lib\\site-packages\\sklearn\\linear_model\\_coordinate_descent.py:648: ConvergenceWarning: Objective did not converge. You might want to increase the number of iterations, check the scale of the features or consider increasing regularisation. Duality gap: 5.087e+03, tolerance: 3.046e+00\n",
      "  model = cd_fast.enet_coordinate_descent(\n",
      "C:\\Users\\pouls\\anaconda3\\lib\\site-packages\\sklearn\\linear_model\\_coordinate_descent.py:648: ConvergenceWarning: Objective did not converge. You might want to increase the number of iterations, check the scale of the features or consider increasing regularisation. Duality gap: 5.087e+03, tolerance: 3.046e+00\n",
      "  model = cd_fast.enet_coordinate_descent(\n",
      "C:\\Users\\pouls\\anaconda3\\lib\\site-packages\\sklearn\\linear_model\\_coordinate_descent.py:648: ConvergenceWarning: Objective did not converge. You might want to increase the number of iterations, check the scale of the features or consider increasing regularisation. Duality gap: 5.087e+03, tolerance: 3.046e+00\n",
      "  model = cd_fast.enet_coordinate_descent(\n",
      "C:\\Users\\pouls\\anaconda3\\lib\\site-packages\\sklearn\\linear_model\\_coordinate_descent.py:648: ConvergenceWarning: Objective did not converge. You might want to increase the number of iterations, check the scale of the features or consider increasing regularisation. Duality gap: 5.087e+03, tolerance: 3.046e+00\n",
      "  model = cd_fast.enet_coordinate_descent(\n",
      "C:\\Users\\pouls\\anaconda3\\lib\\site-packages\\sklearn\\linear_model\\_coordinate_descent.py:648: ConvergenceWarning: Objective did not converge. You might want to increase the number of iterations, check the scale of the features or consider increasing regularisation. Duality gap: 5.087e+03, tolerance: 3.046e+00\n",
      "  model = cd_fast.enet_coordinate_descent(\n",
      "C:\\Users\\pouls\\anaconda3\\lib\\site-packages\\sklearn\\linear_model\\_coordinate_descent.py:648: ConvergenceWarning: Objective did not converge. You might want to increase the number of iterations, check the scale of the features or consider increasing regularisation. Duality gap: 5.087e+03, tolerance: 3.046e+00\n",
      "  model = cd_fast.enet_coordinate_descent(\n",
      "C:\\Users\\pouls\\anaconda3\\lib\\site-packages\\sklearn\\linear_model\\_coordinate_descent.py:648: ConvergenceWarning: Objective did not converge. You might want to increase the number of iterations, check the scale of the features or consider increasing regularisation. Duality gap: 5.087e+03, tolerance: 3.046e+00\n",
      "  model = cd_fast.enet_coordinate_descent(\n",
      "C:\\Users\\pouls\\anaconda3\\lib\\site-packages\\sklearn\\linear_model\\_coordinate_descent.py:648: ConvergenceWarning: Objective did not converge. You might want to increase the number of iterations, check the scale of the features or consider increasing regularisation. Duality gap: 5.087e+03, tolerance: 3.046e+00\n",
      "  model = cd_fast.enet_coordinate_descent(\n",
      "C:\\Users\\pouls\\anaconda3\\lib\\site-packages\\sklearn\\linear_model\\_coordinate_descent.py:648: ConvergenceWarning: Objective did not converge. You might want to increase the number of iterations, check the scale of the features or consider increasing regularisation. Duality gap: 5.087e+03, tolerance: 3.046e+00\n",
      "  model = cd_fast.enet_coordinate_descent(\n",
      "C:\\Users\\pouls\\anaconda3\\lib\\site-packages\\sklearn\\linear_model\\_coordinate_descent.py:648: ConvergenceWarning: Objective did not converge. You might want to increase the number of iterations, check the scale of the features or consider increasing regularisation. Duality gap: 5.087e+03, tolerance: 3.046e+00\n",
      "  model = cd_fast.enet_coordinate_descent(\n",
      "C:\\Users\\pouls\\anaconda3\\lib\\site-packages\\sklearn\\linear_model\\_coordinate_descent.py:648: ConvergenceWarning: Objective did not converge. You might want to increase the number of iterations, check the scale of the features or consider increasing regularisation. Duality gap: 5.087e+03, tolerance: 3.046e+00\n",
      "  model = cd_fast.enet_coordinate_descent(\n",
      "C:\\Users\\pouls\\anaconda3\\lib\\site-packages\\sklearn\\linear_model\\_coordinate_descent.py:648: ConvergenceWarning: Objective did not converge. You might want to increase the number of iterations, check the scale of the features or consider increasing regularisation. Duality gap: 5.087e+03, tolerance: 3.046e+00\n",
      "  model = cd_fast.enet_coordinate_descent(\n",
      "C:\\Users\\pouls\\anaconda3\\lib\\site-packages\\sklearn\\linear_model\\_coordinate_descent.py:648: ConvergenceWarning: Objective did not converge. You might want to increase the number of iterations, check the scale of the features or consider increasing regularisation. Duality gap: 8.854e+01, tolerance: 3.046e+00\n",
      "  model = cd_fast.enet_coordinate_descent(\n",
      "C:\\Users\\pouls\\anaconda3\\lib\\site-packages\\sklearn\\linear_model\\_coordinate_descent.py:648: ConvergenceWarning: Objective did not converge. You might want to increase the number of iterations, check the scale of the features or consider increasing regularisation. Duality gap: 8.855e+01, tolerance: 3.046e+00\n",
      "  model = cd_fast.enet_coordinate_descent(\n",
      "C:\\Users\\pouls\\anaconda3\\lib\\site-packages\\sklearn\\linear_model\\_coordinate_descent.py:648: ConvergenceWarning: Objective did not converge. You might want to increase the number of iterations, check the scale of the features or consider increasing regularisation. Duality gap: 8.855e+01, tolerance: 3.046e+00\n",
      "  model = cd_fast.enet_coordinate_descent(\n",
      "C:\\Users\\pouls\\anaconda3\\lib\\site-packages\\sklearn\\linear_model\\_coordinate_descent.py:648: ConvergenceWarning: Objective did not converge. You might want to increase the number of iterations, check the scale of the features or consider increasing regularisation. Duality gap: 5.062e+03, tolerance: 3.061e+00\n",
      "  model = cd_fast.enet_coordinate_descent(\n",
      "C:\\Users\\pouls\\anaconda3\\lib\\site-packages\\sklearn\\linear_model\\_coordinate_descent.py:648: ConvergenceWarning: Objective did not converge. You might want to increase the number of iterations, check the scale of the features or consider increasing regularisation. Duality gap: 5.062e+03, tolerance: 3.061e+00\n",
      "  model = cd_fast.enet_coordinate_descent(\n",
      "C:\\Users\\pouls\\anaconda3\\lib\\site-packages\\sklearn\\linear_model\\_coordinate_descent.py:648: ConvergenceWarning: Objective did not converge. You might want to increase the number of iterations, check the scale of the features or consider increasing regularisation. Duality gap: 5.062e+03, tolerance: 3.061e+00\n",
      "  model = cd_fast.enet_coordinate_descent(\n",
      "C:\\Users\\pouls\\anaconda3\\lib\\site-packages\\sklearn\\linear_model\\_coordinate_descent.py:648: ConvergenceWarning: Objective did not converge. You might want to increase the number of iterations, check the scale of the features or consider increasing regularisation. Duality gap: 5.062e+03, tolerance: 3.061e+00\n",
      "  model = cd_fast.enet_coordinate_descent(\n",
      "C:\\Users\\pouls\\anaconda3\\lib\\site-packages\\sklearn\\linear_model\\_coordinate_descent.py:648: ConvergenceWarning: Objective did not converge. You might want to increase the number of iterations, check the scale of the features or consider increasing regularisation. Duality gap: 5.062e+03, tolerance: 3.061e+00\n",
      "  model = cd_fast.enet_coordinate_descent(\n",
      "C:\\Users\\pouls\\anaconda3\\lib\\site-packages\\sklearn\\linear_model\\_coordinate_descent.py:648: ConvergenceWarning: Objective did not converge. You might want to increase the number of iterations, check the scale of the features or consider increasing regularisation. Duality gap: 5.062e+03, tolerance: 3.061e+00\n",
      "  model = cd_fast.enet_coordinate_descent(\n",
      "C:\\Users\\pouls\\anaconda3\\lib\\site-packages\\sklearn\\linear_model\\_coordinate_descent.py:648: ConvergenceWarning: Objective did not converge. You might want to increase the number of iterations, check the scale of the features or consider increasing regularisation. Duality gap: 5.062e+03, tolerance: 3.061e+00\n",
      "  model = cd_fast.enet_coordinate_descent(\n",
      "C:\\Users\\pouls\\anaconda3\\lib\\site-packages\\sklearn\\linear_model\\_coordinate_descent.py:648: ConvergenceWarning: Objective did not converge. You might want to increase the number of iterations, check the scale of the features or consider increasing regularisation. Duality gap: 5.062e+03, tolerance: 3.061e+00\n",
      "  model = cd_fast.enet_coordinate_descent(\n",
      "C:\\Users\\pouls\\anaconda3\\lib\\site-packages\\sklearn\\linear_model\\_coordinate_descent.py:648: ConvergenceWarning: Objective did not converge. You might want to increase the number of iterations, check the scale of the features or consider increasing regularisation. Duality gap: 5.062e+03, tolerance: 3.061e+00\n",
      "  model = cd_fast.enet_coordinate_descent(\n",
      "C:\\Users\\pouls\\anaconda3\\lib\\site-packages\\sklearn\\linear_model\\_coordinate_descent.py:648: ConvergenceWarning: Objective did not converge. You might want to increase the number of iterations, check the scale of the features or consider increasing regularisation. Duality gap: 5.062e+03, tolerance: 3.061e+00\n",
      "  model = cd_fast.enet_coordinate_descent(\n",
      "C:\\Users\\pouls\\anaconda3\\lib\\site-packages\\sklearn\\linear_model\\_coordinate_descent.py:648: ConvergenceWarning: Objective did not converge. You might want to increase the number of iterations, check the scale of the features or consider increasing regularisation. Duality gap: 5.062e+03, tolerance: 3.061e+00\n",
      "  model = cd_fast.enet_coordinate_descent(\n",
      "C:\\Users\\pouls\\anaconda3\\lib\\site-packages\\sklearn\\linear_model\\_coordinate_descent.py:648: ConvergenceWarning: Objective did not converge. You might want to increase the number of iterations, check the scale of the features or consider increasing regularisation. Duality gap: 5.062e+03, tolerance: 3.061e+00\n",
      "  model = cd_fast.enet_coordinate_descent(\n",
      "C:\\Users\\pouls\\anaconda3\\lib\\site-packages\\sklearn\\linear_model\\_coordinate_descent.py:648: ConvergenceWarning: Objective did not converge. You might want to increase the number of iterations, check the scale of the features or consider increasing regularisation. Duality gap: 5.062e+03, tolerance: 3.061e+00\n",
      "  model = cd_fast.enet_coordinate_descent(\n",
      "C:\\Users\\pouls\\anaconda3\\lib\\site-packages\\sklearn\\linear_model\\_coordinate_descent.py:648: ConvergenceWarning: Objective did not converge. You might want to increase the number of iterations, check the scale of the features or consider increasing regularisation. Duality gap: 5.062e+03, tolerance: 3.061e+00\n",
      "  model = cd_fast.enet_coordinate_descent(\n",
      "C:\\Users\\pouls\\anaconda3\\lib\\site-packages\\sklearn\\linear_model\\_coordinate_descent.py:648: ConvergenceWarning: Objective did not converge. You might want to increase the number of iterations, check the scale of the features or consider increasing regularisation. Duality gap: 5.062e+03, tolerance: 3.061e+00\n",
      "  model = cd_fast.enet_coordinate_descent(\n",
      "C:\\Users\\pouls\\anaconda3\\lib\\site-packages\\sklearn\\linear_model\\_coordinate_descent.py:648: ConvergenceWarning: Objective did not converge. You might want to increase the number of iterations, check the scale of the features or consider increasing regularisation. Duality gap: 5.062e+03, tolerance: 3.061e+00\n",
      "  model = cd_fast.enet_coordinate_descent(\n",
      "C:\\Users\\pouls\\anaconda3\\lib\\site-packages\\sklearn\\linear_model\\_coordinate_descent.py:648: ConvergenceWarning: Objective did not converge. You might want to increase the number of iterations, check the scale of the features or consider increasing regularisation. Duality gap: 5.062e+03, tolerance: 3.061e+00\n",
      "  model = cd_fast.enet_coordinate_descent(\n",
      "C:\\Users\\pouls\\anaconda3\\lib\\site-packages\\sklearn\\linear_model\\_coordinate_descent.py:648: ConvergenceWarning: Objective did not converge. You might want to increase the number of iterations, check the scale of the features or consider increasing regularisation. Duality gap: 5.062e+03, tolerance: 3.061e+00\n",
      "  model = cd_fast.enet_coordinate_descent(\n",
      "C:\\Users\\pouls\\anaconda3\\lib\\site-packages\\sklearn\\linear_model\\_coordinate_descent.py:648: ConvergenceWarning: Objective did not converge. You might want to increase the number of iterations, check the scale of the features or consider increasing regularisation. Duality gap: 5.062e+03, tolerance: 3.061e+00\n",
      "  model = cd_fast.enet_coordinate_descent(\n",
      "C:\\Users\\pouls\\anaconda3\\lib\\site-packages\\sklearn\\linear_model\\_coordinate_descent.py:648: ConvergenceWarning: Objective did not converge. You might want to increase the number of iterations, check the scale of the features or consider increasing regularisation. Duality gap: 5.062e+03, tolerance: 3.061e+00\n",
      "  model = cd_fast.enet_coordinate_descent(\n",
      "C:\\Users\\pouls\\anaconda3\\lib\\site-packages\\sklearn\\linear_model\\_coordinate_descent.py:648: ConvergenceWarning: Objective did not converge. You might want to increase the number of iterations, check the scale of the features or consider increasing regularisation. Duality gap: 5.062e+03, tolerance: 3.061e+00\n",
      "  model = cd_fast.enet_coordinate_descent(\n",
      "C:\\Users\\pouls\\anaconda3\\lib\\site-packages\\sklearn\\linear_model\\_coordinate_descent.py:648: ConvergenceWarning: Objective did not converge. You might want to increase the number of iterations, check the scale of the features or consider increasing regularisation. Duality gap: 5.062e+03, tolerance: 3.061e+00\n",
      "  model = cd_fast.enet_coordinate_descent(\n",
      "C:\\Users\\pouls\\anaconda3\\lib\\site-packages\\sklearn\\linear_model\\_coordinate_descent.py:648: ConvergenceWarning: Objective did not converge. You might want to increase the number of iterations, check the scale of the features or consider increasing regularisation. Duality gap: 5.062e+03, tolerance: 3.061e+00\n",
      "  model = cd_fast.enet_coordinate_descent(\n",
      "C:\\Users\\pouls\\anaconda3\\lib\\site-packages\\sklearn\\linear_model\\_coordinate_descent.py:648: ConvergenceWarning: Objective did not converge. You might want to increase the number of iterations, check the scale of the features or consider increasing regularisation. Duality gap: 5.062e+03, tolerance: 3.061e+00\n",
      "  model = cd_fast.enet_coordinate_descent(\n",
      "C:\\Users\\pouls\\anaconda3\\lib\\site-packages\\sklearn\\linear_model\\_coordinate_descent.py:648: ConvergenceWarning: Objective did not converge. You might want to increase the number of iterations, check the scale of the features or consider increasing regularisation. Duality gap: 5.062e+03, tolerance: 3.061e+00\n",
      "  model = cd_fast.enet_coordinate_descent(\n",
      "C:\\Users\\pouls\\anaconda3\\lib\\site-packages\\sklearn\\linear_model\\_coordinate_descent.py:648: ConvergenceWarning: Objective did not converge. You might want to increase the number of iterations, check the scale of the features or consider increasing regularisation. Duality gap: 5.062e+03, tolerance: 3.061e+00\n",
      "  model = cd_fast.enet_coordinate_descent(\n",
      "C:\\Users\\pouls\\anaconda3\\lib\\site-packages\\sklearn\\linear_model\\_coordinate_descent.py:648: ConvergenceWarning: Objective did not converge. You might want to increase the number of iterations, check the scale of the features or consider increasing regularisation. Duality gap: 5.062e+03, tolerance: 3.061e+00\n",
      "  model = cd_fast.enet_coordinate_descent(\n",
      "C:\\Users\\pouls\\anaconda3\\lib\\site-packages\\sklearn\\linear_model\\_coordinate_descent.py:648: ConvergenceWarning: Objective did not converge. You might want to increase the number of iterations, check the scale of the features or consider increasing regularisation. Duality gap: 5.062e+03, tolerance: 3.061e+00\n",
      "  model = cd_fast.enet_coordinate_descent(\n",
      "C:\\Users\\pouls\\anaconda3\\lib\\site-packages\\sklearn\\linear_model\\_coordinate_descent.py:648: ConvergenceWarning: Objective did not converge. You might want to increase the number of iterations, check the scale of the features or consider increasing regularisation. Duality gap: 5.062e+03, tolerance: 3.061e+00\n",
      "  model = cd_fast.enet_coordinate_descent(\n",
      "C:\\Users\\pouls\\anaconda3\\lib\\site-packages\\sklearn\\linear_model\\_coordinate_descent.py:648: ConvergenceWarning: Objective did not converge. You might want to increase the number of iterations, check the scale of the features or consider increasing regularisation. Duality gap: 5.062e+03, tolerance: 3.061e+00\n",
      "  model = cd_fast.enet_coordinate_descent(\n",
      "C:\\Users\\pouls\\anaconda3\\lib\\site-packages\\sklearn\\linear_model\\_coordinate_descent.py:648: ConvergenceWarning: Objective did not converge. You might want to increase the number of iterations, check the scale of the features or consider increasing regularisation. Duality gap: 5.062e+03, tolerance: 3.061e+00\n",
      "  model = cd_fast.enet_coordinate_descent(\n",
      "C:\\Users\\pouls\\anaconda3\\lib\\site-packages\\sklearn\\linear_model\\_coordinate_descent.py:648: ConvergenceWarning: Objective did not converge. You might want to increase the number of iterations, check the scale of the features or consider increasing regularisation. Duality gap: 5.062e+03, tolerance: 3.061e+00\n",
      "  model = cd_fast.enet_coordinate_descent(\n",
      "C:\\Users\\pouls\\anaconda3\\lib\\site-packages\\sklearn\\linear_model\\_coordinate_descent.py:648: ConvergenceWarning: Objective did not converge. You might want to increase the number of iterations, check the scale of the features or consider increasing regularisation. Duality gap: 5.062e+03, tolerance: 3.061e+00\n",
      "  model = cd_fast.enet_coordinate_descent(\n",
      "C:\\Users\\pouls\\anaconda3\\lib\\site-packages\\sklearn\\linear_model\\_coordinate_descent.py:648: ConvergenceWarning: Objective did not converge. You might want to increase the number of iterations, check the scale of the features or consider increasing regularisation. Duality gap: 5.062e+03, tolerance: 3.061e+00\n",
      "  model = cd_fast.enet_coordinate_descent(\n",
      "C:\\Users\\pouls\\anaconda3\\lib\\site-packages\\sklearn\\linear_model\\_coordinate_descent.py:648: ConvergenceWarning: Objective did not converge. You might want to increase the number of iterations, check the scale of the features or consider increasing regularisation. Duality gap: 5.062e+03, tolerance: 3.061e+00\n",
      "  model = cd_fast.enet_coordinate_descent(\n",
      "C:\\Users\\pouls\\anaconda3\\lib\\site-packages\\sklearn\\linear_model\\_coordinate_descent.py:648: ConvergenceWarning: Objective did not converge. You might want to increase the number of iterations, check the scale of the features or consider increasing regularisation. Duality gap: 5.062e+03, tolerance: 3.061e+00\n",
      "  model = cd_fast.enet_coordinate_descent(\n",
      "C:\\Users\\pouls\\anaconda3\\lib\\site-packages\\sklearn\\linear_model\\_coordinate_descent.py:648: ConvergenceWarning: Objective did not converge. You might want to increase the number of iterations, check the scale of the features or consider increasing regularisation. Duality gap: 5.062e+03, tolerance: 3.061e+00\n",
      "  model = cd_fast.enet_coordinate_descent(\n",
      "C:\\Users\\pouls\\anaconda3\\lib\\site-packages\\sklearn\\linear_model\\_coordinate_descent.py:648: ConvergenceWarning: Objective did not converge. You might want to increase the number of iterations, check the scale of the features or consider increasing regularisation. Duality gap: 5.062e+03, tolerance: 3.061e+00\n",
      "  model = cd_fast.enet_coordinate_descent(\n",
      "C:\\Users\\pouls\\anaconda3\\lib\\site-packages\\sklearn\\linear_model\\_coordinate_descent.py:648: ConvergenceWarning: Objective did not converge. You might want to increase the number of iterations, check the scale of the features or consider increasing regularisation. Duality gap: 8.429e+01, tolerance: 3.061e+00\n",
      "  model = cd_fast.enet_coordinate_descent(\n",
      "C:\\Users\\pouls\\anaconda3\\lib\\site-packages\\sklearn\\linear_model\\_coordinate_descent.py:648: ConvergenceWarning: Objective did not converge. You might want to increase the number of iterations, check the scale of the features or consider increasing regularisation. Duality gap: 8.431e+01, tolerance: 3.061e+00\n",
      "  model = cd_fast.enet_coordinate_descent(\n",
      "C:\\Users\\pouls\\anaconda3\\lib\\site-packages\\sklearn\\linear_model\\_coordinate_descent.py:648: ConvergenceWarning: Objective did not converge. You might want to increase the number of iterations, check the scale of the features or consider increasing regularisation. Duality gap: 8.431e+01, tolerance: 3.061e+00\n",
      "  model = cd_fast.enet_coordinate_descent(\n",
      "C:\\Users\\pouls\\anaconda3\\lib\\site-packages\\sklearn\\linear_model\\_coordinate_descent.py:648: ConvergenceWarning: Objective did not converge. You might want to increase the number of iterations, check the scale of the features or consider increasing regularisation. Duality gap: 4.749e+03, tolerance: 2.868e+00\n",
      "  model = cd_fast.enet_coordinate_descent(\n",
      "C:\\Users\\pouls\\anaconda3\\lib\\site-packages\\sklearn\\linear_model\\_coordinate_descent.py:648: ConvergenceWarning: Objective did not converge. You might want to increase the number of iterations, check the scale of the features or consider increasing regularisation. Duality gap: 4.749e+03, tolerance: 2.868e+00\n",
      "  model = cd_fast.enet_coordinate_descent(\n",
      "C:\\Users\\pouls\\anaconda3\\lib\\site-packages\\sklearn\\linear_model\\_coordinate_descent.py:648: ConvergenceWarning: Objective did not converge. You might want to increase the number of iterations, check the scale of the features or consider increasing regularisation. Duality gap: 4.749e+03, tolerance: 2.868e+00\n",
      "  model = cd_fast.enet_coordinate_descent(\n",
      "C:\\Users\\pouls\\anaconda3\\lib\\site-packages\\sklearn\\linear_model\\_coordinate_descent.py:648: ConvergenceWarning: Objective did not converge. You might want to increase the number of iterations, check the scale of the features or consider increasing regularisation. Duality gap: 4.749e+03, tolerance: 2.868e+00\n",
      "  model = cd_fast.enet_coordinate_descent(\n",
      "C:\\Users\\pouls\\anaconda3\\lib\\site-packages\\sklearn\\linear_model\\_coordinate_descent.py:648: ConvergenceWarning: Objective did not converge. You might want to increase the number of iterations, check the scale of the features or consider increasing regularisation. Duality gap: 4.749e+03, tolerance: 2.868e+00\n",
      "  model = cd_fast.enet_coordinate_descent(\n",
      "C:\\Users\\pouls\\anaconda3\\lib\\site-packages\\sklearn\\linear_model\\_coordinate_descent.py:648: ConvergenceWarning: Objective did not converge. You might want to increase the number of iterations, check the scale of the features or consider increasing regularisation. Duality gap: 4.749e+03, tolerance: 2.868e+00\n",
      "  model = cd_fast.enet_coordinate_descent(\n",
      "C:\\Users\\pouls\\anaconda3\\lib\\site-packages\\sklearn\\linear_model\\_coordinate_descent.py:648: ConvergenceWarning: Objective did not converge. You might want to increase the number of iterations, check the scale of the features or consider increasing regularisation. Duality gap: 4.749e+03, tolerance: 2.868e+00\n",
      "  model = cd_fast.enet_coordinate_descent(\n",
      "C:\\Users\\pouls\\anaconda3\\lib\\site-packages\\sklearn\\linear_model\\_coordinate_descent.py:648: ConvergenceWarning: Objective did not converge. You might want to increase the number of iterations, check the scale of the features or consider increasing regularisation. Duality gap: 4.749e+03, tolerance: 2.868e+00\n",
      "  model = cd_fast.enet_coordinate_descent(\n",
      "C:\\Users\\pouls\\anaconda3\\lib\\site-packages\\sklearn\\linear_model\\_coordinate_descent.py:648: ConvergenceWarning: Objective did not converge. You might want to increase the number of iterations, check the scale of the features or consider increasing regularisation. Duality gap: 4.749e+03, tolerance: 2.868e+00\n",
      "  model = cd_fast.enet_coordinate_descent(\n",
      "C:\\Users\\pouls\\anaconda3\\lib\\site-packages\\sklearn\\linear_model\\_coordinate_descent.py:648: ConvergenceWarning: Objective did not converge. You might want to increase the number of iterations, check the scale of the features or consider increasing regularisation. Duality gap: 4.749e+03, tolerance: 2.868e+00\n",
      "  model = cd_fast.enet_coordinate_descent(\n",
      "C:\\Users\\pouls\\anaconda3\\lib\\site-packages\\sklearn\\linear_model\\_coordinate_descent.py:648: ConvergenceWarning: Objective did not converge. You might want to increase the number of iterations, check the scale of the features or consider increasing regularisation. Duality gap: 4.749e+03, tolerance: 2.868e+00\n",
      "  model = cd_fast.enet_coordinate_descent(\n",
      "C:\\Users\\pouls\\anaconda3\\lib\\site-packages\\sklearn\\linear_model\\_coordinate_descent.py:648: ConvergenceWarning: Objective did not converge. You might want to increase the number of iterations, check the scale of the features or consider increasing regularisation. Duality gap: 4.749e+03, tolerance: 2.868e+00\n",
      "  model = cd_fast.enet_coordinate_descent(\n",
      "C:\\Users\\pouls\\anaconda3\\lib\\site-packages\\sklearn\\linear_model\\_coordinate_descent.py:648: ConvergenceWarning: Objective did not converge. You might want to increase the number of iterations, check the scale of the features or consider increasing regularisation. Duality gap: 4.749e+03, tolerance: 2.868e+00\n",
      "  model = cd_fast.enet_coordinate_descent(\n",
      "C:\\Users\\pouls\\anaconda3\\lib\\site-packages\\sklearn\\linear_model\\_coordinate_descent.py:648: ConvergenceWarning: Objective did not converge. You might want to increase the number of iterations, check the scale of the features or consider increasing regularisation. Duality gap: 4.749e+03, tolerance: 2.868e+00\n",
      "  model = cd_fast.enet_coordinate_descent(\n",
      "C:\\Users\\pouls\\anaconda3\\lib\\site-packages\\sklearn\\linear_model\\_coordinate_descent.py:648: ConvergenceWarning: Objective did not converge. You might want to increase the number of iterations, check the scale of the features or consider increasing regularisation. Duality gap: 4.749e+03, tolerance: 2.868e+00\n",
      "  model = cd_fast.enet_coordinate_descent(\n",
      "C:\\Users\\pouls\\anaconda3\\lib\\site-packages\\sklearn\\linear_model\\_coordinate_descent.py:648: ConvergenceWarning: Objective did not converge. You might want to increase the number of iterations, check the scale of the features or consider increasing regularisation. Duality gap: 4.749e+03, tolerance: 2.868e+00\n",
      "  model = cd_fast.enet_coordinate_descent(\n",
      "C:\\Users\\pouls\\anaconda3\\lib\\site-packages\\sklearn\\linear_model\\_coordinate_descent.py:648: ConvergenceWarning: Objective did not converge. You might want to increase the number of iterations, check the scale of the features or consider increasing regularisation. Duality gap: 4.749e+03, tolerance: 2.868e+00\n",
      "  model = cd_fast.enet_coordinate_descent(\n",
      "C:\\Users\\pouls\\anaconda3\\lib\\site-packages\\sklearn\\linear_model\\_coordinate_descent.py:648: ConvergenceWarning: Objective did not converge. You might want to increase the number of iterations, check the scale of the features or consider increasing regularisation. Duality gap: 4.749e+03, tolerance: 2.868e+00\n",
      "  model = cd_fast.enet_coordinate_descent(\n",
      "C:\\Users\\pouls\\anaconda3\\lib\\site-packages\\sklearn\\linear_model\\_coordinate_descent.py:648: ConvergenceWarning: Objective did not converge. You might want to increase the number of iterations, check the scale of the features or consider increasing regularisation. Duality gap: 4.749e+03, tolerance: 2.868e+00\n",
      "  model = cd_fast.enet_coordinate_descent(\n",
      "C:\\Users\\pouls\\anaconda3\\lib\\site-packages\\sklearn\\linear_model\\_coordinate_descent.py:648: ConvergenceWarning: Objective did not converge. You might want to increase the number of iterations, check the scale of the features or consider increasing regularisation. Duality gap: 4.749e+03, tolerance: 2.868e+00\n",
      "  model = cd_fast.enet_coordinate_descent(\n",
      "C:\\Users\\pouls\\anaconda3\\lib\\site-packages\\sklearn\\linear_model\\_coordinate_descent.py:648: ConvergenceWarning: Objective did not converge. You might want to increase the number of iterations, check the scale of the features or consider increasing regularisation. Duality gap: 4.749e+03, tolerance: 2.868e+00\n",
      "  model = cd_fast.enet_coordinate_descent(\n",
      "C:\\Users\\pouls\\anaconda3\\lib\\site-packages\\sklearn\\linear_model\\_coordinate_descent.py:648: ConvergenceWarning: Objective did not converge. You might want to increase the number of iterations, check the scale of the features or consider increasing regularisation. Duality gap: 4.749e+03, tolerance: 2.868e+00\n",
      "  model = cd_fast.enet_coordinate_descent(\n",
      "C:\\Users\\pouls\\anaconda3\\lib\\site-packages\\sklearn\\linear_model\\_coordinate_descent.py:648: ConvergenceWarning: Objective did not converge. You might want to increase the number of iterations, check the scale of the features or consider increasing regularisation. Duality gap: 4.749e+03, tolerance: 2.868e+00\n",
      "  model = cd_fast.enet_coordinate_descent(\n",
      "C:\\Users\\pouls\\anaconda3\\lib\\site-packages\\sklearn\\linear_model\\_coordinate_descent.py:648: ConvergenceWarning: Objective did not converge. You might want to increase the number of iterations, check the scale of the features or consider increasing regularisation. Duality gap: 4.749e+03, tolerance: 2.868e+00\n",
      "  model = cd_fast.enet_coordinate_descent(\n",
      "C:\\Users\\pouls\\anaconda3\\lib\\site-packages\\sklearn\\linear_model\\_coordinate_descent.py:648: ConvergenceWarning: Objective did not converge. You might want to increase the number of iterations, check the scale of the features or consider increasing regularisation. Duality gap: 4.749e+03, tolerance: 2.868e+00\n",
      "  model = cd_fast.enet_coordinate_descent(\n",
      "C:\\Users\\pouls\\anaconda3\\lib\\site-packages\\sklearn\\linear_model\\_coordinate_descent.py:648: ConvergenceWarning: Objective did not converge. You might want to increase the number of iterations, check the scale of the features or consider increasing regularisation. Duality gap: 4.749e+03, tolerance: 2.868e+00\n",
      "  model = cd_fast.enet_coordinate_descent(\n",
      "C:\\Users\\pouls\\anaconda3\\lib\\site-packages\\sklearn\\linear_model\\_coordinate_descent.py:648: ConvergenceWarning: Objective did not converge. You might want to increase the number of iterations, check the scale of the features or consider increasing regularisation. Duality gap: 4.749e+03, tolerance: 2.868e+00\n",
      "  model = cd_fast.enet_coordinate_descent(\n",
      "C:\\Users\\pouls\\anaconda3\\lib\\site-packages\\sklearn\\linear_model\\_coordinate_descent.py:648: ConvergenceWarning: Objective did not converge. You might want to increase the number of iterations, check the scale of the features or consider increasing regularisation. Duality gap: 4.749e+03, tolerance: 2.868e+00\n",
      "  model = cd_fast.enet_coordinate_descent(\n",
      "C:\\Users\\pouls\\anaconda3\\lib\\site-packages\\sklearn\\linear_model\\_coordinate_descent.py:648: ConvergenceWarning: Objective did not converge. You might want to increase the number of iterations, check the scale of the features or consider increasing regularisation. Duality gap: 4.749e+03, tolerance: 2.868e+00\n",
      "  model = cd_fast.enet_coordinate_descent(\n",
      "C:\\Users\\pouls\\anaconda3\\lib\\site-packages\\sklearn\\linear_model\\_coordinate_descent.py:648: ConvergenceWarning: Objective did not converge. You might want to increase the number of iterations, check the scale of the features or consider increasing regularisation. Duality gap: 4.749e+03, tolerance: 2.868e+00\n",
      "  model = cd_fast.enet_coordinate_descent(\n",
      "C:\\Users\\pouls\\anaconda3\\lib\\site-packages\\sklearn\\linear_model\\_coordinate_descent.py:648: ConvergenceWarning: Objective did not converge. You might want to increase the number of iterations, check the scale of the features or consider increasing regularisation. Duality gap: 4.749e+03, tolerance: 2.868e+00\n",
      "  model = cd_fast.enet_coordinate_descent(\n",
      "C:\\Users\\pouls\\anaconda3\\lib\\site-packages\\sklearn\\linear_model\\_coordinate_descent.py:648: ConvergenceWarning: Objective did not converge. You might want to increase the number of iterations, check the scale of the features or consider increasing regularisation. Duality gap: 4.749e+03, tolerance: 2.868e+00\n",
      "  model = cd_fast.enet_coordinate_descent(\n",
      "C:\\Users\\pouls\\anaconda3\\lib\\site-packages\\sklearn\\linear_model\\_coordinate_descent.py:648: ConvergenceWarning: Objective did not converge. You might want to increase the number of iterations, check the scale of the features or consider increasing regularisation. Duality gap: 4.749e+03, tolerance: 2.868e+00\n",
      "  model = cd_fast.enet_coordinate_descent(\n",
      "C:\\Users\\pouls\\anaconda3\\lib\\site-packages\\sklearn\\linear_model\\_coordinate_descent.py:648: ConvergenceWarning: Objective did not converge. You might want to increase the number of iterations, check the scale of the features or consider increasing regularisation. Duality gap: 4.749e+03, tolerance: 2.868e+00\n",
      "  model = cd_fast.enet_coordinate_descent(\n",
      "C:\\Users\\pouls\\anaconda3\\lib\\site-packages\\sklearn\\linear_model\\_coordinate_descent.py:648: ConvergenceWarning: Objective did not converge. You might want to increase the number of iterations, check the scale of the features or consider increasing regularisation. Duality gap: 4.749e+03, tolerance: 2.868e+00\n",
      "  model = cd_fast.enet_coordinate_descent(\n",
      "C:\\Users\\pouls\\anaconda3\\lib\\site-packages\\sklearn\\linear_model\\_coordinate_descent.py:648: ConvergenceWarning: Objective did not converge. You might want to increase the number of iterations, check the scale of the features or consider increasing regularisation. Duality gap: 4.749e+03, tolerance: 2.868e+00\n",
      "  model = cd_fast.enet_coordinate_descent(\n",
      "C:\\Users\\pouls\\anaconda3\\lib\\site-packages\\sklearn\\linear_model\\_coordinate_descent.py:648: ConvergenceWarning: Objective did not converge. You might want to increase the number of iterations, check the scale of the features or consider increasing regularisation. Duality gap: 4.749e+03, tolerance: 2.868e+00\n",
      "  model = cd_fast.enet_coordinate_descent(\n",
      "C:\\Users\\pouls\\anaconda3\\lib\\site-packages\\sklearn\\linear_model\\_coordinate_descent.py:648: ConvergenceWarning: Objective did not converge. You might want to increase the number of iterations, check the scale of the features or consider increasing regularisation. Duality gap: 4.749e+03, tolerance: 2.868e+00\n",
      "  model = cd_fast.enet_coordinate_descent(\n",
      "C:\\Users\\pouls\\anaconda3\\lib\\site-packages\\sklearn\\linear_model\\_coordinate_descent.py:648: ConvergenceWarning: Objective did not converge. You might want to increase the number of iterations, check the scale of the features or consider increasing regularisation. Duality gap: 4.749e+03, tolerance: 2.868e+00\n",
      "  model = cd_fast.enet_coordinate_descent(\n",
      "C:\\Users\\pouls\\anaconda3\\lib\\site-packages\\sklearn\\linear_model\\_coordinate_descent.py:648: ConvergenceWarning: Objective did not converge. You might want to increase the number of iterations, check the scale of the features or consider increasing regularisation. Duality gap: 7.559e+01, tolerance: 2.868e+00\n",
      "  model = cd_fast.enet_coordinate_descent(\n",
      "C:\\Users\\pouls\\anaconda3\\lib\\site-packages\\sklearn\\linear_model\\_coordinate_descent.py:648: ConvergenceWarning: Objective did not converge. You might want to increase the number of iterations, check the scale of the features or consider increasing regularisation. Duality gap: 7.559e+01, tolerance: 2.868e+00\n",
      "  model = cd_fast.enet_coordinate_descent(\n",
      "C:\\Users\\pouls\\anaconda3\\lib\\site-packages\\sklearn\\linear_model\\_coordinate_descent.py:648: ConvergenceWarning: Objective did not converge. You might want to increase the number of iterations, check the scale of the features or consider increasing regularisation. Duality gap: 3.749e+03, tolerance: 2.682e+00\n",
      "  model = cd_fast.enet_coordinate_descent(\n",
      "C:\\Users\\pouls\\anaconda3\\lib\\site-packages\\sklearn\\linear_model\\_coordinate_descent.py:648: ConvergenceWarning: Objective did not converge. You might want to increase the number of iterations, check the scale of the features or consider increasing regularisation. Duality gap: 3.749e+03, tolerance: 2.682e+00\n",
      "  model = cd_fast.enet_coordinate_descent(\n",
      "C:\\Users\\pouls\\anaconda3\\lib\\site-packages\\sklearn\\linear_model\\_coordinate_descent.py:648: ConvergenceWarning: Objective did not converge. You might want to increase the number of iterations, check the scale of the features or consider increasing regularisation. Duality gap: 3.749e+03, tolerance: 2.682e+00\n",
      "  model = cd_fast.enet_coordinate_descent(\n",
      "C:\\Users\\pouls\\anaconda3\\lib\\site-packages\\sklearn\\linear_model\\_coordinate_descent.py:648: ConvergenceWarning: Objective did not converge. You might want to increase the number of iterations, check the scale of the features or consider increasing regularisation. Duality gap: 3.749e+03, tolerance: 2.682e+00\n",
      "  model = cd_fast.enet_coordinate_descent(\n",
      "C:\\Users\\pouls\\anaconda3\\lib\\site-packages\\sklearn\\linear_model\\_coordinate_descent.py:648: ConvergenceWarning: Objective did not converge. You might want to increase the number of iterations, check the scale of the features or consider increasing regularisation. Duality gap: 3.749e+03, tolerance: 2.682e+00\n",
      "  model = cd_fast.enet_coordinate_descent(\n",
      "C:\\Users\\pouls\\anaconda3\\lib\\site-packages\\sklearn\\linear_model\\_coordinate_descent.py:648: ConvergenceWarning: Objective did not converge. You might want to increase the number of iterations, check the scale of the features or consider increasing regularisation. Duality gap: 3.749e+03, tolerance: 2.682e+00\n",
      "  model = cd_fast.enet_coordinate_descent(\n",
      "C:\\Users\\pouls\\anaconda3\\lib\\site-packages\\sklearn\\linear_model\\_coordinate_descent.py:648: ConvergenceWarning: Objective did not converge. You might want to increase the number of iterations, check the scale of the features or consider increasing regularisation. Duality gap: 3.749e+03, tolerance: 2.682e+00\n",
      "  model = cd_fast.enet_coordinate_descent(\n",
      "C:\\Users\\pouls\\anaconda3\\lib\\site-packages\\sklearn\\linear_model\\_coordinate_descent.py:648: ConvergenceWarning: Objective did not converge. You might want to increase the number of iterations, check the scale of the features or consider increasing regularisation. Duality gap: 3.749e+03, tolerance: 2.682e+00\n",
      "  model = cd_fast.enet_coordinate_descent(\n",
      "C:\\Users\\pouls\\anaconda3\\lib\\site-packages\\sklearn\\linear_model\\_coordinate_descent.py:648: ConvergenceWarning: Objective did not converge. You might want to increase the number of iterations, check the scale of the features or consider increasing regularisation. Duality gap: 3.749e+03, tolerance: 2.682e+00\n",
      "  model = cd_fast.enet_coordinate_descent(\n",
      "C:\\Users\\pouls\\anaconda3\\lib\\site-packages\\sklearn\\linear_model\\_coordinate_descent.py:648: ConvergenceWarning: Objective did not converge. You might want to increase the number of iterations, check the scale of the features or consider increasing regularisation. Duality gap: 3.749e+03, tolerance: 2.682e+00\n",
      "  model = cd_fast.enet_coordinate_descent(\n",
      "C:\\Users\\pouls\\anaconda3\\lib\\site-packages\\sklearn\\linear_model\\_coordinate_descent.py:648: ConvergenceWarning: Objective did not converge. You might want to increase the number of iterations, check the scale of the features or consider increasing regularisation. Duality gap: 3.749e+03, tolerance: 2.682e+00\n",
      "  model = cd_fast.enet_coordinate_descent(\n",
      "C:\\Users\\pouls\\anaconda3\\lib\\site-packages\\sklearn\\linear_model\\_coordinate_descent.py:648: ConvergenceWarning: Objective did not converge. You might want to increase the number of iterations, check the scale of the features or consider increasing regularisation. Duality gap: 3.749e+03, tolerance: 2.682e+00\n",
      "  model = cd_fast.enet_coordinate_descent(\n",
      "C:\\Users\\pouls\\anaconda3\\lib\\site-packages\\sklearn\\linear_model\\_coordinate_descent.py:648: ConvergenceWarning: Objective did not converge. You might want to increase the number of iterations, check the scale of the features or consider increasing regularisation. Duality gap: 3.749e+03, tolerance: 2.682e+00\n",
      "  model = cd_fast.enet_coordinate_descent(\n",
      "C:\\Users\\pouls\\anaconda3\\lib\\site-packages\\sklearn\\linear_model\\_coordinate_descent.py:648: ConvergenceWarning: Objective did not converge. You might want to increase the number of iterations, check the scale of the features or consider increasing regularisation. Duality gap: 3.749e+03, tolerance: 2.682e+00\n",
      "  model = cd_fast.enet_coordinate_descent(\n",
      "C:\\Users\\pouls\\anaconda3\\lib\\site-packages\\sklearn\\linear_model\\_coordinate_descent.py:648: ConvergenceWarning: Objective did not converge. You might want to increase the number of iterations, check the scale of the features or consider increasing regularisation. Duality gap: 3.749e+03, tolerance: 2.682e+00\n",
      "  model = cd_fast.enet_coordinate_descent(\n",
      "C:\\Users\\pouls\\anaconda3\\lib\\site-packages\\sklearn\\linear_model\\_coordinate_descent.py:648: ConvergenceWarning: Objective did not converge. You might want to increase the number of iterations, check the scale of the features or consider increasing regularisation. Duality gap: 3.749e+03, tolerance: 2.682e+00\n",
      "  model = cd_fast.enet_coordinate_descent(\n",
      "C:\\Users\\pouls\\anaconda3\\lib\\site-packages\\sklearn\\linear_model\\_coordinate_descent.py:648: ConvergenceWarning: Objective did not converge. You might want to increase the number of iterations, check the scale of the features or consider increasing regularisation. Duality gap: 3.749e+03, tolerance: 2.682e+00\n",
      "  model = cd_fast.enet_coordinate_descent(\n",
      "C:\\Users\\pouls\\anaconda3\\lib\\site-packages\\sklearn\\linear_model\\_coordinate_descent.py:648: ConvergenceWarning: Objective did not converge. You might want to increase the number of iterations, check the scale of the features or consider increasing regularisation. Duality gap: 3.749e+03, tolerance: 2.682e+00\n",
      "  model = cd_fast.enet_coordinate_descent(\n",
      "C:\\Users\\pouls\\anaconda3\\lib\\site-packages\\sklearn\\linear_model\\_coordinate_descent.py:648: ConvergenceWarning: Objective did not converge. You might want to increase the number of iterations, check the scale of the features or consider increasing regularisation. Duality gap: 3.749e+03, tolerance: 2.682e+00\n",
      "  model = cd_fast.enet_coordinate_descent(\n",
      "C:\\Users\\pouls\\anaconda3\\lib\\site-packages\\sklearn\\linear_model\\_coordinate_descent.py:648: ConvergenceWarning: Objective did not converge. You might want to increase the number of iterations, check the scale of the features or consider increasing regularisation. Duality gap: 3.749e+03, tolerance: 2.682e+00\n",
      "  model = cd_fast.enet_coordinate_descent(\n",
      "C:\\Users\\pouls\\anaconda3\\lib\\site-packages\\sklearn\\linear_model\\_coordinate_descent.py:648: ConvergenceWarning: Objective did not converge. You might want to increase the number of iterations, check the scale of the features or consider increasing regularisation. Duality gap: 3.749e+03, tolerance: 2.682e+00\n",
      "  model = cd_fast.enet_coordinate_descent(\n",
      "C:\\Users\\pouls\\anaconda3\\lib\\site-packages\\sklearn\\linear_model\\_coordinate_descent.py:648: ConvergenceWarning: Objective did not converge. You might want to increase the number of iterations, check the scale of the features or consider increasing regularisation. Duality gap: 3.749e+03, tolerance: 2.682e+00\n",
      "  model = cd_fast.enet_coordinate_descent(\n",
      "C:\\Users\\pouls\\anaconda3\\lib\\site-packages\\sklearn\\linear_model\\_coordinate_descent.py:648: ConvergenceWarning: Objective did not converge. You might want to increase the number of iterations, check the scale of the features or consider increasing regularisation. Duality gap: 3.749e+03, tolerance: 2.682e+00\n",
      "  model = cd_fast.enet_coordinate_descent(\n",
      "C:\\Users\\pouls\\anaconda3\\lib\\site-packages\\sklearn\\linear_model\\_coordinate_descent.py:648: ConvergenceWarning: Objective did not converge. You might want to increase the number of iterations, check the scale of the features or consider increasing regularisation. Duality gap: 3.749e+03, tolerance: 2.682e+00\n",
      "  model = cd_fast.enet_coordinate_descent(\n",
      "C:\\Users\\pouls\\anaconda3\\lib\\site-packages\\sklearn\\linear_model\\_coordinate_descent.py:648: ConvergenceWarning: Objective did not converge. You might want to increase the number of iterations, check the scale of the features or consider increasing regularisation. Duality gap: 3.749e+03, tolerance: 2.682e+00\n",
      "  model = cd_fast.enet_coordinate_descent(\n",
      "C:\\Users\\pouls\\anaconda3\\lib\\site-packages\\sklearn\\linear_model\\_coordinate_descent.py:648: ConvergenceWarning: Objective did not converge. You might want to increase the number of iterations, check the scale of the features or consider increasing regularisation. Duality gap: 3.749e+03, tolerance: 2.682e+00\n",
      "  model = cd_fast.enet_coordinate_descent(\n",
      "C:\\Users\\pouls\\anaconda3\\lib\\site-packages\\sklearn\\linear_model\\_coordinate_descent.py:648: ConvergenceWarning: Objective did not converge. You might want to increase the number of iterations, check the scale of the features or consider increasing regularisation. Duality gap: 3.749e+03, tolerance: 2.682e+00\n",
      "  model = cd_fast.enet_coordinate_descent(\n",
      "C:\\Users\\pouls\\anaconda3\\lib\\site-packages\\sklearn\\linear_model\\_coordinate_descent.py:648: ConvergenceWarning: Objective did not converge. You might want to increase the number of iterations, check the scale of the features or consider increasing regularisation. Duality gap: 3.749e+03, tolerance: 2.682e+00\n",
      "  model = cd_fast.enet_coordinate_descent(\n",
      "C:\\Users\\pouls\\anaconda3\\lib\\site-packages\\sklearn\\linear_model\\_coordinate_descent.py:648: ConvergenceWarning: Objective did not converge. You might want to increase the number of iterations, check the scale of the features or consider increasing regularisation. Duality gap: 3.749e+03, tolerance: 2.682e+00\n",
      "  model = cd_fast.enet_coordinate_descent(\n",
      "C:\\Users\\pouls\\anaconda3\\lib\\site-packages\\sklearn\\linear_model\\_coordinate_descent.py:648: ConvergenceWarning: Objective did not converge. You might want to increase the number of iterations, check the scale of the features or consider increasing regularisation. Duality gap: 3.749e+03, tolerance: 2.682e+00\n",
      "  model = cd_fast.enet_coordinate_descent(\n",
      "C:\\Users\\pouls\\anaconda3\\lib\\site-packages\\sklearn\\linear_model\\_coordinate_descent.py:648: ConvergenceWarning: Objective did not converge. You might want to increase the number of iterations, check the scale of the features or consider increasing regularisation. Duality gap: 3.749e+03, tolerance: 2.682e+00\n",
      "  model = cd_fast.enet_coordinate_descent(\n",
      "C:\\Users\\pouls\\anaconda3\\lib\\site-packages\\sklearn\\linear_model\\_coordinate_descent.py:648: ConvergenceWarning: Objective did not converge. You might want to increase the number of iterations, check the scale of the features or consider increasing regularisation. Duality gap: 3.749e+03, tolerance: 2.682e+00\n",
      "  model = cd_fast.enet_coordinate_descent(\n",
      "C:\\Users\\pouls\\anaconda3\\lib\\site-packages\\sklearn\\linear_model\\_coordinate_descent.py:648: ConvergenceWarning: Objective did not converge. You might want to increase the number of iterations, check the scale of the features or consider increasing regularisation. Duality gap: 3.749e+03, tolerance: 2.682e+00\n",
      "  model = cd_fast.enet_coordinate_descent(\n",
      "C:\\Users\\pouls\\anaconda3\\lib\\site-packages\\sklearn\\linear_model\\_coordinate_descent.py:648: ConvergenceWarning: Objective did not converge. You might want to increase the number of iterations, check the scale of the features or consider increasing regularisation. Duality gap: 3.749e+03, tolerance: 2.682e+00\n",
      "  model = cd_fast.enet_coordinate_descent(\n",
      "C:\\Users\\pouls\\anaconda3\\lib\\site-packages\\sklearn\\linear_model\\_coordinate_descent.py:648: ConvergenceWarning: Objective did not converge. You might want to increase the number of iterations, check the scale of the features or consider increasing regularisation. Duality gap: 3.749e+03, tolerance: 2.682e+00\n",
      "  model = cd_fast.enet_coordinate_descent(\n",
      "C:\\Users\\pouls\\anaconda3\\lib\\site-packages\\sklearn\\linear_model\\_coordinate_descent.py:648: ConvergenceWarning: Objective did not converge. You might want to increase the number of iterations, check the scale of the features or consider increasing regularisation. Duality gap: 3.749e+03, tolerance: 2.682e+00\n",
      "  model = cd_fast.enet_coordinate_descent(\n",
      "C:\\Users\\pouls\\anaconda3\\lib\\site-packages\\sklearn\\linear_model\\_coordinate_descent.py:648: ConvergenceWarning: Objective did not converge. You might want to increase the number of iterations, check the scale of the features or consider increasing regularisation. Duality gap: 6.445e+01, tolerance: 2.682e+00\n",
      "  model = cd_fast.enet_coordinate_descent(\n",
      "C:\\Users\\pouls\\anaconda3\\lib\\site-packages\\sklearn\\linear_model\\_coordinate_descent.py:648: ConvergenceWarning: Objective did not converge. You might want to increase the number of iterations, check the scale of the features or consider increasing regularisation. Duality gap: 6.445e+01, tolerance: 2.682e+00\n",
      "  model = cd_fast.enet_coordinate_descent(\n",
      "C:\\Users\\pouls\\anaconda3\\lib\\site-packages\\sklearn\\linear_model\\_coordinate_descent.py:648: ConvergenceWarning: Objective did not converge. You might want to increase the number of iterations, check the scale of the features or consider increasing regularisation. Duality gap: 6.445e+01, tolerance: 2.682e+00\n",
      "  model = cd_fast.enet_coordinate_descent(\n",
      "C:\\Users\\pouls\\anaconda3\\lib\\site-packages\\sklearn\\linear_model\\_coordinate_descent.py:648: ConvergenceWarning: Objective did not converge. You might want to increase the number of iterations, check the scale of the features or consider increasing regularisation. Duality gap: 4.946e+03, tolerance: 3.077e+00\n",
      "  model = cd_fast.enet_coordinate_descent(\n",
      "C:\\Users\\pouls\\anaconda3\\lib\\site-packages\\sklearn\\linear_model\\_coordinate_descent.py:648: ConvergenceWarning: Objective did not converge. You might want to increase the number of iterations, check the scale of the features or consider increasing regularisation. Duality gap: 4.946e+03, tolerance: 3.077e+00\n",
      "  model = cd_fast.enet_coordinate_descent(\n",
      "C:\\Users\\pouls\\anaconda3\\lib\\site-packages\\sklearn\\linear_model\\_coordinate_descent.py:648: ConvergenceWarning: Objective did not converge. You might want to increase the number of iterations, check the scale of the features or consider increasing regularisation. Duality gap: 4.946e+03, tolerance: 3.077e+00\n",
      "  model = cd_fast.enet_coordinate_descent(\n",
      "C:\\Users\\pouls\\anaconda3\\lib\\site-packages\\sklearn\\linear_model\\_coordinate_descent.py:648: ConvergenceWarning: Objective did not converge. You might want to increase the number of iterations, check the scale of the features or consider increasing regularisation. Duality gap: 4.946e+03, tolerance: 3.077e+00\n",
      "  model = cd_fast.enet_coordinate_descent(\n",
      "C:\\Users\\pouls\\anaconda3\\lib\\site-packages\\sklearn\\linear_model\\_coordinate_descent.py:648: ConvergenceWarning: Objective did not converge. You might want to increase the number of iterations, check the scale of the features or consider increasing regularisation. Duality gap: 4.946e+03, tolerance: 3.077e+00\n",
      "  model = cd_fast.enet_coordinate_descent(\n",
      "C:\\Users\\pouls\\anaconda3\\lib\\site-packages\\sklearn\\linear_model\\_coordinate_descent.py:648: ConvergenceWarning: Objective did not converge. You might want to increase the number of iterations, check the scale of the features or consider increasing regularisation. Duality gap: 4.946e+03, tolerance: 3.077e+00\n",
      "  model = cd_fast.enet_coordinate_descent(\n",
      "C:\\Users\\pouls\\anaconda3\\lib\\site-packages\\sklearn\\linear_model\\_coordinate_descent.py:648: ConvergenceWarning: Objective did not converge. You might want to increase the number of iterations, check the scale of the features or consider increasing regularisation. Duality gap: 4.946e+03, tolerance: 3.077e+00\n",
      "  model = cd_fast.enet_coordinate_descent(\n",
      "C:\\Users\\pouls\\anaconda3\\lib\\site-packages\\sklearn\\linear_model\\_coordinate_descent.py:648: ConvergenceWarning: Objective did not converge. You might want to increase the number of iterations, check the scale of the features or consider increasing regularisation. Duality gap: 4.946e+03, tolerance: 3.077e+00\n",
      "  model = cd_fast.enet_coordinate_descent(\n",
      "C:\\Users\\pouls\\anaconda3\\lib\\site-packages\\sklearn\\linear_model\\_coordinate_descent.py:648: ConvergenceWarning: Objective did not converge. You might want to increase the number of iterations, check the scale of the features or consider increasing regularisation. Duality gap: 4.946e+03, tolerance: 3.077e+00\n",
      "  model = cd_fast.enet_coordinate_descent(\n",
      "C:\\Users\\pouls\\anaconda3\\lib\\site-packages\\sklearn\\linear_model\\_coordinate_descent.py:648: ConvergenceWarning: Objective did not converge. You might want to increase the number of iterations, check the scale of the features or consider increasing regularisation. Duality gap: 4.946e+03, tolerance: 3.077e+00\n",
      "  model = cd_fast.enet_coordinate_descent(\n",
      "C:\\Users\\pouls\\anaconda3\\lib\\site-packages\\sklearn\\linear_model\\_coordinate_descent.py:648: ConvergenceWarning: Objective did not converge. You might want to increase the number of iterations, check the scale of the features or consider increasing regularisation. Duality gap: 4.946e+03, tolerance: 3.077e+00\n",
      "  model = cd_fast.enet_coordinate_descent(\n",
      "C:\\Users\\pouls\\anaconda3\\lib\\site-packages\\sklearn\\linear_model\\_coordinate_descent.py:648: ConvergenceWarning: Objective did not converge. You might want to increase the number of iterations, check the scale of the features or consider increasing regularisation. Duality gap: 4.946e+03, tolerance: 3.077e+00\n",
      "  model = cd_fast.enet_coordinate_descent(\n",
      "C:\\Users\\pouls\\anaconda3\\lib\\site-packages\\sklearn\\linear_model\\_coordinate_descent.py:648: ConvergenceWarning: Objective did not converge. You might want to increase the number of iterations, check the scale of the features or consider increasing regularisation. Duality gap: 4.946e+03, tolerance: 3.077e+00\n",
      "  model = cd_fast.enet_coordinate_descent(\n",
      "C:\\Users\\pouls\\anaconda3\\lib\\site-packages\\sklearn\\linear_model\\_coordinate_descent.py:648: ConvergenceWarning: Objective did not converge. You might want to increase the number of iterations, check the scale of the features or consider increasing regularisation. Duality gap: 4.946e+03, tolerance: 3.077e+00\n",
      "  model = cd_fast.enet_coordinate_descent(\n",
      "C:\\Users\\pouls\\anaconda3\\lib\\site-packages\\sklearn\\linear_model\\_coordinate_descent.py:648: ConvergenceWarning: Objective did not converge. You might want to increase the number of iterations, check the scale of the features or consider increasing regularisation. Duality gap: 4.946e+03, tolerance: 3.077e+00\n",
      "  model = cd_fast.enet_coordinate_descent(\n",
      "C:\\Users\\pouls\\anaconda3\\lib\\site-packages\\sklearn\\linear_model\\_coordinate_descent.py:648: ConvergenceWarning: Objective did not converge. You might want to increase the number of iterations, check the scale of the features or consider increasing regularisation. Duality gap: 4.946e+03, tolerance: 3.077e+00\n",
      "  model = cd_fast.enet_coordinate_descent(\n",
      "C:\\Users\\pouls\\anaconda3\\lib\\site-packages\\sklearn\\linear_model\\_coordinate_descent.py:648: ConvergenceWarning: Objective did not converge. You might want to increase the number of iterations, check the scale of the features or consider increasing regularisation. Duality gap: 4.946e+03, tolerance: 3.077e+00\n",
      "  model = cd_fast.enet_coordinate_descent(\n",
      "C:\\Users\\pouls\\anaconda3\\lib\\site-packages\\sklearn\\linear_model\\_coordinate_descent.py:648: ConvergenceWarning: Objective did not converge. You might want to increase the number of iterations, check the scale of the features or consider increasing regularisation. Duality gap: 4.946e+03, tolerance: 3.077e+00\n",
      "  model = cd_fast.enet_coordinate_descent(\n",
      "C:\\Users\\pouls\\anaconda3\\lib\\site-packages\\sklearn\\linear_model\\_coordinate_descent.py:648: ConvergenceWarning: Objective did not converge. You might want to increase the number of iterations, check the scale of the features or consider increasing regularisation. Duality gap: 4.946e+03, tolerance: 3.077e+00\n",
      "  model = cd_fast.enet_coordinate_descent(\n",
      "C:\\Users\\pouls\\anaconda3\\lib\\site-packages\\sklearn\\linear_model\\_coordinate_descent.py:648: ConvergenceWarning: Objective did not converge. You might want to increase the number of iterations, check the scale of the features or consider increasing regularisation. Duality gap: 4.946e+03, tolerance: 3.077e+00\n",
      "  model = cd_fast.enet_coordinate_descent(\n",
      "C:\\Users\\pouls\\anaconda3\\lib\\site-packages\\sklearn\\linear_model\\_coordinate_descent.py:648: ConvergenceWarning: Objective did not converge. You might want to increase the number of iterations, check the scale of the features or consider increasing regularisation. Duality gap: 4.946e+03, tolerance: 3.077e+00\n",
      "  model = cd_fast.enet_coordinate_descent(\n",
      "C:\\Users\\pouls\\anaconda3\\lib\\site-packages\\sklearn\\linear_model\\_coordinate_descent.py:648: ConvergenceWarning: Objective did not converge. You might want to increase the number of iterations, check the scale of the features or consider increasing regularisation. Duality gap: 4.946e+03, tolerance: 3.077e+00\n",
      "  model = cd_fast.enet_coordinate_descent(\n",
      "C:\\Users\\pouls\\anaconda3\\lib\\site-packages\\sklearn\\linear_model\\_coordinate_descent.py:648: ConvergenceWarning: Objective did not converge. You might want to increase the number of iterations, check the scale of the features or consider increasing regularisation. Duality gap: 4.946e+03, tolerance: 3.077e+00\n",
      "  model = cd_fast.enet_coordinate_descent(\n",
      "C:\\Users\\pouls\\anaconda3\\lib\\site-packages\\sklearn\\linear_model\\_coordinate_descent.py:648: ConvergenceWarning: Objective did not converge. You might want to increase the number of iterations, check the scale of the features or consider increasing regularisation. Duality gap: 4.946e+03, tolerance: 3.077e+00\n",
      "  model = cd_fast.enet_coordinate_descent(\n",
      "C:\\Users\\pouls\\anaconda3\\lib\\site-packages\\sklearn\\linear_model\\_coordinate_descent.py:648: ConvergenceWarning: Objective did not converge. You might want to increase the number of iterations, check the scale of the features or consider increasing regularisation. Duality gap: 4.946e+03, tolerance: 3.077e+00\n",
      "  model = cd_fast.enet_coordinate_descent(\n",
      "C:\\Users\\pouls\\anaconda3\\lib\\site-packages\\sklearn\\linear_model\\_coordinate_descent.py:648: ConvergenceWarning: Objective did not converge. You might want to increase the number of iterations, check the scale of the features or consider increasing regularisation. Duality gap: 4.946e+03, tolerance: 3.077e+00\n",
      "  model = cd_fast.enet_coordinate_descent(\n",
      "C:\\Users\\pouls\\anaconda3\\lib\\site-packages\\sklearn\\linear_model\\_coordinate_descent.py:648: ConvergenceWarning: Objective did not converge. You might want to increase the number of iterations, check the scale of the features or consider increasing regularisation. Duality gap: 4.946e+03, tolerance: 3.077e+00\n",
      "  model = cd_fast.enet_coordinate_descent(\n",
      "C:\\Users\\pouls\\anaconda3\\lib\\site-packages\\sklearn\\linear_model\\_coordinate_descent.py:648: ConvergenceWarning: Objective did not converge. You might want to increase the number of iterations, check the scale of the features or consider increasing regularisation. Duality gap: 4.946e+03, tolerance: 3.077e+00\n",
      "  model = cd_fast.enet_coordinate_descent(\n",
      "C:\\Users\\pouls\\anaconda3\\lib\\site-packages\\sklearn\\linear_model\\_coordinate_descent.py:648: ConvergenceWarning: Objective did not converge. You might want to increase the number of iterations, check the scale of the features or consider increasing regularisation. Duality gap: 4.946e+03, tolerance: 3.077e+00\n",
      "  model = cd_fast.enet_coordinate_descent(\n",
      "C:\\Users\\pouls\\anaconda3\\lib\\site-packages\\sklearn\\linear_model\\_coordinate_descent.py:648: ConvergenceWarning: Objective did not converge. You might want to increase the number of iterations, check the scale of the features or consider increasing regularisation. Duality gap: 4.946e+03, tolerance: 3.077e+00\n",
      "  model = cd_fast.enet_coordinate_descent(\n",
      "C:\\Users\\pouls\\anaconda3\\lib\\site-packages\\sklearn\\linear_model\\_coordinate_descent.py:648: ConvergenceWarning: Objective did not converge. You might want to increase the number of iterations, check the scale of the features or consider increasing regularisation. Duality gap: 4.946e+03, tolerance: 3.077e+00\n",
      "  model = cd_fast.enet_coordinate_descent(\n",
      "C:\\Users\\pouls\\anaconda3\\lib\\site-packages\\sklearn\\linear_model\\_coordinate_descent.py:648: ConvergenceWarning: Objective did not converge. You might want to increase the number of iterations, check the scale of the features or consider increasing regularisation. Duality gap: 4.946e+03, tolerance: 3.077e+00\n",
      "  model = cd_fast.enet_coordinate_descent(\n",
      "C:\\Users\\pouls\\anaconda3\\lib\\site-packages\\sklearn\\linear_model\\_coordinate_descent.py:648: ConvergenceWarning: Objective did not converge. You might want to increase the number of iterations, check the scale of the features or consider increasing regularisation. Duality gap: 4.946e+03, tolerance: 3.077e+00\n",
      "  model = cd_fast.enet_coordinate_descent(\n",
      "C:\\Users\\pouls\\anaconda3\\lib\\site-packages\\sklearn\\linear_model\\_coordinate_descent.py:648: ConvergenceWarning: Objective did not converge. You might want to increase the number of iterations, check the scale of the features or consider increasing regularisation. Duality gap: 4.946e+03, tolerance: 3.077e+00\n",
      "  model = cd_fast.enet_coordinate_descent(\n",
      "C:\\Users\\pouls\\anaconda3\\lib\\site-packages\\sklearn\\linear_model\\_coordinate_descent.py:648: ConvergenceWarning: Objective did not converge. You might want to increase the number of iterations, check the scale of the features or consider increasing regularisation. Duality gap: 4.946e+03, tolerance: 3.077e+00\n",
      "  model = cd_fast.enet_coordinate_descent(\n",
      "C:\\Users\\pouls\\anaconda3\\lib\\site-packages\\sklearn\\linear_model\\_coordinate_descent.py:648: ConvergenceWarning: Objective did not converge. You might want to increase the number of iterations, check the scale of the features or consider increasing regularisation. Duality gap: 4.946e+03, tolerance: 3.077e+00\n",
      "  model = cd_fast.enet_coordinate_descent(\n",
      "C:\\Users\\pouls\\anaconda3\\lib\\site-packages\\sklearn\\linear_model\\_coordinate_descent.py:648: ConvergenceWarning: Objective did not converge. You might want to increase the number of iterations, check the scale of the features or consider increasing regularisation. Duality gap: 4.946e+03, tolerance: 3.077e+00\n",
      "  model = cd_fast.enet_coordinate_descent(\n",
      "C:\\Users\\pouls\\anaconda3\\lib\\site-packages\\sklearn\\linear_model\\_coordinate_descent.py:648: ConvergenceWarning: Objective did not converge. You might want to increase the number of iterations, check the scale of the features or consider increasing regularisation. Duality gap: 8.695e+01, tolerance: 3.077e+00\n",
      "  model = cd_fast.enet_coordinate_descent(\n",
      "C:\\Users\\pouls\\anaconda3\\lib\\site-packages\\sklearn\\linear_model\\_coordinate_descent.py:648: ConvergenceWarning: Objective did not converge. You might want to increase the number of iterations, check the scale of the features or consider increasing regularisation. Duality gap: 8.698e+01, tolerance: 3.077e+00\n",
      "  model = cd_fast.enet_coordinate_descent(\n",
      "C:\\Users\\pouls\\anaconda3\\lib\\site-packages\\sklearn\\linear_model\\_coordinate_descent.py:648: ConvergenceWarning: Objective did not converge. You might want to increase the number of iterations, check the scale of the features or consider increasing regularisation. Duality gap: 8.698e+01, tolerance: 3.077e+00\n",
      "  model = cd_fast.enet_coordinate_descent(\n",
      "C:\\Users\\pouls\\anaconda3\\lib\\site-packages\\sklearn\\linear_model\\_coordinate_descent.py:648: ConvergenceWarning: Objective did not converge. You might want to increase the number of iterations, check the scale of the features or consider increasing regularisation. Duality gap: 4.196e+03, tolerance: 3.204e+00\n",
      "  model = cd_fast.enet_coordinate_descent(\n",
      "C:\\Users\\pouls\\anaconda3\\lib\\site-packages\\sklearn\\linear_model\\_coordinate_descent.py:648: ConvergenceWarning: Objective did not converge. You might want to increase the number of iterations, check the scale of the features or consider increasing regularisation. Duality gap: 4.196e+03, tolerance: 3.204e+00\n",
      "  model = cd_fast.enet_coordinate_descent(\n",
      "C:\\Users\\pouls\\anaconda3\\lib\\site-packages\\sklearn\\linear_model\\_coordinate_descent.py:648: ConvergenceWarning: Objective did not converge. You might want to increase the number of iterations, check the scale of the features or consider increasing regularisation. Duality gap: 4.196e+03, tolerance: 3.204e+00\n",
      "  model = cd_fast.enet_coordinate_descent(\n",
      "C:\\Users\\pouls\\anaconda3\\lib\\site-packages\\sklearn\\linear_model\\_coordinate_descent.py:648: ConvergenceWarning: Objective did not converge. You might want to increase the number of iterations, check the scale of the features or consider increasing regularisation. Duality gap: 4.196e+03, tolerance: 3.204e+00\n",
      "  model = cd_fast.enet_coordinate_descent(\n",
      "C:\\Users\\pouls\\anaconda3\\lib\\site-packages\\sklearn\\linear_model\\_coordinate_descent.py:648: ConvergenceWarning: Objective did not converge. You might want to increase the number of iterations, check the scale of the features or consider increasing regularisation. Duality gap: 4.196e+03, tolerance: 3.204e+00\n",
      "  model = cd_fast.enet_coordinate_descent(\n",
      "C:\\Users\\pouls\\anaconda3\\lib\\site-packages\\sklearn\\linear_model\\_coordinate_descent.py:648: ConvergenceWarning: Objective did not converge. You might want to increase the number of iterations, check the scale of the features or consider increasing regularisation. Duality gap: 4.196e+03, tolerance: 3.204e+00\n",
      "  model = cd_fast.enet_coordinate_descent(\n",
      "C:\\Users\\pouls\\anaconda3\\lib\\site-packages\\sklearn\\linear_model\\_coordinate_descent.py:648: ConvergenceWarning: Objective did not converge. You might want to increase the number of iterations, check the scale of the features or consider increasing regularisation. Duality gap: 4.196e+03, tolerance: 3.204e+00\n",
      "  model = cd_fast.enet_coordinate_descent(\n",
      "C:\\Users\\pouls\\anaconda3\\lib\\site-packages\\sklearn\\linear_model\\_coordinate_descent.py:648: ConvergenceWarning: Objective did not converge. You might want to increase the number of iterations, check the scale of the features or consider increasing regularisation. Duality gap: 4.196e+03, tolerance: 3.204e+00\n",
      "  model = cd_fast.enet_coordinate_descent(\n",
      "C:\\Users\\pouls\\anaconda3\\lib\\site-packages\\sklearn\\linear_model\\_coordinate_descent.py:648: ConvergenceWarning: Objective did not converge. You might want to increase the number of iterations, check the scale of the features or consider increasing regularisation. Duality gap: 4.196e+03, tolerance: 3.204e+00\n",
      "  model = cd_fast.enet_coordinate_descent(\n",
      "C:\\Users\\pouls\\anaconda3\\lib\\site-packages\\sklearn\\linear_model\\_coordinate_descent.py:648: ConvergenceWarning: Objective did not converge. You might want to increase the number of iterations, check the scale of the features or consider increasing regularisation. Duality gap: 4.196e+03, tolerance: 3.204e+00\n",
      "  model = cd_fast.enet_coordinate_descent(\n",
      "C:\\Users\\pouls\\anaconda3\\lib\\site-packages\\sklearn\\linear_model\\_coordinate_descent.py:648: ConvergenceWarning: Objective did not converge. You might want to increase the number of iterations, check the scale of the features or consider increasing regularisation. Duality gap: 4.196e+03, tolerance: 3.204e+00\n",
      "  model = cd_fast.enet_coordinate_descent(\n",
      "C:\\Users\\pouls\\anaconda3\\lib\\site-packages\\sklearn\\linear_model\\_coordinate_descent.py:648: ConvergenceWarning: Objective did not converge. You might want to increase the number of iterations, check the scale of the features or consider increasing regularisation. Duality gap: 4.196e+03, tolerance: 3.204e+00\n",
      "  model = cd_fast.enet_coordinate_descent(\n",
      "C:\\Users\\pouls\\anaconda3\\lib\\site-packages\\sklearn\\linear_model\\_coordinate_descent.py:648: ConvergenceWarning: Objective did not converge. You might want to increase the number of iterations, check the scale of the features or consider increasing regularisation. Duality gap: 4.196e+03, tolerance: 3.204e+00\n",
      "  model = cd_fast.enet_coordinate_descent(\n",
      "C:\\Users\\pouls\\anaconda3\\lib\\site-packages\\sklearn\\linear_model\\_coordinate_descent.py:648: ConvergenceWarning: Objective did not converge. You might want to increase the number of iterations, check the scale of the features or consider increasing regularisation. Duality gap: 4.196e+03, tolerance: 3.204e+00\n",
      "  model = cd_fast.enet_coordinate_descent(\n",
      "C:\\Users\\pouls\\anaconda3\\lib\\site-packages\\sklearn\\linear_model\\_coordinate_descent.py:648: ConvergenceWarning: Objective did not converge. You might want to increase the number of iterations, check the scale of the features or consider increasing regularisation. Duality gap: 4.196e+03, tolerance: 3.204e+00\n",
      "  model = cd_fast.enet_coordinate_descent(\n",
      "C:\\Users\\pouls\\anaconda3\\lib\\site-packages\\sklearn\\linear_model\\_coordinate_descent.py:648: ConvergenceWarning: Objective did not converge. You might want to increase the number of iterations, check the scale of the features or consider increasing regularisation. Duality gap: 4.196e+03, tolerance: 3.204e+00\n",
      "  model = cd_fast.enet_coordinate_descent(\n",
      "C:\\Users\\pouls\\anaconda3\\lib\\site-packages\\sklearn\\linear_model\\_coordinate_descent.py:648: ConvergenceWarning: Objective did not converge. You might want to increase the number of iterations, check the scale of the features or consider increasing regularisation. Duality gap: 4.196e+03, tolerance: 3.204e+00\n",
      "  model = cd_fast.enet_coordinate_descent(\n",
      "C:\\Users\\pouls\\anaconda3\\lib\\site-packages\\sklearn\\linear_model\\_coordinate_descent.py:648: ConvergenceWarning: Objective did not converge. You might want to increase the number of iterations, check the scale of the features or consider increasing regularisation. Duality gap: 4.196e+03, tolerance: 3.204e+00\n",
      "  model = cd_fast.enet_coordinate_descent(\n",
      "C:\\Users\\pouls\\anaconda3\\lib\\site-packages\\sklearn\\linear_model\\_coordinate_descent.py:648: ConvergenceWarning: Objective did not converge. You might want to increase the number of iterations, check the scale of the features or consider increasing regularisation. Duality gap: 4.196e+03, tolerance: 3.204e+00\n",
      "  model = cd_fast.enet_coordinate_descent(\n",
      "C:\\Users\\pouls\\anaconda3\\lib\\site-packages\\sklearn\\linear_model\\_coordinate_descent.py:648: ConvergenceWarning: Objective did not converge. You might want to increase the number of iterations, check the scale of the features or consider increasing regularisation. Duality gap: 4.196e+03, tolerance: 3.204e+00\n",
      "  model = cd_fast.enet_coordinate_descent(\n",
      "C:\\Users\\pouls\\anaconda3\\lib\\site-packages\\sklearn\\linear_model\\_coordinate_descent.py:648: ConvergenceWarning: Objective did not converge. You might want to increase the number of iterations, check the scale of the features or consider increasing regularisation. Duality gap: 4.196e+03, tolerance: 3.204e+00\n",
      "  model = cd_fast.enet_coordinate_descent(\n",
      "C:\\Users\\pouls\\anaconda3\\lib\\site-packages\\sklearn\\linear_model\\_coordinate_descent.py:648: ConvergenceWarning: Objective did not converge. You might want to increase the number of iterations, check the scale of the features or consider increasing regularisation. Duality gap: 4.196e+03, tolerance: 3.204e+00\n",
      "  model = cd_fast.enet_coordinate_descent(\n",
      "C:\\Users\\pouls\\anaconda3\\lib\\site-packages\\sklearn\\linear_model\\_coordinate_descent.py:648: ConvergenceWarning: Objective did not converge. You might want to increase the number of iterations, check the scale of the features or consider increasing regularisation. Duality gap: 4.196e+03, tolerance: 3.204e+00\n",
      "  model = cd_fast.enet_coordinate_descent(\n",
      "C:\\Users\\pouls\\anaconda3\\lib\\site-packages\\sklearn\\linear_model\\_coordinate_descent.py:648: ConvergenceWarning: Objective did not converge. You might want to increase the number of iterations, check the scale of the features or consider increasing regularisation. Duality gap: 4.196e+03, tolerance: 3.204e+00\n",
      "  model = cd_fast.enet_coordinate_descent(\n",
      "C:\\Users\\pouls\\anaconda3\\lib\\site-packages\\sklearn\\linear_model\\_coordinate_descent.py:648: ConvergenceWarning: Objective did not converge. You might want to increase the number of iterations, check the scale of the features or consider increasing regularisation. Duality gap: 4.196e+03, tolerance: 3.204e+00\n",
      "  model = cd_fast.enet_coordinate_descent(\n",
      "C:\\Users\\pouls\\anaconda3\\lib\\site-packages\\sklearn\\linear_model\\_coordinate_descent.py:648: ConvergenceWarning: Objective did not converge. You might want to increase the number of iterations, check the scale of the features or consider increasing regularisation. Duality gap: 4.196e+03, tolerance: 3.204e+00\n",
      "  model = cd_fast.enet_coordinate_descent(\n",
      "C:\\Users\\pouls\\anaconda3\\lib\\site-packages\\sklearn\\linear_model\\_coordinate_descent.py:648: ConvergenceWarning: Objective did not converge. You might want to increase the number of iterations, check the scale of the features or consider increasing regularisation. Duality gap: 4.196e+03, tolerance: 3.204e+00\n",
      "  model = cd_fast.enet_coordinate_descent(\n",
      "C:\\Users\\pouls\\anaconda3\\lib\\site-packages\\sklearn\\linear_model\\_coordinate_descent.py:648: ConvergenceWarning: Objective did not converge. You might want to increase the number of iterations, check the scale of the features or consider increasing regularisation. Duality gap: 4.196e+03, tolerance: 3.204e+00\n",
      "  model = cd_fast.enet_coordinate_descent(\n",
      "C:\\Users\\pouls\\anaconda3\\lib\\site-packages\\sklearn\\linear_model\\_coordinate_descent.py:648: ConvergenceWarning: Objective did not converge. You might want to increase the number of iterations, check the scale of the features or consider increasing regularisation. Duality gap: 4.196e+03, tolerance: 3.204e+00\n",
      "  model = cd_fast.enet_coordinate_descent(\n",
      "C:\\Users\\pouls\\anaconda3\\lib\\site-packages\\sklearn\\linear_model\\_coordinate_descent.py:648: ConvergenceWarning: Objective did not converge. You might want to increase the number of iterations, check the scale of the features or consider increasing regularisation. Duality gap: 4.196e+03, tolerance: 3.204e+00\n",
      "  model = cd_fast.enet_coordinate_descent(\n",
      "C:\\Users\\pouls\\anaconda3\\lib\\site-packages\\sklearn\\linear_model\\_coordinate_descent.py:648: ConvergenceWarning: Objective did not converge. You might want to increase the number of iterations, check the scale of the features or consider increasing regularisation. Duality gap: 4.196e+03, tolerance: 3.204e+00\n",
      "  model = cd_fast.enet_coordinate_descent(\n",
      "C:\\Users\\pouls\\anaconda3\\lib\\site-packages\\sklearn\\linear_model\\_coordinate_descent.py:648: ConvergenceWarning: Objective did not converge. You might want to increase the number of iterations, check the scale of the features or consider increasing regularisation. Duality gap: 4.196e+03, tolerance: 3.204e+00\n",
      "  model = cd_fast.enet_coordinate_descent(\n",
      "C:\\Users\\pouls\\anaconda3\\lib\\site-packages\\sklearn\\linear_model\\_coordinate_descent.py:648: ConvergenceWarning: Objective did not converge. You might want to increase the number of iterations, check the scale of the features or consider increasing regularisation. Duality gap: 4.196e+03, tolerance: 3.204e+00\n",
      "  model = cd_fast.enet_coordinate_descent(\n",
      "C:\\Users\\pouls\\anaconda3\\lib\\site-packages\\sklearn\\linear_model\\_coordinate_descent.py:648: ConvergenceWarning: Objective did not converge. You might want to increase the number of iterations, check the scale of the features or consider increasing regularisation. Duality gap: 4.196e+03, tolerance: 3.204e+00\n",
      "  model = cd_fast.enet_coordinate_descent(\n",
      "C:\\Users\\pouls\\anaconda3\\lib\\site-packages\\sklearn\\linear_model\\_coordinate_descent.py:648: ConvergenceWarning: Objective did not converge. You might want to increase the number of iterations, check the scale of the features or consider increasing regularisation. Duality gap: 4.196e+03, tolerance: 3.204e+00\n",
      "  model = cd_fast.enet_coordinate_descent(\n",
      "C:\\Users\\pouls\\anaconda3\\lib\\site-packages\\sklearn\\linear_model\\_coordinate_descent.py:648: ConvergenceWarning: Objective did not converge. You might want to increase the number of iterations, check the scale of the features or consider increasing regularisation. Duality gap: 4.196e+03, tolerance: 3.204e+00\n",
      "  model = cd_fast.enet_coordinate_descent(\n",
      "C:\\Users\\pouls\\anaconda3\\lib\\site-packages\\sklearn\\linear_model\\_coordinate_descent.py:648: ConvergenceWarning: Objective did not converge. You might want to increase the number of iterations, check the scale of the features or consider increasing regularisation. Duality gap: 4.196e+03, tolerance: 3.204e+00\n",
      "  model = cd_fast.enet_coordinate_descent(\n",
      "C:\\Users\\pouls\\anaconda3\\lib\\site-packages\\sklearn\\linear_model\\_coordinate_descent.py:648: ConvergenceWarning: Objective did not converge. You might want to increase the number of iterations, check the scale of the features or consider increasing regularisation. Duality gap: 4.196e+03, tolerance: 3.204e+00\n",
      "  model = cd_fast.enet_coordinate_descent(\n",
      "C:\\Users\\pouls\\anaconda3\\lib\\site-packages\\sklearn\\linear_model\\_coordinate_descent.py:648: ConvergenceWarning: Objective did not converge. You might want to increase the number of iterations, check the scale of the features or consider increasing regularisation. Duality gap: 5.996e+01, tolerance: 3.204e+00\n",
      "  model = cd_fast.enet_coordinate_descent(\n",
      "C:\\Users\\pouls\\anaconda3\\lib\\site-packages\\sklearn\\linear_model\\_coordinate_descent.py:648: ConvergenceWarning: Objective did not converge. You might want to increase the number of iterations, check the scale of the features or consider increasing regularisation. Duality gap: 5.996e+01, tolerance: 3.204e+00\n",
      "  model = cd_fast.enet_coordinate_descent(\n",
      "C:\\Users\\pouls\\anaconda3\\lib\\site-packages\\sklearn\\linear_model\\_coordinate_descent.py:648: ConvergenceWarning: Objective did not converge. You might want to increase the number of iterations, check the scale of the features or consider increasing regularisation. Duality gap: 5.996e+01, tolerance: 3.204e+00\n",
      "  model = cd_fast.enet_coordinate_descent(\n",
      "C:\\Users\\pouls\\anaconda3\\lib\\site-packages\\sklearn\\linear_model\\_coordinate_descent.py:648: ConvergenceWarning: Objective did not converge. You might want to increase the number of iterations, check the scale of the features or consider increasing regularisation. Duality gap: 5.996e+01, tolerance: 3.204e+00\n",
      "  model = cd_fast.enet_coordinate_descent(\n",
      "C:\\Users\\pouls\\anaconda3\\lib\\site-packages\\sklearn\\linear_model\\_coordinate_descent.py:648: ConvergenceWarning: Objective did not converge. You might want to increase the number of iterations, check the scale of the features or consider increasing regularisation. Duality gap: 4.300e+03, tolerance: 3.136e+00\n",
      "  model = cd_fast.enet_coordinate_descent(\n",
      "C:\\Users\\pouls\\anaconda3\\lib\\site-packages\\sklearn\\linear_model\\_coordinate_descent.py:648: ConvergenceWarning: Objective did not converge. You might want to increase the number of iterations, check the scale of the features or consider increasing regularisation. Duality gap: 4.300e+03, tolerance: 3.136e+00\n",
      "  model = cd_fast.enet_coordinate_descent(\n",
      "C:\\Users\\pouls\\anaconda3\\lib\\site-packages\\sklearn\\linear_model\\_coordinate_descent.py:648: ConvergenceWarning: Objective did not converge. You might want to increase the number of iterations, check the scale of the features or consider increasing regularisation. Duality gap: 4.300e+03, tolerance: 3.136e+00\n",
      "  model = cd_fast.enet_coordinate_descent(\n",
      "C:\\Users\\pouls\\anaconda3\\lib\\site-packages\\sklearn\\linear_model\\_coordinate_descent.py:648: ConvergenceWarning: Objective did not converge. You might want to increase the number of iterations, check the scale of the features or consider increasing regularisation. Duality gap: 4.300e+03, tolerance: 3.136e+00\n",
      "  model = cd_fast.enet_coordinate_descent(\n",
      "C:\\Users\\pouls\\anaconda3\\lib\\site-packages\\sklearn\\linear_model\\_coordinate_descent.py:648: ConvergenceWarning: Objective did not converge. You might want to increase the number of iterations, check the scale of the features or consider increasing regularisation. Duality gap: 4.300e+03, tolerance: 3.136e+00\n",
      "  model = cd_fast.enet_coordinate_descent(\n",
      "C:\\Users\\pouls\\anaconda3\\lib\\site-packages\\sklearn\\linear_model\\_coordinate_descent.py:648: ConvergenceWarning: Objective did not converge. You might want to increase the number of iterations, check the scale of the features or consider increasing regularisation. Duality gap: 4.300e+03, tolerance: 3.136e+00\n",
      "  model = cd_fast.enet_coordinate_descent(\n",
      "C:\\Users\\pouls\\anaconda3\\lib\\site-packages\\sklearn\\linear_model\\_coordinate_descent.py:648: ConvergenceWarning: Objective did not converge. You might want to increase the number of iterations, check the scale of the features or consider increasing regularisation. Duality gap: 4.300e+03, tolerance: 3.136e+00\n",
      "  model = cd_fast.enet_coordinate_descent(\n",
      "C:\\Users\\pouls\\anaconda3\\lib\\site-packages\\sklearn\\linear_model\\_coordinate_descent.py:648: ConvergenceWarning: Objective did not converge. You might want to increase the number of iterations, check the scale of the features or consider increasing regularisation. Duality gap: 4.300e+03, tolerance: 3.136e+00\n",
      "  model = cd_fast.enet_coordinate_descent(\n",
      "C:\\Users\\pouls\\anaconda3\\lib\\site-packages\\sklearn\\linear_model\\_coordinate_descent.py:648: ConvergenceWarning: Objective did not converge. You might want to increase the number of iterations, check the scale of the features or consider increasing regularisation. Duality gap: 4.300e+03, tolerance: 3.136e+00\n",
      "  model = cd_fast.enet_coordinate_descent(\n",
      "C:\\Users\\pouls\\anaconda3\\lib\\site-packages\\sklearn\\linear_model\\_coordinate_descent.py:648: ConvergenceWarning: Objective did not converge. You might want to increase the number of iterations, check the scale of the features or consider increasing regularisation. Duality gap: 4.300e+03, tolerance: 3.136e+00\n",
      "  model = cd_fast.enet_coordinate_descent(\n",
      "C:\\Users\\pouls\\anaconda3\\lib\\site-packages\\sklearn\\linear_model\\_coordinate_descent.py:648: ConvergenceWarning: Objective did not converge. You might want to increase the number of iterations, check the scale of the features or consider increasing regularisation. Duality gap: 4.300e+03, tolerance: 3.136e+00\n",
      "  model = cd_fast.enet_coordinate_descent(\n",
      "C:\\Users\\pouls\\anaconda3\\lib\\site-packages\\sklearn\\linear_model\\_coordinate_descent.py:648: ConvergenceWarning: Objective did not converge. You might want to increase the number of iterations, check the scale of the features or consider increasing regularisation. Duality gap: 4.300e+03, tolerance: 3.136e+00\n",
      "  model = cd_fast.enet_coordinate_descent(\n",
      "C:\\Users\\pouls\\anaconda3\\lib\\site-packages\\sklearn\\linear_model\\_coordinate_descent.py:648: ConvergenceWarning: Objective did not converge. You might want to increase the number of iterations, check the scale of the features or consider increasing regularisation. Duality gap: 4.299e+03, tolerance: 3.136e+00\n",
      "  model = cd_fast.enet_coordinate_descent(\n",
      "C:\\Users\\pouls\\anaconda3\\lib\\site-packages\\sklearn\\linear_model\\_coordinate_descent.py:648: ConvergenceWarning: Objective did not converge. You might want to increase the number of iterations, check the scale of the features or consider increasing regularisation. Duality gap: 4.299e+03, tolerance: 3.136e+00\n",
      "  model = cd_fast.enet_coordinate_descent(\n",
      "C:\\Users\\pouls\\anaconda3\\lib\\site-packages\\sklearn\\linear_model\\_coordinate_descent.py:648: ConvergenceWarning: Objective did not converge. You might want to increase the number of iterations, check the scale of the features or consider increasing regularisation. Duality gap: 4.299e+03, tolerance: 3.136e+00\n",
      "  model = cd_fast.enet_coordinate_descent(\n",
      "C:\\Users\\pouls\\anaconda3\\lib\\site-packages\\sklearn\\linear_model\\_coordinate_descent.py:648: ConvergenceWarning: Objective did not converge. You might want to increase the number of iterations, check the scale of the features or consider increasing regularisation. Duality gap: 4.299e+03, tolerance: 3.136e+00\n",
      "  model = cd_fast.enet_coordinate_descent(\n",
      "C:\\Users\\pouls\\anaconda3\\lib\\site-packages\\sklearn\\linear_model\\_coordinate_descent.py:648: ConvergenceWarning: Objective did not converge. You might want to increase the number of iterations, check the scale of the features or consider increasing regularisation. Duality gap: 4.299e+03, tolerance: 3.136e+00\n",
      "  model = cd_fast.enet_coordinate_descent(\n",
      "C:\\Users\\pouls\\anaconda3\\lib\\site-packages\\sklearn\\linear_model\\_coordinate_descent.py:648: ConvergenceWarning: Objective did not converge. You might want to increase the number of iterations, check the scale of the features or consider increasing regularisation. Duality gap: 4.299e+03, tolerance: 3.136e+00\n",
      "  model = cd_fast.enet_coordinate_descent(\n",
      "C:\\Users\\pouls\\anaconda3\\lib\\site-packages\\sklearn\\linear_model\\_coordinate_descent.py:648: ConvergenceWarning: Objective did not converge. You might want to increase the number of iterations, check the scale of the features or consider increasing regularisation. Duality gap: 4.299e+03, tolerance: 3.136e+00\n",
      "  model = cd_fast.enet_coordinate_descent(\n",
      "C:\\Users\\pouls\\anaconda3\\lib\\site-packages\\sklearn\\linear_model\\_coordinate_descent.py:648: ConvergenceWarning: Objective did not converge. You might want to increase the number of iterations, check the scale of the features or consider increasing regularisation. Duality gap: 4.299e+03, tolerance: 3.136e+00\n",
      "  model = cd_fast.enet_coordinate_descent(\n",
      "C:\\Users\\pouls\\anaconda3\\lib\\site-packages\\sklearn\\linear_model\\_coordinate_descent.py:648: ConvergenceWarning: Objective did not converge. You might want to increase the number of iterations, check the scale of the features or consider increasing regularisation. Duality gap: 4.299e+03, tolerance: 3.136e+00\n",
      "  model = cd_fast.enet_coordinate_descent(\n",
      "C:\\Users\\pouls\\anaconda3\\lib\\site-packages\\sklearn\\linear_model\\_coordinate_descent.py:648: ConvergenceWarning: Objective did not converge. You might want to increase the number of iterations, check the scale of the features or consider increasing regularisation. Duality gap: 4.299e+03, tolerance: 3.136e+00\n",
      "  model = cd_fast.enet_coordinate_descent(\n",
      "C:\\Users\\pouls\\anaconda3\\lib\\site-packages\\sklearn\\linear_model\\_coordinate_descent.py:648: ConvergenceWarning: Objective did not converge. You might want to increase the number of iterations, check the scale of the features or consider increasing regularisation. Duality gap: 4.299e+03, tolerance: 3.136e+00\n",
      "  model = cd_fast.enet_coordinate_descent(\n",
      "C:\\Users\\pouls\\anaconda3\\lib\\site-packages\\sklearn\\linear_model\\_coordinate_descent.py:648: ConvergenceWarning: Objective did not converge. You might want to increase the number of iterations, check the scale of the features or consider increasing regularisation. Duality gap: 4.299e+03, tolerance: 3.136e+00\n",
      "  model = cd_fast.enet_coordinate_descent(\n",
      "C:\\Users\\pouls\\anaconda3\\lib\\site-packages\\sklearn\\linear_model\\_coordinate_descent.py:648: ConvergenceWarning: Objective did not converge. You might want to increase the number of iterations, check the scale of the features or consider increasing regularisation. Duality gap: 4.299e+03, tolerance: 3.136e+00\n",
      "  model = cd_fast.enet_coordinate_descent(\n",
      "C:\\Users\\pouls\\anaconda3\\lib\\site-packages\\sklearn\\linear_model\\_coordinate_descent.py:648: ConvergenceWarning: Objective did not converge. You might want to increase the number of iterations, check the scale of the features or consider increasing regularisation. Duality gap: 4.299e+03, tolerance: 3.136e+00\n",
      "  model = cd_fast.enet_coordinate_descent(\n",
      "C:\\Users\\pouls\\anaconda3\\lib\\site-packages\\sklearn\\linear_model\\_coordinate_descent.py:648: ConvergenceWarning: Objective did not converge. You might want to increase the number of iterations, check the scale of the features or consider increasing regularisation. Duality gap: 4.299e+03, tolerance: 3.136e+00\n",
      "  model = cd_fast.enet_coordinate_descent(\n",
      "C:\\Users\\pouls\\anaconda3\\lib\\site-packages\\sklearn\\linear_model\\_coordinate_descent.py:648: ConvergenceWarning: Objective did not converge. You might want to increase the number of iterations, check the scale of the features or consider increasing regularisation. Duality gap: 4.299e+03, tolerance: 3.136e+00\n",
      "  model = cd_fast.enet_coordinate_descent(\n",
      "C:\\Users\\pouls\\anaconda3\\lib\\site-packages\\sklearn\\linear_model\\_coordinate_descent.py:648: ConvergenceWarning: Objective did not converge. You might want to increase the number of iterations, check the scale of the features or consider increasing regularisation. Duality gap: 4.299e+03, tolerance: 3.136e+00\n",
      "  model = cd_fast.enet_coordinate_descent(\n",
      "C:\\Users\\pouls\\anaconda3\\lib\\site-packages\\sklearn\\linear_model\\_coordinate_descent.py:648: ConvergenceWarning: Objective did not converge. You might want to increase the number of iterations, check the scale of the features or consider increasing regularisation. Duality gap: 4.299e+03, tolerance: 3.136e+00\n",
      "  model = cd_fast.enet_coordinate_descent(\n",
      "C:\\Users\\pouls\\anaconda3\\lib\\site-packages\\sklearn\\linear_model\\_coordinate_descent.py:648: ConvergenceWarning: Objective did not converge. You might want to increase the number of iterations, check the scale of the features or consider increasing regularisation. Duality gap: 4.299e+03, tolerance: 3.136e+00\n",
      "  model = cd_fast.enet_coordinate_descent(\n",
      "C:\\Users\\pouls\\anaconda3\\lib\\site-packages\\sklearn\\linear_model\\_coordinate_descent.py:648: ConvergenceWarning: Objective did not converge. You might want to increase the number of iterations, check the scale of the features or consider increasing regularisation. Duality gap: 4.299e+03, tolerance: 3.136e+00\n",
      "  model = cd_fast.enet_coordinate_descent(\n",
      "C:\\Users\\pouls\\anaconda3\\lib\\site-packages\\sklearn\\linear_model\\_coordinate_descent.py:648: ConvergenceWarning: Objective did not converge. You might want to increase the number of iterations, check the scale of the features or consider increasing regularisation. Duality gap: 4.299e+03, tolerance: 3.136e+00\n",
      "  model = cd_fast.enet_coordinate_descent(\n",
      "C:\\Users\\pouls\\anaconda3\\lib\\site-packages\\sklearn\\linear_model\\_coordinate_descent.py:648: ConvergenceWarning: Objective did not converge. You might want to increase the number of iterations, check the scale of the features or consider increasing regularisation. Duality gap: 4.299e+03, tolerance: 3.136e+00\n",
      "  model = cd_fast.enet_coordinate_descent(\n",
      "C:\\Users\\pouls\\anaconda3\\lib\\site-packages\\sklearn\\linear_model\\_coordinate_descent.py:648: ConvergenceWarning: Objective did not converge. You might want to increase the number of iterations, check the scale of the features or consider increasing regularisation. Duality gap: 4.299e+03, tolerance: 3.136e+00\n",
      "  model = cd_fast.enet_coordinate_descent(\n",
      "C:\\Users\\pouls\\anaconda3\\lib\\site-packages\\sklearn\\linear_model\\_coordinate_descent.py:648: ConvergenceWarning: Objective did not converge. You might want to increase the number of iterations, check the scale of the features or consider increasing regularisation. Duality gap: 4.299e+03, tolerance: 3.136e+00\n",
      "  model = cd_fast.enet_coordinate_descent(\n",
      "C:\\Users\\pouls\\anaconda3\\lib\\site-packages\\sklearn\\linear_model\\_coordinate_descent.py:648: ConvergenceWarning: Objective did not converge. You might want to increase the number of iterations, check the scale of the features or consider increasing regularisation. Duality gap: 4.299e+03, tolerance: 3.136e+00\n",
      "  model = cd_fast.enet_coordinate_descent(\n",
      "C:\\Users\\pouls\\anaconda3\\lib\\site-packages\\sklearn\\linear_model\\_coordinate_descent.py:648: ConvergenceWarning: Objective did not converge. You might want to increase the number of iterations, check the scale of the features or consider increasing regularisation. Duality gap: 4.299e+03, tolerance: 3.136e+00\n",
      "  model = cd_fast.enet_coordinate_descent(\n",
      "C:\\Users\\pouls\\anaconda3\\lib\\site-packages\\sklearn\\linear_model\\_coordinate_descent.py:648: ConvergenceWarning: Objective did not converge. You might want to increase the number of iterations, check the scale of the features or consider increasing regularisation. Duality gap: 4.299e+03, tolerance: 3.136e+00\n",
      "  model = cd_fast.enet_coordinate_descent(\n",
      "C:\\Users\\pouls\\anaconda3\\lib\\site-packages\\sklearn\\linear_model\\_coordinate_descent.py:648: ConvergenceWarning: Objective did not converge. You might want to increase the number of iterations, check the scale of the features or consider increasing regularisation. Duality gap: 5.633e+01, tolerance: 3.136e+00\n",
      "  model = cd_fast.enet_coordinate_descent(\n",
      "C:\\Users\\pouls\\anaconda3\\lib\\site-packages\\sklearn\\linear_model\\_coordinate_descent.py:648: ConvergenceWarning: Objective did not converge. You might want to increase the number of iterations, check the scale of the features or consider increasing regularisation. Duality gap: 5.633e+01, tolerance: 3.136e+00\n",
      "  model = cd_fast.enet_coordinate_descent(\n",
      "C:\\Users\\pouls\\anaconda3\\lib\\site-packages\\sklearn\\linear_model\\_coordinate_descent.py:648: ConvergenceWarning: Objective did not converge. You might want to increase the number of iterations, check the scale of the features or consider increasing regularisation. Duality gap: 5.638e+01, tolerance: 3.136e+00\n",
      "  model = cd_fast.enet_coordinate_descent(\n",
      "C:\\Users\\pouls\\anaconda3\\lib\\site-packages\\sklearn\\linear_model\\_coordinate_descent.py:648: ConvergenceWarning: Objective did not converge. You might want to increase the number of iterations, check the scale of the features or consider increasing regularisation. Duality gap: 5.638e+01, tolerance: 3.136e+00\n",
      "  model = cd_fast.enet_coordinate_descent(\n",
      "C:\\Users\\pouls\\anaconda3\\lib\\site-packages\\sklearn\\linear_model\\_coordinate_descent.py:648: ConvergenceWarning: Objective did not converge. You might want to increase the number of iterations, check the scale of the features or consider increasing regularisation. Duality gap: 4.937e+03, tolerance: 3.146e+00\n",
      "  model = cd_fast.enet_coordinate_descent(\n",
      "C:\\Users\\pouls\\anaconda3\\lib\\site-packages\\sklearn\\linear_model\\_coordinate_descent.py:648: ConvergenceWarning: Objective did not converge. You might want to increase the number of iterations, check the scale of the features or consider increasing regularisation. Duality gap: 4.937e+03, tolerance: 3.146e+00\n",
      "  model = cd_fast.enet_coordinate_descent(\n",
      "C:\\Users\\pouls\\anaconda3\\lib\\site-packages\\sklearn\\linear_model\\_coordinate_descent.py:648: ConvergenceWarning: Objective did not converge. You might want to increase the number of iterations, check the scale of the features or consider increasing regularisation. Duality gap: 4.937e+03, tolerance: 3.146e+00\n",
      "  model = cd_fast.enet_coordinate_descent(\n",
      "C:\\Users\\pouls\\anaconda3\\lib\\site-packages\\sklearn\\linear_model\\_coordinate_descent.py:648: ConvergenceWarning: Objective did not converge. You might want to increase the number of iterations, check the scale of the features or consider increasing regularisation. Duality gap: 4.937e+03, tolerance: 3.146e+00\n",
      "  model = cd_fast.enet_coordinate_descent(\n",
      "C:\\Users\\pouls\\anaconda3\\lib\\site-packages\\sklearn\\linear_model\\_coordinate_descent.py:648: ConvergenceWarning: Objective did not converge. You might want to increase the number of iterations, check the scale of the features or consider increasing regularisation. Duality gap: 4.937e+03, tolerance: 3.146e+00\n",
      "  model = cd_fast.enet_coordinate_descent(\n",
      "C:\\Users\\pouls\\anaconda3\\lib\\site-packages\\sklearn\\linear_model\\_coordinate_descent.py:648: ConvergenceWarning: Objective did not converge. You might want to increase the number of iterations, check the scale of the features or consider increasing regularisation. Duality gap: 4.937e+03, tolerance: 3.146e+00\n",
      "  model = cd_fast.enet_coordinate_descent(\n",
      "C:\\Users\\pouls\\anaconda3\\lib\\site-packages\\sklearn\\linear_model\\_coordinate_descent.py:648: ConvergenceWarning: Objective did not converge. You might want to increase the number of iterations, check the scale of the features or consider increasing regularisation. Duality gap: 4.937e+03, tolerance: 3.146e+00\n",
      "  model = cd_fast.enet_coordinate_descent(\n",
      "C:\\Users\\pouls\\anaconda3\\lib\\site-packages\\sklearn\\linear_model\\_coordinate_descent.py:648: ConvergenceWarning: Objective did not converge. You might want to increase the number of iterations, check the scale of the features or consider increasing regularisation. Duality gap: 4.937e+03, tolerance: 3.146e+00\n",
      "  model = cd_fast.enet_coordinate_descent(\n",
      "C:\\Users\\pouls\\anaconda3\\lib\\site-packages\\sklearn\\linear_model\\_coordinate_descent.py:648: ConvergenceWarning: Objective did not converge. You might want to increase the number of iterations, check the scale of the features or consider increasing regularisation. Duality gap: 4.937e+03, tolerance: 3.146e+00\n",
      "  model = cd_fast.enet_coordinate_descent(\n",
      "C:\\Users\\pouls\\anaconda3\\lib\\site-packages\\sklearn\\linear_model\\_coordinate_descent.py:648: ConvergenceWarning: Objective did not converge. You might want to increase the number of iterations, check the scale of the features or consider increasing regularisation. Duality gap: 4.937e+03, tolerance: 3.146e+00\n",
      "  model = cd_fast.enet_coordinate_descent(\n",
      "C:\\Users\\pouls\\anaconda3\\lib\\site-packages\\sklearn\\linear_model\\_coordinate_descent.py:648: ConvergenceWarning: Objective did not converge. You might want to increase the number of iterations, check the scale of the features or consider increasing regularisation. Duality gap: 4.937e+03, tolerance: 3.146e+00\n",
      "  model = cd_fast.enet_coordinate_descent(\n",
      "C:\\Users\\pouls\\anaconda3\\lib\\site-packages\\sklearn\\linear_model\\_coordinate_descent.py:648: ConvergenceWarning: Objective did not converge. You might want to increase the number of iterations, check the scale of the features or consider increasing regularisation. Duality gap: 4.937e+03, tolerance: 3.146e+00\n",
      "  model = cd_fast.enet_coordinate_descent(\n",
      "C:\\Users\\pouls\\anaconda3\\lib\\site-packages\\sklearn\\linear_model\\_coordinate_descent.py:648: ConvergenceWarning: Objective did not converge. You might want to increase the number of iterations, check the scale of the features or consider increasing regularisation. Duality gap: 4.937e+03, tolerance: 3.146e+00\n",
      "  model = cd_fast.enet_coordinate_descent(\n",
      "C:\\Users\\pouls\\anaconda3\\lib\\site-packages\\sklearn\\linear_model\\_coordinate_descent.py:648: ConvergenceWarning: Objective did not converge. You might want to increase the number of iterations, check the scale of the features or consider increasing regularisation. Duality gap: 4.937e+03, tolerance: 3.146e+00\n",
      "  model = cd_fast.enet_coordinate_descent(\n",
      "C:\\Users\\pouls\\anaconda3\\lib\\site-packages\\sklearn\\linear_model\\_coordinate_descent.py:648: ConvergenceWarning: Objective did not converge. You might want to increase the number of iterations, check the scale of the features or consider increasing regularisation. Duality gap: 4.937e+03, tolerance: 3.146e+00\n",
      "  model = cd_fast.enet_coordinate_descent(\n",
      "C:\\Users\\pouls\\anaconda3\\lib\\site-packages\\sklearn\\linear_model\\_coordinate_descent.py:648: ConvergenceWarning: Objective did not converge. You might want to increase the number of iterations, check the scale of the features or consider increasing regularisation. Duality gap: 4.937e+03, tolerance: 3.146e+00\n",
      "  model = cd_fast.enet_coordinate_descent(\n",
      "C:\\Users\\pouls\\anaconda3\\lib\\site-packages\\sklearn\\linear_model\\_coordinate_descent.py:648: ConvergenceWarning: Objective did not converge. You might want to increase the number of iterations, check the scale of the features or consider increasing regularisation. Duality gap: 4.937e+03, tolerance: 3.146e+00\n",
      "  model = cd_fast.enet_coordinate_descent(\n",
      "C:\\Users\\pouls\\anaconda3\\lib\\site-packages\\sklearn\\linear_model\\_coordinate_descent.py:648: ConvergenceWarning: Objective did not converge. You might want to increase the number of iterations, check the scale of the features or consider increasing regularisation. Duality gap: 4.937e+03, tolerance: 3.146e+00\n",
      "  model = cd_fast.enet_coordinate_descent(\n",
      "C:\\Users\\pouls\\anaconda3\\lib\\site-packages\\sklearn\\linear_model\\_coordinate_descent.py:648: ConvergenceWarning: Objective did not converge. You might want to increase the number of iterations, check the scale of the features or consider increasing regularisation. Duality gap: 4.937e+03, tolerance: 3.146e+00\n",
      "  model = cd_fast.enet_coordinate_descent(\n",
      "C:\\Users\\pouls\\anaconda3\\lib\\site-packages\\sklearn\\linear_model\\_coordinate_descent.py:648: ConvergenceWarning: Objective did not converge. You might want to increase the number of iterations, check the scale of the features or consider increasing regularisation. Duality gap: 4.937e+03, tolerance: 3.146e+00\n",
      "  model = cd_fast.enet_coordinate_descent(\n",
      "C:\\Users\\pouls\\anaconda3\\lib\\site-packages\\sklearn\\linear_model\\_coordinate_descent.py:648: ConvergenceWarning: Objective did not converge. You might want to increase the number of iterations, check the scale of the features or consider increasing regularisation. Duality gap: 4.937e+03, tolerance: 3.146e+00\n",
      "  model = cd_fast.enet_coordinate_descent(\n",
      "C:\\Users\\pouls\\anaconda3\\lib\\site-packages\\sklearn\\linear_model\\_coordinate_descent.py:648: ConvergenceWarning: Objective did not converge. You might want to increase the number of iterations, check the scale of the features or consider increasing regularisation. Duality gap: 4.937e+03, tolerance: 3.146e+00\n",
      "  model = cd_fast.enet_coordinate_descent(\n",
      "C:\\Users\\pouls\\anaconda3\\lib\\site-packages\\sklearn\\linear_model\\_coordinate_descent.py:648: ConvergenceWarning: Objective did not converge. You might want to increase the number of iterations, check the scale of the features or consider increasing regularisation. Duality gap: 4.937e+03, tolerance: 3.146e+00\n",
      "  model = cd_fast.enet_coordinate_descent(\n",
      "C:\\Users\\pouls\\anaconda3\\lib\\site-packages\\sklearn\\linear_model\\_coordinate_descent.py:648: ConvergenceWarning: Objective did not converge. You might want to increase the number of iterations, check the scale of the features or consider increasing regularisation. Duality gap: 4.937e+03, tolerance: 3.146e+00\n",
      "  model = cd_fast.enet_coordinate_descent(\n",
      "C:\\Users\\pouls\\anaconda3\\lib\\site-packages\\sklearn\\linear_model\\_coordinate_descent.py:648: ConvergenceWarning: Objective did not converge. You might want to increase the number of iterations, check the scale of the features or consider increasing regularisation. Duality gap: 4.937e+03, tolerance: 3.146e+00\n",
      "  model = cd_fast.enet_coordinate_descent(\n",
      "C:\\Users\\pouls\\anaconda3\\lib\\site-packages\\sklearn\\linear_model\\_coordinate_descent.py:648: ConvergenceWarning: Objective did not converge. You might want to increase the number of iterations, check the scale of the features or consider increasing regularisation. Duality gap: 4.937e+03, tolerance: 3.146e+00\n",
      "  model = cd_fast.enet_coordinate_descent(\n",
      "C:\\Users\\pouls\\anaconda3\\lib\\site-packages\\sklearn\\linear_model\\_coordinate_descent.py:648: ConvergenceWarning: Objective did not converge. You might want to increase the number of iterations, check the scale of the features or consider increasing regularisation. Duality gap: 4.937e+03, tolerance: 3.146e+00\n",
      "  model = cd_fast.enet_coordinate_descent(\n",
      "C:\\Users\\pouls\\anaconda3\\lib\\site-packages\\sklearn\\linear_model\\_coordinate_descent.py:648: ConvergenceWarning: Objective did not converge. You might want to increase the number of iterations, check the scale of the features or consider increasing regularisation. Duality gap: 4.937e+03, tolerance: 3.146e+00\n",
      "  model = cd_fast.enet_coordinate_descent(\n",
      "C:\\Users\\pouls\\anaconda3\\lib\\site-packages\\sklearn\\linear_model\\_coordinate_descent.py:648: ConvergenceWarning: Objective did not converge. You might want to increase the number of iterations, check the scale of the features or consider increasing regularisation. Duality gap: 4.937e+03, tolerance: 3.146e+00\n",
      "  model = cd_fast.enet_coordinate_descent(\n",
      "C:\\Users\\pouls\\anaconda3\\lib\\site-packages\\sklearn\\linear_model\\_coordinate_descent.py:648: ConvergenceWarning: Objective did not converge. You might want to increase the number of iterations, check the scale of the features or consider increasing regularisation. Duality gap: 4.937e+03, tolerance: 3.146e+00\n",
      "  model = cd_fast.enet_coordinate_descent(\n",
      "C:\\Users\\pouls\\anaconda3\\lib\\site-packages\\sklearn\\linear_model\\_coordinate_descent.py:648: ConvergenceWarning: Objective did not converge. You might want to increase the number of iterations, check the scale of the features or consider increasing regularisation. Duality gap: 4.937e+03, tolerance: 3.146e+00\n",
      "  model = cd_fast.enet_coordinate_descent(\n",
      "C:\\Users\\pouls\\anaconda3\\lib\\site-packages\\sklearn\\linear_model\\_coordinate_descent.py:648: ConvergenceWarning: Objective did not converge. You might want to increase the number of iterations, check the scale of the features or consider increasing regularisation. Duality gap: 4.937e+03, tolerance: 3.146e+00\n",
      "  model = cd_fast.enet_coordinate_descent(\n",
      "C:\\Users\\pouls\\anaconda3\\lib\\site-packages\\sklearn\\linear_model\\_coordinate_descent.py:648: ConvergenceWarning: Objective did not converge. You might want to increase the number of iterations, check the scale of the features or consider increasing regularisation. Duality gap: 4.937e+03, tolerance: 3.146e+00\n",
      "  model = cd_fast.enet_coordinate_descent(\n",
      "C:\\Users\\pouls\\anaconda3\\lib\\site-packages\\sklearn\\linear_model\\_coordinate_descent.py:648: ConvergenceWarning: Objective did not converge. You might want to increase the number of iterations, check the scale of the features or consider increasing regularisation. Duality gap: 4.937e+03, tolerance: 3.146e+00\n",
      "  model = cd_fast.enet_coordinate_descent(\n",
      "C:\\Users\\pouls\\anaconda3\\lib\\site-packages\\sklearn\\linear_model\\_coordinate_descent.py:648: ConvergenceWarning: Objective did not converge. You might want to increase the number of iterations, check the scale of the features or consider increasing regularisation. Duality gap: 4.937e+03, tolerance: 3.146e+00\n",
      "  model = cd_fast.enet_coordinate_descent(\n",
      "C:\\Users\\pouls\\anaconda3\\lib\\site-packages\\sklearn\\linear_model\\_coordinate_descent.py:648: ConvergenceWarning: Objective did not converge. You might want to increase the number of iterations, check the scale of the features or consider increasing regularisation. Duality gap: 4.937e+03, tolerance: 3.146e+00\n",
      "  model = cd_fast.enet_coordinate_descent(\n",
      "C:\\Users\\pouls\\anaconda3\\lib\\site-packages\\sklearn\\linear_model\\_coordinate_descent.py:648: ConvergenceWarning: Objective did not converge. You might want to increase the number of iterations, check the scale of the features or consider increasing regularisation. Duality gap: 4.937e+03, tolerance: 3.146e+00\n",
      "  model = cd_fast.enet_coordinate_descent(\n",
      "C:\\Users\\pouls\\anaconda3\\lib\\site-packages\\sklearn\\linear_model\\_coordinate_descent.py:648: ConvergenceWarning: Objective did not converge. You might want to increase the number of iterations, check the scale of the features or consider increasing regularisation. Duality gap: 4.937e+03, tolerance: 3.146e+00\n",
      "  model = cd_fast.enet_coordinate_descent(\n",
      "C:\\Users\\pouls\\anaconda3\\lib\\site-packages\\sklearn\\linear_model\\_coordinate_descent.py:648: ConvergenceWarning: Objective did not converge. You might want to increase the number of iterations, check the scale of the features or consider increasing regularisation. Duality gap: 4.937e+03, tolerance: 3.146e+00\n",
      "  model = cd_fast.enet_coordinate_descent(\n",
      "C:\\Users\\pouls\\anaconda3\\lib\\site-packages\\sklearn\\linear_model\\_coordinate_descent.py:648: ConvergenceWarning: Objective did not converge. You might want to increase the number of iterations, check the scale of the features or consider increasing regularisation. Duality gap: 8.434e+01, tolerance: 3.146e+00\n",
      "  model = cd_fast.enet_coordinate_descent(\n",
      "C:\\Users\\pouls\\anaconda3\\lib\\site-packages\\sklearn\\linear_model\\_coordinate_descent.py:648: ConvergenceWarning: Objective did not converge. You might want to increase the number of iterations, check the scale of the features or consider increasing regularisation. Duality gap: 8.441e+01, tolerance: 3.146e+00\n",
      "  model = cd_fast.enet_coordinate_descent(\n",
      "C:\\Users\\pouls\\anaconda3\\lib\\site-packages\\sklearn\\linear_model\\_coordinate_descent.py:648: ConvergenceWarning: Objective did not converge. You might want to increase the number of iterations, check the scale of the features or consider increasing regularisation. Duality gap: 5.133e+03, tolerance: 3.362e+00\n",
      "  model = cd_fast.enet_coordinate_descent(\n",
      "C:\\Users\\pouls\\anaconda3\\lib\\site-packages\\sklearn\\linear_model\\_coordinate_descent.py:648: ConvergenceWarning: Objective did not converge. You might want to increase the number of iterations, check the scale of the features or consider increasing regularisation. Duality gap: 5.133e+03, tolerance: 3.362e+00\n",
      "  model = cd_fast.enet_coordinate_descent(\n",
      "C:\\Users\\pouls\\anaconda3\\lib\\site-packages\\sklearn\\linear_model\\_coordinate_descent.py:648: ConvergenceWarning: Objective did not converge. You might want to increase the number of iterations, check the scale of the features or consider increasing regularisation. Duality gap: 5.133e+03, tolerance: 3.362e+00\n",
      "  model = cd_fast.enet_coordinate_descent(\n",
      "C:\\Users\\pouls\\anaconda3\\lib\\site-packages\\sklearn\\linear_model\\_coordinate_descent.py:648: ConvergenceWarning: Objective did not converge. You might want to increase the number of iterations, check the scale of the features or consider increasing regularisation. Duality gap: 5.133e+03, tolerance: 3.362e+00\n",
      "  model = cd_fast.enet_coordinate_descent(\n",
      "C:\\Users\\pouls\\anaconda3\\lib\\site-packages\\sklearn\\linear_model\\_coordinate_descent.py:648: ConvergenceWarning: Objective did not converge. You might want to increase the number of iterations, check the scale of the features or consider increasing regularisation. Duality gap: 5.133e+03, tolerance: 3.362e+00\n",
      "  model = cd_fast.enet_coordinate_descent(\n",
      "C:\\Users\\pouls\\anaconda3\\lib\\site-packages\\sklearn\\linear_model\\_coordinate_descent.py:648: ConvergenceWarning: Objective did not converge. You might want to increase the number of iterations, check the scale of the features or consider increasing regularisation. Duality gap: 5.133e+03, tolerance: 3.362e+00\n",
      "  model = cd_fast.enet_coordinate_descent(\n",
      "C:\\Users\\pouls\\anaconda3\\lib\\site-packages\\sklearn\\linear_model\\_coordinate_descent.py:648: ConvergenceWarning: Objective did not converge. You might want to increase the number of iterations, check the scale of the features or consider increasing regularisation. Duality gap: 5.133e+03, tolerance: 3.362e+00\n",
      "  model = cd_fast.enet_coordinate_descent(\n",
      "C:\\Users\\pouls\\anaconda3\\lib\\site-packages\\sklearn\\linear_model\\_coordinate_descent.py:648: ConvergenceWarning: Objective did not converge. You might want to increase the number of iterations, check the scale of the features or consider increasing regularisation. Duality gap: 5.133e+03, tolerance: 3.362e+00\n",
      "  model = cd_fast.enet_coordinate_descent(\n",
      "C:\\Users\\pouls\\anaconda3\\lib\\site-packages\\sklearn\\linear_model\\_coordinate_descent.py:648: ConvergenceWarning: Objective did not converge. You might want to increase the number of iterations, check the scale of the features or consider increasing regularisation. Duality gap: 5.133e+03, tolerance: 3.362e+00\n",
      "  model = cd_fast.enet_coordinate_descent(\n",
      "C:\\Users\\pouls\\anaconda3\\lib\\site-packages\\sklearn\\linear_model\\_coordinate_descent.py:648: ConvergenceWarning: Objective did not converge. You might want to increase the number of iterations, check the scale of the features or consider increasing regularisation. Duality gap: 5.133e+03, tolerance: 3.362e+00\n",
      "  model = cd_fast.enet_coordinate_descent(\n",
      "C:\\Users\\pouls\\anaconda3\\lib\\site-packages\\sklearn\\linear_model\\_coordinate_descent.py:648: ConvergenceWarning: Objective did not converge. You might want to increase the number of iterations, check the scale of the features or consider increasing regularisation. Duality gap: 5.133e+03, tolerance: 3.362e+00\n",
      "  model = cd_fast.enet_coordinate_descent(\n",
      "C:\\Users\\pouls\\anaconda3\\lib\\site-packages\\sklearn\\linear_model\\_coordinate_descent.py:648: ConvergenceWarning: Objective did not converge. You might want to increase the number of iterations, check the scale of the features or consider increasing regularisation. Duality gap: 5.133e+03, tolerance: 3.362e+00\n",
      "  model = cd_fast.enet_coordinate_descent(\n",
      "C:\\Users\\pouls\\anaconda3\\lib\\site-packages\\sklearn\\linear_model\\_coordinate_descent.py:648: ConvergenceWarning: Objective did not converge. You might want to increase the number of iterations, check the scale of the features or consider increasing regularisation. Duality gap: 5.133e+03, tolerance: 3.362e+00\n",
      "  model = cd_fast.enet_coordinate_descent(\n",
      "C:\\Users\\pouls\\anaconda3\\lib\\site-packages\\sklearn\\linear_model\\_coordinate_descent.py:648: ConvergenceWarning: Objective did not converge. You might want to increase the number of iterations, check the scale of the features or consider increasing regularisation. Duality gap: 5.133e+03, tolerance: 3.362e+00\n",
      "  model = cd_fast.enet_coordinate_descent(\n",
      "C:\\Users\\pouls\\anaconda3\\lib\\site-packages\\sklearn\\linear_model\\_coordinate_descent.py:648: ConvergenceWarning: Objective did not converge. You might want to increase the number of iterations, check the scale of the features or consider increasing regularisation. Duality gap: 5.133e+03, tolerance: 3.362e+00\n",
      "  model = cd_fast.enet_coordinate_descent(\n",
      "C:\\Users\\pouls\\anaconda3\\lib\\site-packages\\sklearn\\linear_model\\_coordinate_descent.py:648: ConvergenceWarning: Objective did not converge. You might want to increase the number of iterations, check the scale of the features or consider increasing regularisation. Duality gap: 5.133e+03, tolerance: 3.362e+00\n",
      "  model = cd_fast.enet_coordinate_descent(\n",
      "C:\\Users\\pouls\\anaconda3\\lib\\site-packages\\sklearn\\linear_model\\_coordinate_descent.py:648: ConvergenceWarning: Objective did not converge. You might want to increase the number of iterations, check the scale of the features or consider increasing regularisation. Duality gap: 5.133e+03, tolerance: 3.362e+00\n",
      "  model = cd_fast.enet_coordinate_descent(\n",
      "C:\\Users\\pouls\\anaconda3\\lib\\site-packages\\sklearn\\linear_model\\_coordinate_descent.py:648: ConvergenceWarning: Objective did not converge. You might want to increase the number of iterations, check the scale of the features or consider increasing regularisation. Duality gap: 5.133e+03, tolerance: 3.362e+00\n",
      "  model = cd_fast.enet_coordinate_descent(\n",
      "C:\\Users\\pouls\\anaconda3\\lib\\site-packages\\sklearn\\linear_model\\_coordinate_descent.py:648: ConvergenceWarning: Objective did not converge. You might want to increase the number of iterations, check the scale of the features or consider increasing regularisation. Duality gap: 5.133e+03, tolerance: 3.362e+00\n",
      "  model = cd_fast.enet_coordinate_descent(\n",
      "C:\\Users\\pouls\\anaconda3\\lib\\site-packages\\sklearn\\linear_model\\_coordinate_descent.py:648: ConvergenceWarning: Objective did not converge. You might want to increase the number of iterations, check the scale of the features or consider increasing regularisation. Duality gap: 5.133e+03, tolerance: 3.362e+00\n",
      "  model = cd_fast.enet_coordinate_descent(\n",
      "C:\\Users\\pouls\\anaconda3\\lib\\site-packages\\sklearn\\linear_model\\_coordinate_descent.py:648: ConvergenceWarning: Objective did not converge. You might want to increase the number of iterations, check the scale of the features or consider increasing regularisation. Duality gap: 5.133e+03, tolerance: 3.362e+00\n",
      "  model = cd_fast.enet_coordinate_descent(\n",
      "C:\\Users\\pouls\\anaconda3\\lib\\site-packages\\sklearn\\linear_model\\_coordinate_descent.py:648: ConvergenceWarning: Objective did not converge. You might want to increase the number of iterations, check the scale of the features or consider increasing regularisation. Duality gap: 5.133e+03, tolerance: 3.362e+00\n",
      "  model = cd_fast.enet_coordinate_descent(\n",
      "C:\\Users\\pouls\\anaconda3\\lib\\site-packages\\sklearn\\linear_model\\_coordinate_descent.py:648: ConvergenceWarning: Objective did not converge. You might want to increase the number of iterations, check the scale of the features or consider increasing regularisation. Duality gap: 5.133e+03, tolerance: 3.362e+00\n",
      "  model = cd_fast.enet_coordinate_descent(\n",
      "C:\\Users\\pouls\\anaconda3\\lib\\site-packages\\sklearn\\linear_model\\_coordinate_descent.py:648: ConvergenceWarning: Objective did not converge. You might want to increase the number of iterations, check the scale of the features or consider increasing regularisation. Duality gap: 5.133e+03, tolerance: 3.362e+00\n",
      "  model = cd_fast.enet_coordinate_descent(\n",
      "C:\\Users\\pouls\\anaconda3\\lib\\site-packages\\sklearn\\linear_model\\_coordinate_descent.py:648: ConvergenceWarning: Objective did not converge. You might want to increase the number of iterations, check the scale of the features or consider increasing regularisation. Duality gap: 5.133e+03, tolerance: 3.362e+00\n",
      "  model = cd_fast.enet_coordinate_descent(\n",
      "C:\\Users\\pouls\\anaconda3\\lib\\site-packages\\sklearn\\linear_model\\_coordinate_descent.py:648: ConvergenceWarning: Objective did not converge. You might want to increase the number of iterations, check the scale of the features or consider increasing regularisation. Duality gap: 5.133e+03, tolerance: 3.362e+00\n",
      "  model = cd_fast.enet_coordinate_descent(\n",
      "C:\\Users\\pouls\\anaconda3\\lib\\site-packages\\sklearn\\linear_model\\_coordinate_descent.py:648: ConvergenceWarning: Objective did not converge. You might want to increase the number of iterations, check the scale of the features or consider increasing regularisation. Duality gap: 5.133e+03, tolerance: 3.362e+00\n",
      "  model = cd_fast.enet_coordinate_descent(\n",
      "C:\\Users\\pouls\\anaconda3\\lib\\site-packages\\sklearn\\linear_model\\_coordinate_descent.py:648: ConvergenceWarning: Objective did not converge. You might want to increase the number of iterations, check the scale of the features or consider increasing regularisation. Duality gap: 5.133e+03, tolerance: 3.362e+00\n",
      "  model = cd_fast.enet_coordinate_descent(\n",
      "C:\\Users\\pouls\\anaconda3\\lib\\site-packages\\sklearn\\linear_model\\_coordinate_descent.py:648: ConvergenceWarning: Objective did not converge. You might want to increase the number of iterations, check the scale of the features or consider increasing regularisation. Duality gap: 5.133e+03, tolerance: 3.362e+00\n",
      "  model = cd_fast.enet_coordinate_descent(\n",
      "C:\\Users\\pouls\\anaconda3\\lib\\site-packages\\sklearn\\linear_model\\_coordinate_descent.py:648: ConvergenceWarning: Objective did not converge. You might want to increase the number of iterations, check the scale of the features or consider increasing regularisation. Duality gap: 5.133e+03, tolerance: 3.362e+00\n",
      "  model = cd_fast.enet_coordinate_descent(\n",
      "C:\\Users\\pouls\\anaconda3\\lib\\site-packages\\sklearn\\linear_model\\_coordinate_descent.py:648: ConvergenceWarning: Objective did not converge. You might want to increase the number of iterations, check the scale of the features or consider increasing regularisation. Duality gap: 5.133e+03, tolerance: 3.362e+00\n",
      "  model = cd_fast.enet_coordinate_descent(\n",
      "C:\\Users\\pouls\\anaconda3\\lib\\site-packages\\sklearn\\linear_model\\_coordinate_descent.py:648: ConvergenceWarning: Objective did not converge. You might want to increase the number of iterations, check the scale of the features or consider increasing regularisation. Duality gap: 5.133e+03, tolerance: 3.362e+00\n",
      "  model = cd_fast.enet_coordinate_descent(\n",
      "C:\\Users\\pouls\\anaconda3\\lib\\site-packages\\sklearn\\linear_model\\_coordinate_descent.py:648: ConvergenceWarning: Objective did not converge. You might want to increase the number of iterations, check the scale of the features or consider increasing regularisation. Duality gap: 5.133e+03, tolerance: 3.362e+00\n",
      "  model = cd_fast.enet_coordinate_descent(\n",
      "C:\\Users\\pouls\\anaconda3\\lib\\site-packages\\sklearn\\linear_model\\_coordinate_descent.py:648: ConvergenceWarning: Objective did not converge. You might want to increase the number of iterations, check the scale of the features or consider increasing regularisation. Duality gap: 5.133e+03, tolerance: 3.362e+00\n",
      "  model = cd_fast.enet_coordinate_descent(\n",
      "C:\\Users\\pouls\\anaconda3\\lib\\site-packages\\sklearn\\linear_model\\_coordinate_descent.py:648: ConvergenceWarning: Objective did not converge. You might want to increase the number of iterations, check the scale of the features or consider increasing regularisation. Duality gap: 5.133e+03, tolerance: 3.362e+00\n",
      "  model = cd_fast.enet_coordinate_descent(\n",
      "C:\\Users\\pouls\\anaconda3\\lib\\site-packages\\sklearn\\linear_model\\_coordinate_descent.py:648: ConvergenceWarning: Objective did not converge. You might want to increase the number of iterations, check the scale of the features or consider increasing regularisation. Duality gap: 5.133e+03, tolerance: 3.362e+00\n",
      "  model = cd_fast.enet_coordinate_descent(\n",
      "C:\\Users\\pouls\\anaconda3\\lib\\site-packages\\sklearn\\linear_model\\_coordinate_descent.py:648: ConvergenceWarning: Objective did not converge. You might want to increase the number of iterations, check the scale of the features or consider increasing regularisation. Duality gap: 5.133e+03, tolerance: 3.362e+00\n",
      "  model = cd_fast.enet_coordinate_descent(\n"
     ]
    }
   ],
   "source": [
    "from sklearn.model_selection import KFold\n",
    "step=1\n",
    "min_feats=3\n",
    "cv= KFold(n_splits=10)\n",
    "# estimator=RandomForestRegressor(n_estimators=100)\n",
    "estimator=Lasso(alpha=.05)\n",
    "selector = RFECV(estimator=estimator, cv=cv, scoring='neg_mean_squared_error', min_features_to_select=min_feats, step=step)\n",
    "selector = selector.fit(df_rfe, label_abund)\n",
    "selector.support_\n",
    "feat_list2 = selector.get_feature_names_out()"
   ],
   "metadata": {
    "collapsed": false,
    "pycharm": {
     "name": "#%%\n"
    }
   }
  },
  {
   "cell_type": "code",
   "execution_count": 25,
   "outputs": [
    {
     "data": {
      "text/plain": "array(['Abundance_Controls', 'Length', 'molecular_weight', 'asa_sum',\n       'fraction_exposed_exposed_I', 'fraction_exposed_exposed_K',\n       'fraction_exposed_exposed_N', 'fraction_exposed_exposed_P',\n       'fraction_exposed_exposed_V', 'nsp_secondary_structure_coil'],\n      dtype=object)"
     },
     "execution_count": 25,
     "metadata": {},
     "output_type": "execute_result"
    }
   ],
   "source": [
    "feat_list2"
   ],
   "metadata": {
    "collapsed": false,
    "pycharm": {
     "name": "#%%\n"
    }
   }
  },
  {
   "cell_type": "code",
   "execution_count": 22,
   "outputs": [
    {
     "name": "stdout",
     "output_type": "stream",
     "text": [
      "MSE: 0.66\n"
     ]
    }
   ],
   "source": [
    "from sklearn.datasets import load_boston\n",
    "from sklearn.ensemble import RandomForestRegressor\n",
    "from sklearn.linear_model import Ridge\n",
    "from sklearn.model_selection import cross_val_predict\n",
    "from sklearn.metrics import mean_squared_error\n",
    "import numpy as np\n",
    "\n",
    "\n",
    "# Split the dataset into training and testing sets\n",
    "X_train, X_test, y_train, y_test = train_test_split(df_rfe, label_abund, test_size=0.2, random_state=42)\n",
    "\n",
    "# Create the base models\n",
    "rf = RandomForestRegressor(n_estimators=100, random_state=42)\n",
    "ridge = Ridge(alpha=0.1, random_state=42)\n",
    "\n",
    "rf_model = rf.fit(X_train,y_train)\n",
    "ridge_model = ridge.fit(X_train,y_train)\n",
    "# Make predictions with the base models\n",
    "rf_pred = cross_val_predict(rf_model, X_train, y_train, cv=5)\n",
    "ridge_pred = cross_val_predict(ridge_model, X_train, y_train, cv=5)\n",
    "\n",
    "# Create the input for the meta-model\n",
    "stacking_input = np.column_stack((rf_pred, ridge_pred))\n",
    "\n",
    "# Train the meta-model (ridge regression)\n",
    "meta_model = Ridge(alpha=1.0, random_state=42)\n",
    "meta_model.fit(stacking_input, y_train)\n",
    "\n",
    "# Make predictions with the meta-model\n",
    "rf_pred_test = rf_model.predict(X_test)\n",
    "ridge_pred_test = ridge_model.predict(X_test)\n",
    "stacking_input_test = np.column_stack((rf_pred_test, ridge_pred_test))\n",
    "y_pred_test = meta_model.predict(stacking_input_test)\n",
    "\n",
    "# Evaluate the performance of the stacked model\n",
    "mse = mean_squared_error(y_test, y_pred_test)\n",
    "print(\"MSE: {:.2f}\".format(mse))\n"
   ],
   "metadata": {
    "collapsed": false,
    "pycharm": {
     "name": "#%%\n"
    }
   }
  },
  {
   "cell_type": "code",
   "execution_count": 23,
   "outputs": [
    {
     "data": {
      "text/plain": "0.8686505171967944"
     },
     "execution_count": 23,
     "metadata": {},
     "output_type": "execute_result"
    }
   ],
   "source": [
    "rf.score(X_test,y_test)"
   ],
   "metadata": {
    "collapsed": false,
    "pycharm": {
     "name": "#%%\n"
    }
   }
  },
  {
   "cell_type": "code",
   "execution_count": 21,
   "outputs": [
    {
     "data": {
      "text/plain": "array(['Abundance_Controls', 'Length', 'Mass', 'frac_aa_A', 'frac_aa_C',\n       'frac_aa_D', 'frac_aa_E', 'frac_aa_F', 'frac_aa_G', 'frac_aa_H',\n       'frac_aa_I', 'frac_aa_K', 'frac_aa_L', 'frac_aa_M', 'frac_aa_N',\n       'frac_aa_P', 'frac_aa_Q', 'frac_aa_R', 'frac_aa_S', 'frac_aa_T',\n       'frac_aa_V', 'frac_aa_W', 'frac_aa_Y', 'molecular_weight',\n       'aromaticity', 'instability_index', 'flexibility_mean',\n       'flexibility_std', 'flexibility_var', 'flexibility_max',\n       'flexibility_min', 'flexibility_median', 'isoelectric_point',\n       'secondary_structure_fraction_helix',\n       'secondary_structure_fraction_turn',\n       'secondary_structure_fraction_sheet',\n       'secondary_structure_fraction_disordered', 'gravy',\n       'fraction_exposed', 'fraction_buried',\n       'fraction_exposed_nonpolar_total',\n       'fraction_exposed_nonpolar_exposed',\n       'fraction_exposed_polar_total', 'fraction_exposed_polar_exposed',\n       'rsa_mean', 'rsa_median', 'rsa_std', 'asa_sum',\n       'fraction_exposed_exposed_A', 'fraction_exposed_exposed_C',\n       'fraction_exposed_exposed_D', 'fraction_exposed_exposed_E',\n       'fraction_exposed_exposed_F', 'fraction_exposed_exposed_G',\n       'fraction_exposed_exposed_H', 'fraction_exposed_exposed_I',\n       'fraction_exposed_exposed_K', 'fraction_exposed_exposed_L',\n       'fraction_exposed_exposed_M', 'fraction_exposed_exposed_N',\n       'fraction_exposed_exposed_P', 'fraction_exposed_exposed_Q',\n       'fraction_exposed_exposed_R', 'fraction_exposed_exposed_S',\n       'fraction_exposed_exposed_T', 'fraction_exposed_exposed_V',\n       'fraction_exposed_exposed_W', 'fraction_exposed_exposed_Y',\n       'nsp_secondary_structure_coil', 'nsp_secondary_structure_sheet',\n       'nsp_secondary_structure_helix', 'nsp_disordered',\n       'asa_sum_normalized', 'BatchID', 'Zeta Potential', 'Core Material',\n       'Ligand_Carboxylate', 'Ligand_BSA', 'Ligand_Amine',\n       'Ligand_Citrate', 'Ligand_PEG', 'Ligand_PEI', 'Ligand_PVP',\n       'Ligand_Au', 'Surface_Ligand', 'Dtem', 'Dh_core',\n       'Dh_functionalized', 'Shaken', 'Centrifuged',\n       'NP_incubation Concentration (mg/mL)',\n       'Incubation Concentration (mg/ml)', 'Incubation Time (minutes)',\n       'Temperature'], dtype=object)"
     },
     "execution_count": 21,
     "metadata": {},
     "output_type": "execute_result"
    }
   ],
   "source": [
    "ridge.feature_names_in_"
   ],
   "metadata": {
    "collapsed": false,
    "pycharm": {
     "name": "#%%\n"
    }
   }
  },
  {
   "cell_type": "code",
   "execution_count": 38,
   "outputs": [
    {
     "data": {
      "text/plain": "array(['Abundance_Controls', 'Length', 'frac_aa_C', 'frac_aa_E',\n       'frac_aa_F', 'frac_aa_H', 'frac_aa_I', 'frac_aa_N', 'frac_aa_Q',\n       'frac_aa_R', 'molecular_weight', 'aromaticity', 'flexibility_min',\n       'secondary_structure_fraction_sheet',\n       'fraction_exposed_nonpolar_exposed', 'asa_sum',\n       'fraction_exposed_exposed_A', 'fraction_exposed_exposed_E',\n       'fraction_exposed_exposed_G', 'fraction_exposed_exposed_H',\n       'fraction_exposed_exposed_I', 'fraction_exposed_exposed_K',\n       'fraction_exposed_exposed_M', 'fraction_exposed_exposed_N',\n       'fraction_exposed_exposed_P', 'fraction_exposed_exposed_S',\n       'fraction_exposed_exposed_T', 'nsp_secondary_structure_coil',\n       'nsp_secondary_structure_helix', 'nsp_disordered', 'BatchID',\n       'Zeta Potential', 'Core Material', 'Ligand_BSA', 'Ligand_PEG',\n       'Surface_Ligand', 'Dtem', 'Dh_core', 'Dh_functionalized',\n       'Centrifuged', 'NP_incubation Concentration (mg/mL)',\n       'Incubation Concentration (mg/ml)', 'Incubation Time (minutes)'],\n      dtype=object)"
     },
     "execution_count": 38,
     "metadata": {},
     "output_type": "execute_result"
    }
   ],
   "source": [
    "feat_list2"
   ],
   "metadata": {
    "collapsed": false,
    "pycharm": {
     "name": "#%%\n"
    }
   }
  },
  {
   "cell_type": "code",
   "execution_count": 39,
   "outputs": [
    {
     "name": "stderr",
     "output_type": "stream",
     "text": [
      "C:\\Users\\kmp95\\Anaconda3\\lib\\site-packages\\sklearn\\utils\\deprecation.py:103: FutureWarning: The `grid_scores_` attribute is deprecated in version 1.0 in favor of `cv_results_` and will be removed in version 1.2.\n",
      "  warnings.warn(msg, category=FutureWarning)\n"
     ]
    },
    {
     "data": {
      "text/plain": "<Figure size 432x288 with 1 Axes>",
      "image/png": "[encoded data removed]"
     },
     "metadata": {},
     "output_type": "display_data"
    }
   ],
   "source": [
    "selected_features= df_rfe.columns[selector.support_]\n",
    "import matplotlib.pyplot as plt\n",
    "plt.figure()\n",
    "plt.xlabel(\"Number of features selected\")\n",
    "plt.ylabel(\"Cross validation score (mean_squared_error)\")\n",
    "plt.plot(range(1, len(selector.grid_scores_) + 1), selector.grid_scores_)\n",
    "plt.show()\n"
   ],
   "metadata": {
    "collapsed": false,
    "pycharm": {
     "name": "#%%\n"
    }
   }
  },
  {
   "cell_type": "code",
   "execution_count": 40,
   "outputs": [
    {
     "name": "stderr",
     "output_type": "stream",
     "text": [
      "C:\\Users\\kmp95\\Anaconda3\\lib\\site-packages\\sklearn\\utils\\deprecation.py:103: FutureWarning: The `grid_scores_` attribute is deprecated in version 1.0 in favor of `cv_results_` and will be removed in version 1.2.\n",
      "  warnings.warn(msg, category=FutureWarning)\n"
     ]
    },
    {
     "data": {
      "text/plain": "array([[-2.60030016, -1.93596589, -1.02126055, -0.89227121, -1.01507047,\n        -9.1308593 , -3.10905289, -1.80753778, -0.68736061, -1.10931217],\n       [-2.92901169, -1.88038321, -0.88602322, -0.96535971, -0.98001887,\n        -8.41760676, -3.16531769, -1.29672523, -0.68356828, -1.11466883],\n       [-2.9093856 , -1.62947992, -0.9476709 , -0.98993623, -1.0724306 ,\n        -7.74825778, -3.15157798, -1.40796396, -0.54482115, -1.10875676],\n       [-2.68332418, -1.75375132, -0.70176964, -1.03346294, -1.07666703,\n        -8.09030382, -3.11466261, -1.22534709, -0.54778831, -1.11308942],\n       [-2.67740514, -1.72685225, -0.69017592, -0.99793944, -1.04661811,\n        -7.67101286, -1.64068486, -1.2670239 , -0.45634029, -0.55384789],\n       [-2.46763567, -1.73558028, -0.67289877, -0.80925621, -1.02621286,\n        -7.38020268, -1.51150113, -1.28678443, -0.4355193 , -0.5166977 ],\n       [-2.48468246, -1.57024731, -0.46002976, -0.83167248, -1.01142117,\n        -7.56708711, -1.52995787, -0.65596157, -0.44060442, -0.5283767 ],\n       [-2.38982652, -1.62494923, -0.4475695 , -0.72344399, -0.7797727 ,\n        -7.17533584, -1.49776243, -0.65247774, -0.45305003, -0.48707158],\n       [-2.68309377, -1.53213019, -0.41260001, -0.58483672, -0.73120033,\n        -7.1854688 , -1.60094893, -0.6671105 , -0.39521774, -0.15778366],\n       [-2.62463422, -1.43576988, -0.41552947, -0.52118328, -1.29146659,\n        -7.09760511, -0.7979773 , -0.65561811, -0.35210462, -0.17842301],\n       [-2.78004398, -1.49181526, -0.415283  , -0.55424304, -1.10556427,\n        -7.0392105 , -0.79676441, -0.59995851, -0.38774064, -0.1542766 ],\n       [-2.6097706 , -1.50673461, -0.41317754, -0.50513566, -1.19244703,\n        -7.49335362, -0.82423798, -0.64798611, -0.37112242, -0.16259752],\n       [-3.10227924, -1.42799197, -0.42200952, -0.5437319 , -1.24841333,\n        -7.3330601 , -0.80619242, -0.66493687, -0.3761666 , -0.15714018],\n       [-3.16539238, -1.4851232 , -0.40942251, -0.53205138, -1.05504465,\n        -7.28796685, -0.82490976, -0.64033382, -0.39311551, -0.16024221],\n       [-3.07065117, -1.55200703, -0.38303869, -0.58836056, -1.1629016 ,\n        -7.34189684, -0.83091946, -0.65049026, -0.37469756, -0.16377234],\n       [-3.12014223, -1.53738185, -0.36789952, -0.56315671, -1.06193474,\n        -7.26809717, -0.76449888, -0.61813732, -0.39095096, -0.15493018],\n       [-3.44996083, -1.57831466, -0.40261714, -0.51874545, -0.95671361,\n        -7.33150511, -0.7615941 , -0.64834543, -0.42929634, -0.15042508],\n       [-3.04764936, -1.51880767, -0.41367338, -0.51249469, -1.04520852,\n        -7.52258111, -0.85370099, -1.00207083, -0.3696232 , -0.17229508],\n       [-3.0498341 , -1.52322771, -0.39116844, -0.55858651, -1.22414052,\n        -7.34548129, -0.76861442, -1.0284975 , -0.3505406 , -0.17676969],\n       [-2.91002788, -1.44045325, -0.43252633, -0.5093051 , -1.06886316,\n        -7.57365282, -0.80875801, -0.97280344, -0.38910942, -0.15611222],\n       [-3.34044455, -1.52073846, -0.41132126, -0.53190727, -1.18627939,\n        -7.63174921, -0.77777295, -0.92882616, -0.35388618, -0.16449409],\n       [-3.06717433, -1.52124608, -0.43561134, -0.52512378, -1.00155508,\n        -7.64801926, -0.81879096, -0.97229903, -0.38390442, -0.24069927],\n       [-3.33600563, -1.42503521, -0.42439167, -0.50705986, -0.97716445,\n        -7.47585724, -0.75922291, -1.07954417, -0.40261362, -0.20245812],\n       [-3.12876614, -1.52964199, -0.40351173, -0.49595218, -0.95219041,\n        -7.4626926 , -0.75519644, -0.97050292, -0.3570292 , -0.18114864],\n       [-2.96299986, -1.51304076, -0.46606336, -0.49644676, -1.0958041 ,\n        -7.4372576 , -0.72747666, -1.05028995, -0.33598805, -0.20064003],\n       [-3.09877777, -1.41213812, -0.42118122, -0.54259304, -1.13740541,\n        -7.46257534, -0.73258389, -0.93177708, -0.29214534, -0.19274354],\n       [-3.0708488 , -1.70106033, -0.40506153, -0.55546694, -1.06335505,\n        -7.60008598, -0.8667403 , -1.1035954 , -0.2890253 , -0.19067546],\n       [-2.64636361, -1.59056477, -0.41277472, -0.52618166, -1.11591388,\n        -7.44190053, -0.86211206, -1.02873715, -0.31170255, -0.18427107],\n       [-2.90852486, -1.54111972, -0.42040214, -0.52630405, -1.18290711,\n        -7.52061766, -0.90260569, -1.06477283, -0.30992395, -0.165608  ],\n       [-2.66050633, -1.4215713 , -0.44234034, -0.52121334, -1.15095626,\n        -7.52373396, -0.70688737, -1.02929837, -0.28361634, -0.17857633],\n       [-2.71888828, -1.44972264, -0.4411383 , -0.53201989, -1.16946582,\n        -6.23560668, -0.86440049, -0.99226505, -0.32347023, -0.1711482 ],\n       [-2.60813931, -1.37983655, -0.40864717, -0.54289214, -1.0281951 ,\n        -6.38420397, -0.8546862 , -1.02888605, -0.3224567 , -0.17251422],\n       [-3.12576431, -1.4802363 , -0.44043406, -0.54722908, -1.19921488,\n        -6.39803506, -0.87819071, -0.99081741, -0.30805806, -0.20918071],\n       [-2.96454528, -1.4212911 , -0.42538815, -0.48900111, -1.04161849,\n        -6.26422465, -0.8820558 , -1.02817903, -0.29917678, -0.21682315],\n       [-2.96335164, -1.57505126, -0.40011958, -0.49797685, -1.1844326 ,\n        -6.24342863, -0.76665691, -1.20133298, -0.30022058, -0.19275788],\n       [-2.94518693, -1.55910821, -0.4448053 , -0.50030227, -1.20034004,\n        -6.10360385, -0.83557668, -0.99269662, -0.33853818, -0.18266806],\n       [-3.26720795, -1.51301935, -0.43212892, -0.49102475, -0.99966615,\n        -6.20348593, -0.80109247, -0.95473418, -0.28451353, -0.21555049],\n       [-2.74227243, -1.48594494, -0.43176617, -0.52887639, -1.14013385,\n        -6.47104233, -0.80228569, -1.09170772, -0.29635281, -0.19894648],\n       [-2.77041138, -1.44320285, -0.4188635 , -0.56211489, -1.05213917,\n        -6.24391379, -0.73595221, -0.89492765, -0.31961554, -0.19234102],\n       [-2.95457219, -1.49514758, -0.45365277, -0.44111456, -1.02631003,\n        -6.32051428, -0.91468037, -1.08960647, -0.29664267, -0.17802655],\n       [-2.79823912, -1.40156211, -0.44628165, -0.51227568, -1.04462849,\n        -5.88645951, -0.84182909, -0.98257562, -0.32685487, -0.18697546],\n       [-2.68122846, -1.53644974, -0.4050952 , -0.47183206, -1.06809276,\n        -6.24431163, -0.80662088, -1.15100962, -0.32287176, -0.15879105],\n       [-3.09631519, -1.48021637, -0.43298097, -0.5141419 , -1.1708838 ,\n        -6.03466905, -0.78151158, -1.0286185 , -0.28445737, -0.22722621]])"
     },
     "execution_count": 40,
     "metadata": {},
     "output_type": "execute_result"
    }
   ],
   "source": [
    "selector.grid_scores_"
   ],
   "metadata": {
    "collapsed": false,
    "pycharm": {
     "name": "#%%\n"
    }
   }
  },
  {
   "cell_type": "code",
   "execution_count": null,
   "outputs": [],
   "source": [],
   "metadata": {
    "collapsed": false,
    "pycharm": {
     "name": "#%%\n"
    }
   }
  },
  {
   "cell_type": "code",
   "execution_count": 122,
   "outputs": [],
   "source": [
    "# df_NSP_drop2=feat_elim_rand(df_NSP_drop,labels,'nspdrop',15,250,3)"
   ],
   "metadata": {
    "collapsed": false,
    "pycharm": {
     "name": "#%%\n"
    }
   }
  },
  {
   "cell_type": "code",
   "execution_count": 127,
   "outputs": [],
   "source": [
    "df_list=[df,df]\n",
    "labels=[label_enrich,label_abund]\n",
    "out_name=['enrich','abund']\n",
    "df_listnew=[]\n",
    "x=0\n",
    "for i in df_list:\n",
    "    df_listnew.append(feat_elim_rand(i,labels[x],out_name[x],15,150,3))\n",
    "    x+=1"
   ],
   "metadata": {
    "collapsed": false,
    "pycharm": {
     "name": "#%%\n"
    }
   }
  },
  {
   "cell_type": "code",
   "execution_count": 130,
   "outputs": [],
   "source": [
    "df_enrich=df_listnew[0]\n",
    "df_abund=df_listnew[1]"
   ],
   "metadata": {
    "collapsed": false,
    "pycharm": {
     "name": "#%%\n"
    }
   }
  },
  {
   "cell_type": "code",
   "execution_count": 129,
   "outputs": [
    {
     "data": {
      "text/plain": "Index(['Abundance_Controls', 'Length', 'frac_aa_N',\n       'secondary_structure_fraction_sheet', 'fraction_exposed_exposed_G',\n       'fraction_exposed_exposed_H', 'fraction_exposed_exposed_I',\n       'fraction_exposed_exposed_P', 'BatchID', 'Zeta Potential',\n       'Surface_Ligand', 'Dh_core', 'Dh_functionalized',\n       'NP_incubation Concentration (mg/mL)',\n       'Incubation Concentration (mg/ml)'],\n      dtype='object')"
     },
     "execution_count": 129,
     "metadata": {},
     "output_type": "execute_result"
    }
   ],
   "source": [],
   "metadata": {
    "collapsed": false,
    "pycharm": {
     "name": "#%%\n"
    }
   }
  },
  {
   "cell_type": "code",
   "execution_count": null,
   "outputs": [],
   "source": [
    "import pickle\n",
    "pickle.dump"
   ],
   "metadata": {
    "collapsed": false,
    "pycharm": {
     "name": "#%%\n"
    }
   }
  },
  {
   "cell_type": "code",
   "execution_count": 185,
   "outputs": [
    {
     "name": "stderr",
     "output_type": "stream",
     "text": [
      "C:\\Users\\pouls\\AppData\\Local\\Temp\\ipykernel_16344\\3070586185.py:1: SettingWithCopyWarning: \n",
      "A value is trying to be set on a copy of a slice from a DataFrame.\n",
      "Try using .loc[row_indexer,col_indexer] = value instead\n",
      "\n",
      "See the caveats in the documentation: https://pandas.pydata.org/pandas-docs/stable/user_guide/indexing.html#returning-a-view-versus-a-copy\n",
      "  df_abund['label_abund']=label_abund\n",
      "C:\\Users\\pouls\\AppData\\Local\\Temp\\ipykernel_16344\\3070586185.py:2: SettingWithCopyWarning: \n",
      "A value is trying to be set on a copy of a slice from a DataFrame.\n",
      "Try using .loc[row_indexer,col_indexer] = value instead\n",
      "\n",
      "See the caveats in the documentation: https://pandas.pydata.org/pandas-docs/stable/user_guide/indexing.html#returning-a-view-versus-a-copy\n",
      "  df_enrich['label_enrich']=label_enrich\n"
     ]
    }
   ],
   "source": [
    "df_abund['label_abund']=label_abund\n",
    "df_enrich['label_enrich']=label_enrich\n",
    "df_abund.to_excel(\"Output_data/df_abund.xlsx\")\n",
    "df_enrich.to_excel(\"Output_data/df_enrich.xlsx\")\n",
    "# df_listnew[2].to_excel(\"Output_data/df_nspdrop.xlsx\")"
   ],
   "metadata": {
    "collapsed": false,
    "pycharm": {
     "name": "#%%\n"
    }
   }
  },
  {
   "cell_type": "code",
   "execution_count": 186,
   "outputs": [
    {
     "name": "stderr",
     "output_type": "stream",
     "text": [
      "C:\\Users\\pouls\\AppData\\Local\\Temp\\ipykernel_16344\\1477147535.py:1: SettingWithCopyWarning: \n",
      "A value is trying to be set on a copy of a slice from a DataFrame\n",
      "\n",
      "See the caveats in the documentation: https://pandas.pydata.org/pandas-docs/stable/user_guide/indexing.html#returning-a-view-versus-a-copy\n",
      "  df_abund.drop(columns=['label_abund'],inplace=True)\n",
      "C:\\Users\\pouls\\AppData\\Local\\Temp\\ipykernel_16344\\1477147535.py:2: SettingWithCopyWarning: \n",
      "A value is trying to be set on a copy of a slice from a DataFrame\n",
      "\n",
      "See the caveats in the documentation: https://pandas.pydata.org/pandas-docs/stable/user_guide/indexing.html#returning-a-view-versus-a-copy\n",
      "  df_enrich.drop(columns=['label_enrich'],inplace=True)\n"
     ]
    }
   ],
   "source": [
    "df_abund.drop(columns=['label_abund'],inplace=True)\n",
    "df_enrich.drop(columns=['label_enrich'],inplace=True)"
   ],
   "metadata": {
    "collapsed": false,
    "pycharm": {
     "name": "#%%\n"
    }
   }
  },
  {
   "cell_type": "code",
   "execution_count": 133,
   "outputs": [],
   "source": [
    "# for i in df_listnew:\n",
    "#     i.drop(columns=['labels'],inplace=True)"
   ],
   "metadata": {
    "collapsed": false,
    "pycharm": {
     "name": "#%%\n"
    }
   }
  },
  {
   "cell_type": "code",
   "execution_count": 137,
   "outputs": [
    {
     "data": {
      "text/plain": "0"
     },
     "execution_count": 137,
     "metadata": {},
     "output_type": "execute_result"
    }
   ],
   "source": [
    "df_enrich.isna().sum().sum()"
   ],
   "metadata": {
    "collapsed": false,
    "pycharm": {
     "name": "#%%\n"
    }
   }
  },
  {
   "cell_type": "code",
   "execution_count": 167,
   "outputs": [
    {
     "ename": "PermissionError",
     "evalue": "[Errno 13] Permission denied: 'Output_data/estimators_score_abund.xlsx'",
     "output_type": "error",
     "traceback": [
      "\u001B[1;31m---------------------------------------------------------------------------\u001B[0m",
      "\u001B[1;31mPermissionError\u001B[0m                           Traceback (most recent call last)",
      "Input \u001B[1;32mIn [167]\u001B[0m, in \u001B[0;36m<cell line: 16>\u001B[1;34m()\u001B[0m\n\u001B[0;32m     14\u001B[0m     scores\u001B[38;5;241m.\u001B[39mappend(score)\n\u001B[0;32m     15\u001B[0m a\u001B[38;5;241m=\u001B[39mpd\u001B[38;5;241m.\u001B[39mDataFrame(\u001B[38;5;28mlist\u001B[39m(\u001B[38;5;28mzip\u001B[39m(estimators,scores)), columns\u001B[38;5;241m=\u001B[39m[\u001B[38;5;124m'\u001B[39m\u001B[38;5;124mnumber of estimators\u001B[39m\u001B[38;5;124m'\u001B[39m,\u001B[38;5;124m'\u001B[39m\u001B[38;5;124maccuracy\u001B[39m\u001B[38;5;124m'\u001B[39m])\n\u001B[1;32m---> 16\u001B[0m \u001B[43ma\u001B[49m\u001B[38;5;241;43m.\u001B[39;49m\u001B[43mto_excel\u001B[49m\u001B[43m(\u001B[49m\u001B[38;5;124;43m\"\u001B[39;49m\u001B[38;5;124;43mOutput_data/estimators_score_abund.xlsx\u001B[39;49m\u001B[38;5;124;43m\"\u001B[39;49m\u001B[43m)\u001B[49m\n",
      "File \u001B[1;32m~\\anaconda3\\lib\\site-packages\\pandas\\core\\generic.py:2345\u001B[0m, in \u001B[0;36mNDFrame.to_excel\u001B[1;34m(self, excel_writer, sheet_name, na_rep, float_format, columns, header, index, index_label, startrow, startcol, engine, merge_cells, encoding, inf_rep, verbose, freeze_panes, storage_options)\u001B[0m\n\u001B[0;32m   2332\u001B[0m \u001B[38;5;28;01mfrom\u001B[39;00m \u001B[38;5;21;01mpandas\u001B[39;00m\u001B[38;5;21;01m.\u001B[39;00m\u001B[38;5;21;01mio\u001B[39;00m\u001B[38;5;21;01m.\u001B[39;00m\u001B[38;5;21;01mformats\u001B[39;00m\u001B[38;5;21;01m.\u001B[39;00m\u001B[38;5;21;01mexcel\u001B[39;00m \u001B[38;5;28;01mimport\u001B[39;00m ExcelFormatter\n\u001B[0;32m   2334\u001B[0m formatter \u001B[38;5;241m=\u001B[39m ExcelFormatter(\n\u001B[0;32m   2335\u001B[0m     df,\n\u001B[0;32m   2336\u001B[0m     na_rep\u001B[38;5;241m=\u001B[39mna_rep,\n\u001B[1;32m   (...)\u001B[0m\n\u001B[0;32m   2343\u001B[0m     inf_rep\u001B[38;5;241m=\u001B[39minf_rep,\n\u001B[0;32m   2344\u001B[0m )\n\u001B[1;32m-> 2345\u001B[0m \u001B[43mformatter\u001B[49m\u001B[38;5;241;43m.\u001B[39;49m\u001B[43mwrite\u001B[49m\u001B[43m(\u001B[49m\n\u001B[0;32m   2346\u001B[0m \u001B[43m    \u001B[49m\u001B[43mexcel_writer\u001B[49m\u001B[43m,\u001B[49m\n\u001B[0;32m   2347\u001B[0m \u001B[43m    \u001B[49m\u001B[43msheet_name\u001B[49m\u001B[38;5;241;43m=\u001B[39;49m\u001B[43msheet_name\u001B[49m\u001B[43m,\u001B[49m\n\u001B[0;32m   2348\u001B[0m \u001B[43m    \u001B[49m\u001B[43mstartrow\u001B[49m\u001B[38;5;241;43m=\u001B[39;49m\u001B[43mstartrow\u001B[49m\u001B[43m,\u001B[49m\n\u001B[0;32m   2349\u001B[0m \u001B[43m    \u001B[49m\u001B[43mstartcol\u001B[49m\u001B[38;5;241;43m=\u001B[39;49m\u001B[43mstartcol\u001B[49m\u001B[43m,\u001B[49m\n\u001B[0;32m   2350\u001B[0m \u001B[43m    \u001B[49m\u001B[43mfreeze_panes\u001B[49m\u001B[38;5;241;43m=\u001B[39;49m\u001B[43mfreeze_panes\u001B[49m\u001B[43m,\u001B[49m\n\u001B[0;32m   2351\u001B[0m \u001B[43m    \u001B[49m\u001B[43mengine\u001B[49m\u001B[38;5;241;43m=\u001B[39;49m\u001B[43mengine\u001B[49m\u001B[43m,\u001B[49m\n\u001B[0;32m   2352\u001B[0m \u001B[43m    \u001B[49m\u001B[43mstorage_options\u001B[49m\u001B[38;5;241;43m=\u001B[39;49m\u001B[43mstorage_options\u001B[49m\u001B[43m,\u001B[49m\n\u001B[0;32m   2353\u001B[0m \u001B[43m\u001B[49m\u001B[43m)\u001B[49m\n",
      "File \u001B[1;32m~\\anaconda3\\lib\\site-packages\\pandas\\io\\formats\\excel.py:888\u001B[0m, in \u001B[0;36mExcelFormatter.write\u001B[1;34m(self, writer, sheet_name, startrow, startcol, freeze_panes, engine, storage_options)\u001B[0m\n\u001B[0;32m    884\u001B[0m     need_save \u001B[38;5;241m=\u001B[39m \u001B[38;5;28;01mFalse\u001B[39;00m\n\u001B[0;32m    885\u001B[0m \u001B[38;5;28;01melse\u001B[39;00m:\n\u001B[0;32m    886\u001B[0m     \u001B[38;5;66;03m# error: Cannot instantiate abstract class 'ExcelWriter' with abstract\u001B[39;00m\n\u001B[0;32m    887\u001B[0m     \u001B[38;5;66;03m# attributes 'engine', 'save', 'supported_extensions' and 'write_cells'\u001B[39;00m\n\u001B[1;32m--> 888\u001B[0m     writer \u001B[38;5;241m=\u001B[39m \u001B[43mExcelWriter\u001B[49m\u001B[43m(\u001B[49m\u001B[43m  \u001B[49m\u001B[38;5;66;43;03m# type: ignore[abstract]\u001B[39;49;00m\n\u001B[0;32m    889\u001B[0m \u001B[43m        \u001B[49m\u001B[43mwriter\u001B[49m\u001B[43m,\u001B[49m\u001B[43m \u001B[49m\u001B[43mengine\u001B[49m\u001B[38;5;241;43m=\u001B[39;49m\u001B[43mengine\u001B[49m\u001B[43m,\u001B[49m\u001B[43m \u001B[49m\u001B[43mstorage_options\u001B[49m\u001B[38;5;241;43m=\u001B[39;49m\u001B[43mstorage_options\u001B[49m\n\u001B[0;32m    890\u001B[0m \u001B[43m    \u001B[49m\u001B[43m)\u001B[49m\n\u001B[0;32m    891\u001B[0m     need_save \u001B[38;5;241m=\u001B[39m \u001B[38;5;28;01mTrue\u001B[39;00m\n\u001B[0;32m    893\u001B[0m \u001B[38;5;28;01mtry\u001B[39;00m:\n",
      "File \u001B[1;32m~\\anaconda3\\lib\\site-packages\\pandas\\io\\excel\\_xlsxwriter.py:191\u001B[0m, in \u001B[0;36mXlsxWriter.__init__\u001B[1;34m(self, path, engine, date_format, datetime_format, mode, storage_options, if_sheet_exists, engine_kwargs, **kwargs)\u001B[0m\n\u001B[0;32m    188\u001B[0m \u001B[38;5;28;01mif\u001B[39;00m mode \u001B[38;5;241m==\u001B[39m \u001B[38;5;124m\"\u001B[39m\u001B[38;5;124ma\u001B[39m\u001B[38;5;124m\"\u001B[39m:\n\u001B[0;32m    189\u001B[0m     \u001B[38;5;28;01mraise\u001B[39;00m \u001B[38;5;167;01mValueError\u001B[39;00m(\u001B[38;5;124m\"\u001B[39m\u001B[38;5;124mAppend mode is not supported with xlsxwriter!\u001B[39m\u001B[38;5;124m\"\u001B[39m)\n\u001B[1;32m--> 191\u001B[0m \u001B[38;5;28;43msuper\u001B[39;49m\u001B[43m(\u001B[49m\u001B[43m)\u001B[49m\u001B[38;5;241;43m.\u001B[39;49m\u001B[38;5;21;43m__init__\u001B[39;49m\u001B[43m(\u001B[49m\n\u001B[0;32m    192\u001B[0m \u001B[43m    \u001B[49m\u001B[43mpath\u001B[49m\u001B[43m,\u001B[49m\n\u001B[0;32m    193\u001B[0m \u001B[43m    \u001B[49m\u001B[43mengine\u001B[49m\u001B[38;5;241;43m=\u001B[39;49m\u001B[43mengine\u001B[49m\u001B[43m,\u001B[49m\n\u001B[0;32m    194\u001B[0m \u001B[43m    \u001B[49m\u001B[43mdate_format\u001B[49m\u001B[38;5;241;43m=\u001B[39;49m\u001B[43mdate_format\u001B[49m\u001B[43m,\u001B[49m\n\u001B[0;32m    195\u001B[0m \u001B[43m    \u001B[49m\u001B[43mdatetime_format\u001B[49m\u001B[38;5;241;43m=\u001B[39;49m\u001B[43mdatetime_format\u001B[49m\u001B[43m,\u001B[49m\n\u001B[0;32m    196\u001B[0m \u001B[43m    \u001B[49m\u001B[43mmode\u001B[49m\u001B[38;5;241;43m=\u001B[39;49m\u001B[43mmode\u001B[49m\u001B[43m,\u001B[49m\n\u001B[0;32m    197\u001B[0m \u001B[43m    \u001B[49m\u001B[43mstorage_options\u001B[49m\u001B[38;5;241;43m=\u001B[39;49m\u001B[43mstorage_options\u001B[49m\u001B[43m,\u001B[49m\n\u001B[0;32m    198\u001B[0m \u001B[43m    \u001B[49m\u001B[43mif_sheet_exists\u001B[49m\u001B[38;5;241;43m=\u001B[39;49m\u001B[43mif_sheet_exists\u001B[49m\u001B[43m,\u001B[49m\n\u001B[0;32m    199\u001B[0m \u001B[43m    \u001B[49m\u001B[43mengine_kwargs\u001B[49m\u001B[38;5;241;43m=\u001B[39;49m\u001B[43mengine_kwargs\u001B[49m\u001B[43m,\u001B[49m\n\u001B[0;32m    200\u001B[0m \u001B[43m\u001B[49m\u001B[43m)\u001B[49m\n\u001B[0;32m    202\u001B[0m \u001B[38;5;28mself\u001B[39m\u001B[38;5;241m.\u001B[39mbook \u001B[38;5;241m=\u001B[39m Workbook(\u001B[38;5;28mself\u001B[39m\u001B[38;5;241m.\u001B[39mhandles\u001B[38;5;241m.\u001B[39mhandle, \u001B[38;5;241m*\u001B[39m\u001B[38;5;241m*\u001B[39mengine_kwargs)\n",
      "File \u001B[1;32m~\\anaconda3\\lib\\site-packages\\pandas\\io\\excel\\_base.py:1106\u001B[0m, in \u001B[0;36mExcelWriter.__init__\u001B[1;34m(self, path, engine, date_format, datetime_format, mode, storage_options, if_sheet_exists, engine_kwargs, **kwargs)\u001B[0m\n\u001B[0;32m   1102\u001B[0m \u001B[38;5;28mself\u001B[39m\u001B[38;5;241m.\u001B[39mhandles \u001B[38;5;241m=\u001B[39m IOHandles(\n\u001B[0;32m   1103\u001B[0m     cast(IO[\u001B[38;5;28mbytes\u001B[39m], path), compression\u001B[38;5;241m=\u001B[39m{\u001B[38;5;124m\"\u001B[39m\u001B[38;5;124mcompression\u001B[39m\u001B[38;5;124m\"\u001B[39m: \u001B[38;5;28;01mNone\u001B[39;00m}\n\u001B[0;32m   1104\u001B[0m )\n\u001B[0;32m   1105\u001B[0m \u001B[38;5;28;01mif\u001B[39;00m \u001B[38;5;129;01mnot\u001B[39;00m \u001B[38;5;28misinstance\u001B[39m(path, ExcelWriter):\n\u001B[1;32m-> 1106\u001B[0m     \u001B[38;5;28mself\u001B[39m\u001B[38;5;241m.\u001B[39mhandles \u001B[38;5;241m=\u001B[39m \u001B[43mget_handle\u001B[49m\u001B[43m(\u001B[49m\n\u001B[0;32m   1107\u001B[0m \u001B[43m        \u001B[49m\u001B[43mpath\u001B[49m\u001B[43m,\u001B[49m\u001B[43m \u001B[49m\u001B[43mmode\u001B[49m\u001B[43m,\u001B[49m\u001B[43m \u001B[49m\u001B[43mstorage_options\u001B[49m\u001B[38;5;241;43m=\u001B[39;49m\u001B[43mstorage_options\u001B[49m\u001B[43m,\u001B[49m\u001B[43m \u001B[49m\u001B[43mis_text\u001B[49m\u001B[38;5;241;43m=\u001B[39;49m\u001B[38;5;28;43;01mFalse\u001B[39;49;00m\n\u001B[0;32m   1108\u001B[0m \u001B[43m    \u001B[49m\u001B[43m)\u001B[49m\n\u001B[0;32m   1109\u001B[0m \u001B[38;5;28mself\u001B[39m\u001B[38;5;241m.\u001B[39msheets: \u001B[38;5;28mdict\u001B[39m[\u001B[38;5;28mstr\u001B[39m, Any] \u001B[38;5;241m=\u001B[39m {}\n\u001B[0;32m   1110\u001B[0m \u001B[38;5;28mself\u001B[39m\u001B[38;5;241m.\u001B[39mcur_sheet \u001B[38;5;241m=\u001B[39m \u001B[38;5;28;01mNone\u001B[39;00m\n",
      "File \u001B[1;32m~\\anaconda3\\lib\\site-packages\\pandas\\io\\common.py:798\u001B[0m, in \u001B[0;36mget_handle\u001B[1;34m(path_or_buf, mode, encoding, compression, memory_map, is_text, errors, storage_options)\u001B[0m\n\u001B[0;32m    789\u001B[0m         handle \u001B[38;5;241m=\u001B[39m \u001B[38;5;28mopen\u001B[39m(\n\u001B[0;32m    790\u001B[0m             handle,\n\u001B[0;32m    791\u001B[0m             ioargs\u001B[38;5;241m.\u001B[39mmode,\n\u001B[1;32m   (...)\u001B[0m\n\u001B[0;32m    794\u001B[0m             newline\u001B[38;5;241m=\u001B[39m\u001B[38;5;124m\"\u001B[39m\u001B[38;5;124m\"\u001B[39m,\n\u001B[0;32m    795\u001B[0m         )\n\u001B[0;32m    796\u001B[0m     \u001B[38;5;28;01melse\u001B[39;00m:\n\u001B[0;32m    797\u001B[0m         \u001B[38;5;66;03m# Binary mode\u001B[39;00m\n\u001B[1;32m--> 798\u001B[0m         handle \u001B[38;5;241m=\u001B[39m \u001B[38;5;28;43mopen\u001B[39;49m\u001B[43m(\u001B[49m\u001B[43mhandle\u001B[49m\u001B[43m,\u001B[49m\u001B[43m \u001B[49m\u001B[43mioargs\u001B[49m\u001B[38;5;241;43m.\u001B[39;49m\u001B[43mmode\u001B[49m\u001B[43m)\u001B[49m\n\u001B[0;32m    799\u001B[0m     handles\u001B[38;5;241m.\u001B[39mappend(handle)\n\u001B[0;32m    801\u001B[0m \u001B[38;5;66;03m# Convert BytesIO or file objects passed with an encoding\u001B[39;00m\n",
      "\u001B[1;31mPermissionError\u001B[0m: [Errno 13] Permission denied: 'Output_data/estimators_score_abund.xlsx'"
     ]
    }
   ],
   "source": [
    "#test estimator to see what is the ideal number of estimators\n",
    "estimators=np.arange(5,500,5)\n",
    "out_name=np.arange(5,500,5)\n",
    "# print(out_name)\n",
    "scores=[]\n",
    "x_train, x_test, y_train, y_test = train_test_split(df_abund, label_abund,\n",
    "                                                        test_size=0.2,\n",
    "                                                        random_state=42)\n",
    "\n",
    "for i in range(len(estimators)):\n",
    "    rfg = RandomForestRegressor(n_estimators=estimators[i])\n",
    "    rfg.fit(x_train, y_train)\n",
    "    score=rfg.score(x_test,y_test)\n",
    "    scores.append(score)\n",
    "a=pd.DataFrame(list(zip(estimators,scores)), columns=['number of estimators','accuracy'])\n",
    "a.to_excel(\"Output_data/estimators_score_abund.xlsx\")"
   ],
   "metadata": {
    "collapsed": false,
    "pycharm": {
     "name": "#%%\n"
    }
   }
  },
  {
   "cell_type": "code",
   "execution_count": 168,
   "outputs": [],
   "source": [
    "a=pd.DataFrame(list(zip(estimators,scores)), columns=['number of estimators','accuracy'])\n",
    "a.to_excel(\"Output_data/estimators_score_abund.xlsx\")"
   ],
   "metadata": {
    "collapsed": false,
    "pycharm": {
     "name": "#%%\n"
    }
   }
  },
  {
   "cell_type": "code",
   "execution_count": 169,
   "outputs": [],
   "source": [
    "#test estimator to see what is the ideal number of estimators\n",
    "estimators=np.arange(5,500,5)\n",
    "out_name=np.arange(5,500,5)\n",
    "# print(out_name)\n",
    "scores=[]\n",
    "x_train, x_test, y_train, y_test = train_test_split(df_enrich, label_enrich,\n",
    "                                                        test_size=0.2,\n",
    "                                                        random_state=42)\n",
    "\n",
    "for i in range(len(estimators)):\n",
    "    rfg = RandomForestRegressor(n_estimators=estimators[i])\n",
    "    rfg.fit(x_train, y_train)\n",
    "    score=rfg.score(x_test,y_test)\n",
    "    scores.append(score)\n",
    "\n",
    "a=pd.DataFrame(list(zip(estimators,scores)), columns=['number of estimators','accuracy'])\n",
    "a.to_excel(\"Output_data/estimators_score_enrich.xlsx\")"
   ],
   "metadata": {
    "collapsed": false,
    "pycharm": {
     "name": "#%%\n"
    }
   }
  },
  {
   "cell_type": "code",
   "execution_count": null,
   "outputs": [],
   "source": [
    "#plot distrubition of (feat) with -labels and dsitrubition with positive values\n",
    "# frac_aa_E,K,R, flexibility_min, Isoelectric Point, gravy, fraction_exposed_L,M,R,S,T,Y, zeta potential\n",
    "#plot PCA of features and labels after RFE\n",
    "#plot loss of features after RFE"
   ],
   "metadata": {
    "collapsed": false,
    "pycharm": {
     "name": "#%%\n"
    }
   }
  },
  {
   "cell_type": "code",
   "execution_count": 178,
   "outputs": [],
   "source": [
    "#look at loss as a function of feature\n",
    "feats=[]\n",
    "scores=[]\n",
    "df=df_abund\n",
    "id='abund3'\n",
    "label=label_abund\n",
    "# frames=['df','df_norm','df_NSP_drop']\n",
    "# for x,i in enumerate(df_listnew):\\\n",
    "\n",
    "x_train, x_test, y_train, y_test = train_test_split(df,label, test_size = 0.2, random_state=42)\n",
    "rfg=RandomForestRegressor(n_estimators=150)\n",
    "rfg.fit(x_train,y_train)\n",
    "topscore=rfg.score(x_test,y_test)\n",
    "# scores.append(topscore)\n",
    "# feats.append('nsp_drop')\n",
    "for j in x_test.columns:\n",
    "    tmp=x_test.copy()\n",
    "    # print(x_test)\n",
    "    np.random.shuffle(tmp[j].values)\n",
    "    scram_score=(topscore-rfg.score(tmp,y_test))/topscore*100\n",
    "    scores.append(scram_score)\n",
    "    feats.append(j)\n",
    "importances=rfg.feature_importances_*100\n",
    "a=pd.DataFrame(list(zip(feats,scores,importances)))\n",
    "a.to_excel(\"Output_data/loss_feats\"+id+\".xlsx\")\n",
    "\n"
   ],
   "metadata": {
    "collapsed": false,
    "pycharm": {
     "name": "#%%\n"
    }
   }
  },
  {
   "cell_type": "code",
   "execution_count": 184,
   "outputs": [],
   "source": [
    "df=df_enrich\n",
    "id='enrich3'\n",
    "label=label_enrich\n",
    "# frames=['df','df_norm','df_NSP_drop']\n",
    "# for x,i in enumerate(df_listnew):\\\n",
    "\n",
    "x_train, x_test, y_train, y_test = train_test_split(df,label, test_size = 0.2, random_state=42)\n",
    "rfg=RandomForestRegressor(n_estimators=150)\n",
    "rfg.fit(x_train,y_train)\n",
    "# topscore=rfg.score(x_test,y_test)\n",
    "pred=rfg.predict(x_test)\n",
    "a=pd.DataFrame(list(zip(pred,y_test)),columns=['prediction','true'])\n",
    "a.to_excel(\"Output_data/prediction\"+id+\".xlsx\")\n",
    "# scores.append(topscore)\n",
    "# feats.append('nsp_drop')"
   ],
   "metadata": {
    "collapsed": false,
    "pycharm": {
     "name": "#%%\n"
    }
   }
  },
  {
   "cell_type": "code",
   "execution_count": 125,
   "outputs": [
    {
     "name": "stdout",
     "output_type": "stream",
     "text": [
      "[('Abundance_Controls', 53.80344715927424), ('Length', 3.183420512933438), ('secondary_structure_fraction_sheet', 2.0102238907980783), ('fraction_exposed_exposed_G', 3.7753666395000733), ('fraction_exposed_exposed_H', 2.3025589348193085), ('fraction_exposed_exposed_I', 2.0800589466395443), ('fraction_exposed_exposed_P', 2.9562933014048007), ('nsp_secondary_structure_helix', 1.9133308188771145), ('BatchID', 4.3316804352935785), ('Zeta Potential', 2.7404038499722785), ('Surface_Ligand', 2.2766756095249816), ('Dh_core', 2.8464161071617444), ('Dh_functionalized', 4.530138612141545), ('NP_incubation Concentration (mg/mL)', 5.028934254554429), ('Incubation Concentration (mg/ml)', 6.221050927104836)]\n"
     ]
    }
   ],
   "source": [
    "print(list(zip(df_NSP_drop2.columns,rfg.feature_importances_*100)))"
   ],
   "metadata": {
    "collapsed": false,
    "pycharm": {
     "name": "#%%\n"
    }
   }
  },
  {
   "cell_type": "code",
   "execution_count": 83,
   "outputs": [],
   "source": [
    "scores=[]\n",
    "importances=[]\n",
    "df_play=df_listnew[2].copy()\n",
    "to_drop=['fraction_exposed_exposed_K','flexibility_min','nsp_secondary_structure_coil','fraction_exposed_exposed_D','Dh_core','frac_aa_F','frac_aa_K','Dh_functionalized','gravy','fraction_exposed_exposed_M','nsp_secondary_structure_helix','frac_aa_E','fraction_exposed_exposed_S','Incubation Concentration (mg/ml)','fraction_exposed_exposed_L','fraction_exposed_exposed_Y','isoelectric_point','fraction_exposed_exposed_R','frac_aa_R','Zeta Potential']\n",
    "# df_play\n"
   ],
   "metadata": {
    "collapsed": false,
    "pycharm": {
     "name": "#%%\n"
    }
   }
  },
  {
   "cell_type": "code",
   "execution_count": 79,
   "outputs": [
    {
     "name": "stdout",
     "output_type": "stream",
     "text": [
      "0.7129708000680841\n",
      "[0.04397567 0.03622563 0.05661056 0.07044834 0.03762556 0.05956122\n",
      " 0.04035952 0.03808894 0.06851993 0.05179837 0.04851901 0.05062163\n",
      " 0.05464555 0.04126761 0.04355335 0.12353352 0.03962461 0.04932202\n",
      " 0.04569895]\n",
      "0.7174539961269533\n",
      "[0.0459669  0.03358728 0.06313426 0.07116079 0.05764382 0.04659791\n",
      " 0.03768361 0.07137779 0.0554696  0.0533693  0.05311723 0.06129922\n",
      " 0.04356481 0.04642746 0.12628031 0.03959313 0.04765988 0.04606672]\n",
      "0.715277745807563\n",
      "[0.05106954 0.04226904 0.06596607 0.06933313 0.06505809 0.04874418\n",
      " 0.04233961 0.07155951 0.05623948 0.05777363 0.05315133 0.06566498\n",
      " 0.05070178 0.1259717  0.03876504 0.0495918  0.04580106]\n",
      "0.7109222275663655\n",
      "[0.05041272 0.04512989 0.06580425 0.07052882 0.07218905 0.05360005\n",
      " 0.07587482 0.05619295 0.06206785 0.06113592 0.070383   0.05492594\n",
      " 0.12765857 0.03762476 0.05091379 0.0455576 ]\n",
      "0.7078284536314533\n",
      "[0.05461364 0.04682368 0.07049538 0.07341076 0.06403836 0.05497546\n",
      " 0.07713649 0.05486788 0.05952191 0.06358799 0.06739948 0.05071482\n",
      " 0.1438323  0.07190185 0.04668001]\n",
      "0.7038909859920557\n",
      "[0.05086785 0.06888459 0.081371   0.07357788 0.06884502 0.08240534\n",
      " 0.06160218 0.05918136 0.0659603  0.0725649  0.05609348 0.14111325\n",
      " 0.07131507 0.04621776]\n",
      "0.7030960553201626\n",
      "[0.05350617 0.09551209 0.09066354 0.07782851 0.09634206 0.07052944\n",
      " 0.05523274 0.06913252 0.07011627 0.06385595 0.14120249 0.06939326\n",
      " 0.04668497]\n",
      "0.6958094607887657\n",
      "[0.05401199 0.09808522 0.09459634 0.07500312 0.09717117 0.069202\n",
      " 0.05763986 0.06793469 0.07362916 0.06455049 0.20240229 0.04577366]\n",
      "0.6950809578307522\n",
      "[0.07017729 0.10337894 0.08845629 0.10928879 0.08064683 0.06777003\n",
      " 0.07687283 0.0851568  0.06867491 0.20242043 0.04715686]\n",
      "0.6965524975913653\n",
      "[0.08749065 0.1141259  0.10481935 0.11983288 0.0680614  0.08756788\n",
      " 0.0914784  0.07632527 0.20414696 0.04615131]\n",
      "0.6933182405728687\n",
      "[0.09959911 0.12187436 0.10688446 0.13980778 0.07907439 0.09486511\n",
      " 0.10485669 0.20568724 0.04735085]\n",
      "0.6953862352002065\n",
      "[0.12978796 0.14043647 0.15842183 0.09419318 0.11046814 0.11360769\n",
      " 0.20558654 0.04749819]\n",
      "0.6879254874854495\n",
      "[0.14330172 0.16798252 0.18875398 0.12274379 0.12804157 0.2017608\n",
      " 0.04741562]\n",
      "0.678404189975427\n",
      "[0.14916498 0.17984696 0.19813589 0.12271948 0.13351444 0.21661824]\n",
      "0.6731528137300304\n",
      "[0.19702274 0.24187312 0.16344931 0.17400651 0.22364833]\n",
      "0.6657406679496114\n",
      "[0.24394472 0.31838629 0.22684953 0.21081945]\n",
      "0.6639873376528889\n",
      "[0.37363269 0.4287578  0.1976095 ]\n",
      "0.630992869278167\n",
      "[0.80942932 0.19057068]\n",
      "0.07267494631926397\n",
      "[1.]\n"
     ]
    },
    {
     "ename": "ValueError",
     "evalue": "at least one array or dtype is required",
     "output_type": "error",
     "traceback": [
      "\u001B[1;31m---------------------------------------------------------------------------\u001B[0m",
      "\u001B[1;31mValueError\u001B[0m                                Traceback (most recent call last)",
      "Input \u001B[1;32mIn [79]\u001B[0m, in \u001B[0;36m<cell line: 8>\u001B[1;34m()\u001B[0m\n\u001B[0;32m     10\u001B[0m x_train, x_test, y_train, y_test \u001B[38;5;241m=\u001B[39m train_test_split(df_play,labels, test_size \u001B[38;5;241m=\u001B[39m \u001B[38;5;241m0.2\u001B[39m, random_state\u001B[38;5;241m=\u001B[39m\u001B[38;5;241m42\u001B[39m)\n\u001B[0;32m     11\u001B[0m rfg\u001B[38;5;241m=\u001B[39mRandomForestRegressor(n_estimators\u001B[38;5;241m=\u001B[39m\u001B[38;5;241m150\u001B[39m)\n\u001B[1;32m---> 12\u001B[0m \u001B[43mrfg\u001B[49m\u001B[38;5;241;43m.\u001B[39;49m\u001B[43mfit\u001B[49m\u001B[43m(\u001B[49m\u001B[43mx_train\u001B[49m\u001B[43m,\u001B[49m\u001B[43my_train\u001B[49m\u001B[43m)\u001B[49m\n\u001B[0;32m     13\u001B[0m topscore\u001B[38;5;241m=\u001B[39mrfg\u001B[38;5;241m.\u001B[39mscore(x_test,y_test)\n\u001B[0;32m     14\u001B[0m feat_imps\u001B[38;5;241m=\u001B[39mrfg\u001B[38;5;241m.\u001B[39mfeature_importances_\n",
      "File \u001B[1;32m~\\anaconda3\\lib\\site-packages\\sklearn\\ensemble\\_forest.py:331\u001B[0m, in \u001B[0;36mBaseForest.fit\u001B[1;34m(self, X, y, sample_weight)\u001B[0m\n\u001B[0;32m    329\u001B[0m \u001B[38;5;28;01mif\u001B[39;00m issparse(y):\n\u001B[0;32m    330\u001B[0m     \u001B[38;5;28;01mraise\u001B[39;00m \u001B[38;5;167;01mValueError\u001B[39;00m(\u001B[38;5;124m\"\u001B[39m\u001B[38;5;124msparse multilabel-indicator for y is not supported.\u001B[39m\u001B[38;5;124m\"\u001B[39m)\n\u001B[1;32m--> 331\u001B[0m X, y \u001B[38;5;241m=\u001B[39m \u001B[38;5;28;43mself\u001B[39;49m\u001B[38;5;241;43m.\u001B[39;49m\u001B[43m_validate_data\u001B[49m\u001B[43m(\u001B[49m\n\u001B[0;32m    332\u001B[0m \u001B[43m    \u001B[49m\u001B[43mX\u001B[49m\u001B[43m,\u001B[49m\u001B[43m \u001B[49m\u001B[43my\u001B[49m\u001B[43m,\u001B[49m\u001B[43m \u001B[49m\u001B[43mmulti_output\u001B[49m\u001B[38;5;241;43m=\u001B[39;49m\u001B[38;5;28;43;01mTrue\u001B[39;49;00m\u001B[43m,\u001B[49m\u001B[43m \u001B[49m\u001B[43maccept_sparse\u001B[49m\u001B[38;5;241;43m=\u001B[39;49m\u001B[38;5;124;43m\"\u001B[39;49m\u001B[38;5;124;43mcsc\u001B[39;49m\u001B[38;5;124;43m\"\u001B[39;49m\u001B[43m,\u001B[49m\u001B[43m \u001B[49m\u001B[43mdtype\u001B[49m\u001B[38;5;241;43m=\u001B[39;49m\u001B[43mDTYPE\u001B[49m\n\u001B[0;32m    333\u001B[0m \u001B[43m\u001B[49m\u001B[43m)\u001B[49m\n\u001B[0;32m    334\u001B[0m \u001B[38;5;28;01mif\u001B[39;00m sample_weight \u001B[38;5;129;01mis\u001B[39;00m \u001B[38;5;129;01mnot\u001B[39;00m \u001B[38;5;28;01mNone\u001B[39;00m:\n\u001B[0;32m    335\u001B[0m     sample_weight \u001B[38;5;241m=\u001B[39m _check_sample_weight(sample_weight, X)\n",
      "File \u001B[1;32m~\\anaconda3\\lib\\site-packages\\sklearn\\base.py:596\u001B[0m, in \u001B[0;36mBaseEstimator._validate_data\u001B[1;34m(self, X, y, reset, validate_separately, **check_params)\u001B[0m\n\u001B[0;32m    594\u001B[0m         y \u001B[38;5;241m=\u001B[39m check_array(y, input_name\u001B[38;5;241m=\u001B[39m\u001B[38;5;124m\"\u001B[39m\u001B[38;5;124my\u001B[39m\u001B[38;5;124m\"\u001B[39m, \u001B[38;5;241m*\u001B[39m\u001B[38;5;241m*\u001B[39mcheck_y_params)\n\u001B[0;32m    595\u001B[0m     \u001B[38;5;28;01melse\u001B[39;00m:\n\u001B[1;32m--> 596\u001B[0m         X, y \u001B[38;5;241m=\u001B[39m check_X_y(X, y, \u001B[38;5;241m*\u001B[39m\u001B[38;5;241m*\u001B[39mcheck_params)\n\u001B[0;32m    597\u001B[0m     out \u001B[38;5;241m=\u001B[39m X, y\n\u001B[0;32m    599\u001B[0m \u001B[38;5;28;01mif\u001B[39;00m \u001B[38;5;129;01mnot\u001B[39;00m no_val_X \u001B[38;5;129;01mand\u001B[39;00m check_params\u001B[38;5;241m.\u001B[39mget(\u001B[38;5;124m\"\u001B[39m\u001B[38;5;124mensure_2d\u001B[39m\u001B[38;5;124m\"\u001B[39m, \u001B[38;5;28;01mTrue\u001B[39;00m):\n",
      "File \u001B[1;32m~\\anaconda3\\lib\\site-packages\\sklearn\\utils\\validation.py:1074\u001B[0m, in \u001B[0;36mcheck_X_y\u001B[1;34m(X, y, accept_sparse, accept_large_sparse, dtype, order, copy, force_all_finite, ensure_2d, allow_nd, multi_output, ensure_min_samples, ensure_min_features, y_numeric, estimator)\u001B[0m\n\u001B[0;32m   1069\u001B[0m         estimator_name \u001B[38;5;241m=\u001B[39m _check_estimator_name(estimator)\n\u001B[0;32m   1070\u001B[0m     \u001B[38;5;28;01mraise\u001B[39;00m \u001B[38;5;167;01mValueError\u001B[39;00m(\n\u001B[0;32m   1071\u001B[0m         \u001B[38;5;124mf\u001B[39m\u001B[38;5;124m\"\u001B[39m\u001B[38;5;132;01m{\u001B[39;00mestimator_name\u001B[38;5;132;01m}\u001B[39;00m\u001B[38;5;124m requires y to be passed, but the target y is None\u001B[39m\u001B[38;5;124m\"\u001B[39m\n\u001B[0;32m   1072\u001B[0m     )\n\u001B[1;32m-> 1074\u001B[0m X \u001B[38;5;241m=\u001B[39m \u001B[43mcheck_array\u001B[49m\u001B[43m(\u001B[49m\n\u001B[0;32m   1075\u001B[0m \u001B[43m    \u001B[49m\u001B[43mX\u001B[49m\u001B[43m,\u001B[49m\n\u001B[0;32m   1076\u001B[0m \u001B[43m    \u001B[49m\u001B[43maccept_sparse\u001B[49m\u001B[38;5;241;43m=\u001B[39;49m\u001B[43maccept_sparse\u001B[49m\u001B[43m,\u001B[49m\n\u001B[0;32m   1077\u001B[0m \u001B[43m    \u001B[49m\u001B[43maccept_large_sparse\u001B[49m\u001B[38;5;241;43m=\u001B[39;49m\u001B[43maccept_large_sparse\u001B[49m\u001B[43m,\u001B[49m\n\u001B[0;32m   1078\u001B[0m \u001B[43m    \u001B[49m\u001B[43mdtype\u001B[49m\u001B[38;5;241;43m=\u001B[39;49m\u001B[43mdtype\u001B[49m\u001B[43m,\u001B[49m\n\u001B[0;32m   1079\u001B[0m \u001B[43m    \u001B[49m\u001B[43morder\u001B[49m\u001B[38;5;241;43m=\u001B[39;49m\u001B[43morder\u001B[49m\u001B[43m,\u001B[49m\n\u001B[0;32m   1080\u001B[0m \u001B[43m    \u001B[49m\u001B[43mcopy\u001B[49m\u001B[38;5;241;43m=\u001B[39;49m\u001B[43mcopy\u001B[49m\u001B[43m,\u001B[49m\n\u001B[0;32m   1081\u001B[0m \u001B[43m    \u001B[49m\u001B[43mforce_all_finite\u001B[49m\u001B[38;5;241;43m=\u001B[39;49m\u001B[43mforce_all_finite\u001B[49m\u001B[43m,\u001B[49m\n\u001B[0;32m   1082\u001B[0m \u001B[43m    \u001B[49m\u001B[43mensure_2d\u001B[49m\u001B[38;5;241;43m=\u001B[39;49m\u001B[43mensure_2d\u001B[49m\u001B[43m,\u001B[49m\n\u001B[0;32m   1083\u001B[0m \u001B[43m    \u001B[49m\u001B[43mallow_nd\u001B[49m\u001B[38;5;241;43m=\u001B[39;49m\u001B[43mallow_nd\u001B[49m\u001B[43m,\u001B[49m\n\u001B[0;32m   1084\u001B[0m \u001B[43m    \u001B[49m\u001B[43mensure_min_samples\u001B[49m\u001B[38;5;241;43m=\u001B[39;49m\u001B[43mensure_min_samples\u001B[49m\u001B[43m,\u001B[49m\n\u001B[0;32m   1085\u001B[0m \u001B[43m    \u001B[49m\u001B[43mensure_min_features\u001B[49m\u001B[38;5;241;43m=\u001B[39;49m\u001B[43mensure_min_features\u001B[49m\u001B[43m,\u001B[49m\n\u001B[0;32m   1086\u001B[0m \u001B[43m    \u001B[49m\u001B[43mestimator\u001B[49m\u001B[38;5;241;43m=\u001B[39;49m\u001B[43mestimator\u001B[49m\u001B[43m,\u001B[49m\n\u001B[0;32m   1087\u001B[0m \u001B[43m    \u001B[49m\u001B[43minput_name\u001B[49m\u001B[38;5;241;43m=\u001B[39;49m\u001B[38;5;124;43m\"\u001B[39;49m\u001B[38;5;124;43mX\u001B[39;49m\u001B[38;5;124;43m\"\u001B[39;49m\u001B[43m,\u001B[49m\n\u001B[0;32m   1088\u001B[0m \u001B[43m\u001B[49m\u001B[43m)\u001B[49m\n\u001B[0;32m   1090\u001B[0m y \u001B[38;5;241m=\u001B[39m _check_y(y, multi_output\u001B[38;5;241m=\u001B[39mmulti_output, y_numeric\u001B[38;5;241m=\u001B[39my_numeric, estimator\u001B[38;5;241m=\u001B[39mestimator)\n\u001B[0;32m   1092\u001B[0m check_consistent_length(X, y)\n",
      "File \u001B[1;32m~\\anaconda3\\lib\\site-packages\\sklearn\\utils\\validation.py:768\u001B[0m, in \u001B[0;36mcheck_array\u001B[1;34m(array, accept_sparse, accept_large_sparse, dtype, order, copy, force_all_finite, ensure_2d, allow_nd, ensure_min_samples, ensure_min_features, estimator, input_name)\u001B[0m\n\u001B[0;32m    764\u001B[0m     pandas_requires_conversion \u001B[38;5;241m=\u001B[39m \u001B[38;5;28many\u001B[39m(\n\u001B[0;32m    765\u001B[0m         _pandas_dtype_needs_early_conversion(i) \u001B[38;5;28;01mfor\u001B[39;00m i \u001B[38;5;129;01min\u001B[39;00m dtypes_orig\n\u001B[0;32m    766\u001B[0m     )\n\u001B[0;32m    767\u001B[0m     \u001B[38;5;28;01mif\u001B[39;00m \u001B[38;5;28mall\u001B[39m(\u001B[38;5;28misinstance\u001B[39m(dtype_iter, np\u001B[38;5;241m.\u001B[39mdtype) \u001B[38;5;28;01mfor\u001B[39;00m dtype_iter \u001B[38;5;129;01min\u001B[39;00m dtypes_orig):\n\u001B[1;32m--> 768\u001B[0m         dtype_orig \u001B[38;5;241m=\u001B[39m \u001B[43mnp\u001B[49m\u001B[38;5;241;43m.\u001B[39;49m\u001B[43mresult_type\u001B[49m\u001B[43m(\u001B[49m\u001B[38;5;241;43m*\u001B[39;49m\u001B[43mdtypes_orig\u001B[49m\u001B[43m)\u001B[49m\n\u001B[0;32m    770\u001B[0m \u001B[38;5;28;01mif\u001B[39;00m dtype_numeric:\n\u001B[0;32m    771\u001B[0m     \u001B[38;5;28;01mif\u001B[39;00m dtype_orig \u001B[38;5;129;01mis\u001B[39;00m \u001B[38;5;129;01mnot\u001B[39;00m \u001B[38;5;28;01mNone\u001B[39;00m \u001B[38;5;129;01mand\u001B[39;00m dtype_orig\u001B[38;5;241m.\u001B[39mkind \u001B[38;5;241m==\u001B[39m \u001B[38;5;124m\"\u001B[39m\u001B[38;5;124mO\u001B[39m\u001B[38;5;124m\"\u001B[39m:\n\u001B[0;32m    772\u001B[0m         \u001B[38;5;66;03m# if input is object, convert to float.\u001B[39;00m\n",
      "File \u001B[1;32m<__array_function__ internals>:5\u001B[0m, in \u001B[0;36mresult_type\u001B[1;34m(*args, **kwargs)\u001B[0m\n",
      "\u001B[1;31mValueError\u001B[0m: at least one array or dtype is required"
     ]
    }
   ],
   "source": [
    "##Fit and predict after dropping the next least loss feature\n",
    "x_train, x_test, y_train, y_test = train_test_split(df_play,labels, test_size = 0.2, random_state=42)\n",
    "rfg=RandomForestRegressor(n_estimators=150)\n",
    "rfg.fit(x_train,y_train)\n",
    "topscore=rfg.score(x_test,y_test)\n",
    "feat_imps=rfg.feature_importances_\n",
    "scores.append(topscore)\n",
    "importances.append(feat_imps)\n",
    "for i in to_drop:\n",
    "    df_play.drop(columns=[i],inplace=True)\n",
    "    x_train, x_test, y_train, y_test = train_test_split(df_play,labels, test_size = 0.2, random_state=42)\n",
    "    rfg=RandomForestRegressor(n_estimators=150)\n",
    "    rfg.fit(x_train,y_train)\n",
    "    topscore=rfg.score(x_test,y_test)\n",
    "    feat_imps=rfg.feature_importances_\n",
    "    col_feats=list(zip(df_play.columns,feat_imps))\n",
    "    scores.append(topscore)\n",
    "    importances.append(col_feats)\n",
    "    print(topscore)\n",
    "    print(feat_imps)\n"
   ],
   "metadata": {
    "collapsed": false,
    "pycharm": {
     "name": "#%%\n"
    }
   }
  },
  {
   "cell_type": "code",
   "execution_count": 81,
   "outputs": [],
   "source": [
    "a=pd.DataFrame(importances)\n",
    "a.to_excel(\"Output_data/feats_afterdrop.xlsx\")"
   ],
   "metadata": {
    "collapsed": false,
    "pycharm": {
     "name": "#%%\n"
    }
   }
  },
  {
   "cell_type": "code",
   "execution_count": 80,
   "outputs": [],
   "source": [
    "\n",
    "a=pd.DataFrame(scores)\n",
    "a.to_excel(\"Output_data/scores_afterdrop.xlsx\")"
   ],
   "metadata": {
    "collapsed": false,
    "pycharm": {
     "name": "#%%\n"
    }
   }
  },
  {
   "cell_type": "code",
   "execution_count": null,
   "outputs": [],
   "source": [
    "a=pd.DataFrame(list(zip(feats,scores)))\n",
    "a.to_excel(\"Output_data/loss_feats.xlsx\")"
   ],
   "metadata": {
    "collapsed": false,
    "pycharm": {
     "name": "#%%\n"
    }
   }
  }
 ],
 "metadata": {
  "kernelspec": {
   "display_name": "Python 3",
   "language": "python",
   "name": "python3"
  },
  "language_info": {
   "codemirror_mode": {
    "name": "ipython",
    "version": 2
   },
   "file_extension": ".py",
   "mimetype": "text/x-python",
   "name": "python",
   "nbconvert_exporter": "python",
   "pygments_lexer": "ipython2",
   "version": "2.7.6"
  }
 },
 "nbformat": 4,
 "nbformat_minor": 0
}
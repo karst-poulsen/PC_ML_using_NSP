{
 "cells": [
  {
   "cell_type": "code",
   "execution_count": 12,
   "outputs": [],
   "source": [
    "import os\n",
    "import pandas as pd\n",
    "import numpy as np\n",
    "from sklearn.ensemble import RandomForestClassifier\n",
    "from sklearn.ensemble import RandomForestRegressor\n",
    "from sklearn import metrics\n",
    "import matplotlib.pyplot as plt\n",
    "import seaborn as sns\n",
    "from helper_functions_pipe_testing import *\n",
    "from sklearn.metrics import  f1_score, recall_score, precision_score, confusion_matrix\n",
    "from sklearn.model_selection import StratifiedShuffleSplit\n",
    "from sklearn.model_selection import train_test_split\n",
    "from sklearn.preprocessing import MinMaxScaler\n",
    "from imblearn.over_sampling import *\n"
   ],
   "metadata": {
    "collapsed": false,
    "pycharm": {
     "name": "#%%\n"
    }
   }
  },
  {
   "cell_type": "markdown",
   "source": [
    "#Instructions for the pipeline\n",
    "Requires two inputs for training:\n",
    "    - Mass spec data with corresponding NP surface characteristics and experimental conditions (time, concentration)\n",
    "    - NetsurfP and Biopython data that has been precalculated\n",
    "    - X characteristics to predict\n",
    "\n",
    "pipeline\n",
    "Take mass spec spreadsheet\n",
    "Accession,Enrichment,Dh,TEM,Zp,BET,Composition,Ligand,Shape,IncubationTime,IncubationConcentration\n",
    "Merge with Proteome data to get file that has\n",
    "Accession,Enrichment,Dh,TEM,Zp,BET,Composition,Ligand,Shape,IncubationTime,IncubationConcentration,Mass,Length,Sequence\n",
    "Calculate protein features using biopython\n",
    "Merge with NSP data to get all protein features\n",
    "\n",
    "Split into X and Y dataset with Entries as labels"
   ],
   "metadata": {
    "collapsed": false,
    "pycharm": {
     "name": "#%% md\n"
    }
   }
  },
  {
   "cell_type": "code",
   "execution_count": 13,
   "outputs": [],
   "source": [
    "### New Data workup for RFG\n",
    "\n",
    "# Pull together Proteomic data\n",
    "in_dir=\"Input_data/ExternalData/abundance/\"\n",
    "#combine Mass Spec data input into one excel spreadsheet - Entry - Abundance labeled by NP Unique ID\n",
    "#Abundance as a percent\n",
    "#take files in_dir and combine then into one pandas df (raw_MS_data)\n",
    "files= os.listdir(in_dir)\n",
    "for i,f in enumerate(files):\n",
    "    if i==0:\n",
    "        raw_MS_data=pd.read_csv(in_dir+f,header=0)\n",
    "    else:\n",
    "        temp = pd.read_csv(in_dir+f,header=0)\n",
    "        raw_MS_data=raw_MS_data.merge(temp,how='outer',on='Entry')\n",
    "# melt the df to make it an accession number, NPUNID, Abundance dataset\n",
    "raw_MS_data = pd.melt(raw_MS_data, id_vars=['Entry'],var_name='NPUNID', value_name='Abundance')\n",
    "#remove prots that were added due to merge\n",
    "raw_MS_data=raw_MS_data.dropna()"
   ],
   "metadata": {
    "collapsed": false,
    "pycharm": {
     "name": "#%%\n"
    }
   }
  },
  {
   "cell_type": "code",
   "execution_count": 13,
   "outputs": [],
   "source": [
    "##to adjust what controls you are using edit here\n",
    "# control_files=['controls_BALF.xlsx','controls_FBS.xlsx','controls_Human_unedited.xlsx']\n",
    "# control_dir='Input_data/Proteomic data/'\n",
    "# import glob\n",
    "# combined_list=[]\n",
    "# for file in control_files:\n",
    "#     combined_list.append(pd.read_excel(control_dir+file))\n",
    "# combined= pd.concat(combined_list, ignore_index=True)\n",
    "# combined.dropna(how='all', axis=1,inplace=True)"
   ],
   "metadata": {
    "collapsed": false,
    "pycharm": {
     "name": "#%%\n"
    }
   }
  },
  {
   "cell_type": "code",
   "execution_count": 14,
   "outputs": [],
   "source": [
    "###Bring in controls (MS data for serums)##\n",
    "#Controls is the abundance of the proteins in serum that have been observed via proteomics\n",
    "#human protein abundance data found here- https://db.systemsbiology.net/sbeams/cgi/PeptideAtlas/GetProteins\n",
    "#Normalized expected concentration into a percent to make it similar to the rest of the normalized abundances used\n",
    "#Need FBS As well for Ban task\n",
    "controls=pd.read_excel('Input_data/Proteomic data/controls_combined.xlsx')\n",
    "MS_data_controls = pd.merge(raw_MS_data,controls,how='inner', on='Entry')\n",
    "###Bring in Uniprot_data,NSPdata and NP data##\n",
    "\n",
    "biopy_dat=pd.read_excel('Input_data/BioPython_data/Combined_biopyCalcs.xlsx',header=0)\n",
    "NSPfilePath='Input_data/NetSurfP_data/Combined.xlsx'\n",
    "NSP_data=pd.read_excel(NSPfilePath)\n",
    "###Bring in NP data and merge to get complete NP dataset###\n",
    "# NP_filepath='Input_data/NPs/NP_Database.xlsx'\n",
    "# NPUNdata=pd.read_excel(NP_filepath,header=0,sheet_name='NPUNID')\n",
    "# NPprop=pd.read_excel(NP_filepath,header=0,sheet_name='NP_Props')\n",
    "# NPdata=pd.merge(NPUNdata,NPprop,how=\"left\",on='NPID')\n",
    "NPdata=pd.read_csv('Input_data/ExternalData/ban_PNAS_NPs.csv', header=0)"
   ],
   "metadata": {
    "collapsed": false,
    "pycharm": {
     "name": "#%%\n"
    }
   }
  },
  {
   "cell_type": "code",
   "execution_count": 33,
   "outputs": [
    {
     "name": "stderr",
     "output_type": "stream",
     "text": [
      "C:\\Users\\kmp95\\Anaconda3\\lib\\site-packages\\pandas\\core\\arraylike.py:397: RuntimeWarning: divide by zero encountered in log2\n",
      "  result = getattr(ufunc, method)(*inputs, **kwargs)\n"
     ]
    }
   ],
   "source": [
    "#calculate Enrichment\n",
    "#####MAYBE add binning here to to keep negative results and improve capapbilities######\n",
    "MS_data_controls['Enrichment']= np.log2(MS_data_controls['Abundance']/MS_data_controls['Abundance_Controls'])\n",
    "MS_data=MS_data_controls.drop(columns=['Abundance','Abundance_Controls'])\n",
    "raw_prop_data=pd.merge(MS_data, biopy_dat, how='left',on='Entry')"
   ],
   "metadata": {
    "collapsed": false,
    "pycharm": {
     "name": "#%%\n"
    }
   }
  },
  {
   "cell_type": "code",
   "execution_count": 42,
   "outputs": [
    {
     "data": {
      "text/plain": "Entry                                      0\nNPUNID                                     0\nEnrichment                                 0\nSequence                                   0\nLength                                     0\nMass                                       0\nfrac_aa_A                                  0\nfrac_aa_C                                  0\nfrac_aa_D                                  0\nfrac_aa_E                                  0\nfrac_aa_F                                  0\nfrac_aa_G                                  0\nfrac_aa_H                                  0\nfrac_aa_I                                  0\nfrac_aa_K                                  0\nfrac_aa_L                                  0\nfrac_aa_M                                  0\nfrac_aa_N                                  0\nfrac_aa_P                                  0\nfrac_aa_Q                                  0\nfrac_aa_R                                  0\nfrac_aa_S                                  0\nfrac_aa_T                                  0\nfrac_aa_V                                  0\nfrac_aa_W                                  0\nfrac_aa_Y                                  0\nmolecular_weight                           0\naromaticity                                0\ninstability_index                          0\nflexibility_mean                           0\nflexibility_std                            0\nflexibility_var                            0\nflexibility_max                            0\nflexibility_min                            0\nflexibility_median                         0\nisoelectric_point                          0\nsecondary_structure_fraction_helix         0\nsecondary_structure_fraction_turn          0\nsecondary_structure_fraction_sheet         0\nsecondary_structure_fraction_disordered    0\ngravy                                      0\ndtype: int64"
     },
     "execution_count": 42,
     "metadata": {},
     "output_type": "execute_result"
    }
   ],
   "source": [
    "raw_prop_data[raw_prop_data==np.nan].count()"
   ],
   "metadata": {
    "collapsed": false,
    "pycharm": {
     "name": "#%%\n"
    }
   }
  },
  {
   "cell_type": "code",
   "execution_count": 40,
   "outputs": [
    {
     "data": {
      "text/plain": "         Entry NPUNID Enrichment  \\\n0       P01871      1        -12   \n1       P01871      2        -12   \n2       P01871      3        -12   \n3       P01871      4        -12   \n4       P01871      5        -12   \n...        ...    ...        ...   \n113443  P11226    648  12.491991   \n113444  P11226    649  12.706821   \n113445  P11226    650  12.405526   \n113446  P11226    651  12.042907   \n113447  P11226    652  12.628687   \n\n                                                 Sequence  Length     Mass  \\\n0       GSASAPTLFPLVSCENSPSDTSSVAVGCLAQDFLPDSITFSWKYKN...   453.0  49440.0   \n1       GSASAPTLFPLVSCENSPSDTSSVAVGCLAQDFLPDSITFSWKYKN...   453.0  49440.0   \n2       GSASAPTLFPLVSCENSPSDTSSVAVGCLAQDFLPDSITFSWKYKN...   453.0  49440.0   \n3       GSASAPTLFPLVSCENSPSDTSSVAVGCLAQDFLPDSITFSWKYKN...   453.0  49440.0   \n4       GSASAPTLFPLVSCENSPSDTSSVAVGCLAQDFLPDSITFSWKYKN...   453.0  49440.0   \n...                                                   ...     ...      ...   \n113443  MSLFPSLPLLLLSMVAASYSETVTCEDAQKTCPAVIACSSPGINGF...   248.0  26144.0   \n113444  MSLFPSLPLLLLSMVAASYSETVTCEDAQKTCPAVIACSSPGINGF...   248.0  26144.0   \n113445  MSLFPSLPLLLLSMVAASYSETVTCEDAQKTCPAVIACSSPGINGF...   248.0  26144.0   \n113446  MSLFPSLPLLLLSMVAASYSETVTCEDAQKTCPAVIACSSPGINGF...   248.0  26144.0   \n113447  MSLFPSLPLLLLSMVAASYSETVTCEDAQKTCPAVIACSSPGINGF...   248.0  26144.0   \n\n        frac_aa_A  frac_aa_C  frac_aa_D  frac_aa_E  ...  flexibility_var  \\\n0        0.061810   0.026490   0.046358   0.050773  ...         0.000643   \n1        0.061810   0.026490   0.046358   0.050773  ...         0.000643   \n2        0.061810   0.026490   0.046358   0.050773  ...         0.000643   \n3        0.061810   0.026490   0.046358   0.050773  ...         0.000643   \n4        0.061810   0.026490   0.046358   0.050773  ...         0.000643   \n...           ...        ...        ...        ...  ...              ...   \n113443   0.072581   0.028226   0.044355   0.068548  ...         0.000848   \n113444   0.072581   0.028226   0.044355   0.068548  ...         0.000848   \n113445   0.072581   0.028226   0.044355   0.068548  ...         0.000848   \n113446   0.072581   0.028226   0.044355   0.068548  ...         0.000848   \n113447   0.072581   0.028226   0.044355   0.068548  ...         0.000848   \n\n        flexibility_max  flexibility_min  flexibility_median  \\\n0              1.069405         0.941298            1.003333   \n1              1.069405         0.941298            1.003333   \n2              1.069405         0.941298            1.003333   \n3              1.069405         0.941298            1.003333   \n4              1.069405         0.941298            1.003333   \n...                 ...              ...                 ...   \n113443         1.077048         0.946810            1.010655   \n113444         1.077048         0.946810            1.010655   \n113445         1.077048         0.946810            1.010655   \n113446         1.077048         0.946810            1.010655   \n113447         1.077048         0.946810            1.010655   \n\n        isoelectric_point  secondary_structure_fraction_helix  \\\n0                6.346949                            0.267108   \n1                6.346949                            0.267108   \n2                6.346949                            0.267108   \n3                6.346949                            0.267108   \n4                6.346949                            0.267108   \n...                   ...                                 ...   \n113443           5.392963                            0.229839   \n113444           5.392963                            0.229839   \n113445           5.392963                            0.229839   \n113446           5.392963                            0.229839   \n113447           5.392963                            0.229839   \n\n        secondary_structure_fraction_turn  secondary_structure_fraction_sheet  \\\n0                                0.273731                             0.19426   \n1                                0.273731                             0.19426   \n2                                0.273731                             0.19426   \n3                                0.273731                             0.19426   \n4                                0.273731                             0.19426   \n...                                   ...                                 ...   \n113443                           0.334677                             0.25000   \n113444                           0.334677                             0.25000   \n113445                           0.334677                             0.25000   \n113446                           0.334677                             0.25000   \n113447                           0.334677                             0.25000   \n\n        secondary_structure_fraction_disordered     gravy  \n0                                      0.264901 -0.318543  \n1                                      0.264901 -0.318543  \n2                                      0.264901 -0.318543  \n3                                      0.264901 -0.318543  \n4                                      0.264901 -0.318543  \n...                                         ...       ...  \n113443                                 0.185484 -0.426613  \n113444                                 0.185484 -0.426613  \n113445                                 0.185484 -0.426613  \n113446                                 0.185484 -0.426613  \n113447                                 0.185484 -0.426613  \n\n[113448 rows x 41 columns]",
      "text/html": "<div>\n<style scoped>\n    .dataframe tbody tr th:only-of-type {\n        vertical-align: middle;\n    }\n\n    .dataframe tbody tr th {\n        vertical-align: top;\n    }\n\n    .dataframe thead th {\n        text-align: right;\n    }\n</style>\n<table border=\"1\" class=\"dataframe\">\n  <thead>\n    <tr style=\"text-align: right;\">\n      <th></th>\n      <th>Entry</th>\n      <th>NPUNID</th>\n      <th>Enrichment</th>\n      <th>Sequence</th>\n      <th>Length</th>\n      <th>Mass</th>\n      <th>frac_aa_A</th>\n      <th>frac_aa_C</th>\n      <th>frac_aa_D</th>\n      <th>frac_aa_E</th>\n      <th>...</th>\n      <th>flexibility_var</th>\n      <th>flexibility_max</th>\n      <th>flexibility_min</th>\n      <th>flexibility_median</th>\n      <th>isoelectric_point</th>\n      <th>secondary_structure_fraction_helix</th>\n      <th>secondary_structure_fraction_turn</th>\n      <th>secondary_structure_fraction_sheet</th>\n      <th>secondary_structure_fraction_disordered</th>\n      <th>gravy</th>\n    </tr>\n  </thead>\n  <tbody>\n    <tr>\n      <th>0</th>\n      <td>P01871</td>\n      <td>1</td>\n      <td>-12</td>\n      <td>GSASAPTLFPLVSCENSPSDTSSVAVGCLAQDFLPDSITFSWKYKN...</td>\n      <td>453.0</td>\n      <td>49440.0</td>\n      <td>0.061810</td>\n      <td>0.026490</td>\n      <td>0.046358</td>\n      <td>0.050773</td>\n      <td>...</td>\n      <td>0.000643</td>\n      <td>1.069405</td>\n      <td>0.941298</td>\n      <td>1.003333</td>\n      <td>6.346949</td>\n      <td>0.267108</td>\n      <td>0.273731</td>\n      <td>0.19426</td>\n      <td>0.264901</td>\n      <td>-0.318543</td>\n    </tr>\n    <tr>\n      <th>1</th>\n      <td>P01871</td>\n      <td>2</td>\n      <td>-12</td>\n      <td>GSASAPTLFPLVSCENSPSDTSSVAVGCLAQDFLPDSITFSWKYKN...</td>\n      <td>453.0</td>\n      <td>49440.0</td>\n      <td>0.061810</td>\n      <td>0.026490</td>\n      <td>0.046358</td>\n      <td>0.050773</td>\n      <td>...</td>\n      <td>0.000643</td>\n      <td>1.069405</td>\n      <td>0.941298</td>\n      <td>1.003333</td>\n      <td>6.346949</td>\n      <td>0.267108</td>\n      <td>0.273731</td>\n      <td>0.19426</td>\n      <td>0.264901</td>\n      <td>-0.318543</td>\n    </tr>\n    <tr>\n      <th>2</th>\n      <td>P01871</td>\n      <td>3</td>\n      <td>-12</td>\n      <td>GSASAPTLFPLVSCENSPSDTSSVAVGCLAQDFLPDSITFSWKYKN...</td>\n      <td>453.0</td>\n      <td>49440.0</td>\n      <td>0.061810</td>\n      <td>0.026490</td>\n      <td>0.046358</td>\n      <td>0.050773</td>\n      <td>...</td>\n      <td>0.000643</td>\n      <td>1.069405</td>\n      <td>0.941298</td>\n      <td>1.003333</td>\n      <td>6.346949</td>\n      <td>0.267108</td>\n      <td>0.273731</td>\n      <td>0.19426</td>\n      <td>0.264901</td>\n      <td>-0.318543</td>\n    </tr>\n    <tr>\n      <th>3</th>\n      <td>P01871</td>\n      <td>4</td>\n      <td>-12</td>\n      <td>GSASAPTLFPLVSCENSPSDTSSVAVGCLAQDFLPDSITFSWKYKN...</td>\n      <td>453.0</td>\n      <td>49440.0</td>\n      <td>0.061810</td>\n      <td>0.026490</td>\n      <td>0.046358</td>\n      <td>0.050773</td>\n      <td>...</td>\n      <td>0.000643</td>\n      <td>1.069405</td>\n      <td>0.941298</td>\n      <td>1.003333</td>\n      <td>6.346949</td>\n      <td>0.267108</td>\n      <td>0.273731</td>\n      <td>0.19426</td>\n      <td>0.264901</td>\n      <td>-0.318543</td>\n    </tr>\n    <tr>\n      <th>4</th>\n      <td>P01871</td>\n      <td>5</td>\n      <td>-12</td>\n      <td>GSASAPTLFPLVSCENSPSDTSSVAVGCLAQDFLPDSITFSWKYKN...</td>\n      <td>453.0</td>\n      <td>49440.0</td>\n      <td>0.061810</td>\n      <td>0.026490</td>\n      <td>0.046358</td>\n      <td>0.050773</td>\n      <td>...</td>\n      <td>0.000643</td>\n      <td>1.069405</td>\n      <td>0.941298</td>\n      <td>1.003333</td>\n      <td>6.346949</td>\n      <td>0.267108</td>\n      <td>0.273731</td>\n      <td>0.19426</td>\n      <td>0.264901</td>\n      <td>-0.318543</td>\n    </tr>\n    <tr>\n      <th>...</th>\n      <td>...</td>\n      <td>...</td>\n      <td>...</td>\n      <td>...</td>\n      <td>...</td>\n      <td>...</td>\n      <td>...</td>\n      <td>...</td>\n      <td>...</td>\n      <td>...</td>\n      <td>...</td>\n      <td>...</td>\n      <td>...</td>\n      <td>...</td>\n      <td>...</td>\n      <td>...</td>\n      <td>...</td>\n      <td>...</td>\n      <td>...</td>\n      <td>...</td>\n      <td>...</td>\n    </tr>\n    <tr>\n      <th>113443</th>\n      <td>P11226</td>\n      <td>648</td>\n      <td>12.491991</td>\n      <td>MSLFPSLPLLLLSMVAASYSETVTCEDAQKTCPAVIACSSPGINGF...</td>\n      <td>248.0</td>\n      <td>26144.0</td>\n      <td>0.072581</td>\n      <td>0.028226</td>\n      <td>0.044355</td>\n      <td>0.068548</td>\n      <td>...</td>\n      <td>0.000848</td>\n      <td>1.077048</td>\n      <td>0.946810</td>\n      <td>1.010655</td>\n      <td>5.392963</td>\n      <td>0.229839</td>\n      <td>0.334677</td>\n      <td>0.25000</td>\n      <td>0.185484</td>\n      <td>-0.426613</td>\n    </tr>\n    <tr>\n      <th>113444</th>\n      <td>P11226</td>\n      <td>649</td>\n      <td>12.706821</td>\n      <td>MSLFPSLPLLLLSMVAASYSETVTCEDAQKTCPAVIACSSPGINGF...</td>\n      <td>248.0</td>\n      <td>26144.0</td>\n      <td>0.072581</td>\n      <td>0.028226</td>\n      <td>0.044355</td>\n      <td>0.068548</td>\n      <td>...</td>\n      <td>0.000848</td>\n      <td>1.077048</td>\n      <td>0.946810</td>\n      <td>1.010655</td>\n      <td>5.392963</td>\n      <td>0.229839</td>\n      <td>0.334677</td>\n      <td>0.25000</td>\n      <td>0.185484</td>\n      <td>-0.426613</td>\n    </tr>\n    <tr>\n      <th>113445</th>\n      <td>P11226</td>\n      <td>650</td>\n      <td>12.405526</td>\n      <td>MSLFPSLPLLLLSMVAASYSETVTCEDAQKTCPAVIACSSPGINGF...</td>\n      <td>248.0</td>\n      <td>26144.0</td>\n      <td>0.072581</td>\n      <td>0.028226</td>\n      <td>0.044355</td>\n      <td>0.068548</td>\n      <td>...</td>\n      <td>0.000848</td>\n      <td>1.077048</td>\n      <td>0.946810</td>\n      <td>1.010655</td>\n      <td>5.392963</td>\n      <td>0.229839</td>\n      <td>0.334677</td>\n      <td>0.25000</td>\n      <td>0.185484</td>\n      <td>-0.426613</td>\n    </tr>\n    <tr>\n      <th>113446</th>\n      <td>P11226</td>\n      <td>651</td>\n      <td>12.042907</td>\n      <td>MSLFPSLPLLLLSMVAASYSETVTCEDAQKTCPAVIACSSPGINGF...</td>\n      <td>248.0</td>\n      <td>26144.0</td>\n      <td>0.072581</td>\n      <td>0.028226</td>\n      <td>0.044355</td>\n      <td>0.068548</td>\n      <td>...</td>\n      <td>0.000848</td>\n      <td>1.077048</td>\n      <td>0.946810</td>\n      <td>1.010655</td>\n      <td>5.392963</td>\n      <td>0.229839</td>\n      <td>0.334677</td>\n      <td>0.25000</td>\n      <td>0.185484</td>\n      <td>-0.426613</td>\n    </tr>\n    <tr>\n      <th>113447</th>\n      <td>P11226</td>\n      <td>652</td>\n      <td>12.628687</td>\n      <td>MSLFPSLPLLLLSMVAASYSETVTCEDAQKTCPAVIACSSPGINGF...</td>\n      <td>248.0</td>\n      <td>26144.0</td>\n      <td>0.072581</td>\n      <td>0.028226</td>\n      <td>0.044355</td>\n      <td>0.068548</td>\n      <td>...</td>\n      <td>0.000848</td>\n      <td>1.077048</td>\n      <td>0.946810</td>\n      <td>1.010655</td>\n      <td>5.392963</td>\n      <td>0.229839</td>\n      <td>0.334677</td>\n      <td>0.25000</td>\n      <td>0.185484</td>\n      <td>-0.426613</td>\n    </tr>\n  </tbody>\n</table>\n<p>113448 rows × 41 columns</p>\n</div>"
     },
     "execution_count": 40,
     "metadata": {},
     "output_type": "execute_result"
    }
   ],
   "source": [
    "raw_prop_data.replace([-np.inf],'-12')"
   ],
   "metadata": {
    "collapsed": false,
    "pycharm": {
     "name": "#%%\n"
    }
   }
  },
  {
   "cell_type": "code",
   "execution_count": null,
   "outputs": [],
   "source": [],
   "metadata": {
    "collapsed": false,
    "pycharm": {
     "name": "#%%\n"
    }
   }
  },
  {
   "cell_type": "code",
   "execution_count": 43,
   "outputs": [
    {
     "data": {
      "text/plain": "(157784, 110)"
     },
     "execution_count": 43,
     "metadata": {},
     "output_type": "execute_result"
    }
   ],
   "source": [
    "MS_data_clean = raw_MS_data.copy()\n",
    "PROT_cleaned_data = normalize_mass_length_1DF(raw_prop_data) #function found in data_prep_functions line 167, normalizes mass, length and mw by dividing all values by the max in the column\n",
    "Protein_data_complete = pd.merge(PROT_cleaned_data, NSP_data, left_on='Entry', right_on='Entry') #merges netsurfp features and biopython features\n",
    "Protein_data_complete['NPUNID']=Protein_data_complete['NPUNID'].astype(int) #need to set the index as ints to appropriately merge\n",
    "#creates new column called asa_sum_normalized which is the asa_sum value divide by the mass of the protein\n",
    "for df in [Protein_data_complete]:\n",
    "    for col in ['asa_sum']:\n",
    "        df[col+'_normalized'] = df[col] / df['Mass']\n",
    "\n",
    "data_complete= pd.merge(Protein_data_complete,NPdata,how='left', on='NPUNID')\n",
    "data_complete.shape\n",
    "# data_complete.drop(columns=['notes','Notes','BET','Unnamed: 0'],inplace=True)\n",
    "#Optional here to drop all enrichment values that are NA - also have to deal with positive/negative infinity values\n",
    "# data_complete.dropna(subset=['Enrichment'],inplace=True)"
   ],
   "metadata": {
    "collapsed": false,
    "pycharm": {
     "name": "#%%\n"
    }
   }
  },
  {
   "cell_type": "code",
   "execution_count": 44,
   "outputs": [
    {
     "data": {
      "text/plain": "Entry                            0\nNPUNID                           0\nEnrichment                       0\nSequence                         0\nLength                           0\n                                ..\nnsp_secondary_structure_coil     0\nnsp_secondary_structure_sheet    0\nnsp_secondary_structure_helix    0\nnsp_disordered                   0\nasa_sum_normalized               0\nLength: 98, dtype: int64"
     },
     "execution_count": 44,
     "metadata": {},
     "output_type": "execute_result"
    }
   ],
   "source": [
    "# Protein_data_complete.isna().sum().sum()\n",
    "Protein_data_complete[Protein_data_complete==np.nan].count()"
   ],
   "metadata": {
    "collapsed": false,
    "pycharm": {
     "name": "#%%\n"
    }
   }
  },
  {
   "cell_type": "code",
   "execution_count": 51,
   "outputs": [
    {
     "data": {
      "text/plain": "(157784, 110)"
     },
     "execution_count": 51,
     "metadata": {},
     "output_type": "execute_result"
    }
   ],
   "source": [
    "data_complete2=data_complete.dropna(axis=1)\n",
    "#replace -infintiy and positive infinity with -12 and 12\n",
    "\n",
    "#####COME BACK AND FIND BETTER SOLUTION!!!##\n",
    "data_complete = data_complete.replace([-np.inf],'-12')\n",
    "data_complete = data_complete.replace([np.inf],'12')\n",
    "data_complete.shape\n",
    "#it looks like there is something wrong with the biopy dataset? Maybe not ints or missing some proteins\n",
    "#also missing data from NP dataset"
   ],
   "metadata": {
    "collapsed": false,
    "pycharm": {
     "name": "#%%\n"
    }
   }
  },
  {
   "cell_type": "code",
   "execution_count": 67,
   "outputs": [
    {
     "data": {
      "text/plain": "0"
     },
     "execution_count": 67,
     "metadata": {},
     "output_type": "execute_result"
    }
   ],
   "source": [
    "# data_complete[data_complete==np.nan].count()\n"
   ],
   "metadata": {
    "collapsed": false,
    "pycharm": {
     "name": "#%%\n"
    }
   }
  },
  {
   "cell_type": "code",
   "execution_count": 53,
   "outputs": [
    {
     "data": {
      "text/plain": "Index(['Entry', 'NPUNID', 'Enrichment', 'fraction_exposed', 'fraction_buried',\n       'fraction_exposed_nonpolar_total', 'fraction_exposed_nonpolar_exposed',\n       'fraction_exposed_polar_total', 'fraction_exposed_polar_exposed',\n       'rsa_mean', 'rsa_median', 'asa_sum', 'fraction_total_exposed_A',\n       'fraction_total_exposed_C', 'fraction_total_exposed_D',\n       'fraction_total_exposed_E', 'fraction_total_exposed_F',\n       'fraction_total_exposed_G', 'fraction_total_exposed_H',\n       'fraction_total_exposed_I', 'fraction_total_exposed_K',\n       'fraction_total_exposed_L', 'fraction_total_exposed_M',\n       'fraction_total_exposed_N', 'fraction_total_exposed_P',\n       'fraction_total_exposed_Q', 'fraction_total_exposed_R',\n       'fraction_total_exposed_S', 'fraction_total_exposed_T',\n       'fraction_total_exposed_V', 'fraction_total_exposed_W',\n       'fraction_total_exposed_Y', 'fraction_exposed_exposed_A',\n       'fraction_exposed_exposed_C', 'fraction_exposed_exposed_D',\n       'fraction_exposed_exposed_E', 'fraction_exposed_exposed_F',\n       'fraction_exposed_exposed_G', 'fraction_exposed_exposed_H',\n       'fraction_exposed_exposed_I', 'fraction_exposed_exposed_K',\n       'fraction_exposed_exposed_L', 'fraction_exposed_exposed_M',\n       'fraction_exposed_exposed_N', 'fraction_exposed_exposed_P',\n       'fraction_exposed_exposed_Q', 'fraction_exposed_exposed_R',\n       'fraction_exposed_exposed_S', 'fraction_exposed_exposed_T',\n       'fraction_exposed_exposed_V', 'fraction_exposed_exposed_W',\n       'fraction_exposed_exposed_Y', 'nsp_secondary_structure_coil',\n       'nsp_secondary_structure_sheet', 'nsp_secondary_structure_helix',\n       'nsp_disordered', 'Core Material', 'Ligand', 'Dtem', 'Zeta Potential',\n       'Incubation Concentration (mg/ml)',\n       'Incubation NP concentration (mg/mL)', 'Dh', 'Incubation time (h)',\n       'Incubation Time (minutes)', 'Incubation temperature (℃)',\n       'Centrifugation'],\n      dtype='object')"
     },
     "execution_count": 53,
     "metadata": {},
     "output_type": "execute_result"
    }
   ],
   "source": [
    "data_complete2.columns"
   ],
   "metadata": {
    "collapsed": false,
    "pycharm": {
     "name": "#%%\n"
    }
   }
  },
  {
   "cell_type": "code",
   "execution_count": 64,
   "outputs": [],
   "source": [
    "data_complete.drop(columns='BET',inplace=True)"
   ],
   "metadata": {
    "collapsed": false,
    "pycharm": {
     "name": "#%%\n"
    }
   }
  },
  {
   "cell_type": "code",
   "execution_count": 54,
   "outputs": [
    {
     "data": {
      "text/plain": "Index(['BET', 'Length', 'Mass', 'Sequence', 'aromaticity',\n       'asa_sum_normalized', 'flexibility_max', 'flexibility_mean',\n       'flexibility_median', 'flexibility_min', 'flexibility_std',\n       'flexibility_var', 'frac_aa_A', 'frac_aa_C', 'frac_aa_D', 'frac_aa_E',\n       'frac_aa_F', 'frac_aa_G', 'frac_aa_H', 'frac_aa_I', 'frac_aa_K',\n       'frac_aa_L', 'frac_aa_M', 'frac_aa_N', 'frac_aa_P', 'frac_aa_Q',\n       'frac_aa_R', 'frac_aa_S', 'frac_aa_T', 'frac_aa_V', 'frac_aa_W',\n       'frac_aa_Y', 'gravy', 'instability_index', 'isoelectric_point',\n       'length', 'mass', 'molecular_weight', 'rsa_std',\n       'secondary_structure_fraction_disordered',\n       'secondary_structure_fraction_helix',\n       'secondary_structure_fraction_sheet',\n       'secondary_structure_fraction_turn'],\n      dtype='object')"
     },
     "execution_count": 54,
     "metadata": {},
     "output_type": "execute_result"
    }
   ],
   "source": [
    "allcols=data_complete.columns\n",
    "after_drop=data_complete2.columns\n",
    "dropped_cols=allcols.difference(after_drop)\n",
    "dropped_cols"
   ],
   "metadata": {
    "collapsed": false,
    "pycharm": {
     "name": "#%%\n"
    }
   }
  },
  {
   "cell_type": "code",
   "execution_count": 79,
   "outputs": [
    {
     "data": {
      "text/plain": "78892    P49908\n78893    P49908\n78894    P49908\n78895    P49908\n78896    P49908\n          ...  \n79539    P49908\n79540    P49908\n79541    P49908\n79542    P49908\n79543    P49908\nName: Entry, Length: 652, dtype: object"
     },
     "execution_count": 79,
     "metadata": {},
     "output_type": "execute_result"
    }
   ],
   "source": [
    "data_complete['flexibility_max'].isna().sum()\n",
    "df2=data_complete.loc[data_complete['length'].isnull(),'Entry']\n",
    "df2"
   ],
   "metadata": {
    "collapsed": false,
    "pycharm": {
     "name": "#%%\n"
    }
   }
  },
  {
   "cell_type": "code",
   "execution_count": 13,
   "outputs": [],
   "source": [
    "#set labels (what we are trying to predict) as Enrichment column\n",
    "labels=data_complete['Enrichment'].copy()\n",
    "#make it one dimenisional\n",
    "labels=np.ravel(labels)\n",
    "#drop qualitative, not neccessary, and label columns\n",
    "df=data_complete.drop(['Entry','Sequence','Core Material','Ligand','NPID','Enrichment'],axis=1)\n",
    "\n",
    "# print(df)\n",
    "#these are left over metrics from the helper functions from landry paper replace with better options for looking at metrics###\n",
    "first_frame = True #starting dataframe for saving metrics\n",
    "correctness_frame = pd.DataFrame()\n",
    "metrics_frame = pd.DataFrame()\n",
    "print_metrics = 1 #0, doesn't show metrics while runnning for each model, 1 does show metrics\n"
   ],
   "metadata": {
    "collapsed": false,
    "pycharm": {
     "name": "#%%\n"
    }
   }
  },
  {
   "cell_type": "code",
   "execution_count": null,
   "outputs": [],
   "source": [
    "labels"
   ],
   "metadata": {
    "collapsed": false,
    "pycharm": {
     "is_executing": true,
     "name": "#%%\n"
    }
   }
  },
  {
   "cell_type": "code",
   "execution_count": 55,
   "outputs": [
    {
     "data": {
      "text/plain": "       Entry  Enrichment                                           Sequence  \\\n0     P02769   -3.058069  MKWVTFISLLLLFSSAYSRGVFRRDTHKSEIAHRFKDLGEEHFKGL...   \n1     P02769   -2.626344  MKWVTFISLLLLFSSAYSRGVFRRDTHKSEIAHRFKDLGEEHFKGL...   \n2     P02769   -2.660705  MKWVTFISLLLLFSSAYSRGVFRRDTHKSEIAHRFKDLGEEHFKGL...   \n6     P41361    4.586080  MISNGIGTVTAGKRSICLLPLLLIGLWGCVTCHRSPVEDVCTAKPR...   \n7     P41361    4.631187  MISNGIGTVTAGKRSICLLPLLLIGLWGCVTCHRSPVEDVCTAKPR...   \n...      ...         ...                                                ...   \n3149  Q00896        -inf  MTPSISWGLLLLAGLCCLVPSFLAEDVQETDTSQKDQSPASHEIAT...   \n3150  Q00896        -inf  MTPSISWGLLLLAGLCCLVPSFLAEDVQETDTSQKDQSPASHEIAT...   \n3151  Q00896    1.789023  MTPSISWGLLLLAGLCCLVPSFLAEDVQETDTSQKDQSPASHEIAT...   \n3152  Q00896        -inf  MTPSISWGLLLLAGLCCLVPSFLAEDVQETDTSQKDQSPASHEIAT...   \n3153  Q00896        -inf  MTPSISWGLLLLAGLCCLVPSFLAEDVQETDTSQKDQSPASHEIAT...   \n\n      Length     Mass  frac_aa_A  frac_aa_C  frac_aa_D  frac_aa_E  frac_aa_F  \\\n0      607.0  69293.0   0.079077   0.057661   0.065898   0.097199   0.049423   \n1      607.0  69293.0   0.079077   0.057661   0.065898   0.097199   0.049423   \n2      607.0  69293.0   0.079077   0.057661   0.065898   0.097199   0.049423   \n6      465.0  52347.0   0.064516   0.019355   0.045161   0.075269   0.053763   \n7      465.0  52347.0   0.064516   0.019355   0.045161   0.075269   0.053763   \n...      ...      ...        ...        ...        ...        ...        ...   \n3149   412.0  45823.0   0.070388   0.007282   0.050971   0.072816   0.060680   \n3150   412.0  45823.0   0.070388   0.007282   0.050971   0.072816   0.060680   \n3151   412.0  45823.0   0.070388   0.007282   0.050971   0.072816   0.060680   \n3152   412.0  45823.0   0.070388   0.007282   0.050971   0.072816   0.060680   \n3153   412.0  45823.0   0.070388   0.007282   0.050971   0.072816   0.060680   \n\n      ...  Core Material           Ligand   Dtem     Dh  Shaken  Centrifuged  \\\n0     ...     Iron Oxide  Carboxylate BSA  100.0  230.0     1.0          0.0   \n1     ...     Iron Oxide  Carboxylate BSA  100.0  230.0     1.0          0.0   \n2     ...     Iron Oxide  Carboxylate BSA  100.0  230.0     1.0          0.0   \n6     ...     Iron Oxide  Carboxylate BSA  100.0  230.0     1.0          0.0   \n7     ...     Iron Oxide  Carboxylate BSA  100.0  230.0     1.0          0.0   \n...   ...            ...              ...    ...    ...     ...          ...   \n3149  ...           R101             none  800.0  680.0     1.0          1.0   \n3150  ...            P25             none  378.0  410.0     1.0          1.0   \n3151  ...            P25             none  378.0  410.0     1.0          1.0   \n3152  ...            P25             none  378.0  410.0     1.0          1.0   \n3153  ...     Iron Oxide  Carboxylate BSA  100.0  230.0     1.0          0.0   \n\n      NP_incubation Concentration (mg/mL)  Incubation Concentration (mg/ml)  \\\n0                                     3.2                               4.0   \n1                                     3.2                               4.0   \n2                                     3.2                               4.0   \n6                                     3.2                               4.0   \n7                                     3.2                               4.0   \n...                                   ...                               ...   \n3149                                125.0                               0.2   \n3150                                 62.5                               0.2   \n3151                                 62.5                               0.2   \n3152                                 62.5                               0.2   \n3153                                 25.0                               0.2   \n\n      Incubation Time (minutes)  Temperature  \n0                          30.0         25.0  \n1                          30.0         25.0  \n2                          30.0         25.0  \n6                          30.0         25.0  \n7                          30.0         25.0  \n...                         ...          ...  \n3149                       60.0         25.0  \n3150                       60.0         25.0  \n3151                       60.0         25.0  \n3152                       60.0         25.0  \n3153                       60.0         25.0  \n\n[1845 rows x 110 columns]",
      "text/html": "<div>\n<style scoped>\n    .dataframe tbody tr th:only-of-type {\n        vertical-align: middle;\n    }\n\n    .dataframe tbody tr th {\n        vertical-align: top;\n    }\n\n    .dataframe thead th {\n        text-align: right;\n    }\n</style>\n<table border=\"1\" class=\"dataframe\">\n  <thead>\n    <tr style=\"text-align: right;\">\n      <th></th>\n      <th>Entry</th>\n      <th>Enrichment</th>\n      <th>Sequence</th>\n      <th>Length</th>\n      <th>Mass</th>\n      <th>frac_aa_A</th>\n      <th>frac_aa_C</th>\n      <th>frac_aa_D</th>\n      <th>frac_aa_E</th>\n      <th>frac_aa_F</th>\n      <th>...</th>\n      <th>Core Material</th>\n      <th>Ligand</th>\n      <th>Dtem</th>\n      <th>Dh</th>\n      <th>Shaken</th>\n      <th>Centrifuged</th>\n      <th>NP_incubation Concentration (mg/mL)</th>\n      <th>Incubation Concentration (mg/ml)</th>\n      <th>Incubation Time (minutes)</th>\n      <th>Temperature</th>\n    </tr>\n  </thead>\n  <tbody>\n    <tr>\n      <th>0</th>\n      <td>P02769</td>\n      <td>-3.058069</td>\n      <td>MKWVTFISLLLLFSSAYSRGVFRRDTHKSEIAHRFKDLGEEHFKGL...</td>\n      <td>607.0</td>\n      <td>69293.0</td>\n      <td>0.079077</td>\n      <td>0.057661</td>\n      <td>0.065898</td>\n      <td>0.097199</td>\n      <td>0.049423</td>\n      <td>...</td>\n      <td>Iron Oxide</td>\n      <td>Carboxylate BSA</td>\n      <td>100.0</td>\n      <td>230.0</td>\n      <td>1.0</td>\n      <td>0.0</td>\n      <td>3.2</td>\n      <td>4.0</td>\n      <td>30.0</td>\n      <td>25.0</td>\n    </tr>\n    <tr>\n      <th>1</th>\n      <td>P02769</td>\n      <td>-2.626344</td>\n      <td>MKWVTFISLLLLFSSAYSRGVFRRDTHKSEIAHRFKDLGEEHFKGL...</td>\n      <td>607.0</td>\n      <td>69293.0</td>\n      <td>0.079077</td>\n      <td>0.057661</td>\n      <td>0.065898</td>\n      <td>0.097199</td>\n      <td>0.049423</td>\n      <td>...</td>\n      <td>Iron Oxide</td>\n      <td>Carboxylate BSA</td>\n      <td>100.0</td>\n      <td>230.0</td>\n      <td>1.0</td>\n      <td>0.0</td>\n      <td>3.2</td>\n      <td>4.0</td>\n      <td>30.0</td>\n      <td>25.0</td>\n    </tr>\n    <tr>\n      <th>2</th>\n      <td>P02769</td>\n      <td>-2.660705</td>\n      <td>MKWVTFISLLLLFSSAYSRGVFRRDTHKSEIAHRFKDLGEEHFKGL...</td>\n      <td>607.0</td>\n      <td>69293.0</td>\n      <td>0.079077</td>\n      <td>0.057661</td>\n      <td>0.065898</td>\n      <td>0.097199</td>\n      <td>0.049423</td>\n      <td>...</td>\n      <td>Iron Oxide</td>\n      <td>Carboxylate BSA</td>\n      <td>100.0</td>\n      <td>230.0</td>\n      <td>1.0</td>\n      <td>0.0</td>\n      <td>3.2</td>\n      <td>4.0</td>\n      <td>30.0</td>\n      <td>25.0</td>\n    </tr>\n    <tr>\n      <th>6</th>\n      <td>P41361</td>\n      <td>4.586080</td>\n      <td>MISNGIGTVTAGKRSICLLPLLLIGLWGCVTCHRSPVEDVCTAKPR...</td>\n      <td>465.0</td>\n      <td>52347.0</td>\n      <td>0.064516</td>\n      <td>0.019355</td>\n      <td>0.045161</td>\n      <td>0.075269</td>\n      <td>0.053763</td>\n      <td>...</td>\n      <td>Iron Oxide</td>\n      <td>Carboxylate BSA</td>\n      <td>100.0</td>\n      <td>230.0</td>\n      <td>1.0</td>\n      <td>0.0</td>\n      <td>3.2</td>\n      <td>4.0</td>\n      <td>30.0</td>\n      <td>25.0</td>\n    </tr>\n    <tr>\n      <th>7</th>\n      <td>P41361</td>\n      <td>4.631187</td>\n      <td>MISNGIGTVTAGKRSICLLPLLLIGLWGCVTCHRSPVEDVCTAKPR...</td>\n      <td>465.0</td>\n      <td>52347.0</td>\n      <td>0.064516</td>\n      <td>0.019355</td>\n      <td>0.045161</td>\n      <td>0.075269</td>\n      <td>0.053763</td>\n      <td>...</td>\n      <td>Iron Oxide</td>\n      <td>Carboxylate BSA</td>\n      <td>100.0</td>\n      <td>230.0</td>\n      <td>1.0</td>\n      <td>0.0</td>\n      <td>3.2</td>\n      <td>4.0</td>\n      <td>30.0</td>\n      <td>25.0</td>\n    </tr>\n    <tr>\n      <th>...</th>\n      <td>...</td>\n      <td>...</td>\n      <td>...</td>\n      <td>...</td>\n      <td>...</td>\n      <td>...</td>\n      <td>...</td>\n      <td>...</td>\n      <td>...</td>\n      <td>...</td>\n      <td>...</td>\n      <td>...</td>\n      <td>...</td>\n      <td>...</td>\n      <td>...</td>\n      <td>...</td>\n      <td>...</td>\n      <td>...</td>\n      <td>...</td>\n      <td>...</td>\n      <td>...</td>\n    </tr>\n    <tr>\n      <th>3149</th>\n      <td>Q00896</td>\n      <td>-inf</td>\n      <td>MTPSISWGLLLLAGLCCLVPSFLAEDVQETDTSQKDQSPASHEIAT...</td>\n      <td>412.0</td>\n      <td>45823.0</td>\n      <td>0.070388</td>\n      <td>0.007282</td>\n      <td>0.050971</td>\n      <td>0.072816</td>\n      <td>0.060680</td>\n      <td>...</td>\n      <td>R101</td>\n      <td>none</td>\n      <td>800.0</td>\n      <td>680.0</td>\n      <td>1.0</td>\n      <td>1.0</td>\n      <td>125.0</td>\n      <td>0.2</td>\n      <td>60.0</td>\n      <td>25.0</td>\n    </tr>\n    <tr>\n      <th>3150</th>\n      <td>Q00896</td>\n      <td>-inf</td>\n      <td>MTPSISWGLLLLAGLCCLVPSFLAEDVQETDTSQKDQSPASHEIAT...</td>\n      <td>412.0</td>\n      <td>45823.0</td>\n      <td>0.070388</td>\n      <td>0.007282</td>\n      <td>0.050971</td>\n      <td>0.072816</td>\n      <td>0.060680</td>\n      <td>...</td>\n      <td>P25</td>\n      <td>none</td>\n      <td>378.0</td>\n      <td>410.0</td>\n      <td>1.0</td>\n      <td>1.0</td>\n      <td>62.5</td>\n      <td>0.2</td>\n      <td>60.0</td>\n      <td>25.0</td>\n    </tr>\n    <tr>\n      <th>3151</th>\n      <td>Q00896</td>\n      <td>1.789023</td>\n      <td>MTPSISWGLLLLAGLCCLVPSFLAEDVQETDTSQKDQSPASHEIAT...</td>\n      <td>412.0</td>\n      <td>45823.0</td>\n      <td>0.070388</td>\n      <td>0.007282</td>\n      <td>0.050971</td>\n      <td>0.072816</td>\n      <td>0.060680</td>\n      <td>...</td>\n      <td>P25</td>\n      <td>none</td>\n      <td>378.0</td>\n      <td>410.0</td>\n      <td>1.0</td>\n      <td>1.0</td>\n      <td>62.5</td>\n      <td>0.2</td>\n      <td>60.0</td>\n      <td>25.0</td>\n    </tr>\n    <tr>\n      <th>3152</th>\n      <td>Q00896</td>\n      <td>-inf</td>\n      <td>MTPSISWGLLLLAGLCCLVPSFLAEDVQETDTSQKDQSPASHEIAT...</td>\n      <td>412.0</td>\n      <td>45823.0</td>\n      <td>0.070388</td>\n      <td>0.007282</td>\n      <td>0.050971</td>\n      <td>0.072816</td>\n      <td>0.060680</td>\n      <td>...</td>\n      <td>P25</td>\n      <td>none</td>\n      <td>378.0</td>\n      <td>410.0</td>\n      <td>1.0</td>\n      <td>1.0</td>\n      <td>62.5</td>\n      <td>0.2</td>\n      <td>60.0</td>\n      <td>25.0</td>\n    </tr>\n    <tr>\n      <th>3153</th>\n      <td>Q00896</td>\n      <td>-inf</td>\n      <td>MTPSISWGLLLLAGLCCLVPSFLAEDVQETDTSQKDQSPASHEIAT...</td>\n      <td>412.0</td>\n      <td>45823.0</td>\n      <td>0.070388</td>\n      <td>0.007282</td>\n      <td>0.050971</td>\n      <td>0.072816</td>\n      <td>0.060680</td>\n      <td>...</td>\n      <td>Iron Oxide</td>\n      <td>Carboxylate BSA</td>\n      <td>100.0</td>\n      <td>230.0</td>\n      <td>1.0</td>\n      <td>0.0</td>\n      <td>25.0</td>\n      <td>0.2</td>\n      <td>60.0</td>\n      <td>25.0</td>\n    </tr>\n  </tbody>\n</table>\n<p>1845 rows × 110 columns</p>\n</div>"
     },
     "execution_count": 55,
     "metadata": {},
     "output_type": "execute_result"
    }
   ],
   "source": [
    "data_complete"
   ],
   "metadata": {
    "collapsed": false,
    "pycharm": {
     "name": "#%%\n"
    }
   }
  },
  {
   "cell_type": "code",
   "execution_count": 14,
   "outputs": [
    {
     "data": {
      "text/plain": "array([False, False, False, False, False, False, False, False, False,\n        True, False, False, False, False, False,  True, False, False,\n       False, False,  True, False,  True, False, False, False, False,\n        True, False,  True, False, False, False, False, False, False,\n       False, False, False, False, False, False, False, False,  True,\n       False, False,  True, False, False, False, False, False, False,\n       False, False, False, False, False,  True, False, False, False,\n       False, False, False, False, False,  True,  True, False, False,\n       False, False, False,  True, False, False, False, False, False,\n       False, False, False, False,  True, False, False, False, False,\n       False, False, False, False,  True, False, False, False, False,\n        True, False, False, False])"
     },
     "execution_count": 14,
     "metadata": {},
     "output_type": "execute_result"
    }
   ],
   "source": [
    "#Run recursive feature elimination to determine top features to select\n",
    "#currently selecting 15 although that is arbitrary\n",
    "### COME UP with better more objective way for determining number of features####\n",
    "from sklearn.feature_selection import RFE\n",
    "\n",
    "estimator = RandomForestRegressor(n_estimators=100)\n",
    "selector = RFE(estimator, n_features_to_select= 15, step=1)\n",
    "selector = selector.fit(df,labels)\n",
    "selector.support_"
   ],
   "metadata": {
    "collapsed": false,
    "pycharm": {
     "name": "#%%\n"
    }
   }
  },
  {
   "cell_type": "code",
   "execution_count": 15,
   "outputs": [
    {
     "data": {
      "text/plain": "array([72, 78, 21, 39, 67, 62, 13,  8, 36,  1, 45, 23, 32, 28, 69,  1, 16,\n       57, 47, 34,  1, 61,  1, 25,  4, 41, 14,  1, 11,  1,  6, 37, 65, 42,\n       55,  3, 24, 84, 51, 87, 46, 86, 63, 75,  1, 80, 83,  1, 26, 12, 68,\n       58, 74, 73, 64, 27, 76, 22, 59,  1, 53, 19, 48, 49,  9, 31, 54, 82,\n        1,  1, 81, 38, 70, 40, 60,  1, 52, 10,  2,  5, 15, 43, 20, 56, 30,\n        1, 33, 71, 18, 44,  7, 66, 50, 85,  1, 17, 29, 88, 79,  1, 35, 77,\n       89])"
     },
     "execution_count": 15,
     "metadata": {},
     "output_type": "execute_result"
    }
   ],
   "source": [
    "selector.ranking_"
   ],
   "metadata": {
    "collapsed": false,
    "pycharm": {
     "name": "#%%\n"
    }
   }
  },
  {
   "cell_type": "code",
   "execution_count": 16,
   "outputs": [
    {
     "name": "stdout",
     "output_type": "stream",
     "text": [
      "['frac_aa_I' 'frac_aa_Q' 'frac_aa_W' 'molecular_weight' 'flexibility_var'\n",
      " 'flexibility_min' 'fraction_exposed_polar_exposed' 'rsa_std'\n",
      " 'fraction_total_exposed_M' 'fraction_total_exposed_Y'\n",
      " 'fraction_exposed_exposed_A' 'fraction_exposed_exposed_H'\n",
      " 'fraction_exposed_exposed_T' 'Zeta Potential'\n",
      " 'NP_incubation Concentration (mg/mL)']\n"
     ]
    }
   ],
   "source": [
    "feat_list=selector.get_feature_names_out()\n",
    "print(feat_list)"
   ],
   "metadata": {
    "collapsed": false,
    "pycharm": {
     "name": "#%%\n"
    }
   }
  },
  {
   "cell_type": "code",
   "execution_count": 17,
   "outputs": [
    {
     "data": {
      "text/plain": "      frac_aa_I  frac_aa_Q  frac_aa_W  molecular_weight  flexibility_var  \\\n0      0.024712   0.032949   0.004942          0.136021         0.000695   \n1      0.024712   0.032949   0.004942          0.136021         0.000695   \n2      0.024712   0.032949   0.004942          0.136021         0.000695   \n3      0.024712   0.032949   0.004942          0.136021         0.000695   \n4      0.024712   0.032949   0.004942          0.136021         0.000695   \n...         ...        ...        ...               ...              ...   \n3149   0.048544   0.043689   0.007282          0.089950         0.000799   \n3150   0.048544   0.043689   0.007282          0.089950         0.000799   \n3151   0.048544   0.043689   0.007282          0.089950         0.000799   \n3152   0.048544   0.043689   0.007282          0.089950         0.000799   \n3153   0.048544   0.043689   0.007282          0.089950         0.000799   \n\n      flexibility_min  fraction_exposed_polar_exposed  rsa_std  \\\n0            0.936357                        0.742604    0.223   \n1            0.936357                        0.742604    0.223   \n2            0.936357                        0.742604    0.223   \n3            0.936357                        0.742604    0.223   \n4            0.936357                        0.742604    0.223   \n...               ...                             ...      ...   \n3149         0.936714                        0.741071    0.258   \n3150         0.936714                        0.741071    0.258   \n3151         0.936714                        0.741071    0.258   \n3152         0.936714                        0.741071    0.258   \n3153         0.936714                        0.741071    0.258   \n\n      fraction_total_exposed_M  fraction_total_exposed_Y  \\\n0                     0.003295                  0.006590   \n1                     0.003295                  0.006590   \n2                     0.003295                  0.006590   \n3                     0.003295                  0.006590   \n4                     0.003295                  0.006590   \n...                        ...                       ...   \n3149                  0.007282                  0.002427   \n3150                  0.007282                  0.002427   \n3151                  0.007282                  0.002427   \n3152                  0.007282                  0.002427   \n3153                  0.007282                  0.002427   \n\n      fraction_exposed_exposed_A  fraction_exposed_exposed_H  \\\n0                       0.082840                    0.035503   \n1                       0.082840                    0.035503   \n2                       0.082840                    0.035503   \n3                       0.082840                    0.035503   \n4                       0.082840                    0.035503   \n...                          ...                         ...   \n3149                    0.044643                    0.049107   \n3150                    0.044643                    0.049107   \n3151                    0.044643                    0.049107   \n3152                    0.044643                    0.049107   \n3153                    0.044643                    0.049107   \n\n      fraction_exposed_exposed_T  Zeta Potential  \\\n0                       0.073964           -38.0   \n1                       0.073964           -38.0   \n2                       0.073964           -38.0   \n3                       0.073964             9.0   \n4                       0.073964           100.0   \n...                          ...             ...   \n3149                    0.084821           -52.0   \n3150                    0.084821           -21.0   \n3151                    0.084821           -21.0   \n3152                    0.084821           -21.0   \n3153                    0.084821           -38.0   \n\n      NP_incubation Concentration (mg/mL)  \n0                                     3.2  \n1                                     3.2  \n2                                     3.2  \n3                                     4.0  \n4                                     4.0  \n...                                   ...  \n3149                                125.0  \n3150                                 62.5  \n3151                                 62.5  \n3152                                 62.5  \n3153                                 25.0  \n\n[2064 rows x 15 columns]",
      "text/html": "<div>\n<style scoped>\n    .dataframe tbody tr th:only-of-type {\n        vertical-align: middle;\n    }\n\n    .dataframe tbody tr th {\n        vertical-align: top;\n    }\n\n    .dataframe thead th {\n        text-align: right;\n    }\n</style>\n<table border=\"1\" class=\"dataframe\">\n  <thead>\n    <tr style=\"text-align: right;\">\n      <th></th>\n      <th>frac_aa_I</th>\n      <th>frac_aa_Q</th>\n      <th>frac_aa_W</th>\n      <th>molecular_weight</th>\n      <th>flexibility_var</th>\n      <th>flexibility_min</th>\n      <th>fraction_exposed_polar_exposed</th>\n      <th>rsa_std</th>\n      <th>fraction_total_exposed_M</th>\n      <th>fraction_total_exposed_Y</th>\n      <th>fraction_exposed_exposed_A</th>\n      <th>fraction_exposed_exposed_H</th>\n      <th>fraction_exposed_exposed_T</th>\n      <th>Zeta Potential</th>\n      <th>NP_incubation Concentration (mg/mL)</th>\n    </tr>\n  </thead>\n  <tbody>\n    <tr>\n      <th>0</th>\n      <td>0.024712</td>\n      <td>0.032949</td>\n      <td>0.004942</td>\n      <td>0.136021</td>\n      <td>0.000695</td>\n      <td>0.936357</td>\n      <td>0.742604</td>\n      <td>0.223</td>\n      <td>0.003295</td>\n      <td>0.006590</td>\n      <td>0.082840</td>\n      <td>0.035503</td>\n      <td>0.073964</td>\n      <td>-38.0</td>\n      <td>3.2</td>\n    </tr>\n    <tr>\n      <th>1</th>\n      <td>0.024712</td>\n      <td>0.032949</td>\n      <td>0.004942</td>\n      <td>0.136021</td>\n      <td>0.000695</td>\n      <td>0.936357</td>\n      <td>0.742604</td>\n      <td>0.223</td>\n      <td>0.003295</td>\n      <td>0.006590</td>\n      <td>0.082840</td>\n      <td>0.035503</td>\n      <td>0.073964</td>\n      <td>-38.0</td>\n      <td>3.2</td>\n    </tr>\n    <tr>\n      <th>2</th>\n      <td>0.024712</td>\n      <td>0.032949</td>\n      <td>0.004942</td>\n      <td>0.136021</td>\n      <td>0.000695</td>\n      <td>0.936357</td>\n      <td>0.742604</td>\n      <td>0.223</td>\n      <td>0.003295</td>\n      <td>0.006590</td>\n      <td>0.082840</td>\n      <td>0.035503</td>\n      <td>0.073964</td>\n      <td>-38.0</td>\n      <td>3.2</td>\n    </tr>\n    <tr>\n      <th>3</th>\n      <td>0.024712</td>\n      <td>0.032949</td>\n      <td>0.004942</td>\n      <td>0.136021</td>\n      <td>0.000695</td>\n      <td>0.936357</td>\n      <td>0.742604</td>\n      <td>0.223</td>\n      <td>0.003295</td>\n      <td>0.006590</td>\n      <td>0.082840</td>\n      <td>0.035503</td>\n      <td>0.073964</td>\n      <td>9.0</td>\n      <td>4.0</td>\n    </tr>\n    <tr>\n      <th>4</th>\n      <td>0.024712</td>\n      <td>0.032949</td>\n      <td>0.004942</td>\n      <td>0.136021</td>\n      <td>0.000695</td>\n      <td>0.936357</td>\n      <td>0.742604</td>\n      <td>0.223</td>\n      <td>0.003295</td>\n      <td>0.006590</td>\n      <td>0.082840</td>\n      <td>0.035503</td>\n      <td>0.073964</td>\n      <td>100.0</td>\n      <td>4.0</td>\n    </tr>\n    <tr>\n      <th>...</th>\n      <td>...</td>\n      <td>...</td>\n      <td>...</td>\n      <td>...</td>\n      <td>...</td>\n      <td>...</td>\n      <td>...</td>\n      <td>...</td>\n      <td>...</td>\n      <td>...</td>\n      <td>...</td>\n      <td>...</td>\n      <td>...</td>\n      <td>...</td>\n      <td>...</td>\n    </tr>\n    <tr>\n      <th>3149</th>\n      <td>0.048544</td>\n      <td>0.043689</td>\n      <td>0.007282</td>\n      <td>0.089950</td>\n      <td>0.000799</td>\n      <td>0.936714</td>\n      <td>0.741071</td>\n      <td>0.258</td>\n      <td>0.007282</td>\n      <td>0.002427</td>\n      <td>0.044643</td>\n      <td>0.049107</td>\n      <td>0.084821</td>\n      <td>-52.0</td>\n      <td>125.0</td>\n    </tr>\n    <tr>\n      <th>3150</th>\n      <td>0.048544</td>\n      <td>0.043689</td>\n      <td>0.007282</td>\n      <td>0.089950</td>\n      <td>0.000799</td>\n      <td>0.936714</td>\n      <td>0.741071</td>\n      <td>0.258</td>\n      <td>0.007282</td>\n      <td>0.002427</td>\n      <td>0.044643</td>\n      <td>0.049107</td>\n      <td>0.084821</td>\n      <td>-21.0</td>\n      <td>62.5</td>\n    </tr>\n    <tr>\n      <th>3151</th>\n      <td>0.048544</td>\n      <td>0.043689</td>\n      <td>0.007282</td>\n      <td>0.089950</td>\n      <td>0.000799</td>\n      <td>0.936714</td>\n      <td>0.741071</td>\n      <td>0.258</td>\n      <td>0.007282</td>\n      <td>0.002427</td>\n      <td>0.044643</td>\n      <td>0.049107</td>\n      <td>0.084821</td>\n      <td>-21.0</td>\n      <td>62.5</td>\n    </tr>\n    <tr>\n      <th>3152</th>\n      <td>0.048544</td>\n      <td>0.043689</td>\n      <td>0.007282</td>\n      <td>0.089950</td>\n      <td>0.000799</td>\n      <td>0.936714</td>\n      <td>0.741071</td>\n      <td>0.258</td>\n      <td>0.007282</td>\n      <td>0.002427</td>\n      <td>0.044643</td>\n      <td>0.049107</td>\n      <td>0.084821</td>\n      <td>-21.0</td>\n      <td>62.5</td>\n    </tr>\n    <tr>\n      <th>3153</th>\n      <td>0.048544</td>\n      <td>0.043689</td>\n      <td>0.007282</td>\n      <td>0.089950</td>\n      <td>0.000799</td>\n      <td>0.936714</td>\n      <td>0.741071</td>\n      <td>0.258</td>\n      <td>0.007282</td>\n      <td>0.002427</td>\n      <td>0.044643</td>\n      <td>0.049107</td>\n      <td>0.084821</td>\n      <td>-38.0</td>\n      <td>25.0</td>\n    </tr>\n  </tbody>\n</table>\n<p>2064 rows × 15 columns</p>\n</div>"
     },
     "execution_count": 17,
     "metadata": {},
     "output_type": "execute_result"
    }
   ],
   "source": [
    "df_rfe=df[feat_list].copy()\n",
    "df_rfe"
   ],
   "metadata": {
    "collapsed": false,
    "pycharm": {
     "name": "#%%\n"
    }
   }
  },
  {
   "cell_type": "code",
   "execution_count": null,
   "outputs": [],
   "source": [],
   "metadata": {
    "collapsed": false,
    "pycharm": {
     "name": "#%%\n"
    }
   }
  },
  {
   "cell_type": "code",
   "execution_count": 22,
   "outputs": [
    {
     "name": "stdout",
     "output_type": "stream",
     "text": [
      "0.43730337548323595\n"
     ]
    }
   ],
   "source": [
    "\n",
    "x_train, x_test, y_train, y_test = train_test_split(df_rfe,labels, test_size = 0.33, random_state=42)\n",
    "# sss = StratifiedShuffleSplit(n_splits=1, test_size=0.4, random_state=2016)\n",
    "# for train_index, test_index in sss.split(df, labels):\n",
    "# x_train = df.iloc[train_index]\n",
    "# X_test = df.iloc[test_index]\n",
    "# y_train = labels.iloc[train_index]\n",
    "# y_test = labels.iloc[test_index]\n",
    "\n",
    "rfg=RandomForestRegressor(n_estimators=100)\n",
    "rfg.fit(x_train,y_train)\n",
    "print(rfg.score(x_test,y_test))\n",
    "# print(rfg.feature_importances_)\n",
    "\n",
    "# metrics_dict = {'AUC':metrics.roc_auc_score(y_test, rfg.predict_proba(x_test)[:, 1]),\n",
    "#             'Accuracy':rfg.score(x_test, y_test), 'Recall':recall_score(y_test, rfg.predict(x_test)),\n",
    "#             'Precision':precision_score(y_test, rfg.predict(x_test), zero_division=0), 'F1':f1_score(y_test, rfg.predict(x_test))}\n",
    "# metrics_frame = pd.DataFrame.from_dict(data=metrics_dict,orient='index').transpose()"
   ],
   "metadata": {
    "collapsed": false,
    "pycharm": {
     "name": "#%%\n"
    }
   }
  },
  {
   "cell_type": "code",
   "execution_count": 28,
   "outputs": [
    {
     "name": "stdout",
     "output_type": "stream",
     "text": [
      "feature: importance score\n",
      "frac_aa_I 0.06596630314032861\n",
      "frac_aa_Q 0.05914304079572\n",
      "frac_aa_W 0.06973760909851004\n",
      "molecular_weight 0.055950814276992854\n",
      "flexibility_var 0.060526394166567826\n",
      "flexibility_min 0.06685478674919744\n",
      "fraction_exposed_polar_exposed 0.06073350567070096\n",
      "rsa_std 0.06858982375397228\n",
      "fraction_total_exposed_M 0.07155243384020243\n",
      "fraction_total_exposed_Y 0.062404576064288855\n",
      "fraction_exposed_exposed_A 0.04876247693133964\n",
      "fraction_exposed_exposed_H 0.05787822204456944\n",
      "fraction_exposed_exposed_T 0.061567447024784984\n",
      "Zeta Potential 0.09787628088636142\n",
      "NP_incubation Concentration (mg/mL) 0.09245628555646303\n"
     ]
    }
   ],
   "source": [
    "feat_importances=rfg.feature_importances_\n",
    "# print(feat_importances)\n",
    "print('feature: importance score')\n",
    "for i,col in enumerate(df_rfe.columns):\n",
    "    print(col,feat_importances[i])"
   ],
   "metadata": {
    "collapsed": false,
    "pycharm": {
     "name": "#%%\n"
    }
   }
  }
 ],
 "metadata": {
  "kernelspec": {
   "display_name": "Python 3",
   "language": "python",
   "name": "python3"
  },
  "language_info": {
   "codemirror_mode": {
    "name": "ipython",
    "version": 2
   },
   "file_extension": ".py",
   "mimetype": "text/x-python",
   "name": "python",
   "nbconvert_exporter": "python",
   "pygments_lexer": "ipython2",
   "version": "2.7.6"
  }
 },
 "nbformat": 4,
 "nbformat_minor": 0
}
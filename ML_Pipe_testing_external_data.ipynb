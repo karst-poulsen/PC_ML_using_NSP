{
 "cells": [
  {
   "cell_type": "code",
   "execution_count": 2,
   "outputs": [],
   "source": [
    "import os\n",
    "import pandas as pd\n",
    "import numpy as np\n",
    "from sklearn.ensemble import RandomForestClassifier\n",
    "from sklearn.ensemble import RandomForestRegressor\n",
    "from sklearn import metrics\n",
    "import matplotlib.pyplot as plt\n",
    "import seaborn as sns\n",
    "from helper_functions_pipe_testing import *\n",
    "from sklearn.metrics import  f1_score, recall_score, precision_score, confusion_matrix\n",
    "from sklearn.model_selection import StratifiedShuffleSplit\n",
    "from sklearn.model_selection import train_test_split\n",
    "from sklearn.preprocessing import MinMaxScaler\n",
    "from imblearn.over_sampling import *\n"
   ],
   "metadata": {
    "collapsed": false,
    "pycharm": {
     "name": "#%%\n"
    }
   }
  },
  {
   "cell_type": "markdown",
   "source": [
    "#Instructions for the pipeline\n",
    "Requires two inputs for training:\n",
    "    - Mass spec data with corresponding NP surface characteristics and experimental conditions (time, concentration)\n",
    "    - NetsurfP and Biopython data that has been precalculated\n",
    "    - X characteristics to predict\n",
    "\n",
    "pipeline\n",
    "Take mass spec spreadsheet\n",
    "Accession,Enrichment,Dh,TEM,Zp,BET,Composition,Ligand,Shape,IncubationTime,IncubationConcentration\n",
    "Merge with Proteome data to get file that has\n",
    "Accession,Enrichment,Dh,TEM,Zp,BET,Composition,Ligand,Shape,IncubationTime,IncubationConcentration,Mass,Length,Sequence\n",
    "Calculate protein features using biopython\n",
    "Merge with NSP data to get all protein features\n",
    "\n",
    "Split into X and Y dataset with Entries as labels"
   ],
   "metadata": {
    "collapsed": false,
    "pycharm": {
     "name": "#%% md\n"
    }
   }
  },
  {
   "cell_type": "code",
   "execution_count": 4,
   "outputs": [],
   "source": [
    "### New Data workup for RFG\n",
    "\n",
    "# Pull together Proteomic data\n",
    "in_dir=\"Input_data/ExternalData/abundance/\"\n",
    "#combine Mass Spec data input into one excel spreadsheet - Entry - Abundance labeled by NP Unique ID\n",
    "#Abundance as a percent\n",
    "#take files in_dir and combine then into one pandas df (raw_MS_data)\n",
    "files= os.listdir(in_dir)\n",
    "for i,f in enumerate(files):\n",
    "    if i==0:\n",
    "        raw_MS_data=pd.read_csv(in_dir+f,header=0)\n",
    "    else:\n",
    "        temp = pd.read_csv(in_dir+f,header=0)\n",
    "        raw_MS_data=raw_MS_data.merge(temp,how='outer',on='Entry')\n",
    "# melt the df to make it an accession number, NPUNID, Abundance dataset\n",
    "raw_MS_data = pd.melt(raw_MS_data, id_vars=['Entry'],var_name='NPUNID', value_name='Abundance')\n",
    "#remove prots that were added due to merge\n",
    "raw_MS_data=raw_MS_data.dropna()"
   ],
   "metadata": {
    "collapsed": false,
    "pycharm": {
     "name": "#%%\n"
    }
   }
  },
  {
   "cell_type": "code",
   "execution_count": 13,
   "outputs": [],
   "source": [
    "control_files=['controls_BALF.xlsx','controls_FBS.xlsx','controls_Human_unedited.xlsx']\n",
    "control_dir='Input_data/Proteomic data/'\n",
    "import glob\n",
    "combined_list=[]\n",
    "for file in control_files:\n",
    "    combined_list.append(pd.read_excel(control_dir+file))\n",
    "combined= pd.concat(combined_list, ignore_index=True)\n",
    "combined.dropna(how='all', axis=1,inplace=True)"
   ],
   "metadata": {
    "collapsed": false,
    "pycharm": {
     "name": "#%%\n"
    }
   }
  },
  {
   "cell_type": "code",
   "execution_count": 16,
   "outputs": [],
   "source": [
    "combined.to_excel(control_dir+'controls_combined.xlsx',index=False)"
   ],
   "metadata": {
    "collapsed": false,
    "pycharm": {
     "name": "#%%\n"
    }
   }
  },
  {
   "cell_type": "code",
   "execution_count": 5,
   "outputs": [
    {
     "ename": "ValueError",
     "evalue": "Excel file format cannot be determined, you must specify an engine manually.",
     "output_type": "error",
     "traceback": [
      "\u001B[1;31m---------------------------------------------------------------------------\u001B[0m",
      "\u001B[1;31mValueError\u001B[0m                                Traceback (most recent call last)",
      "Input \u001B[1;32mIn [5]\u001B[0m, in \u001B[0;36m<cell line: 5>\u001B[1;34m()\u001B[0m\n\u001B[0;32m      1\u001B[0m \u001B[38;5;66;03m###Bring in controls (MS data for serums)##\u001B[39;00m\n\u001B[0;32m      2\u001B[0m \u001B[38;5;66;03m#Controls is the abundance of the proteins in serum that have been observed via proteomics\u001B[39;00m\n\u001B[0;32m      3\u001B[0m \u001B[38;5;66;03m#human protein abundance data found here- https://db.systemsbiology.net/sbeams/cgi/PeptideAtlas/GetProteins\u001B[39;00m\n\u001B[0;32m      4\u001B[0m \u001B[38;5;66;03m#Normalized expected concentration into a percent to make it similar to the rest of the normalized abundances used\u001B[39;00m\n\u001B[1;32m----> 5\u001B[0m controls\u001B[38;5;241m=\u001B[39m\u001B[43mpd\u001B[49m\u001B[38;5;241;43m.\u001B[39;49m\u001B[43mread_excel\u001B[49m\u001B[43m(\u001B[49m\u001B[38;5;124;43m'\u001B[39;49m\u001B[38;5;124;43mInput_data/Proteomic data/human_controls_unedited.csv\u001B[39;49m\u001B[38;5;124;43m'\u001B[39;49m\u001B[43m,\u001B[49m\u001B[43mheader\u001B[49m\u001B[38;5;241;43m=\u001B[39;49m\u001B[38;5;241;43m0\u001B[39;49m\u001B[43m)\u001B[49m\n\u001B[0;32m      6\u001B[0m MS_data_controls \u001B[38;5;241m=\u001B[39m pd\u001B[38;5;241m.\u001B[39mmerge(raw_MS_data,controls,how\u001B[38;5;241m=\u001B[39m\u001B[38;5;124m'\u001B[39m\u001B[38;5;124minner\u001B[39m\u001B[38;5;124m'\u001B[39m, on\u001B[38;5;241m=\u001B[39m\u001B[38;5;124m'\u001B[39m\u001B[38;5;124mEntry\u001B[39m\u001B[38;5;124m'\u001B[39m)\n\u001B[0;32m      7\u001B[0m \u001B[38;5;66;03m###Bring in Uniprot_data,NSPdata and NP data##\u001B[39;00m\n",
      "File \u001B[1;32m~\\Anaconda3\\lib\\site-packages\\pandas\\util\\_decorators.py:311\u001B[0m, in \u001B[0;36mdeprecate_nonkeyword_arguments.<locals>.decorate.<locals>.wrapper\u001B[1;34m(*args, **kwargs)\u001B[0m\n\u001B[0;32m    305\u001B[0m \u001B[38;5;28;01mif\u001B[39;00m \u001B[38;5;28mlen\u001B[39m(args) \u001B[38;5;241m>\u001B[39m num_allow_args:\n\u001B[0;32m    306\u001B[0m     warnings\u001B[38;5;241m.\u001B[39mwarn(\n\u001B[0;32m    307\u001B[0m         msg\u001B[38;5;241m.\u001B[39mformat(arguments\u001B[38;5;241m=\u001B[39marguments),\n\u001B[0;32m    308\u001B[0m         \u001B[38;5;167;01mFutureWarning\u001B[39;00m,\n\u001B[0;32m    309\u001B[0m         stacklevel\u001B[38;5;241m=\u001B[39mstacklevel,\n\u001B[0;32m    310\u001B[0m     )\n\u001B[1;32m--> 311\u001B[0m \u001B[38;5;28;01mreturn\u001B[39;00m func(\u001B[38;5;241m*\u001B[39margs, \u001B[38;5;241m*\u001B[39m\u001B[38;5;241m*\u001B[39mkwargs)\n",
      "File \u001B[1;32m~\\Anaconda3\\lib\\site-packages\\pandas\\io\\excel\\_base.py:457\u001B[0m, in \u001B[0;36mread_excel\u001B[1;34m(io, sheet_name, header, names, index_col, usecols, squeeze, dtype, engine, converters, true_values, false_values, skiprows, nrows, na_values, keep_default_na, na_filter, verbose, parse_dates, date_parser, thousands, decimal, comment, skipfooter, convert_float, mangle_dupe_cols, storage_options)\u001B[0m\n\u001B[0;32m    455\u001B[0m \u001B[38;5;28;01mif\u001B[39;00m \u001B[38;5;129;01mnot\u001B[39;00m \u001B[38;5;28misinstance\u001B[39m(io, ExcelFile):\n\u001B[0;32m    456\u001B[0m     should_close \u001B[38;5;241m=\u001B[39m \u001B[38;5;28;01mTrue\u001B[39;00m\n\u001B[1;32m--> 457\u001B[0m     io \u001B[38;5;241m=\u001B[39m \u001B[43mExcelFile\u001B[49m\u001B[43m(\u001B[49m\u001B[43mio\u001B[49m\u001B[43m,\u001B[49m\u001B[43m \u001B[49m\u001B[43mstorage_options\u001B[49m\u001B[38;5;241;43m=\u001B[39;49m\u001B[43mstorage_options\u001B[49m\u001B[43m,\u001B[49m\u001B[43m \u001B[49m\u001B[43mengine\u001B[49m\u001B[38;5;241;43m=\u001B[39;49m\u001B[43mengine\u001B[49m\u001B[43m)\u001B[49m\n\u001B[0;32m    458\u001B[0m \u001B[38;5;28;01melif\u001B[39;00m engine \u001B[38;5;129;01mand\u001B[39;00m engine \u001B[38;5;241m!=\u001B[39m io\u001B[38;5;241m.\u001B[39mengine:\n\u001B[0;32m    459\u001B[0m     \u001B[38;5;28;01mraise\u001B[39;00m \u001B[38;5;167;01mValueError\u001B[39;00m(\n\u001B[0;32m    460\u001B[0m         \u001B[38;5;124m\"\u001B[39m\u001B[38;5;124mEngine should not be specified when passing \u001B[39m\u001B[38;5;124m\"\u001B[39m\n\u001B[0;32m    461\u001B[0m         \u001B[38;5;124m\"\u001B[39m\u001B[38;5;124man ExcelFile - ExcelFile already has the engine set\u001B[39m\u001B[38;5;124m\"\u001B[39m\n\u001B[0;32m    462\u001B[0m     )\n",
      "File \u001B[1;32m~\\Anaconda3\\lib\\site-packages\\pandas\\io\\excel\\_base.py:1380\u001B[0m, in \u001B[0;36mExcelFile.__init__\u001B[1;34m(self, path_or_buffer, engine, storage_options)\u001B[0m\n\u001B[0;32m   1376\u001B[0m     ext \u001B[38;5;241m=\u001B[39m inspect_excel_format(\n\u001B[0;32m   1377\u001B[0m         content_or_path\u001B[38;5;241m=\u001B[39mpath_or_buffer, storage_options\u001B[38;5;241m=\u001B[39mstorage_options\n\u001B[0;32m   1378\u001B[0m     )\n\u001B[0;32m   1379\u001B[0m     \u001B[38;5;28;01mif\u001B[39;00m ext \u001B[38;5;129;01mis\u001B[39;00m \u001B[38;5;28;01mNone\u001B[39;00m:\n\u001B[1;32m-> 1380\u001B[0m         \u001B[38;5;28;01mraise\u001B[39;00m \u001B[38;5;167;01mValueError\u001B[39;00m(\n\u001B[0;32m   1381\u001B[0m             \u001B[38;5;124m\"\u001B[39m\u001B[38;5;124mExcel file format cannot be determined, you must specify \u001B[39m\u001B[38;5;124m\"\u001B[39m\n\u001B[0;32m   1382\u001B[0m             \u001B[38;5;124m\"\u001B[39m\u001B[38;5;124man engine manually.\u001B[39m\u001B[38;5;124m\"\u001B[39m\n\u001B[0;32m   1383\u001B[0m         )\n\u001B[0;32m   1385\u001B[0m engine \u001B[38;5;241m=\u001B[39m config\u001B[38;5;241m.\u001B[39mget_option(\u001B[38;5;124mf\u001B[39m\u001B[38;5;124m\"\u001B[39m\u001B[38;5;124mio.excel.\u001B[39m\u001B[38;5;132;01m{\u001B[39;00mext\u001B[38;5;132;01m}\u001B[39;00m\u001B[38;5;124m.reader\u001B[39m\u001B[38;5;124m\"\u001B[39m, silent\u001B[38;5;241m=\u001B[39m\u001B[38;5;28;01mTrue\u001B[39;00m)\n\u001B[0;32m   1386\u001B[0m \u001B[38;5;28;01mif\u001B[39;00m engine \u001B[38;5;241m==\u001B[39m \u001B[38;5;124m\"\u001B[39m\u001B[38;5;124mauto\u001B[39m\u001B[38;5;124m\"\u001B[39m:\n",
      "\u001B[1;31mValueError\u001B[0m: Excel file format cannot be determined, you must specify an engine manually."
     ]
    }
   ],
   "source": [
    "###Bring in controls (MS data for serums)##\n",
    "#Controls is the abundance of the proteins in serum that have been observed via proteomics\n",
    "#human protein abundance data found here- https://db.systemsbiology.net/sbeams/cgi/PeptideAtlas/GetProteins\n",
    "#Normalized expected concentration into a percent to make it similar to the rest of the normalized abundances used\n",
    "#Need FBS As well for Ban task\n",
    "controls=combined\n",
    "MS_data_controls = pd.merge(raw_MS_data,controls,how='inner', on='Entry')\n",
    "###Bring in Uniprot_data,NSPdata and NP data##\n",
    "uniprot_filepath='UniProt/Human_proteome_221201.xlsx'\n",
    "uniprot_dat=pd.read_excel(uniprot_filepath,header=0)\n",
    "NSPfilePath='NetsurfP_Proteomes/Bovine_Mouse_proteome_complete.xlsx'\n",
    "NSP_data=pd.read_excel(NSPfilePath)\n",
    "###Bring in NP data and merge to get complete NP dataset###\n",
    "NP_filepath='Input_data/NPs/NP_Database.xlsx'\n",
    "NPUNdata=pd.read_excel(NP_filepath,header=0,sheet_name='NPUNID')\n",
    "NPprop=pd.read_excel(NP_filepath,header=0,sheet_name='NP_Props')\n",
    "NPdata=pd.merge(NPUNdata,NPprop,how=\"left\",on='NPID')"
   ],
   "metadata": {
    "collapsed": false,
    "pycharm": {
     "name": "#%%\n"
    }
   }
  },
  {
   "cell_type": "code",
   "execution_count": 4,
   "outputs": [
    {
     "name": "stderr",
     "output_type": "stream",
     "text": [
      "C:\\Users\\kmp95\\Anaconda3\\lib\\site-packages\\pandas\\core\\arraylike.py:397: RuntimeWarning: divide by zero encountered in log2\n",
      "  result = getattr(ufunc, method)(*inputs, **kwargs)\n"
     ]
    }
   ],
   "source": [
    "#calculate Enrichment\n",
    "#####MAYBE add binning here to to keep negative results and improve capapbilities######\n",
    "MS_data_controls['Enrichment']= np.log2(MS_data_controls['Abundance']/MS_data_controls['Abundance_Controls'])\n",
    "MS_data=MS_data_controls.drop(columns=['Abundance','Abundance_Controls'])\n",
    "raw_prop_data=pd.merge(MS_data, uniprot_dat, how='left',on='Entry')"
   ],
   "metadata": {
    "collapsed": false,
    "pycharm": {
     "name": "#%%\n"
    }
   }
  },
  {
   "cell_type": "code",
   "execution_count": 5,
   "outputs": [],
   "source": [
    "MS_data_clean = raw_MS_data.copy()\n",
    "PROT_cleaned_data = normalize_mass_length_1DF(raw_prop_data) #function found in data_prep_functions line 167, normalizes mass, length and mw by dividing all values by the max in the column\n",
    "Protein_data_complete = pd.merge(PROT_cleaned_data, NSP_data, left_on='Entry', right_on='Entry') #merges netsurfp features and biopython features\n",
    "#creates new column called asa_sum_normalized which is the asa_sum value divide by the mass of the protein\n",
    "for df in [Protein_data_complete]:\n",
    "    for col in ['asa_sum']:\n",
    "        df[col+'_normalized'] = df[col] / df['Mass']\n",
    "\n",
    "data_complete= pd.merge(Protein_data_complete,NPdata,how='left', on='NPUNID')\n",
    "data_complete.drop(columns=['notes','Notes','BET','NPUNID','Unnamed: 0'],inplace=True)\n",
    "#Optional here to drop all enrichment values that are NA - also have to deal with positive/negative infinity values\n",
    "# data_complete.dropna(subset=['Enrichment'],inplace=True)"
   ],
   "metadata": {
    "collapsed": false,
    "pycharm": {
     "name": "#%%\n"
    }
   }
  },
  {
   "cell_type": "code",
   "execution_count": 11,
   "outputs": [],
   "source": [
    "data_complete.drop(columns='Unnamed: 0',inplace=True)"
   ],
   "metadata": {
    "collapsed": false,
    "pycharm": {
     "name": "#%%\n"
    }
   }
  },
  {
   "cell_type": "code",
   "execution_count": 12,
   "outputs": [],
   "source": [
    "data_complete.dropna(inplace=True)\n",
    "#replace -infintiy and positive infinity with -12 and 12\n",
    "\n",
    "#####COME BACK AND FIND BETTER SOLUTION!!!##\n",
    "data_complete= data_complete.replace([-np.inf],'-12')\n",
    "data_complete=data_complete.replace([np.inf],'12')"
   ],
   "metadata": {
    "collapsed": false,
    "pycharm": {
     "name": "#%%\n"
    }
   }
  },
  {
   "cell_type": "code",
   "execution_count": 13,
   "outputs": [],
   "source": [
    "#set labels (what we are trying to predict) as Enrichment column\n",
    "labels=data_complete['Enrichment'].copy()\n",
    "#make it one dimenisional\n",
    "labels=np.ravel(labels)\n",
    "#drop qualitative, not neccessary, and label columns\n",
    "df=data_complete.drop(['Entry','Sequence','Core Material','Ligand','NPID','Enrichment'],axis=1)\n",
    "\n",
    "# print(df)\n",
    "#these are left over metrics from the helper functions from landry paper replace with better options for looking at metrics###\n",
    "first_frame = True #starting dataframe for saving metrics\n",
    "correctness_frame = pd.DataFrame()\n",
    "metrics_frame = pd.DataFrame()\n",
    "print_metrics = 1 #0, doesn't show metrics while runnning for each model, 1 does show metrics\n"
   ],
   "metadata": {
    "collapsed": false,
    "pycharm": {
     "name": "#%%\n"
    }
   }
  },
  {
   "cell_type": "code",
   "execution_count": null,
   "outputs": [],
   "source": [
    "labels"
   ],
   "metadata": {
    "collapsed": false,
    "pycharm": {
     "is_executing": true,
     "name": "#%%\n"
    }
   }
  },
  {
   "cell_type": "code",
   "execution_count": 55,
   "outputs": [
    {
     "data": {
      "text/plain": "       Entry  Enrichment                                           Sequence  \\\n0     P02769   -3.058069  MKWVTFISLLLLFSSAYSRGVFRRDTHKSEIAHRFKDLGEEHFKGL...   \n1     P02769   -2.626344  MKWVTFISLLLLFSSAYSRGVFRRDTHKSEIAHRFKDLGEEHFKGL...   \n2     P02769   -2.660705  MKWVTFISLLLLFSSAYSRGVFRRDTHKSEIAHRFKDLGEEHFKGL...   \n6     P41361    4.586080  MISNGIGTVTAGKRSICLLPLLLIGLWGCVTCHRSPVEDVCTAKPR...   \n7     P41361    4.631187  MISNGIGTVTAGKRSICLLPLLLIGLWGCVTCHRSPVEDVCTAKPR...   \n...      ...         ...                                                ...   \n3149  Q00896        -inf  MTPSISWGLLLLAGLCCLVPSFLAEDVQETDTSQKDQSPASHEIAT...   \n3150  Q00896        -inf  MTPSISWGLLLLAGLCCLVPSFLAEDVQETDTSQKDQSPASHEIAT...   \n3151  Q00896    1.789023  MTPSISWGLLLLAGLCCLVPSFLAEDVQETDTSQKDQSPASHEIAT...   \n3152  Q00896        -inf  MTPSISWGLLLLAGLCCLVPSFLAEDVQETDTSQKDQSPASHEIAT...   \n3153  Q00896        -inf  MTPSISWGLLLLAGLCCLVPSFLAEDVQETDTSQKDQSPASHEIAT...   \n\n      Length     Mass  frac_aa_A  frac_aa_C  frac_aa_D  frac_aa_E  frac_aa_F  \\\n0      607.0  69293.0   0.079077   0.057661   0.065898   0.097199   0.049423   \n1      607.0  69293.0   0.079077   0.057661   0.065898   0.097199   0.049423   \n2      607.0  69293.0   0.079077   0.057661   0.065898   0.097199   0.049423   \n6      465.0  52347.0   0.064516   0.019355   0.045161   0.075269   0.053763   \n7      465.0  52347.0   0.064516   0.019355   0.045161   0.075269   0.053763   \n...      ...      ...        ...        ...        ...        ...        ...   \n3149   412.0  45823.0   0.070388   0.007282   0.050971   0.072816   0.060680   \n3150   412.0  45823.0   0.070388   0.007282   0.050971   0.072816   0.060680   \n3151   412.0  45823.0   0.070388   0.007282   0.050971   0.072816   0.060680   \n3152   412.0  45823.0   0.070388   0.007282   0.050971   0.072816   0.060680   \n3153   412.0  45823.0   0.070388   0.007282   0.050971   0.072816   0.060680   \n\n      ...  Core Material           Ligand   Dtem     Dh  Shaken  Centrifuged  \\\n0     ...     Iron Oxide  Carboxylate BSA  100.0  230.0     1.0          0.0   \n1     ...     Iron Oxide  Carboxylate BSA  100.0  230.0     1.0          0.0   \n2     ...     Iron Oxide  Carboxylate BSA  100.0  230.0     1.0          0.0   \n6     ...     Iron Oxide  Carboxylate BSA  100.0  230.0     1.0          0.0   \n7     ...     Iron Oxide  Carboxylate BSA  100.0  230.0     1.0          0.0   \n...   ...            ...              ...    ...    ...     ...          ...   \n3149  ...           R101             none  800.0  680.0     1.0          1.0   \n3150  ...            P25             none  378.0  410.0     1.0          1.0   \n3151  ...            P25             none  378.0  410.0     1.0          1.0   \n3152  ...            P25             none  378.0  410.0     1.0          1.0   \n3153  ...     Iron Oxide  Carboxylate BSA  100.0  230.0     1.0          0.0   \n\n      NP_incubation Concentration (mg/mL)  Incubation Concentration (mg/ml)  \\\n0                                     3.2                               4.0   \n1                                     3.2                               4.0   \n2                                     3.2                               4.0   \n6                                     3.2                               4.0   \n7                                     3.2                               4.0   \n...                                   ...                               ...   \n3149                                125.0                               0.2   \n3150                                 62.5                               0.2   \n3151                                 62.5                               0.2   \n3152                                 62.5                               0.2   \n3153                                 25.0                               0.2   \n\n      Incubation Time (minutes)  Temperature  \n0                          30.0         25.0  \n1                          30.0         25.0  \n2                          30.0         25.0  \n6                          30.0         25.0  \n7                          30.0         25.0  \n...                         ...          ...  \n3149                       60.0         25.0  \n3150                       60.0         25.0  \n3151                       60.0         25.0  \n3152                       60.0         25.0  \n3153                       60.0         25.0  \n\n[1845 rows x 110 columns]",
      "text/html": "<div>\n<style scoped>\n    .dataframe tbody tr th:only-of-type {\n        vertical-align: middle;\n    }\n\n    .dataframe tbody tr th {\n        vertical-align: top;\n    }\n\n    .dataframe thead th {\n        text-align: right;\n    }\n</style>\n<table border=\"1\" class=\"dataframe\">\n  <thead>\n    <tr style=\"text-align: right;\">\n      <th></th>\n      <th>Entry</th>\n      <th>Enrichment</th>\n      <th>Sequence</th>\n      <th>Length</th>\n      <th>Mass</th>\n      <th>frac_aa_A</th>\n      <th>frac_aa_C</th>\n      <th>frac_aa_D</th>\n      <th>frac_aa_E</th>\n      <th>frac_aa_F</th>\n      <th>...</th>\n      <th>Core Material</th>\n      <th>Ligand</th>\n      <th>Dtem</th>\n      <th>Dh</th>\n      <th>Shaken</th>\n      <th>Centrifuged</th>\n      <th>NP_incubation Concentration (mg/mL)</th>\n      <th>Incubation Concentration (mg/ml)</th>\n      <th>Incubation Time (minutes)</th>\n      <th>Temperature</th>\n    </tr>\n  </thead>\n  <tbody>\n    <tr>\n      <th>0</th>\n      <td>P02769</td>\n      <td>-3.058069</td>\n      <td>MKWVTFISLLLLFSSAYSRGVFRRDTHKSEIAHRFKDLGEEHFKGL...</td>\n      <td>607.0</td>\n      <td>69293.0</td>\n      <td>0.079077</td>\n      <td>0.057661</td>\n      <td>0.065898</td>\n      <td>0.097199</td>\n      <td>0.049423</td>\n      <td>...</td>\n      <td>Iron Oxide</td>\n      <td>Carboxylate BSA</td>\n      <td>100.0</td>\n      <td>230.0</td>\n      <td>1.0</td>\n      <td>0.0</td>\n      <td>3.2</td>\n      <td>4.0</td>\n      <td>30.0</td>\n      <td>25.0</td>\n    </tr>\n    <tr>\n      <th>1</th>\n      <td>P02769</td>\n      <td>-2.626344</td>\n      <td>MKWVTFISLLLLFSSAYSRGVFRRDTHKSEIAHRFKDLGEEHFKGL...</td>\n      <td>607.0</td>\n      <td>69293.0</td>\n      <td>0.079077</td>\n      <td>0.057661</td>\n      <td>0.065898</td>\n      <td>0.097199</td>\n      <td>0.049423</td>\n      <td>...</td>\n      <td>Iron Oxide</td>\n      <td>Carboxylate BSA</td>\n      <td>100.0</td>\n      <td>230.0</td>\n      <td>1.0</td>\n      <td>0.0</td>\n      <td>3.2</td>\n      <td>4.0</td>\n      <td>30.0</td>\n      <td>25.0</td>\n    </tr>\n    <tr>\n      <th>2</th>\n      <td>P02769</td>\n      <td>-2.660705</td>\n      <td>MKWVTFISLLLLFSSAYSRGVFRRDTHKSEIAHRFKDLGEEHFKGL...</td>\n      <td>607.0</td>\n      <td>69293.0</td>\n      <td>0.079077</td>\n      <td>0.057661</td>\n      <td>0.065898</td>\n      <td>0.097199</td>\n      <td>0.049423</td>\n      <td>...</td>\n      <td>Iron Oxide</td>\n      <td>Carboxylate BSA</td>\n      <td>100.0</td>\n      <td>230.0</td>\n      <td>1.0</td>\n      <td>0.0</td>\n      <td>3.2</td>\n      <td>4.0</td>\n      <td>30.0</td>\n      <td>25.0</td>\n    </tr>\n    <tr>\n      <th>6</th>\n      <td>P41361</td>\n      <td>4.586080</td>\n      <td>MISNGIGTVTAGKRSICLLPLLLIGLWGCVTCHRSPVEDVCTAKPR...</td>\n      <td>465.0</td>\n      <td>52347.0</td>\n      <td>0.064516</td>\n      <td>0.019355</td>\n      <td>0.045161</td>\n      <td>0.075269</td>\n      <td>0.053763</td>\n      <td>...</td>\n      <td>Iron Oxide</td>\n      <td>Carboxylate BSA</td>\n      <td>100.0</td>\n      <td>230.0</td>\n      <td>1.0</td>\n      <td>0.0</td>\n      <td>3.2</td>\n      <td>4.0</td>\n      <td>30.0</td>\n      <td>25.0</td>\n    </tr>\n    <tr>\n      <th>7</th>\n      <td>P41361</td>\n      <td>4.631187</td>\n      <td>MISNGIGTVTAGKRSICLLPLLLIGLWGCVTCHRSPVEDVCTAKPR...</td>\n      <td>465.0</td>\n      <td>52347.0</td>\n      <td>0.064516</td>\n      <td>0.019355</td>\n      <td>0.045161</td>\n      <td>0.075269</td>\n      <td>0.053763</td>\n      <td>...</td>\n      <td>Iron Oxide</td>\n      <td>Carboxylate BSA</td>\n      <td>100.0</td>\n      <td>230.0</td>\n      <td>1.0</td>\n      <td>0.0</td>\n      <td>3.2</td>\n      <td>4.0</td>\n      <td>30.0</td>\n      <td>25.0</td>\n    </tr>\n    <tr>\n      <th>...</th>\n      <td>...</td>\n      <td>...</td>\n      <td>...</td>\n      <td>...</td>\n      <td>...</td>\n      <td>...</td>\n      <td>...</td>\n      <td>...</td>\n      <td>...</td>\n      <td>...</td>\n      <td>...</td>\n      <td>...</td>\n      <td>...</td>\n      <td>...</td>\n      <td>...</td>\n      <td>...</td>\n      <td>...</td>\n      <td>...</td>\n      <td>...</td>\n      <td>...</td>\n      <td>...</td>\n    </tr>\n    <tr>\n      <th>3149</th>\n      <td>Q00896</td>\n      <td>-inf</td>\n      <td>MTPSISWGLLLLAGLCCLVPSFLAEDVQETDTSQKDQSPASHEIAT...</td>\n      <td>412.0</td>\n      <td>45823.0</td>\n      <td>0.070388</td>\n      <td>0.007282</td>\n      <td>0.050971</td>\n      <td>0.072816</td>\n      <td>0.060680</td>\n      <td>...</td>\n      <td>R101</td>\n      <td>none</td>\n      <td>800.0</td>\n      <td>680.0</td>\n      <td>1.0</td>\n      <td>1.0</td>\n      <td>125.0</td>\n      <td>0.2</td>\n      <td>60.0</td>\n      <td>25.0</td>\n    </tr>\n    <tr>\n      <th>3150</th>\n      <td>Q00896</td>\n      <td>-inf</td>\n      <td>MTPSISWGLLLLAGLCCLVPSFLAEDVQETDTSQKDQSPASHEIAT...</td>\n      <td>412.0</td>\n      <td>45823.0</td>\n      <td>0.070388</td>\n      <td>0.007282</td>\n      <td>0.050971</td>\n      <td>0.072816</td>\n      <td>0.060680</td>\n      <td>...</td>\n      <td>P25</td>\n      <td>none</td>\n      <td>378.0</td>\n      <td>410.0</td>\n      <td>1.0</td>\n      <td>1.0</td>\n      <td>62.5</td>\n      <td>0.2</td>\n      <td>60.0</td>\n      <td>25.0</td>\n    </tr>\n    <tr>\n      <th>3151</th>\n      <td>Q00896</td>\n      <td>1.789023</td>\n      <td>MTPSISWGLLLLAGLCCLVPSFLAEDVQETDTSQKDQSPASHEIAT...</td>\n      <td>412.0</td>\n      <td>45823.0</td>\n      <td>0.070388</td>\n      <td>0.007282</td>\n      <td>0.050971</td>\n      <td>0.072816</td>\n      <td>0.060680</td>\n      <td>...</td>\n      <td>P25</td>\n      <td>none</td>\n      <td>378.0</td>\n      <td>410.0</td>\n      <td>1.0</td>\n      <td>1.0</td>\n      <td>62.5</td>\n      <td>0.2</td>\n      <td>60.0</td>\n      <td>25.0</td>\n    </tr>\n    <tr>\n      <th>3152</th>\n      <td>Q00896</td>\n      <td>-inf</td>\n      <td>MTPSISWGLLLLAGLCCLVPSFLAEDVQETDTSQKDQSPASHEIAT...</td>\n      <td>412.0</td>\n      <td>45823.0</td>\n      <td>0.070388</td>\n      <td>0.007282</td>\n      <td>0.050971</td>\n      <td>0.072816</td>\n      <td>0.060680</td>\n      <td>...</td>\n      <td>P25</td>\n      <td>none</td>\n      <td>378.0</td>\n      <td>410.0</td>\n      <td>1.0</td>\n      <td>1.0</td>\n      <td>62.5</td>\n      <td>0.2</td>\n      <td>60.0</td>\n      <td>25.0</td>\n    </tr>\n    <tr>\n      <th>3153</th>\n      <td>Q00896</td>\n      <td>-inf</td>\n      <td>MTPSISWGLLLLAGLCCLVPSFLAEDVQETDTSQKDQSPASHEIAT...</td>\n      <td>412.0</td>\n      <td>45823.0</td>\n      <td>0.070388</td>\n      <td>0.007282</td>\n      <td>0.050971</td>\n      <td>0.072816</td>\n      <td>0.060680</td>\n      <td>...</td>\n      <td>Iron Oxide</td>\n      <td>Carboxylate BSA</td>\n      <td>100.0</td>\n      <td>230.0</td>\n      <td>1.0</td>\n      <td>0.0</td>\n      <td>25.0</td>\n      <td>0.2</td>\n      <td>60.0</td>\n      <td>25.0</td>\n    </tr>\n  </tbody>\n</table>\n<p>1845 rows × 110 columns</p>\n</div>"
     },
     "execution_count": 55,
     "metadata": {},
     "output_type": "execute_result"
    }
   ],
   "source": [
    "data_complete"
   ],
   "metadata": {
    "collapsed": false,
    "pycharm": {
     "name": "#%%\n"
    }
   }
  },
  {
   "cell_type": "code",
   "execution_count": 14,
   "outputs": [
    {
     "data": {
      "text/plain": "array([False, False, False, False, False, False, False, False, False,\n        True, False, False, False, False, False,  True, False, False,\n       False, False,  True, False,  True, False, False, False, False,\n        True, False,  True, False, False, False, False, False, False,\n       False, False, False, False, False, False, False, False,  True,\n       False, False,  True, False, False, False, False, False, False,\n       False, False, False, False, False,  True, False, False, False,\n       False, False, False, False, False,  True,  True, False, False,\n       False, False, False,  True, False, False, False, False, False,\n       False, False, False, False,  True, False, False, False, False,\n       False, False, False, False,  True, False, False, False, False,\n        True, False, False, False])"
     },
     "execution_count": 14,
     "metadata": {},
     "output_type": "execute_result"
    }
   ],
   "source": [
    "#Run recursive feature elimination to determine top features to select\n",
    "#currently selecting 15 although that is arbitrary\n",
    "### COME UP with better more objective way for determining number of features####\n",
    "from sklearn.feature_selection import RFE\n",
    "\n",
    "estimator = RandomForestRegressor(n_estimators=100)\n",
    "selector = RFE(estimator, n_features_to_select= 15, step=1)\n",
    "selector = selector.fit(df,labels)\n",
    "selector.support_"
   ],
   "metadata": {
    "collapsed": false,
    "pycharm": {
     "name": "#%%\n"
    }
   }
  },
  {
   "cell_type": "code",
   "execution_count": 15,
   "outputs": [
    {
     "data": {
      "text/plain": "array([72, 78, 21, 39, 67, 62, 13,  8, 36,  1, 45, 23, 32, 28, 69,  1, 16,\n       57, 47, 34,  1, 61,  1, 25,  4, 41, 14,  1, 11,  1,  6, 37, 65, 42,\n       55,  3, 24, 84, 51, 87, 46, 86, 63, 75,  1, 80, 83,  1, 26, 12, 68,\n       58, 74, 73, 64, 27, 76, 22, 59,  1, 53, 19, 48, 49,  9, 31, 54, 82,\n        1,  1, 81, 38, 70, 40, 60,  1, 52, 10,  2,  5, 15, 43, 20, 56, 30,\n        1, 33, 71, 18, 44,  7, 66, 50, 85,  1, 17, 29, 88, 79,  1, 35, 77,\n       89])"
     },
     "execution_count": 15,
     "metadata": {},
     "output_type": "execute_result"
    }
   ],
   "source": [
    "selector.ranking_"
   ],
   "metadata": {
    "collapsed": false,
    "pycharm": {
     "name": "#%%\n"
    }
   }
  },
  {
   "cell_type": "code",
   "execution_count": 16,
   "outputs": [
    {
     "name": "stdout",
     "output_type": "stream",
     "text": [
      "['frac_aa_I' 'frac_aa_Q' 'frac_aa_W' 'molecular_weight' 'flexibility_var'\n",
      " 'flexibility_min' 'fraction_exposed_polar_exposed' 'rsa_std'\n",
      " 'fraction_total_exposed_M' 'fraction_total_exposed_Y'\n",
      " 'fraction_exposed_exposed_A' 'fraction_exposed_exposed_H'\n",
      " 'fraction_exposed_exposed_T' 'Zeta Potential'\n",
      " 'NP_incubation Concentration (mg/mL)']\n"
     ]
    }
   ],
   "source": [
    "feat_list=selector.get_feature_names_out()\n",
    "print(feat_list)"
   ],
   "metadata": {
    "collapsed": false,
    "pycharm": {
     "name": "#%%\n"
    }
   }
  },
  {
   "cell_type": "code",
   "execution_count": 17,
   "outputs": [
    {
     "data": {
      "text/plain": "      frac_aa_I  frac_aa_Q  frac_aa_W  molecular_weight  flexibility_var  \\\n0      0.024712   0.032949   0.004942          0.136021         0.000695   \n1      0.024712   0.032949   0.004942          0.136021         0.000695   \n2      0.024712   0.032949   0.004942          0.136021         0.000695   \n3      0.024712   0.032949   0.004942          0.136021         0.000695   \n4      0.024712   0.032949   0.004942          0.136021         0.000695   \n...         ...        ...        ...               ...              ...   \n3149   0.048544   0.043689   0.007282          0.089950         0.000799   \n3150   0.048544   0.043689   0.007282          0.089950         0.000799   \n3151   0.048544   0.043689   0.007282          0.089950         0.000799   \n3152   0.048544   0.043689   0.007282          0.089950         0.000799   \n3153   0.048544   0.043689   0.007282          0.089950         0.000799   \n\n      flexibility_min  fraction_exposed_polar_exposed  rsa_std  \\\n0            0.936357                        0.742604    0.223   \n1            0.936357                        0.742604    0.223   \n2            0.936357                        0.742604    0.223   \n3            0.936357                        0.742604    0.223   \n4            0.936357                        0.742604    0.223   \n...               ...                             ...      ...   \n3149         0.936714                        0.741071    0.258   \n3150         0.936714                        0.741071    0.258   \n3151         0.936714                        0.741071    0.258   \n3152         0.936714                        0.741071    0.258   \n3153         0.936714                        0.741071    0.258   \n\n      fraction_total_exposed_M  fraction_total_exposed_Y  \\\n0                     0.003295                  0.006590   \n1                     0.003295                  0.006590   \n2                     0.003295                  0.006590   \n3                     0.003295                  0.006590   \n4                     0.003295                  0.006590   \n...                        ...                       ...   \n3149                  0.007282                  0.002427   \n3150                  0.007282                  0.002427   \n3151                  0.007282                  0.002427   \n3152                  0.007282                  0.002427   \n3153                  0.007282                  0.002427   \n\n      fraction_exposed_exposed_A  fraction_exposed_exposed_H  \\\n0                       0.082840                    0.035503   \n1                       0.082840                    0.035503   \n2                       0.082840                    0.035503   \n3                       0.082840                    0.035503   \n4                       0.082840                    0.035503   \n...                          ...                         ...   \n3149                    0.044643                    0.049107   \n3150                    0.044643                    0.049107   \n3151                    0.044643                    0.049107   \n3152                    0.044643                    0.049107   \n3153                    0.044643                    0.049107   \n\n      fraction_exposed_exposed_T  Zeta Potential  \\\n0                       0.073964           -38.0   \n1                       0.073964           -38.0   \n2                       0.073964           -38.0   \n3                       0.073964             9.0   \n4                       0.073964           100.0   \n...                          ...             ...   \n3149                    0.084821           -52.0   \n3150                    0.084821           -21.0   \n3151                    0.084821           -21.0   \n3152                    0.084821           -21.0   \n3153                    0.084821           -38.0   \n\n      NP_incubation Concentration (mg/mL)  \n0                                     3.2  \n1                                     3.2  \n2                                     3.2  \n3                                     4.0  \n4                                     4.0  \n...                                   ...  \n3149                                125.0  \n3150                                 62.5  \n3151                                 62.5  \n3152                                 62.5  \n3153                                 25.0  \n\n[2064 rows x 15 columns]",
      "text/html": "<div>\n<style scoped>\n    .dataframe tbody tr th:only-of-type {\n        vertical-align: middle;\n    }\n\n    .dataframe tbody tr th {\n        vertical-align: top;\n    }\n\n    .dataframe thead th {\n        text-align: right;\n    }\n</style>\n<table border=\"1\" class=\"dataframe\">\n  <thead>\n    <tr style=\"text-align: right;\">\n      <th></th>\n      <th>frac_aa_I</th>\n      <th>frac_aa_Q</th>\n      <th>frac_aa_W</th>\n      <th>molecular_weight</th>\n      <th>flexibility_var</th>\n      <th>flexibility_min</th>\n      <th>fraction_exposed_polar_exposed</th>\n      <th>rsa_std</th>\n      <th>fraction_total_exposed_M</th>\n      <th>fraction_total_exposed_Y</th>\n      <th>fraction_exposed_exposed_A</th>\n      <th>fraction_exposed_exposed_H</th>\n      <th>fraction_exposed_exposed_T</th>\n      <th>Zeta Potential</th>\n      <th>NP_incubation Concentration (mg/mL)</th>\n    </tr>\n  </thead>\n  <tbody>\n    <tr>\n      <th>0</th>\n      <td>0.024712</td>\n      <td>0.032949</td>\n      <td>0.004942</td>\n      <td>0.136021</td>\n      <td>0.000695</td>\n      <td>0.936357</td>\n      <td>0.742604</td>\n      <td>0.223</td>\n      <td>0.003295</td>\n      <td>0.006590</td>\n      <td>0.082840</td>\n      <td>0.035503</td>\n      <td>0.073964</td>\n      <td>-38.0</td>\n      <td>3.2</td>\n    </tr>\n    <tr>\n      <th>1</th>\n      <td>0.024712</td>\n      <td>0.032949</td>\n      <td>0.004942</td>\n      <td>0.136021</td>\n      <td>0.000695</td>\n      <td>0.936357</td>\n      <td>0.742604</td>\n      <td>0.223</td>\n      <td>0.003295</td>\n      <td>0.006590</td>\n      <td>0.082840</td>\n      <td>0.035503</td>\n      <td>0.073964</td>\n      <td>-38.0</td>\n      <td>3.2</td>\n    </tr>\n    <tr>\n      <th>2</th>\n      <td>0.024712</td>\n      <td>0.032949</td>\n      <td>0.004942</td>\n      <td>0.136021</td>\n      <td>0.000695</td>\n      <td>0.936357</td>\n      <td>0.742604</td>\n      <td>0.223</td>\n      <td>0.003295</td>\n      <td>0.006590</td>\n      <td>0.082840</td>\n      <td>0.035503</td>\n      <td>0.073964</td>\n      <td>-38.0</td>\n      <td>3.2</td>\n    </tr>\n    <tr>\n      <th>3</th>\n      <td>0.024712</td>\n      <td>0.032949</td>\n      <td>0.004942</td>\n      <td>0.136021</td>\n      <td>0.000695</td>\n      <td>0.936357</td>\n      <td>0.742604</td>\n      <td>0.223</td>\n      <td>0.003295</td>\n      <td>0.006590</td>\n      <td>0.082840</td>\n      <td>0.035503</td>\n      <td>0.073964</td>\n      <td>9.0</td>\n      <td>4.0</td>\n    </tr>\n    <tr>\n      <th>4</th>\n      <td>0.024712</td>\n      <td>0.032949</td>\n      <td>0.004942</td>\n      <td>0.136021</td>\n      <td>0.000695</td>\n      <td>0.936357</td>\n      <td>0.742604</td>\n      <td>0.223</td>\n      <td>0.003295</td>\n      <td>0.006590</td>\n      <td>0.082840</td>\n      <td>0.035503</td>\n      <td>0.073964</td>\n      <td>100.0</td>\n      <td>4.0</td>\n    </tr>\n    <tr>\n      <th>...</th>\n      <td>...</td>\n      <td>...</td>\n      <td>...</td>\n      <td>...</td>\n      <td>...</td>\n      <td>...</td>\n      <td>...</td>\n      <td>...</td>\n      <td>...</td>\n      <td>...</td>\n      <td>...</td>\n      <td>...</td>\n      <td>...</td>\n      <td>...</td>\n      <td>...</td>\n    </tr>\n    <tr>\n      <th>3149</th>\n      <td>0.048544</td>\n      <td>0.043689</td>\n      <td>0.007282</td>\n      <td>0.089950</td>\n      <td>0.000799</td>\n      <td>0.936714</td>\n      <td>0.741071</td>\n      <td>0.258</td>\n      <td>0.007282</td>\n      <td>0.002427</td>\n      <td>0.044643</td>\n      <td>0.049107</td>\n      <td>0.084821</td>\n      <td>-52.0</td>\n      <td>125.0</td>\n    </tr>\n    <tr>\n      <th>3150</th>\n      <td>0.048544</td>\n      <td>0.043689</td>\n      <td>0.007282</td>\n      <td>0.089950</td>\n      <td>0.000799</td>\n      <td>0.936714</td>\n      <td>0.741071</td>\n      <td>0.258</td>\n      <td>0.007282</td>\n      <td>0.002427</td>\n      <td>0.044643</td>\n      <td>0.049107</td>\n      <td>0.084821</td>\n      <td>-21.0</td>\n      <td>62.5</td>\n    </tr>\n    <tr>\n      <th>3151</th>\n      <td>0.048544</td>\n      <td>0.043689</td>\n      <td>0.007282</td>\n      <td>0.089950</td>\n      <td>0.000799</td>\n      <td>0.936714</td>\n      <td>0.741071</td>\n      <td>0.258</td>\n      <td>0.007282</td>\n      <td>0.002427</td>\n      <td>0.044643</td>\n      <td>0.049107</td>\n      <td>0.084821</td>\n      <td>-21.0</td>\n      <td>62.5</td>\n    </tr>\n    <tr>\n      <th>3152</th>\n      <td>0.048544</td>\n      <td>0.043689</td>\n      <td>0.007282</td>\n      <td>0.089950</td>\n      <td>0.000799</td>\n      <td>0.936714</td>\n      <td>0.741071</td>\n      <td>0.258</td>\n      <td>0.007282</td>\n      <td>0.002427</td>\n      <td>0.044643</td>\n      <td>0.049107</td>\n      <td>0.084821</td>\n      <td>-21.0</td>\n      <td>62.5</td>\n    </tr>\n    <tr>\n      <th>3153</th>\n      <td>0.048544</td>\n      <td>0.043689</td>\n      <td>0.007282</td>\n      <td>0.089950</td>\n      <td>0.000799</td>\n      <td>0.936714</td>\n      <td>0.741071</td>\n      <td>0.258</td>\n      <td>0.007282</td>\n      <td>0.002427</td>\n      <td>0.044643</td>\n      <td>0.049107</td>\n      <td>0.084821</td>\n      <td>-38.0</td>\n      <td>25.0</td>\n    </tr>\n  </tbody>\n</table>\n<p>2064 rows × 15 columns</p>\n</div>"
     },
     "execution_count": 17,
     "metadata": {},
     "output_type": "execute_result"
    }
   ],
   "source": [
    "df_rfe=df[feat_list].copy()\n",
    "df_rfe"
   ],
   "metadata": {
    "collapsed": false,
    "pycharm": {
     "name": "#%%\n"
    }
   }
  },
  {
   "cell_type": "code",
   "execution_count": null,
   "outputs": [],
   "source": [],
   "metadata": {
    "collapsed": false,
    "pycharm": {
     "name": "#%%\n"
    }
   }
  },
  {
   "cell_type": "code",
   "execution_count": 22,
   "outputs": [
    {
     "name": "stdout",
     "output_type": "stream",
     "text": [
      "0.43730337548323595\n"
     ]
    }
   ],
   "source": [
    "\n",
    "x_train, x_test, y_train, y_test = train_test_split(df_rfe,labels, test_size = 0.33, random_state=42)\n",
    "# sss = StratifiedShuffleSplit(n_splits=1, test_size=0.4, random_state=2016)\n",
    "# for train_index, test_index in sss.split(df, labels):\n",
    "# x_train = df.iloc[train_index]\n",
    "# X_test = df.iloc[test_index]\n",
    "# y_train = labels.iloc[train_index]\n",
    "# y_test = labels.iloc[test_index]\n",
    "\n",
    "rfg=RandomForestRegressor(n_estimators=100)\n",
    "rfg.fit(x_train,y_train)\n",
    "print(rfg.score(x_test,y_test))\n",
    "# print(rfg.feature_importances_)\n",
    "\n",
    "# metrics_dict = {'AUC':metrics.roc_auc_score(y_test, rfg.predict_proba(x_test)[:, 1]),\n",
    "#             'Accuracy':rfg.score(x_test, y_test), 'Recall':recall_score(y_test, rfg.predict(x_test)),\n",
    "#             'Precision':precision_score(y_test, rfg.predict(x_test), zero_division=0), 'F1':f1_score(y_test, rfg.predict(x_test))}\n",
    "# metrics_frame = pd.DataFrame.from_dict(data=metrics_dict,orient='index').transpose()"
   ],
   "metadata": {
    "collapsed": false,
    "pycharm": {
     "name": "#%%\n"
    }
   }
  },
  {
   "cell_type": "code",
   "execution_count": 28,
   "outputs": [
    {
     "name": "stdout",
     "output_type": "stream",
     "text": [
      "feature: importance score\n",
      "frac_aa_I 0.06596630314032861\n",
      "frac_aa_Q 0.05914304079572\n",
      "frac_aa_W 0.06973760909851004\n",
      "molecular_weight 0.055950814276992854\n",
      "flexibility_var 0.060526394166567826\n",
      "flexibility_min 0.06685478674919744\n",
      "fraction_exposed_polar_exposed 0.06073350567070096\n",
      "rsa_std 0.06858982375397228\n",
      "fraction_total_exposed_M 0.07155243384020243\n",
      "fraction_total_exposed_Y 0.062404576064288855\n",
      "fraction_exposed_exposed_A 0.04876247693133964\n",
      "fraction_exposed_exposed_H 0.05787822204456944\n",
      "fraction_exposed_exposed_T 0.061567447024784984\n",
      "Zeta Potential 0.09787628088636142\n",
      "NP_incubation Concentration (mg/mL) 0.09245628555646303\n"
     ]
    }
   ],
   "source": [
    "feat_importances=rfg.feature_importances_\n",
    "# print(feat_importances)\n",
    "print('feature: importance score')\n",
    "for i,col in enumerate(df_rfe.columns):\n",
    "    print(col,feat_importances[i])"
   ],
   "metadata": {
    "collapsed": false,
    "pycharm": {
     "name": "#%%\n"
    }
   }
  }
 ],
 "metadata": {
  "kernelspec": {
   "display_name": "Python 3",
   "language": "python",
   "name": "python3"
  },
  "language_info": {
   "codemirror_mode": {
    "name": "ipython",
    "version": 2
   },
   "file_extension": ".py",
   "mimetype": "text/x-python",
   "name": "python",
   "nbconvert_exporter": "python",
   "pygments_lexer": "ipython2",
   "version": "2.7.6"
  }
 },
 "nbformat": 4,
 "nbformat_minor": 0
}
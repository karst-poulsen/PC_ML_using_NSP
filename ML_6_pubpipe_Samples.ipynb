{
 "cells": [
  {
   "cell_type": "code",
   "execution_count": 2,
   "metadata": {
    "ExecuteTime": {
     "start_time": "2023-04-27T15:26:11.140468Z",
     "end_time": "2023-04-27T15:26:11.855560Z"
    }
   },
   "outputs": [],
   "source": [
    "import os\n",
    "import random\n",
    "\n",
    "import pandas as pd\n",
    "import numpy as np\n",
    "import sklearn.metrics\n",
    "from sklearn.ensemble import RandomForestClassifier\n",
    "from sklearn.ensemble import RandomForestRegressor\n",
    "from sklearn.ensemble import _gradient_boosting\n",
    "from sklearn import metrics\n",
    "import matplotlib.pyplot as plt\n",
    "import seaborn as sns\n",
    "from helper_functions_pipe_testing import *\n",
    "from sklearn.metrics import  f1_score, recall_score, precision_score, confusion_matrix\n",
    "from sklearn.model_selection import StratifiedShuffleSplit\n",
    "from sklearn.model_selection import train_test_split\n",
    "from sklearn.preprocessing import MinMaxScaler\n",
    "from imblearn.over_sampling import *\n",
    "from sklearn.preprocessing import LabelEncoder\n",
    "from helper_functions_KP import *\n",
    "import xgboost as xgb\n",
    "from xgboost import XGBRegressor\n",
    "from sklearn.linear_model import LogisticRegression\n",
    "from scipy.stats import pearsonr\n",
    "from sklearn.metrics import r2_score\n",
    "from sklearn.model_selection import KFold\n",
    "from sklearn.model_selection import StratifiedKFold\n",
    "from sklearn.metrics import f1_score, roc_auc_score, accuracy_score, precision_score, recall_score\n",
    "import math"
   ]
  },
  {
   "cell_type": "markdown",
   "metadata": {},
   "source": [
    "#Instructions for the pipeline Requires two inputs for training: - Mass spec data with corresponding NP surface characteristics and experimental conditions (time, concentration) - NetsurfP and Biopython data that has been precalculated - X characteristics to predict\n",
    "pipeline Take mass spec spreadsheet Accession,Enrichment,Dh,TEM,Zp,BET,Composition,Ligand,Shape,IncubationTime,IncubationConcentration Merge with Proteome data to get file that has Accession,Enrichment,Dh,TEM,Zp,BET,Composition,Ligand,Shape,IncubationTime,IncubationConcentration,Mass,Length,Sequence Calculate protein features using biopython Merge with NSP data to get all protein features\n",
    "Split into X and Y dataset with Entries as labels\n",
    "In this pipeline (look at synth dataset and generate validation and prediction datasets out of original dataset)"
   ]
  },
  {
   "cell_type": "code",
   "execution_count": 6,
   "metadata": {
    "ExecuteTime": {
     "end_time": "2023-04-22T16:11:40.892094Z",
     "start_time": "2023-04-22T16:11:19.779507Z"
    }
   },
   "outputs": [],
   "source": [
    "#Sample code for loading saved DF and dropping appropriate columns before running### Also For running RFECV and saving the reduced df\n",
    "df_filepath='Input_data/Save_files/df_1_all.xlsx'\n",
    "id='04232023'\n",
    "df = pd.read_excel(df_filepath, header=0)\n",
    "labels_df= df['Abundance'].copy()\n",
    "id_col= df['NPUNID'].copy()\n",
    "label_abund=np.ravel(labels_df)\n",
    "model=RandomForestRegressor(n_estimators=100)\n",
    "splits=10\n",
    "scoring='neg_mean_squared_error'\n",
    "df=df.drop(columns=['Entry', 'Sequence', 'NPID', 'Ligands', 'Protein Source', 'Sample_num', 'Unnamed: 5','Raw_FileID'])\n",
    "import math\n",
    "\n",
    "start = 0.0001\n",
    "stop = 1\n",
    "num_points = 10\n",
    "# Calculate the common difference between consecutive terms in the series\n",
    "common_diff = (math.log(stop) - math.log(start)) / (num_points - 1)\n",
    "# Generate the logarithmic series as a list\n",
    "Abund_filter = [start * math.exp(i * common_diff) for i in range(num_points)]\n",
    "# model = RandomForestRegressor(n_estimators=80)\n",
    "# summary_tmp=[]\n",
    "for i in Abund_filter:\n",
    "    df_out= df[df['Abundance']>=i].copy()\n",
    "# df = RFECV_plot(df,label_abund,model,id,folds=splits,step=2,scoring=scoring)\n",
    "\n",
    "    df_out.to_excel(\"Input_data/Save_files/Abund_Filters/df_1_all\"+str(i)+\".xlsx\")\n"
   ]
  },
  {
   "cell_type": "code",
   "execution_count": null,
   "outputs": [],
   "source": [
    "## Run RFECV through each different condition (zeros and abund filters)##\n",
    "\n",
    "in_dir='Input_data/Save_files/ZerosReduced/'\n",
    "files=os.listdir(in_dir)\n",
    "files\n",
    "for file in files:\n",
    "    filepath=in_dir+file\n",
    "    id=file[:-10]\n",
    "    # print(id)\n",
    "    # print(filepath)\n",
    "    df= pd.read_excel(filepath,header=0)\n",
    "    labels_df= df['Abundance'].copy()\n",
    "    id_col= df['NPUNID'].copy()\n",
    "    label_abund=np.ravel(labels_df)\n",
    "    model=RandomForestRegressor(n_estimators=100)\n",
    "    splits=5\n",
    "    df=df.drop(columns=['Entry', 'Abundance', 'Sequence', 'NPID', 'Ligands', 'Protein Source', 'Sample_num', 'Unnamed: 5','Raw_FileID','NPUNID','Abundance_Controls'])\n",
    "    df = RFECV_plot(df,label_abund,model,id,folds=splits,step=2)\n",
    "    df_out=pd.concat([df, id_col,labels_df], axis=1)\n",
    "    df_out.to_excel(in_dir+id+'RFECV.xlsx',index=False)\n",
    "\n"
   ],
   "metadata": {
    "collapsed": false,
    "ExecuteTime": {
     "start_time": "2023-04-24T11:30:33.376431Z",
     "end_time": "2023-04-24T11:30:33.385406Z"
    }
   }
  },
  {
   "cell_type": "code",
   "execution_count": 25,
   "outputs": [
    {
     "name": "stdout",
     "output_type": "stream",
     "text": [
      "Scorer ran successfully\n",
      "Scorer ran successfully\n",
      "Scorer ran successfully\n",
      "Scorer ran successfully\n",
      "Scorer ran successfully\n",
      "Scorer ran successfully\n",
      "Scorer ran successfully\n",
      "Scorer ran successfully\n",
      "Scorer ran successfully\n",
      "Scorer ran successfully\n",
      "done\n"
     ]
    }
   ],
   "source": [
    "##Run RFE and Scorer on each file in a given directory -- Outputs feat importance and score summaries for RFR##\n",
    "in_dir='Input_data/Save_files/Abund_Filters/'\n",
    "files=os.listdir(in_dir)\n",
    "\n",
    "model=RandomForestRegressor(n_estimators=100)\n",
    "# df_filepath='Input_data/Save_files/df_1_all.xlsx'\n",
    "\n",
    "summary_tmp=[]\n",
    "feats=[]\n",
    "for file in files:\n",
    "    filepath=in_dir+file\n",
    "    df = pd.read_excel(filepath, header=0)\n",
    "    identifier=file[:-5]\n",
    "    labels_df= df['Abundance'].copy()\n",
    "    id_col= df['NPUNID'].copy()\n",
    "    label_abund=np.ravel(labels_df)\n",
    "    label_abund=np.log2(label_abund)\n",
    "    # df=df.drop(columns=['Entry', 'Abundance', 'Sequence', 'NPID', 'Ligands', 'Protein Source', 'Sample_num', 'Unnamed: 5','Raw_FileID','NPUNID','Abundance_Controls'])\n",
    "    # df=df.drop(columns=['Entry', 'Abundance', 'Sequence', 'NPID', 'Ligands', 'Protein Source', 'Sample_num', 'Unnamed: 5','Raw_FileID','NPUNID'])\n",
    "    df=df.drop(columns='Abundance_Controls')\n",
    "    df=df.drop(columns=['Abundance','NPUNID','BatchID','Unnamed: 0'])\n",
    "    step = 3\n",
    "    selector = RFE(model, n_features_to_select=15, step=step)\n",
    "    selector = selector.fit(df, label_abund)\n",
    "    feat_list = selector.get_feature_names_out()\n",
    "    df = df[feat_list].copy()\n",
    "    model.fit(df,labels_df)\n",
    "    tmp2,tmp3=scorer(df, label_abund, model, identifier, 10)\n",
    "    summary_tmp.append(tmp2)\n",
    "    feats.append(tmp3)\n",
    "# lasso_feature_selection(df, label_abund, id)\n",
    "summary=pd.concat(summary_tmp,axis=0)\n",
    "feat_summary=feats[0]\n",
    "for d in feats[1:]:\n",
    "    feat_summary=feat_summary.merge(d, on='Features',how='outer')\n",
    "feat_summary.to_excel('Output_data/Feats_AbundFilters_log2.xlsx', index=False)\n",
    "summary.to_excel('Output_data/Scores_AbundFilters_log2.xlsx', index=False)\n",
    "print('done')\n"
   ],
   "metadata": {
    "collapsed": false,
    "ExecuteTime": {
     "start_time": "2023-04-25T21:07:40.194273Z",
     "end_time": "2023-04-25T21:40:28.872999Z"
    }
   }
  },
  {
   "cell_type": "code",
   "execution_count": 5,
   "outputs": [],
   "source": [
    "summary=pd.concat(summary_tmp,axis=0)\n",
    "feat_summary=feats[0]\n",
    "for d in feats[1:]:\n",
    "    feat_summary=feat_summary.merge(d, on='Features',how='outer')\n",
    "feat_summary.to_excel('Output_data/Feats_Zeros_removed_CA.xlsx', index=False)\n",
    "summary.to_excel('Output_data/Scores_Zeros_removed_CA.xlsx', index=False)"
   ],
   "metadata": {
    "collapsed": false,
    "ExecuteTime": {
     "start_time": "2023-04-25T13:10:39.179711Z",
     "end_time": "2023-04-25T13:10:39.319855Z"
    }
   }
  },
  {
   "cell_type": "code",
   "execution_count": 14,
   "metadata": {
    "ExecuteTime": {
     "start_time": "2023-04-27T15:51:32.317348Z",
     "end_time": "2023-04-27T16:15:36.103037Z"
    }
   },
   "outputs": [
    {
     "name": "stdout",
     "output_type": "stream",
     "text": [
      "here\n",
      "Recursive Feature Elimination with Correlated Features ran successfully\n",
      "Scorer ran successfully\n",
      "Recursive Feature Elimination with Correlated Features ran successfully\n",
      "Scorer ran successfully\n",
      "Recursive Feature Elimination with Correlated Features ran successfully\n",
      "Scorer ran successfully\n",
      "Recursive Feature Elimination with Correlated Features ran successfully\n",
      "Scorer ran successfully\n",
      "Recursive Feature Elimination with Correlated Features ran successfully\n",
      "Scorer ran successfully\n",
      "Recursive Feature Elimination with Correlated Features ran successfully\n",
      "Scorer ran successfully\n"
     ]
    }
   ],
   "source": [
    "df_filepath='Input_data/Save_files/df_2_Synth.xlsx'\n",
    "df_a = pd.read_excel(df_filepath, header=0)\n",
    "Abund_filter=[0.00001,0.0001,0.01,.1,0.5,0.8]\n",
    "\n",
    "# df_a = df_a[df_a['Abundance']>=Abund_filter].copy()\n",
    "# labels_df= df_a['Abundance'].copy()\n",
    "# id_col= df_a['NPUNID'].copy()\n",
    "# label_abund=np.ravel(labels_df)\n",
    "#\n",
    "# label_abund=np.log2(label_abund)\n",
    "model=RandomForestRegressor(n_estimators=100)\n",
    "print('here')\n",
    "# df_a=df_a.drop(columns=['Entry', 'Abundance', 'Sequence', 'NPID', 'Ligands', 'Protein Source', 'Sample_num', 'Unnamed: 5','Raw_FileID','NPUNID','Abundance_Controls'])\n",
    "summary_tmp=[]\n",
    "feats=[]\n",
    "for i in Abund_filter:\n",
    "    df = df_a[df_a['Abundance']>=i].copy()\n",
    "    labels_df= df['Abundance'].copy()\n",
    "    id_col= df['NPUNID'].copy()\n",
    "    label_abund=np.ravel(labels_df)\n",
    "    identifier=str(i)\n",
    "    label_abund=np.log2(label_abund)\n",
    "    df=df.drop(columns=['Entry', 'Abundance', 'Sequence', 'NPID', 'Ligands', 'Protein Source', 'Sample_num', 'Unnamed: 5','Raw_FileID','NPUNID','Abundance_Controls'])\n",
    "    selector = RFE(model, n_features_to_select=50, step=3)\n",
    "    # print('start')\n",
    "    selector = selector.fit(df, label_abund)\n",
    "    # print('fit complete')\n",
    "    selector.support_\n",
    "    ranking = selector.ranking_\n",
    "    feat_list = selector.get_feature_names_out()\n",
    "    df = df[feat_list]\n",
    "    df=RFECV_plot(df,label_abund,model,identifier,5,1)\n",
    "    tmp2,tmp3=scorer(df, label_abund, model, identifier, 10)\n",
    "    summary_tmp.append(tmp2)\n",
    "    feats.append(tmp3)\n",
    "    # lasso_feature_selection(df, label_abund, id)\n",
    "    summary=pd.concat(summary_tmp,axis=0)\n",
    "feat_summary=feats[0]\n",
    "for d in feats[1:]:\n",
    "    feat_summary=feat_summary.merge(d, on='Features',how='outer')\n",
    "feat_summary.to_excel('Output_data/Feats_Synth_log2.xlsx', index=False)\n",
    "summary.to_excel('Output_data/Scores_Synth_log2.xlsx', index=False)\n",
    "# df_out=pd.concat([df, id_col,labels_df],axis=1)\n",
    "# df_out.to_excel(\"Input_data/Save_files/df_1_all_RFE50_RFR.xlsx\",index=False)"
   ]
  },
  {
   "cell_type": "markdown",
   "metadata": {},
   "source": []
  },
  {
   "cell_type": "code",
   "execution_count": null,
   "metadata": {},
   "outputs": [
    {
     "name": "stdout",
     "output_type": "stream",
     "text": [
      "PCA Ran successfully\n"
     ]
    }
   ],
   "source": [
    "# Standard Pipeline###\n",
    "\n",
    "\n",
    "# Data to record#\n",
    "#MSE,Pearson,R2,number of features => Scorer\n",
    "#Feature importance/Features used=> Scorer, but send out separate df for those\n",
    "\n",
    "#Editable Variables\n",
    "#list of test filters\n",
    "rfecv_ = True  #True_runs RFECV\n",
    "rfe_ = False     #True runs Recursive feature elimination\n",
    "abund_controls = False # True keeps the serum as an input feature\n",
    "splits = 10     #number of splits for cross validation across QC methods and feature selection methods\n",
    "# scorings=['r2','neg_mean_squared_error','mean_absolute_error']\n",
    "# RFE_Feats = 40\n",
    "model = RandomForestRegressor(n_estimators=80)\n",
    "\n",
    "df_filepath='Input_data/Save_files/df_1_all_RFE50_RFR.xlsx'\n",
    "df = pd.read_excel(df_filepath, header=0)\n",
    "labels_df= df['Abundance'].copy()\n",
    "id_col= df['NPUNID'].copy()\n",
    "label_abund=np.ravel(labels_df)\n",
    "NPIDs=np.ravel(id_col)\n",
    "id='RFR_RFECV_100%'\n",
    "# df=df.drop(columns=['Entry', 'Abundance', 'Sequence', 'NPID', 'Ligands', 'Protein Source', 'Sample_num', 'Unnamed: 5','Raw_FileID','NPUNID'])\n",
    "df=df.drop(columns=['Abundance','NPUNID'],axis=1)\n",
    "# if abund_controls == False:\n",
    "#     df.drop(columns=['Abundance_Controls'], inplace=True)\n",
    "\n",
    "# model=XGBRegressor(n_estimators=100, max_depth=3, learning_rate=0.1, objective='reg:squarederror')\n",
    "summary_tmp=[]\n",
    "# for z in scorings:\n",
    "    #Run PCA to seee how data differentiates#\n",
    "PCA_plot(df,NPIDs,id)\n",
    "#use recursive feature elimination with Random Forest Regression as the estimator to select top 45 important features\n",
    "if rfe_ == True:\n",
    "    step = 2\n",
    "    estimator = RandomForestRegressor(n_estimators=100)\n",
    "    selector = RFE(estimator, n_features_to_select=RFE_Feats, step=step)\n",
    "    selector = selector.fit(df, label_abund)\n",
    "    selector.support_\n",
    "    ranking = selector.ranking_\n",
    "    feat_list = selector.get_feature_names_out()\n",
    "    df = df[feat_list]\n",
    "    df_out=pd.concat([df, NPIDs,labels_df],axis=1)\n",
    "    df_out.to_excel(\"Input_data/Save_files/df_RFE40_\"+id+\".xlsx\")\n",
    "\n",
    "#run Recursive feature elimination with cross validation\n",
    "if rfecv_ == True:\n",
    "    df = RFECV_plot(df,label_abund,model,id,folds=splits,step=2)\n",
    "    df_out=pd.concat([df, NPIDs,labels_df],axis=1)\n",
    "    df_out.to_excel(\"Input_data/Save_files/df_RFECV(50)_\"+id+\".xlsx\")\n",
    "#Quality control\n",
    "scram_score(df, label_abund, model, id, 0.2)\n",
    "# feat_drop(df, label_abund, model, id, 0.2)\n",
    "feat_drop_multifold(df, label_abund, model, id, 0.2, folds=splits)\n",
    "tmp2=scorer(df, label_abund, model, id, 10)\n",
    "zeros=(raw_MS_data['Abundance']==0).sum()\n",
    "percent_zeros=zeros/raw_MS_data.shape[0]\n",
    "tmp2['TotalZeros']=zeros\n",
    "tmp2['Percent_zeros']=percent_zeros\n",
    "summary_tmp.append(tmp2)\n",
    "# lasso_feature_selection(df, label_abund, id)\n",
    "summary=pd.concat(summary_tmp,axis=0)\n",
    "summary.to_excel('Output_data/'+id+'.xlsx', index=False)\n",
    "print('done')\n"
   ]
  },
  {
   "cell_type": "code",
   "execution_count": 26,
   "metadata": {
    "ExecuteTime": {
     "start_time": "2023-04-26T14:41:00.568599Z",
     "end_time": "2023-04-26T14:46:32.897627Z"
    }
   },
   "outputs": [
    {
     "name": "stderr",
     "output_type": "stream",
     "text": [
      "C:\\Users\\kmp95\\AppData\\Local\\Temp\\ipykernel_24100\\2291417116.py:45: FutureWarning: The frame.append method is deprecated and will be removed from pandas in a future version. Use pandas.concat instead.\n",
      "  eval_df = eval_df.append({'Abund Thresh': i,\n",
      "C:\\Users\\kmp95\\AppData\\Local\\Temp\\ipykernel_24100\\2291417116.py:45: FutureWarning: The frame.append method is deprecated and will be removed from pandas in a future version. Use pandas.concat instead.\n",
      "  eval_df = eval_df.append({'Abund Thresh': i,\n",
      "C:\\Users\\kmp95\\AppData\\Local\\Temp\\ipykernel_24100\\2291417116.py:45: FutureWarning: The frame.append method is deprecated and will be removed from pandas in a future version. Use pandas.concat instead.\n",
      "  eval_df = eval_df.append({'Abund Thresh': i,\n",
      "C:\\Users\\kmp95\\AppData\\Local\\Temp\\ipykernel_24100\\2291417116.py:45: FutureWarning: The frame.append method is deprecated and will be removed from pandas in a future version. Use pandas.concat instead.\n",
      "  eval_df = eval_df.append({'Abund Thresh': i,\n",
      "C:\\Users\\kmp95\\AppData\\Local\\Temp\\ipykernel_24100\\2291417116.py:45: FutureWarning: The frame.append method is deprecated and will be removed from pandas in a future version. Use pandas.concat instead.\n",
      "  eval_df = eval_df.append({'Abund Thresh': i,\n",
      "C:\\Users\\kmp95\\AppData\\Local\\Temp\\ipykernel_24100\\2291417116.py:45: FutureWarning: The frame.append method is deprecated and will be removed from pandas in a future version. Use pandas.concat instead.\n",
      "  eval_df = eval_df.append({'Abund Thresh': i,\n",
      "C:\\Users\\kmp95\\AppData\\Local\\Temp\\ipykernel_24100\\2291417116.py:45: FutureWarning: The frame.append method is deprecated and will be removed from pandas in a future version. Use pandas.concat instead.\n",
      "  eval_df = eval_df.append({'Abund Thresh': i,\n",
      "C:\\Users\\kmp95\\AppData\\Local\\Temp\\ipykernel_24100\\2291417116.py:45: FutureWarning: The frame.append method is deprecated and will be removed from pandas in a future version. Use pandas.concat instead.\n",
      "  eval_df = eval_df.append({'Abund Thresh': i,\n",
      "C:\\Users\\kmp95\\AppData\\Local\\Temp\\ipykernel_24100\\2291417116.py:45: FutureWarning: The frame.append method is deprecated and will be removed from pandas in a future version. Use pandas.concat instead.\n",
      "  eval_df = eval_df.append({'Abund Thresh': i,\n",
      "C:\\Users\\kmp95\\AppData\\Local\\Temp\\ipykernel_24100\\2291417116.py:45: FutureWarning: The frame.append method is deprecated and will be removed from pandas in a future version. Use pandas.concat instead.\n",
      "  eval_df = eval_df.append({'Abund Thresh': i,\n"
     ]
    },
    {
     "ename": "PermissionError",
     "evalue": "[Errno 13] Permission denied: 'Output_data/AbundThresholdingRFC2.xlsx'",
     "output_type": "error",
     "traceback": [
      "\u001B[1;31m---------------------------------------------------------------------------\u001B[0m",
      "\u001B[1;31mPermissionError\u001B[0m                           Traceback (most recent call last)",
      "Input \u001B[1;32mIn [26]\u001B[0m, in \u001B[0;36m<cell line: 52>\u001B[1;34m()\u001B[0m\n\u001B[0;32m     44\u001B[0m     \u001B[38;5;66;03m# Append a new row to the eval_df DataFrame with the evaluation metrics for this iteration\u001B[39;00m\n\u001B[0;32m     45\u001B[0m     eval_df \u001B[38;5;241m=\u001B[39m eval_df\u001B[38;5;241m.\u001B[39mappend({\u001B[38;5;124m'\u001B[39m\u001B[38;5;124mAbund Thresh\u001B[39m\u001B[38;5;124m'\u001B[39m: i,\n\u001B[0;32m     46\u001B[0m                               \u001B[38;5;124m'\u001B[39m\u001B[38;5;124mF1\u001B[39m\u001B[38;5;124m'\u001B[39m: f1,\n\u001B[0;32m     47\u001B[0m                               \u001B[38;5;124m'\u001B[39m\u001B[38;5;124mAUROC\u001B[39m\u001B[38;5;124m'\u001B[39m: auroc,\n\u001B[0;32m     48\u001B[0m                               \u001B[38;5;124m'\u001B[39m\u001B[38;5;124mAccuracy\u001B[39m\u001B[38;5;124m'\u001B[39m: accuracy,\n\u001B[0;32m     49\u001B[0m                               \u001B[38;5;124m'\u001B[39m\u001B[38;5;124mPrecision\u001B[39m\u001B[38;5;124m'\u001B[39m: precision,\n\u001B[0;32m     50\u001B[0m                               \u001B[38;5;124m'\u001B[39m\u001B[38;5;124mRecall\u001B[39m\u001B[38;5;124m'\u001B[39m: recall}, ignore_index\u001B[38;5;241m=\u001B[39m\u001B[38;5;28;01mTrue\u001B[39;00m)\n\u001B[1;32m---> 52\u001B[0m \u001B[43meval_df\u001B[49m\u001B[38;5;241;43m.\u001B[39;49m\u001B[43mto_excel\u001B[49m\u001B[43m(\u001B[49m\u001B[38;5;124;43m'\u001B[39;49m\u001B[38;5;124;43mOutput_data/AbundThresholdingRFC2.xlsx\u001B[39;49m\u001B[38;5;124;43m'\u001B[39;49m\u001B[43m,\u001B[49m\u001B[43m \u001B[49m\u001B[43mindex\u001B[49m\u001B[38;5;241;43m=\u001B[39;49m\u001B[38;5;28;43;01mFalse\u001B[39;49;00m\u001B[43m)\u001B[49m\n",
      "File \u001B[1;32m~\\Anaconda3\\lib\\site-packages\\pandas\\core\\generic.py:2345\u001B[0m, in \u001B[0;36mNDFrame.to_excel\u001B[1;34m(self, excel_writer, sheet_name, na_rep, float_format, columns, header, index, index_label, startrow, startcol, engine, merge_cells, encoding, inf_rep, verbose, freeze_panes, storage_options)\u001B[0m\n\u001B[0;32m   2332\u001B[0m \u001B[38;5;28;01mfrom\u001B[39;00m \u001B[38;5;21;01mpandas\u001B[39;00m\u001B[38;5;21;01m.\u001B[39;00m\u001B[38;5;21;01mio\u001B[39;00m\u001B[38;5;21;01m.\u001B[39;00m\u001B[38;5;21;01mformats\u001B[39;00m\u001B[38;5;21;01m.\u001B[39;00m\u001B[38;5;21;01mexcel\u001B[39;00m \u001B[38;5;28;01mimport\u001B[39;00m ExcelFormatter\n\u001B[0;32m   2334\u001B[0m formatter \u001B[38;5;241m=\u001B[39m ExcelFormatter(\n\u001B[0;32m   2335\u001B[0m     df,\n\u001B[0;32m   2336\u001B[0m     na_rep\u001B[38;5;241m=\u001B[39mna_rep,\n\u001B[1;32m   (...)\u001B[0m\n\u001B[0;32m   2343\u001B[0m     inf_rep\u001B[38;5;241m=\u001B[39minf_rep,\n\u001B[0;32m   2344\u001B[0m )\n\u001B[1;32m-> 2345\u001B[0m \u001B[43mformatter\u001B[49m\u001B[38;5;241;43m.\u001B[39;49m\u001B[43mwrite\u001B[49m\u001B[43m(\u001B[49m\n\u001B[0;32m   2346\u001B[0m \u001B[43m    \u001B[49m\u001B[43mexcel_writer\u001B[49m\u001B[43m,\u001B[49m\n\u001B[0;32m   2347\u001B[0m \u001B[43m    \u001B[49m\u001B[43msheet_name\u001B[49m\u001B[38;5;241;43m=\u001B[39;49m\u001B[43msheet_name\u001B[49m\u001B[43m,\u001B[49m\n\u001B[0;32m   2348\u001B[0m \u001B[43m    \u001B[49m\u001B[43mstartrow\u001B[49m\u001B[38;5;241;43m=\u001B[39;49m\u001B[43mstartrow\u001B[49m\u001B[43m,\u001B[49m\n\u001B[0;32m   2349\u001B[0m \u001B[43m    \u001B[49m\u001B[43mstartcol\u001B[49m\u001B[38;5;241;43m=\u001B[39;49m\u001B[43mstartcol\u001B[49m\u001B[43m,\u001B[49m\n\u001B[0;32m   2350\u001B[0m \u001B[43m    \u001B[49m\u001B[43mfreeze_panes\u001B[49m\u001B[38;5;241;43m=\u001B[39;49m\u001B[43mfreeze_panes\u001B[49m\u001B[43m,\u001B[49m\n\u001B[0;32m   2351\u001B[0m \u001B[43m    \u001B[49m\u001B[43mengine\u001B[49m\u001B[38;5;241;43m=\u001B[39;49m\u001B[43mengine\u001B[49m\u001B[43m,\u001B[49m\n\u001B[0;32m   2352\u001B[0m \u001B[43m    \u001B[49m\u001B[43mstorage_options\u001B[49m\u001B[38;5;241;43m=\u001B[39;49m\u001B[43mstorage_options\u001B[49m\u001B[43m,\u001B[49m\n\u001B[0;32m   2353\u001B[0m \u001B[43m\u001B[49m\u001B[43m)\u001B[49m\n",
      "File \u001B[1;32m~\\Anaconda3\\lib\\site-packages\\pandas\\io\\formats\\excel.py:888\u001B[0m, in \u001B[0;36mExcelFormatter.write\u001B[1;34m(self, writer, sheet_name, startrow, startcol, freeze_panes, engine, storage_options)\u001B[0m\n\u001B[0;32m    884\u001B[0m     need_save \u001B[38;5;241m=\u001B[39m \u001B[38;5;28;01mFalse\u001B[39;00m\n\u001B[0;32m    885\u001B[0m \u001B[38;5;28;01melse\u001B[39;00m:\n\u001B[0;32m    886\u001B[0m     \u001B[38;5;66;03m# error: Cannot instantiate abstract class 'ExcelWriter' with abstract\u001B[39;00m\n\u001B[0;32m    887\u001B[0m     \u001B[38;5;66;03m# attributes 'engine', 'save', 'supported_extensions' and 'write_cells'\u001B[39;00m\n\u001B[1;32m--> 888\u001B[0m     writer \u001B[38;5;241m=\u001B[39m \u001B[43mExcelWriter\u001B[49m\u001B[43m(\u001B[49m\u001B[43m  \u001B[49m\u001B[38;5;66;43;03m# type: ignore[abstract]\u001B[39;49;00m\n\u001B[0;32m    889\u001B[0m \u001B[43m        \u001B[49m\u001B[43mwriter\u001B[49m\u001B[43m,\u001B[49m\u001B[43m \u001B[49m\u001B[43mengine\u001B[49m\u001B[38;5;241;43m=\u001B[39;49m\u001B[43mengine\u001B[49m\u001B[43m,\u001B[49m\u001B[43m \u001B[49m\u001B[43mstorage_options\u001B[49m\u001B[38;5;241;43m=\u001B[39;49m\u001B[43mstorage_options\u001B[49m\n\u001B[0;32m    890\u001B[0m \u001B[43m    \u001B[49m\u001B[43m)\u001B[49m\n\u001B[0;32m    891\u001B[0m     need_save \u001B[38;5;241m=\u001B[39m \u001B[38;5;28;01mTrue\u001B[39;00m\n\u001B[0;32m    893\u001B[0m \u001B[38;5;28;01mtry\u001B[39;00m:\n",
      "File \u001B[1;32m~\\Anaconda3\\lib\\site-packages\\pandas\\io\\excel\\_xlsxwriter.py:191\u001B[0m, in \u001B[0;36mXlsxWriter.__init__\u001B[1;34m(self, path, engine, date_format, datetime_format, mode, storage_options, if_sheet_exists, engine_kwargs, **kwargs)\u001B[0m\n\u001B[0;32m    188\u001B[0m \u001B[38;5;28;01mif\u001B[39;00m mode \u001B[38;5;241m==\u001B[39m \u001B[38;5;124m\"\u001B[39m\u001B[38;5;124ma\u001B[39m\u001B[38;5;124m\"\u001B[39m:\n\u001B[0;32m    189\u001B[0m     \u001B[38;5;28;01mraise\u001B[39;00m \u001B[38;5;167;01mValueError\u001B[39;00m(\u001B[38;5;124m\"\u001B[39m\u001B[38;5;124mAppend mode is not supported with xlsxwriter!\u001B[39m\u001B[38;5;124m\"\u001B[39m)\n\u001B[1;32m--> 191\u001B[0m \u001B[38;5;28;43msuper\u001B[39;49m\u001B[43m(\u001B[49m\u001B[43m)\u001B[49m\u001B[38;5;241;43m.\u001B[39;49m\u001B[38;5;21;43m__init__\u001B[39;49m\u001B[43m(\u001B[49m\n\u001B[0;32m    192\u001B[0m \u001B[43m    \u001B[49m\u001B[43mpath\u001B[49m\u001B[43m,\u001B[49m\n\u001B[0;32m    193\u001B[0m \u001B[43m    \u001B[49m\u001B[43mengine\u001B[49m\u001B[38;5;241;43m=\u001B[39;49m\u001B[43mengine\u001B[49m\u001B[43m,\u001B[49m\n\u001B[0;32m    194\u001B[0m \u001B[43m    \u001B[49m\u001B[43mdate_format\u001B[49m\u001B[38;5;241;43m=\u001B[39;49m\u001B[43mdate_format\u001B[49m\u001B[43m,\u001B[49m\n\u001B[0;32m    195\u001B[0m \u001B[43m    \u001B[49m\u001B[43mdatetime_format\u001B[49m\u001B[38;5;241;43m=\u001B[39;49m\u001B[43mdatetime_format\u001B[49m\u001B[43m,\u001B[49m\n\u001B[0;32m    196\u001B[0m \u001B[43m    \u001B[49m\u001B[43mmode\u001B[49m\u001B[38;5;241;43m=\u001B[39;49m\u001B[43mmode\u001B[49m\u001B[43m,\u001B[49m\n\u001B[0;32m    197\u001B[0m \u001B[43m    \u001B[49m\u001B[43mstorage_options\u001B[49m\u001B[38;5;241;43m=\u001B[39;49m\u001B[43mstorage_options\u001B[49m\u001B[43m,\u001B[49m\n\u001B[0;32m    198\u001B[0m \u001B[43m    \u001B[49m\u001B[43mif_sheet_exists\u001B[49m\u001B[38;5;241;43m=\u001B[39;49m\u001B[43mif_sheet_exists\u001B[49m\u001B[43m,\u001B[49m\n\u001B[0;32m    199\u001B[0m \u001B[43m    \u001B[49m\u001B[43mengine_kwargs\u001B[49m\u001B[38;5;241;43m=\u001B[39;49m\u001B[43mengine_kwargs\u001B[49m\u001B[43m,\u001B[49m\n\u001B[0;32m    200\u001B[0m \u001B[43m\u001B[49m\u001B[43m)\u001B[49m\n\u001B[0;32m    202\u001B[0m \u001B[38;5;28mself\u001B[39m\u001B[38;5;241m.\u001B[39mbook \u001B[38;5;241m=\u001B[39m Workbook(\u001B[38;5;28mself\u001B[39m\u001B[38;5;241m.\u001B[39mhandles\u001B[38;5;241m.\u001B[39mhandle, \u001B[38;5;241m*\u001B[39m\u001B[38;5;241m*\u001B[39mengine_kwargs)\n",
      "File \u001B[1;32m~\\Anaconda3\\lib\\site-packages\\pandas\\io\\excel\\_base.py:1106\u001B[0m, in \u001B[0;36mExcelWriter.__init__\u001B[1;34m(self, path, engine, date_format, datetime_format, mode, storage_options, if_sheet_exists, engine_kwargs, **kwargs)\u001B[0m\n\u001B[0;32m   1102\u001B[0m \u001B[38;5;28mself\u001B[39m\u001B[38;5;241m.\u001B[39mhandles \u001B[38;5;241m=\u001B[39m IOHandles(\n\u001B[0;32m   1103\u001B[0m     cast(IO[\u001B[38;5;28mbytes\u001B[39m], path), compression\u001B[38;5;241m=\u001B[39m{\u001B[38;5;124m\"\u001B[39m\u001B[38;5;124mcompression\u001B[39m\u001B[38;5;124m\"\u001B[39m: \u001B[38;5;28;01mNone\u001B[39;00m}\n\u001B[0;32m   1104\u001B[0m )\n\u001B[0;32m   1105\u001B[0m \u001B[38;5;28;01mif\u001B[39;00m \u001B[38;5;129;01mnot\u001B[39;00m \u001B[38;5;28misinstance\u001B[39m(path, ExcelWriter):\n\u001B[1;32m-> 1106\u001B[0m     \u001B[38;5;28mself\u001B[39m\u001B[38;5;241m.\u001B[39mhandles \u001B[38;5;241m=\u001B[39m \u001B[43mget_handle\u001B[49m\u001B[43m(\u001B[49m\n\u001B[0;32m   1107\u001B[0m \u001B[43m        \u001B[49m\u001B[43mpath\u001B[49m\u001B[43m,\u001B[49m\u001B[43m \u001B[49m\u001B[43mmode\u001B[49m\u001B[43m,\u001B[49m\u001B[43m \u001B[49m\u001B[43mstorage_options\u001B[49m\u001B[38;5;241;43m=\u001B[39;49m\u001B[43mstorage_options\u001B[49m\u001B[43m,\u001B[49m\u001B[43m \u001B[49m\u001B[43mis_text\u001B[49m\u001B[38;5;241;43m=\u001B[39;49m\u001B[38;5;28;43;01mFalse\u001B[39;49;00m\n\u001B[0;32m   1108\u001B[0m \u001B[43m    \u001B[49m\u001B[43m)\u001B[49m\n\u001B[0;32m   1109\u001B[0m \u001B[38;5;28mself\u001B[39m\u001B[38;5;241m.\u001B[39msheets: \u001B[38;5;28mdict\u001B[39m[\u001B[38;5;28mstr\u001B[39m, Any] \u001B[38;5;241m=\u001B[39m {}\n\u001B[0;32m   1110\u001B[0m \u001B[38;5;28mself\u001B[39m\u001B[38;5;241m.\u001B[39mcur_sheet \u001B[38;5;241m=\u001B[39m \u001B[38;5;28;01mNone\u001B[39;00m\n",
      "File \u001B[1;32m~\\Anaconda3\\lib\\site-packages\\pandas\\io\\common.py:798\u001B[0m, in \u001B[0;36mget_handle\u001B[1;34m(path_or_buf, mode, encoding, compression, memory_map, is_text, errors, storage_options)\u001B[0m\n\u001B[0;32m    789\u001B[0m         handle \u001B[38;5;241m=\u001B[39m \u001B[38;5;28mopen\u001B[39m(\n\u001B[0;32m    790\u001B[0m             handle,\n\u001B[0;32m    791\u001B[0m             ioargs\u001B[38;5;241m.\u001B[39mmode,\n\u001B[1;32m   (...)\u001B[0m\n\u001B[0;32m    794\u001B[0m             newline\u001B[38;5;241m=\u001B[39m\u001B[38;5;124m\"\u001B[39m\u001B[38;5;124m\"\u001B[39m,\n\u001B[0;32m    795\u001B[0m         )\n\u001B[0;32m    796\u001B[0m     \u001B[38;5;28;01melse\u001B[39;00m:\n\u001B[0;32m    797\u001B[0m         \u001B[38;5;66;03m# Binary mode\u001B[39;00m\n\u001B[1;32m--> 798\u001B[0m         handle \u001B[38;5;241m=\u001B[39m \u001B[38;5;28;43mopen\u001B[39;49m\u001B[43m(\u001B[49m\u001B[43mhandle\u001B[49m\u001B[43m,\u001B[49m\u001B[43m \u001B[49m\u001B[43mioargs\u001B[49m\u001B[38;5;241;43m.\u001B[39;49m\u001B[43mmode\u001B[49m\u001B[43m)\u001B[49m\n\u001B[0;32m    799\u001B[0m     handles\u001B[38;5;241m.\u001B[39mappend(handle)\n\u001B[0;32m    801\u001B[0m \u001B[38;5;66;03m# Convert BytesIO or file objects passed with an encoding\u001B[39;00m\n",
      "\u001B[1;31mPermissionError\u001B[0m: [Errno 13] Permission denied: 'Output_data/AbundThresholdingRFC2.xlsx'"
     ]
    }
   ],
   "source": [
    "### Running Binary Classification systems and seeing what abund threshold is the best for performance##\n",
    "\n",
    "abund_thresh=[-2,-1,-0.5,0.25,0.5,0.75,1,2,3,4]\n",
    "df_filepath='Input_data/Save_files/df_1_no0.xlsx'\n",
    "df = pd.read_excel(df_filepath, header=0)\n",
    "Min_Control=df['Abundance_Controls'].drop_duplicates().nsmallest(2).iloc[-1]\n",
    "df['Abundance_Controls'].replace(0,Min_Control,inplace=True)\n",
    "df['Enrich']= np.log2(df['Abundance']/df['Abundance_Controls'])\n",
    "# df = df.replace(np.inf,10)\n",
    "model=RandomForestClassifier()\n",
    "# id='RFR_AFilter_'+str(i)+'NoCon'\n",
    "# Create an empty pandas DataFrame to store the evaluation metrics\n",
    "eval_df = pd.DataFrame(columns=['Abund Thresh', 'F1', 'AUROC', 'Accuracy', 'Precision', 'Recall'])\n",
    "df=df.drop(columns=['Entry', 'Sequence', 'NPID', 'Ligands', 'Protein Source', 'Sample_num','Raw_FileID','BatchID'])\n",
    "df=df.drop(columns=['Abundance_Controls','Abundance'])\n",
    "\n",
    "# Iterate through multiple iterations of model training and testing\n",
    "for i in abund_thresh:\n",
    "    df_a=df.copy()\n",
    "    df_a['binary_target']= df_a['Enrich'].apply(lambda t: 1 if t>=i else 0)\n",
    "    labels_df = df_a['binary_target'].copy()\n",
    "    # id_col= df_a['NPUNID'].copy()\n",
    "    label_binary=np.ravel(labels_df)\n",
    "    df_a=df_a.drop(columns=['NPUNID','binary_target','Enrich']).copy()\n",
    "\n",
    "    step = 2\n",
    "    RFE_Feats=20\n",
    "    selector = RFE(model, n_features_to_select=RFE_Feats, step=step)\n",
    "    selector = selector.fit(df_a, label_binary)\n",
    "    selector.support_\n",
    "    ranking = selector.ranking_\n",
    "    feat_list = selector.get_feature_names_out()\n",
    "    df_a = df_a[feat_list].copy()\n",
    "\n",
    "    x_train, x_test, y_train, y_test = train_test_split(df_a, label_binary, test_size=0.3, random_state=42)\n",
    "    model.fit(x_train, y_train)\n",
    "    y_pred = model.predict(x_test)\n",
    "    f1 = f1_score(y_test, y_pred)\n",
    "    auroc = roc_auc_score(y_test, y_pred)\n",
    "    accuracy = accuracy_score(y_test, y_pred)\n",
    "    precision = precision_score(y_test, y_pred)\n",
    "    recall = recall_score(y_test, y_pred)\n",
    "\n",
    "    # Append a new row to the eval_df DataFrame with the evaluation metrics for this iteration\n",
    "    eval_df = eval_df.append({'Abund Thresh': i,\n",
    "                              'F1': f1,\n",
    "                              'AUROC': auroc,\n",
    "                              'Accuracy': accuracy,\n",
    "                              'Precision': precision,\n",
    "                              'Recall': recall}, ignore_index=True)\n",
    "\n",
    "eval_df.to_excel('Output_data/AbundThresholdingRFC2.xlsx', index=False)\n",
    "\n"
   ]
  },
  {
   "cell_type": "code",
   "execution_count": null,
   "metadata": {},
   "outputs": [],
   "source": [
    "df_a = pd.read_excel(df_filepath, header=0)\n",
    "# df=df_a[df_a['Abundance']>=0.01]\n",
    "# df_a['Abundance']=np.log10(df_a['Abundance']+1)\n",
    "df['Abundance']=np.log2(df['Abundance']+1)\n",
    "plt.hist(df['Abundance'],bins=25)\n",
    "plt.xlim(-2,2)\n",
    "plt.show()"
   ]
  },
  {
   "cell_type": "code",
   "execution_count": 25,
   "metadata": {
    "ExecuteTime": {
     "start_time": "2023-04-23T16:59:29.834063Z",
     "end_time": "2023-04-23T16:59:33.056219Z"
    }
   },
   "outputs": [
    {
     "name": "stdout",
     "output_type": "stream",
     "text": [
      "(765, 17)\n",
      "2\n",
      "2\n",
      "2\n",
      "2\n",
      "2\n",
      "2\n",
      "2\n",
      "2\n",
      "2\n",
      "2\n",
      "2\n",
      "2\n",
      "2\n",
      "2\n",
      "2\n"
     ]
    }
   ],
   "source": [
    "##Testing Each NP independently## Which ones are hard to predict and which ones are easy?\n",
    "#easy to hard NPUNID 1,20,19,16,7,31,34,34\n",
    "# df_filepath = 'Input_data/Save_files/df_1_all_RFE15_RFR.xlsx'\n",
    "# df_a = pd.read_excel(df_filepath, header=0)\n",
    "# labels= df_a['Abundance'].copy()\n",
    "# id_col= df_a['NPUNID'].copy()\n",
    "# label_abund=np.ravel(labels)\n",
    "\n",
    "# NPUNID_list=[1,20,19,16,7,31,34,43,44]\n",
    "NPUNID_list=[2]\n",
    "id_list=NPUNID_list\n",
    "# Initialize a list to hold MSE scores for each removed ID\n",
    "pearson_scores = []\n",
    "r2_scores = []\n",
    "mse = []\n",
    "\n",
    "#Create filter to for dropping abundance values below\n",
    "start = 0.0001\n",
    "stop = 1\n",
    "num_points = 15\n",
    "\n",
    "# Calculate the common difference between consecutive terms in the series\n",
    "common_diff = (math.log(stop) - math.log(start)) / (num_points - 1)\n",
    "\n",
    "# Generate the logarithmic series as a list\n",
    "Abund_filter = [start * math.exp(i * common_diff) for i in range(num_points)]\n",
    "\n",
    "model=RandomForestRegressor(n_estimators=100)\n",
    "# df_a=df_a.drop(columns=['Abundance','NPUNID'],axis=1).copy()\n",
    "# df_a=RFECV_plot(df_a,label_abund,model,'a',folds=10,step=1)\n",
    "# df_a=pd.concat([df_a,labels,id_col],axis=1)\n",
    "print(df_a.shape)\n",
    "# Loop through each ID in the list\n",
    "eval_df = pd.DataFrame(columns=['Abundandce Filter', 'NPUNID', 'MSE', 'R2', 'Pearson'])\n",
    "for i in Abund_filter:\n",
    "    df_a= df_a[df_a['Abundance']>=i].copy()\n",
    "    for id in id_list:\n",
    "        df=df_a.copy()\n",
    "        # Remove the row with the current ID from the dataframe\n",
    "        removed_row = df.loc[df['NPUNID'] == id].copy()\n",
    "        df = df.loc[df['NPUNID'] != id].copy()\n",
    "\n",
    "        # Split the remaining data into features and target\n",
    "        X_train = df.drop(['Abundance', 'NPUNID'], axis=1)\n",
    "        y_train = df['Abundance']\n",
    "\n",
    "        # Fit a random forest regression model to the training data\n",
    "        model.fit(X_train, y_train)\n",
    "\n",
    "        # Use the trained model to predict on the removed ID\n",
    "        X_test = removed_row.drop(['Abundance', 'NPUNID'], axis=1)\n",
    "        y_true = removed_row['Abundance']\n",
    "        y_pred = model.predict(X_test)\n",
    "        # Calculate the Accuracy scores and add it to the list\n",
    "        pearson, _ = pearsonr(y_true, y_pred)\n",
    "        r2 = r2_score(y_true, y_pred)\n",
    "        mse_score = mean_squared_error(y_true, y_pred)\n",
    "\n",
    "        pearson_scores.append(pearson)\n",
    "        r2_scores.append(r2)\n",
    "        mse.append(mse_score)\n",
    "        print(id)\n",
    "        tmp=pd.DataFrame({'Abundandce Filter': i,\n",
    "                                  'NPUNID':id,\n",
    "                                  'MSE':mse_score,\n",
    "                                  'R2':r2,\n",
    "                                  'Pearson':pearson},index=[0])\n",
    "        eval_df = pd.concat([eval_df,tmp],ignore_index=True,axis=0)\n",
    "\n",
    "eval_df.to_excel('Output_data/AbundThresholdingRFR_NP(2).xlsx', index=False)\n",
    "# out=pd.DataFrame(list(zip(NPUNID_list,Abund_filter,pearson_scores,r2_scores,mse)), columns=['NPUNID','Abundance Filter','Pearson', 'R2', 'MSE'])\n",
    "# out.to_excel('Output_data/PredictingEachNP_RFECV.xlsx',index=False)\n"
   ]
  },
  {
   "cell_type": "code",
   "execution_count": 9,
   "outputs": [
    {
     "name": "stdout",
     "output_type": "stream",
     "text": [
      "Recursive Feature Elimination with Correlated Features ran successfully\n",
      "(21016, 28)\n"
     ]
    },
    {
     "ename": "ValueError",
     "evalue": "Feature shape mismatch, expected: 28, got 50",
     "output_type": "error",
     "traceback": [
      "\u001B[1;31m---------------------------------------------------------------------------\u001B[0m",
      "\u001B[1;31mValueError\u001B[0m                                Traceback (most recent call last)",
      "Input \u001B[1;32mIn [9]\u001B[0m, in \u001B[0;36m<cell line: 37>\u001B[1;34m()\u001B[0m\n\u001B[0;32m     35\u001B[0m X_test \u001B[38;5;241m=\u001B[39m removed_row\u001B[38;5;241m.\u001B[39mdrop([\u001B[38;5;124m'\u001B[39m\u001B[38;5;124mAbundance\u001B[39m\u001B[38;5;124m'\u001B[39m, \u001B[38;5;124m'\u001B[39m\u001B[38;5;124mNPUNID\u001B[39m\u001B[38;5;124m'\u001B[39m], axis\u001B[38;5;241m=\u001B[39m\u001B[38;5;241m1\u001B[39m)\n\u001B[0;32m     36\u001B[0m y_true \u001B[38;5;241m=\u001B[39m removed_row[\u001B[38;5;124m'\u001B[39m\u001B[38;5;124mAbundance\u001B[39m\u001B[38;5;124m'\u001B[39m]\n\u001B[1;32m---> 37\u001B[0m y_pred \u001B[38;5;241m=\u001B[39m \u001B[43mmodel\u001B[49m\u001B[38;5;241;43m.\u001B[39;49m\u001B[43mpredict\u001B[49m\u001B[43m(\u001B[49m\u001B[43mX_test\u001B[49m\u001B[43m)\u001B[49m\n\u001B[0;32m     38\u001B[0m \u001B[38;5;66;03m# Calculate the Accuracy scores and add it to the list\u001B[39;00m\n\u001B[0;32m     39\u001B[0m pearson, _ \u001B[38;5;241m=\u001B[39m pearsonr(y_true, y_pred)\n",
      "File \u001B[1;32m~\\anaconda3\\lib\\site-packages\\xgboost\\sklearn.py:1114\u001B[0m, in \u001B[0;36mXGBModel.predict\u001B[1;34m(self, X, output_margin, ntree_limit, validate_features, base_margin, iteration_range)\u001B[0m\n\u001B[0;32m   1112\u001B[0m \u001B[38;5;28;01mif\u001B[39;00m \u001B[38;5;28mself\u001B[39m\u001B[38;5;241m.\u001B[39m_can_use_inplace_predict():\n\u001B[0;32m   1113\u001B[0m     \u001B[38;5;28;01mtry\u001B[39;00m:\n\u001B[1;32m-> 1114\u001B[0m         predts \u001B[38;5;241m=\u001B[39m \u001B[38;5;28;43mself\u001B[39;49m\u001B[38;5;241;43m.\u001B[39;49m\u001B[43mget_booster\u001B[49m\u001B[43m(\u001B[49m\u001B[43m)\u001B[49m\u001B[38;5;241;43m.\u001B[39;49m\u001B[43minplace_predict\u001B[49m\u001B[43m(\u001B[49m\n\u001B[0;32m   1115\u001B[0m \u001B[43m            \u001B[49m\u001B[43mdata\u001B[49m\u001B[38;5;241;43m=\u001B[39;49m\u001B[43mX\u001B[49m\u001B[43m,\u001B[49m\n\u001B[0;32m   1116\u001B[0m \u001B[43m            \u001B[49m\u001B[43miteration_range\u001B[49m\u001B[38;5;241;43m=\u001B[39;49m\u001B[43miteration_range\u001B[49m\u001B[43m,\u001B[49m\n\u001B[0;32m   1117\u001B[0m \u001B[43m            \u001B[49m\u001B[43mpredict_type\u001B[49m\u001B[38;5;241;43m=\u001B[39;49m\u001B[38;5;124;43m\"\u001B[39;49m\u001B[38;5;124;43mmargin\u001B[39;49m\u001B[38;5;124;43m\"\u001B[39;49m\u001B[43m \u001B[49m\u001B[38;5;28;43;01mif\u001B[39;49;00m\u001B[43m \u001B[49m\u001B[43moutput_margin\u001B[49m\u001B[43m \u001B[49m\u001B[38;5;28;43;01melse\u001B[39;49;00m\u001B[43m \u001B[49m\u001B[38;5;124;43m\"\u001B[39;49m\u001B[38;5;124;43mvalue\u001B[39;49m\u001B[38;5;124;43m\"\u001B[39;49m\u001B[43m,\u001B[49m\n\u001B[0;32m   1118\u001B[0m \u001B[43m            \u001B[49m\u001B[43mmissing\u001B[49m\u001B[38;5;241;43m=\u001B[39;49m\u001B[38;5;28;43mself\u001B[39;49m\u001B[38;5;241;43m.\u001B[39;49m\u001B[43mmissing\u001B[49m\u001B[43m,\u001B[49m\n\u001B[0;32m   1119\u001B[0m \u001B[43m            \u001B[49m\u001B[43mbase_margin\u001B[49m\u001B[38;5;241;43m=\u001B[39;49m\u001B[43mbase_margin\u001B[49m\u001B[43m,\u001B[49m\n\u001B[0;32m   1120\u001B[0m \u001B[43m            \u001B[49m\u001B[43mvalidate_features\u001B[49m\u001B[38;5;241;43m=\u001B[39;49m\u001B[43mvalidate_features\u001B[49m\u001B[43m,\u001B[49m\n\u001B[0;32m   1121\u001B[0m \u001B[43m        \u001B[49m\u001B[43m)\u001B[49m\n\u001B[0;32m   1122\u001B[0m         \u001B[38;5;28;01mif\u001B[39;00m _is_cupy_array(predts):\n\u001B[0;32m   1123\u001B[0m             \u001B[38;5;28;01mimport\u001B[39;00m \u001B[38;5;21;01mcupy\u001B[39;00m  \u001B[38;5;66;03m# pylint: disable=import-error\u001B[39;00m\n",
      "File \u001B[1;32m~\\anaconda3\\lib\\site-packages\\xgboost\\core.py:2268\u001B[0m, in \u001B[0;36mBooster.inplace_predict\u001B[1;34m(self, data, iteration_range, predict_type, missing, validate_features, base_margin, strict_shape)\u001B[0m\n\u001B[0;32m   2264\u001B[0m         \u001B[38;5;28;01mraise\u001B[39;00m \u001B[38;5;167;01mTypeError\u001B[39;00m(\n\u001B[0;32m   2265\u001B[0m             \u001B[38;5;124m\"\u001B[39m\u001B[38;5;124m`shape` attribute is required when `validate_features` is True.\u001B[39m\u001B[38;5;124m\"\u001B[39m\n\u001B[0;32m   2266\u001B[0m         )\n\u001B[0;32m   2267\u001B[0m     \u001B[38;5;28;01mif\u001B[39;00m \u001B[38;5;28mlen\u001B[39m(data\u001B[38;5;241m.\u001B[39mshape) \u001B[38;5;241m!=\u001B[39m \u001B[38;5;241m1\u001B[39m \u001B[38;5;129;01mand\u001B[39;00m \u001B[38;5;28mself\u001B[39m\u001B[38;5;241m.\u001B[39mnum_features() \u001B[38;5;241m!=\u001B[39m data\u001B[38;5;241m.\u001B[39mshape[\u001B[38;5;241m1\u001B[39m]:\n\u001B[1;32m-> 2268\u001B[0m         \u001B[38;5;28;01mraise\u001B[39;00m \u001B[38;5;167;01mValueError\u001B[39;00m(\n\u001B[0;32m   2269\u001B[0m             \u001B[38;5;124mf\u001B[39m\u001B[38;5;124m\"\u001B[39m\u001B[38;5;124mFeature shape mismatch, expected: \u001B[39m\u001B[38;5;132;01m{\u001B[39;00m\u001B[38;5;28mself\u001B[39m\u001B[38;5;241m.\u001B[39mnum_features()\u001B[38;5;132;01m}\u001B[39;00m\u001B[38;5;124m, \u001B[39m\u001B[38;5;124m\"\u001B[39m\n\u001B[0;32m   2270\u001B[0m             \u001B[38;5;124mf\u001B[39m\u001B[38;5;124m\"\u001B[39m\u001B[38;5;124mgot \u001B[39m\u001B[38;5;132;01m{\u001B[39;00mdata\u001B[38;5;241m.\u001B[39mshape[\u001B[38;5;241m1\u001B[39m]\u001B[38;5;132;01m}\u001B[39;00m\u001B[38;5;124m\"\u001B[39m\n\u001B[0;32m   2271\u001B[0m         )\n\u001B[0;32m   2273\u001B[0m \u001B[38;5;28;01mfrom\u001B[39;00m \u001B[38;5;21;01m.\u001B[39;00m\u001B[38;5;21;01mdata\u001B[39;00m \u001B[38;5;28;01mimport\u001B[39;00m (\n\u001B[0;32m   2274\u001B[0m     _array_interface,\n\u001B[0;32m   2275\u001B[0m     _is_cudf_df,\n\u001B[1;32m   (...)\u001B[0m\n\u001B[0;32m   2278\u001B[0m     _transform_pandas_df,\n\u001B[0;32m   2279\u001B[0m )\n\u001B[0;32m   2281\u001B[0m enable_categorical \u001B[38;5;241m=\u001B[39m _has_categorical(\u001B[38;5;28mself\u001B[39m, data)\n",
      "\u001B[1;31mValueError\u001B[0m: Feature shape mismatch, expected: 28, got 50"
     ]
    }
   ],
   "source": [
    "##Drop BALF Samples and then Predict on them and see how well it goes\n",
    "#easy to hard NPUNID 1,20,19,16,7,31,34,34\n",
    "df_filepath = 'Input_data/Save_files/df_1_all_RFE50_RFR.xlsx'\n",
    "df_a = pd.read_excel(df_filepath, header=0)\n",
    "labels= df_a['Abundance'].copy()\n",
    "id_col= df_a['NPUNID'].copy()\n",
    "label_abund=np.ravel(labels)\n",
    "\n",
    "# NPUNID_list=[1,20,19,16,7,31,34,43,44]\n",
    "NPUNID_list=[7,8,9,10,11,12,13,14,15,16]\n",
    "id_list=NPUNID_list\n",
    "# Initialize a list to hold MSE scores for each removed ID\n",
    "pearson_scores = []\n",
    "r2_scores = []\n",
    "mse = []\n",
    "\n",
    "removed_row = df_a.loc[df_a['NPUNID'].isin(NPUNID_list)].copy()\n",
    "df_a = df_a.loc[~df_a['NPUNID'].isin(NPUNID_list)].copy()\n",
    "y_train=df_a['Abundance'].copy()\n",
    "label_abund=np.ravel(y_train)\n",
    "model=XGBRegressor(n_estimators=100)\n",
    "df_a=df_a.drop(columns=['Abundance','NPUNID'],axis=1).copy()\n",
    "df_a=RFECV_plot(df_a,label_abund,model,'a',folds=5,step=2)\n",
    "print(df_a.shape)\n",
    "# Loop through each ID in the list\n",
    "eval_df = pd.DataFrame(columns=['Abundandce Filter', 'NPUNID', 'MSE', 'R2', 'Pearson'])\n",
    "# Split the remaining data into features and target\n",
    "X_train = df_a\n",
    "\n",
    "\n",
    "# Fit a random forest regression model to the training data\n",
    "model.fit(X_train, y_train)\n",
    "\n",
    "# Use the trained model to predict on the removed ID\n",
    "X_test = removed_row[X_train.columns]\n",
    "y_true = removed_row['Abundance']\n",
    "y_pred = model.predict(X_test)\n",
    "# Calculate the Accuracy scores and add it to the list\n",
    "pearson, _ = pearsonr(y_true, y_pred)\n",
    "r2 = r2_score(y_true, y_pred)\n",
    "mse_score = mean_squared_error(y_true, y_pred)\n",
    "\n",
    "pearson_scores.append(pearson)\n",
    "r2_scores.append(r2)\n",
    "mse.append(mse_score)\n",
    "print(id)\n",
    "tmp=pd.DataFrame({'Abundandce Filter': i,\n",
    "                          'NPUNID':id,\n",
    "                          'MSE':mse_score,\n",
    "                          'R2':r2,\n",
    "                          'Pearson':pearson},index=[0])\n",
    "eval_df = pd.concat([eval_df,tmp],ignore_index=True,axis=0)\n",
    "\n",
    "eval_df.to_excel('Output_data/PredictonBALFSamples.xlsx', index=False)\n",
    "# out=pd.DataFrame(list(zip(NPUNID_list,Abund_filter,pearson_scores,r2_scores,mse)), columns=['NPUNID','Abundance Filter','Pearson', 'R2', 'MSE'])\n",
    "# out.to_excel('Output_data/PredictingEachNP_RFECV.xlsx',index=False)"
   ],
   "metadata": {
    "collapsed": false
   }
  },
  {
   "cell_type": "code",
   "execution_count": 14,
   "outputs": [
    {
     "name": "stdout",
     "output_type": "stream",
     "text": [
      "<built-in function id>\n"
     ]
    },
    {
     "ename": "NameError",
     "evalue": "name 'i' is not defined",
     "output_type": "error",
     "traceback": [
      "\u001B[1;31m---------------------------------------------------------------------------\u001B[0m",
      "\u001B[1;31mNameError\u001B[0m                                 Traceback (most recent call last)",
      "Input \u001B[1;32mIn [14]\u001B[0m, in \u001B[0;36m<cell line: 13>\u001B[1;34m()\u001B[0m\n\u001B[0;32m     11\u001B[0m mse\u001B[38;5;241m.\u001B[39mappend(mse_score)\n\u001B[0;32m     12\u001B[0m \u001B[38;5;28mprint\u001B[39m(\u001B[38;5;28mid\u001B[39m)\n\u001B[1;32m---> 13\u001B[0m tmp\u001B[38;5;241m=\u001B[39mpd\u001B[38;5;241m.\u001B[39mDataFrame({\u001B[38;5;124m'\u001B[39m\u001B[38;5;124mAbundandce Filter\u001B[39m\u001B[38;5;124m'\u001B[39m: \u001B[43mi\u001B[49m,\n\u001B[0;32m     14\u001B[0m                           \u001B[38;5;124m'\u001B[39m\u001B[38;5;124mNPUNID\u001B[39m\u001B[38;5;124m'\u001B[39m:\u001B[38;5;28mid\u001B[39m,\n\u001B[0;32m     15\u001B[0m                           \u001B[38;5;124m'\u001B[39m\u001B[38;5;124mMSE\u001B[39m\u001B[38;5;124m'\u001B[39m:mse_score,\n\u001B[0;32m     16\u001B[0m                           \u001B[38;5;124m'\u001B[39m\u001B[38;5;124mR2\u001B[39m\u001B[38;5;124m'\u001B[39m:r2,\n\u001B[0;32m     17\u001B[0m                           \u001B[38;5;124m'\u001B[39m\u001B[38;5;124mPearson\u001B[39m\u001B[38;5;124m'\u001B[39m:pearson},index\u001B[38;5;241m=\u001B[39m[\u001B[38;5;241m0\u001B[39m])\n\u001B[0;32m     18\u001B[0m eval_df \u001B[38;5;241m=\u001B[39m pd\u001B[38;5;241m.\u001B[39mconcat([eval_df,tmp],ignore_index\u001B[38;5;241m=\u001B[39m\u001B[38;5;28;01mTrue\u001B[39;00m,axis\u001B[38;5;241m=\u001B[39m\u001B[38;5;241m0\u001B[39m)\n\u001B[0;32m     20\u001B[0m eval_df\u001B[38;5;241m.\u001B[39mto_excel(\u001B[38;5;124m'\u001B[39m\u001B[38;5;124mOutput_data/PredictonBALFSamples.xlsx\u001B[39m\u001B[38;5;124m'\u001B[39m, index\u001B[38;5;241m=\u001B[39m\u001B[38;5;28;01mFalse\u001B[39;00m)\n",
      "\u001B[1;31mNameError\u001B[0m: name 'i' is not defined"
     ]
    }
   ],
   "source": [
    "model.fit(X_train,y_train)\n",
    "y_true = removed_row['Abundance']\n",
    "y_pred = model.predict(X_test)\n",
    "# Calculate the Accuracy scores and add it to the list\n",
    "pearson, _ = pearsonr(y_true, y_pred)\n",
    "r2 = r2_score(y_true, y_pred)\n",
    "mse_score = mean_squared_error(y_true, y_pred)\n",
    "\n",
    "pearson_scores.append(pearson)\n",
    "r2_scores.append(r2)\n",
    "mse.append(mse_score)\n",
    "print(id)\n",
    "tmp=pd.DataFrame({'Abundandce Filter': i,\n",
    "                          'NPUNID':id,\n",
    "                          'MSE':mse_score,\n",
    "                          'R2':r2,\n",
    "                          'Pearson':pearson},index=[0])\n",
    "eval_df = pd.concat([eval_df,tmp],ignore_index=True,axis=0)\n",
    "\n",
    "eval_df.to_excel('Output_data/PredictonBALFSamples.xlsx', index=False)"
   ],
   "metadata": {
    "collapsed": false,
    "ExecuteTime": {
     "start_time": "2023-04-26T13:20:14.801208Z",
     "end_time": "2023-04-26T13:20:16.226685Z"
    }
   }
  },
  {
   "cell_type": "code",
   "execution_count": 17,
   "outputs": [
    {
     "name": "stdout",
     "output_type": "stream",
     "text": [
      "Recursive Feature Elimination with Correlated Features ran successfully\n"
     ]
    },
    {
     "ename": "NameError",
     "evalue": "name 'df' is not defined",
     "output_type": "error",
     "traceback": [
      "\u001B[1;31m---------------------------------------------------------------------------\u001B[0m",
      "\u001B[1;31mNameError\u001B[0m                                 Traceback (most recent call last)",
      "Input \u001B[1;32mIn [17]\u001B[0m, in \u001B[0;36m<cell line: 12>\u001B[1;34m()\u001B[0m\n\u001B[0;32m     10\u001B[0m df_a\u001B[38;5;241m=\u001B[39mdf_a\u001B[38;5;241m.\u001B[39mdrop(columns\u001B[38;5;241m=\u001B[39m[\u001B[38;5;124m'\u001B[39m\u001B[38;5;124mAbundance\u001B[39m\u001B[38;5;124m'\u001B[39m,\u001B[38;5;124m'\u001B[39m\u001B[38;5;124mNPUNID\u001B[39m\u001B[38;5;124m'\u001B[39m],axis\u001B[38;5;241m=\u001B[39m\u001B[38;5;241m1\u001B[39m)\u001B[38;5;241m.\u001B[39mcopy()\n\u001B[0;32m     11\u001B[0m df_a\u001B[38;5;241m=\u001B[39mRFECV_plot(df_a,label_abund,model,\u001B[38;5;124m'\u001B[39m\u001B[38;5;124mb\u001B[39m\u001B[38;5;124m'\u001B[39m,folds\u001B[38;5;241m=\u001B[39m\u001B[38;5;241m5\u001B[39m,step\u001B[38;5;241m=\u001B[39m\u001B[38;5;241m2\u001B[39m)\n\u001B[1;32m---> 12\u001B[0m scram_score(\u001B[43mdf\u001B[49m, label_abund, model, \u001B[38;5;28mid\u001B[39m, \u001B[38;5;241m0.2\u001B[39m)\n\u001B[0;32m     13\u001B[0m feat_drop(df, label_abund, model, \u001B[38;5;28mid\u001B[39m, \u001B[38;5;241m0.2\u001B[39m)\n\u001B[0;32m     14\u001B[0m \u001B[38;5;66;03m# feat_drop_multifold(df, label_abund, model, id, 0.2, folds=splits)\u001B[39;00m\n",
      "\u001B[1;31mNameError\u001B[0m: name 'df' is not defined"
     ]
    }
   ],
   "source": [
    "##Run Quality Control on df to get a look at important features and such##\n",
    "df_filepath = 'Input_data/Save_files/df_1_all_RFE50_RFR.xlsx'\n",
    "df_a = pd.read_excel(df_filepath, header=0)\n",
    "labels= df_a['Abundance'].copy()\n",
    "id_col= df_a['NPUNID'].copy()\n",
    "label_abund=np.ravel(labels)\n",
    "\n",
    "\n",
    "# Initialize a list to hold MSE scores for each removed ID\n",
    "model=RandomForestRegressor(n_estimators=100)\n",
    "df_a=df_a.drop(columns=['Abundance','NPUNID'],axis=1).copy()\n",
    "df_a=RFECV_plot(df_a,label_abund,model,'b',folds=5,step=2)\n",
    "scram_score(df, label_abund, model, id, 0.2)\n",
    "feat_drop(df, label_abund, model, id, 0.2)\n",
    "# feat_drop_multifold(df, label_abund, model, id, 0.2, folds=splits)\n",
    "tmp2=scorer(df, label_abund, model, id, 10)\n",
    "zeros=(raw_MS_data['Abundance']==0).sum()\n",
    "percent_zeros=zeros/raw_MS_data.shape[0]\n",
    "tmp2['TotalZeros']=zeros\n",
    "tmp2['Percent_zeros']=percent_zeros\n",
    "summary_tmp.append(tmp2)\n",
    "# lasso_feature_selection(df, label_abund, id)\n",
    "summary=pd.concat(summary_tmp,axis=0)"
   ],
   "metadata": {
    "collapsed": false
   }
  },
  {
   "cell_type": "code",
   "execution_count": null,
   "metadata": {},
   "outputs": [],
   "source": [
    "###Run Histogram of each Feature###\n",
    "# Get total number of rows\n",
    "df=df_a\n",
    "total_count = len(df)\n",
    "df = df.rename(columns=lambda x: x.replace('/', ''))\n",
    "# Loop over each column of the dataframe\n",
    "for col in df.columns:\n",
    "    # Create a histogram of the current column, with bins=10\n",
    "    data=df[col]\n",
    "    plt.hist(data, weights=np.ones_like(data) / len(data))\n",
    "\n",
    "    # Set the title of the histogram to the column name and percent of total population\n",
    "    plt.title(str(col))\n",
    "    plt.savefig('Output_data/{}.png'.format(str(col)))\n",
    "    plt.close()\n",
    "    # Show the histogram\n",
    "    # plt.show()\n"
   ]
  },
  {
   "cell_type": "markdown",
   "metadata": {},
   "source": []
  }
 ],
 "metadata": {
  "kernelspec": {
   "display_name": "Python 3 (ipykernel)",
   "language": "python",
   "name": "python3"
  },
  "language_info": {
   "codemirror_mode": {
    "name": "ipython",
    "version": 3
   },
   "file_extension": ".py",
   "mimetype": "text/x-python",
   "name": "python",
   "nbconvert_exporter": "python",
   "pygments_lexer": "ipython3",
   "version": "3.9.12"
  }
 },
 "nbformat": 4,
 "nbformat_minor": 1
}

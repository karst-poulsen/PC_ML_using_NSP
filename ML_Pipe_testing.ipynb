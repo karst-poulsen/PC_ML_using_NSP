{
 "cells": [
  {
   "cell_type": "code",
   "execution_count": 1,
   "outputs": [],
   "source": [
    "import os\n",
    "import pandas as pd\n",
    "import numpy as np\n",
    "from sklearn.ensemble import RandomForestClassifier\n",
    "from sklearn.ensemble import RandomForestRegressor\n",
    "from sklearn import metrics\n",
    "import matplotlib.pyplot as plt\n",
    "import seaborn as sns\n",
    "from helper_functions_pipe_testing import *\n",
    "from sklearn.metrics import  f1_score, recall_score, precision_score, confusion_matrix\n",
    "from sklearn.model_selection import StratifiedShuffleSplit\n",
    "from sklearn.model_selection import train_test_split\n",
    "from sklearn.preprocessing import MinMaxScaler\n",
    "from imblearn.over_sampling import *\n"
   ],
   "metadata": {
    "collapsed": false,
    "pycharm": {
     "name": "#%%\n"
    }
   }
  },
  {
   "cell_type": "markdown",
   "source": [
    "#Instructions for the pipeline\n",
    "Requires two inputs for training:\n",
    "    - Mass spec data with corresponding NP surface characteristics and experimental conditions (time, concentration)\n",
    "    - NetsurfP and Biopython data that has been precalculated\n",
    "    - X characteristics to predict\n",
    "\n",
    "pipeline\n",
    "Take mass spec spreadsheet\n",
    "Accession,Enrichment,Dh,TEM,Zp,BET,Composition,Ligand,Shape,IncubationTime,IncubationConcentration\n",
    "Merge with Proteome data to get file that has\n",
    "Accession,Enrichment,Dh,TEM,Zp,BET,Composition,Ligand,Shape,IncubationTime,IncubationConcentration,Mass,Length,Sequence\n",
    "Calculate protein features using biopython\n",
    "Merge with NSP data to get all protein features\n",
    "\n",
    "Split into X and Y dataset with Entries as labels"
   ],
   "metadata": {
    "collapsed": false,
    "pycharm": {
     "name": "#%% md\n"
    }
   }
  },
  {
   "cell_type": "code",
   "execution_count": 2,
   "outputs": [],
   "source": [
    "### New Data workup for RFG\n",
    "\n",
    "# Pull together Proteomic data\n",
    "in_dir=\"Input_data/Proteomic data/abundance/\"\n",
    "#combine Mass Spec data input into one excel spreadsheet - Entry - Abundance labeled by NP Unique ID\n",
    "#Abundance as a percent\n",
    "#take files in_dir and combine then into one pandas df (raw_MS_data)\n",
    "files = os.listdir(in_dir)\n",
    "for i,f in enumerate(files):\n",
    "    if i==0:\n",
    "        raw_MS_data=pd.read_excel(in_dir+f,header=0)\n",
    "    else:\n",
    "        temp = pd.read_excel(in_dir+f,header=0)\n",
    "        raw_MS_data=raw_MS_data.merge(temp,how='outer',on='Entry')\n",
    "# melt the df to make it an accession number, NPUNID, Abundance dataset\n",
    "raw_MS_data = pd.melt(raw_MS_data, id_vars=['Entry'],var_name='NPUNID', value_name='Abundance')\n",
    "#remove prots that were added due to merge\n",
    "raw_MS_data=raw_MS_data.dropna()"
   ],
   "metadata": {
    "collapsed": false,
    "pycharm": {
     "name": "#%%\n"
    }
   }
  },
  {
   "cell_type": "code",
   "execution_count": 8,
   "outputs": [],
   "source": [
    "###Bring in controls (MS data for serums)##\n",
    "#Controls is the abundance of the proteins in serum that have been observed via proteomics\n",
    "#look at other sources here for human proteins, but internal sources for BALF and FBS\n",
    "controls=pd.read_excel('Input_data/Proteomic data/controls_combined.xlsx',header=0)\n",
    "MS_data_controls = pd.merge(raw_MS_data,controls,how='inner', on='Entry')\n",
    "###Bring in Uniprot_data,NSPdata and NP data##\n",
    "uniprot_filepath='Input_data/BioPython_data/Combined_biopyCalcs.xlsx'\n",
    "uniprot_dat=pd.read_excel(uniprot_filepath,header=0)\n",
    "NSPfilePath='Input_data/NetSurfP_data/Combined.xlsx'\n",
    "NSP_data=pd.read_excel(NSPfilePath)\n",
    "###Bring in NP data and merge to get complete NP dataset###\n",
    "NP_filepath='Input_data/NPs/NP_Database.xlsx'\n",
    "NPUNdata=pd.read_excel(NP_filepath,header=0,sheet_name='NPUNID')\n",
    "NPprop=pd.read_excel(NP_filepath,header=0,sheet_name='NP_Props')\n",
    "NPdata=pd.merge(NPUNdata,NPprop,how=\"left\",on='NPID')"
   ],
   "metadata": {
    "collapsed": false,
    "pycharm": {
     "name": "#%%\n"
    }
   }
  },
  {
   "cell_type": "code",
   "execution_count": 9,
   "outputs": [
    {
     "name": "stderr",
     "output_type": "stream",
     "text": [
      "C:\\Users\\kmp95\\Anaconda3\\lib\\site-packages\\pandas\\core\\arraylike.py:397: RuntimeWarning: divide by zero encountered in log2\n",
      "  result = getattr(ufunc, method)(*inputs, **kwargs)\n"
     ]
    }
   ],
   "source": [
    "#calculate Enrichment\n",
    "#####MAYBE add binning here to to keep negative results and improve capapbilities######\n",
    "MS_data_controls['Enrichment']= np.log2(MS_data_controls['Abundance']/MS_data_controls['Abundance_Controls'])\n",
    "MS_data=MS_data_controls.drop(columns=['Abundance','Abundance_Controls'])\n",
    "raw_prop_data=pd.merge(MS_data, uniprot_dat, how='left',on='Entry')"
   ],
   "metadata": {
    "collapsed": false,
    "pycharm": {
     "name": "#%%\n"
    }
   }
  },
  {
   "cell_type": "code",
   "execution_count": 11,
   "outputs": [],
   "source": [
    "MS_data_clean = raw_MS_data.copy()\n",
    "PROT_cleaned_data = normalize_mass_length_1DF(raw_prop_data) #function found in data_prep_functions line 167, normalizes mass, length and mw by dividing all values by the max in the column\n",
    "Protein_data_complete = pd.merge(PROT_cleaned_data, NSP_data, left_on='Entry', right_on='Entry') #merges netsurfp features and biopython features\n",
    "#creates new column called asa_sum_normalized which is the asa_sum value divide by the mass of the protein\n",
    "for df in [Protein_data_complete]:\n",
    "    for col in ['asa_sum']:\n",
    "        df[col+'_normalized'] = df[col] / df['Mass']\n",
    "\n",
    "data_complete= pd.merge(Protein_data_complete,NPdata,how='left', on='NPUNID')\n",
    "data_complete.drop(columns=['notes','Notes','NPUNID'],inplace=True)\n",
    "#Optional here to drop all enrichment values that are NA - also have to deal with positive/negative infinity values\n",
    "# data_complete.dropna(subset=['Enrichment'],inplace=True)"
   ],
   "metadata": {
    "collapsed": false,
    "pycharm": {
     "name": "#%%\n"
    }
   }
  },
  {
   "cell_type": "code",
   "execution_count": null,
   "outputs": [],
   "source": [
    "# data_complete.drop(columns='Unnamed: 0',inplace=True)"
   ],
   "metadata": {
    "collapsed": false,
    "pycharm": {
     "name": "#%%\n"
    }
   }
  },
  {
   "cell_type": "code",
   "execution_count": 14,
   "outputs": [
    {
     "data": {
      "text/plain": "       Entry Enrichment                                           Sequence  \\\n0     P02769  -2.532041  MKWVTFISLLLLFSSAYSRGVFRRDTHKSEIAHRFKDLGEEHFKGL...   \n1     P02769  -2.100316  MKWVTFISLLLLFSSAYSRGVFRRDTHKSEIAHRFKDLGEEHFKGL...   \n2     P02769  -2.134677  MKWVTFISLLLLFSSAYSRGVFRRDTHKSEIAHRFKDLGEEHFKGL...   \n3     P02769  -0.343872  MKWVTFISLLLLFSSAYSRGVFRRDTHKSEIAHRFKDLGEEHFKGL...   \n4     P02769   -2.16923  MKWVTFISLLLLFSSAYSRGVFRRDTHKSEIAHRFKDLGEEHFKGL...   \n...      ...        ...                                                ...   \n3077  Q00896        -12  MTPSISWGLLLLAGLCCLVPSFLAEDVQETDTSQKDQSPASHEIAT...   \n3078  Q00896        -12  MTPSISWGLLLLAGLCCLVPSFLAEDVQETDTSQKDQSPASHEIAT...   \n3079  Q00896   1.789023  MTPSISWGLLLLAGLCCLVPSFLAEDVQETDTSQKDQSPASHEIAT...   \n3080  Q00896        -12  MTPSISWGLLLLAGLCCLVPSFLAEDVQETDTSQKDQSPASHEIAT...   \n3081  Q00896        -12  MTPSISWGLLLLAGLCCLVPSFLAEDVQETDTSQKDQSPASHEIAT...   \n\n      Length     Mass  frac_aa_A  frac_aa_C  frac_aa_D  frac_aa_E  frac_aa_F  \\\n0      607.0  69293.0   0.079077   0.057661   0.065898   0.097199   0.049423   \n1      607.0  69293.0   0.079077   0.057661   0.065898   0.097199   0.049423   \n2      607.0  69293.0   0.079077   0.057661   0.065898   0.097199   0.049423   \n3      607.0  69293.0   0.079077   0.057661   0.065898   0.097199   0.049423   \n4      607.0  69293.0   0.079077   0.057661   0.065898   0.097199   0.049423   \n...      ...      ...        ...        ...        ...        ...        ...   \n3077   412.0  45823.0   0.070388   0.007282   0.050971   0.072816   0.060680   \n3078   412.0  45823.0   0.070388   0.007282   0.050971   0.072816   0.060680   \n3079   412.0  45823.0   0.070388   0.007282   0.050971   0.072816   0.060680   \n3080   412.0  45823.0   0.070388   0.007282   0.050971   0.072816   0.060680   \n3081   412.0  45823.0   0.070388   0.007282   0.050971   0.072816   0.060680   \n\n      ...   Dtem  Dh_core  Dh_functionalized  Shaken  Centrifuged  \\\n0     ...  100.0    230.0              230.0     1.0          0.0   \n1     ...  100.0    230.0              230.0     1.0          0.0   \n2     ...  100.0    230.0              230.0     1.0          0.0   \n3     ...   40.5   2083.0             2083.0     0.0          1.0   \n4     ...  188.0    353.9              353.9     0.0          1.0   \n...   ...    ...      ...                ...     ...          ...   \n3077  ...  800.0    680.0              680.0     1.0          1.0   \n3078  ...  378.0    410.0              410.0     1.0          1.0   \n3079  ...  378.0    410.0              410.0     1.0          1.0   \n3080  ...  378.0    410.0              410.0     1.0          1.0   \n3081  ...  100.0    230.0              230.0     1.0          0.0   \n\n      Protein Source  NP_incubation Concentration (mg/mL)  \\\n0                FBS                                  3.2   \n1                FBS                                  3.2   \n2                FBS                                  3.2   \n3                FBS                                  4.0   \n4                FBS                                  4.0   \n...              ...                                  ...   \n3077            BALF                                125.0   \n3078            BALF                                 62.5   \n3079            BALF                                 62.5   \n3080            BALF                                 62.5   \n3081            BALF                                 25.0   \n\n      Incubation Concentration (mg/ml)  Incubation Time (minutes)  Temperature  \n0                                  4.0                       30.0         25.0  \n1                                  4.0                       30.0         25.0  \n2                                  4.0                       30.0         25.0  \n3                                  4.0                       30.0         25.0  \n4                                  4.0                       30.0         25.0  \n...                                ...                        ...          ...  \n3077                               0.2                       60.0         25.0  \n3078                               0.2                       60.0         25.0  \n3079                               0.2                       60.0         25.0  \n3080                               0.2                       60.0         25.0  \n3081                               0.2                       60.0         25.0  \n\n[1992 rows x 112 columns]",
      "text/html": "<div>\n<style scoped>\n    .dataframe tbody tr th:only-of-type {\n        vertical-align: middle;\n    }\n\n    .dataframe tbody tr th {\n        vertical-align: top;\n    }\n\n    .dataframe thead th {\n        text-align: right;\n    }\n</style>\n<table border=\"1\" class=\"dataframe\">\n  <thead>\n    <tr style=\"text-align: right;\">\n      <th></th>\n      <th>Entry</th>\n      <th>Enrichment</th>\n      <th>Sequence</th>\n      <th>Length</th>\n      <th>Mass</th>\n      <th>frac_aa_A</th>\n      <th>frac_aa_C</th>\n      <th>frac_aa_D</th>\n      <th>frac_aa_E</th>\n      <th>frac_aa_F</th>\n      <th>...</th>\n      <th>Dtem</th>\n      <th>Dh_core</th>\n      <th>Dh_functionalized</th>\n      <th>Shaken</th>\n      <th>Centrifuged</th>\n      <th>Protein Source</th>\n      <th>NP_incubation Concentration (mg/mL)</th>\n      <th>Incubation Concentration (mg/ml)</th>\n      <th>Incubation Time (minutes)</th>\n      <th>Temperature</th>\n    </tr>\n  </thead>\n  <tbody>\n    <tr>\n      <th>0</th>\n      <td>P02769</td>\n      <td>-2.532041</td>\n      <td>MKWVTFISLLLLFSSAYSRGVFRRDTHKSEIAHRFKDLGEEHFKGL...</td>\n      <td>607.0</td>\n      <td>69293.0</td>\n      <td>0.079077</td>\n      <td>0.057661</td>\n      <td>0.065898</td>\n      <td>0.097199</td>\n      <td>0.049423</td>\n      <td>...</td>\n      <td>100.0</td>\n      <td>230.0</td>\n      <td>230.0</td>\n      <td>1.0</td>\n      <td>0.0</td>\n      <td>FBS</td>\n      <td>3.2</td>\n      <td>4.0</td>\n      <td>30.0</td>\n      <td>25.0</td>\n    </tr>\n    <tr>\n      <th>1</th>\n      <td>P02769</td>\n      <td>-2.100316</td>\n      <td>MKWVTFISLLLLFSSAYSRGVFRRDTHKSEIAHRFKDLGEEHFKGL...</td>\n      <td>607.0</td>\n      <td>69293.0</td>\n      <td>0.079077</td>\n      <td>0.057661</td>\n      <td>0.065898</td>\n      <td>0.097199</td>\n      <td>0.049423</td>\n      <td>...</td>\n      <td>100.0</td>\n      <td>230.0</td>\n      <td>230.0</td>\n      <td>1.0</td>\n      <td>0.0</td>\n      <td>FBS</td>\n      <td>3.2</td>\n      <td>4.0</td>\n      <td>30.0</td>\n      <td>25.0</td>\n    </tr>\n    <tr>\n      <th>2</th>\n      <td>P02769</td>\n      <td>-2.134677</td>\n      <td>MKWVTFISLLLLFSSAYSRGVFRRDTHKSEIAHRFKDLGEEHFKGL...</td>\n      <td>607.0</td>\n      <td>69293.0</td>\n      <td>0.079077</td>\n      <td>0.057661</td>\n      <td>0.065898</td>\n      <td>0.097199</td>\n      <td>0.049423</td>\n      <td>...</td>\n      <td>100.0</td>\n      <td>230.0</td>\n      <td>230.0</td>\n      <td>1.0</td>\n      <td>0.0</td>\n      <td>FBS</td>\n      <td>3.2</td>\n      <td>4.0</td>\n      <td>30.0</td>\n      <td>25.0</td>\n    </tr>\n    <tr>\n      <th>3</th>\n      <td>P02769</td>\n      <td>-0.343872</td>\n      <td>MKWVTFISLLLLFSSAYSRGVFRRDTHKSEIAHRFKDLGEEHFKGL...</td>\n      <td>607.0</td>\n      <td>69293.0</td>\n      <td>0.079077</td>\n      <td>0.057661</td>\n      <td>0.065898</td>\n      <td>0.097199</td>\n      <td>0.049423</td>\n      <td>...</td>\n      <td>40.5</td>\n      <td>2083.0</td>\n      <td>2083.0</td>\n      <td>0.0</td>\n      <td>1.0</td>\n      <td>FBS</td>\n      <td>4.0</td>\n      <td>4.0</td>\n      <td>30.0</td>\n      <td>25.0</td>\n    </tr>\n    <tr>\n      <th>4</th>\n      <td>P02769</td>\n      <td>-2.16923</td>\n      <td>MKWVTFISLLLLFSSAYSRGVFRRDTHKSEIAHRFKDLGEEHFKGL...</td>\n      <td>607.0</td>\n      <td>69293.0</td>\n      <td>0.079077</td>\n      <td>0.057661</td>\n      <td>0.065898</td>\n      <td>0.097199</td>\n      <td>0.049423</td>\n      <td>...</td>\n      <td>188.0</td>\n      <td>353.9</td>\n      <td>353.9</td>\n      <td>0.0</td>\n      <td>1.0</td>\n      <td>FBS</td>\n      <td>4.0</td>\n      <td>4.0</td>\n      <td>30.0</td>\n      <td>25.0</td>\n    </tr>\n    <tr>\n      <th>...</th>\n      <td>...</td>\n      <td>...</td>\n      <td>...</td>\n      <td>...</td>\n      <td>...</td>\n      <td>...</td>\n      <td>...</td>\n      <td>...</td>\n      <td>...</td>\n      <td>...</td>\n      <td>...</td>\n      <td>...</td>\n      <td>...</td>\n      <td>...</td>\n      <td>...</td>\n      <td>...</td>\n      <td>...</td>\n      <td>...</td>\n      <td>...</td>\n      <td>...</td>\n      <td>...</td>\n    </tr>\n    <tr>\n      <th>3077</th>\n      <td>Q00896</td>\n      <td>-12</td>\n      <td>MTPSISWGLLLLAGLCCLVPSFLAEDVQETDTSQKDQSPASHEIAT...</td>\n      <td>412.0</td>\n      <td>45823.0</td>\n      <td>0.070388</td>\n      <td>0.007282</td>\n      <td>0.050971</td>\n      <td>0.072816</td>\n      <td>0.060680</td>\n      <td>...</td>\n      <td>800.0</td>\n      <td>680.0</td>\n      <td>680.0</td>\n      <td>1.0</td>\n      <td>1.0</td>\n      <td>BALF</td>\n      <td>125.0</td>\n      <td>0.2</td>\n      <td>60.0</td>\n      <td>25.0</td>\n    </tr>\n    <tr>\n      <th>3078</th>\n      <td>Q00896</td>\n      <td>-12</td>\n      <td>MTPSISWGLLLLAGLCCLVPSFLAEDVQETDTSQKDQSPASHEIAT...</td>\n      <td>412.0</td>\n      <td>45823.0</td>\n      <td>0.070388</td>\n      <td>0.007282</td>\n      <td>0.050971</td>\n      <td>0.072816</td>\n      <td>0.060680</td>\n      <td>...</td>\n      <td>378.0</td>\n      <td>410.0</td>\n      <td>410.0</td>\n      <td>1.0</td>\n      <td>1.0</td>\n      <td>BALF</td>\n      <td>62.5</td>\n      <td>0.2</td>\n      <td>60.0</td>\n      <td>25.0</td>\n    </tr>\n    <tr>\n      <th>3079</th>\n      <td>Q00896</td>\n      <td>1.789023</td>\n      <td>MTPSISWGLLLLAGLCCLVPSFLAEDVQETDTSQKDQSPASHEIAT...</td>\n      <td>412.0</td>\n      <td>45823.0</td>\n      <td>0.070388</td>\n      <td>0.007282</td>\n      <td>0.050971</td>\n      <td>0.072816</td>\n      <td>0.060680</td>\n      <td>...</td>\n      <td>378.0</td>\n      <td>410.0</td>\n      <td>410.0</td>\n      <td>1.0</td>\n      <td>1.0</td>\n      <td>BALF</td>\n      <td>62.5</td>\n      <td>0.2</td>\n      <td>60.0</td>\n      <td>25.0</td>\n    </tr>\n    <tr>\n      <th>3080</th>\n      <td>Q00896</td>\n      <td>-12</td>\n      <td>MTPSISWGLLLLAGLCCLVPSFLAEDVQETDTSQKDQSPASHEIAT...</td>\n      <td>412.0</td>\n      <td>45823.0</td>\n      <td>0.070388</td>\n      <td>0.007282</td>\n      <td>0.050971</td>\n      <td>0.072816</td>\n      <td>0.060680</td>\n      <td>...</td>\n      <td>378.0</td>\n      <td>410.0</td>\n      <td>410.0</td>\n      <td>1.0</td>\n      <td>1.0</td>\n      <td>BALF</td>\n      <td>62.5</td>\n      <td>0.2</td>\n      <td>60.0</td>\n      <td>25.0</td>\n    </tr>\n    <tr>\n      <th>3081</th>\n      <td>Q00896</td>\n      <td>-12</td>\n      <td>MTPSISWGLLLLAGLCCLVPSFLAEDVQETDTSQKDQSPASHEIAT...</td>\n      <td>412.0</td>\n      <td>45823.0</td>\n      <td>0.070388</td>\n      <td>0.007282</td>\n      <td>0.050971</td>\n      <td>0.072816</td>\n      <td>0.060680</td>\n      <td>...</td>\n      <td>100.0</td>\n      <td>230.0</td>\n      <td>230.0</td>\n      <td>1.0</td>\n      <td>0.0</td>\n      <td>BALF</td>\n      <td>25.0</td>\n      <td>0.2</td>\n      <td>60.0</td>\n      <td>25.0</td>\n    </tr>\n  </tbody>\n</table>\n<p>1992 rows × 112 columns</p>\n</div>"
     },
     "execution_count": 14,
     "metadata": {},
     "output_type": "execute_result"
    }
   ],
   "source": [
    "data_complete"
   ],
   "metadata": {
    "collapsed": false,
    "pycharm": {
     "name": "#%%\n"
    }
   }
  },
  {
   "cell_type": "code",
   "execution_count": 13,
   "outputs": [],
   "source": [
    "data_complete.dropna(inplace=True)\n",
    "#replace -infintiy and positive infinity with -12 and 12\n",
    "\n",
    "#####COME BACK AND FIND BETTER SOLUTION!!!##\n",
    "data_complete= data_complete.replace([-np.inf],'-12')\n",
    "data_complete=data_complete.replace([np.inf],'12')"
   ],
   "metadata": {
    "collapsed": false,
    "pycharm": {
     "name": "#%%\n"
    }
   }
  },
  {
   "cell_type": "code",
   "execution_count": null,
   "outputs": [],
   "source": [
    "#set labels (what we are trying to predict) as Enrichment column\n",
    "labels=data_complete['Enrichment'].copy()\n",
    "#make it one dimenisional\n",
    "labels=np.ravel(labels)\n",
    "#drop qualitative, not neccessary, and label columns\n",
    "df=data_complete.drop(['Entry','Sequence','Core Material','Ligand','NPID','Enrichment'],axis=1)\n",
    "\n",
    "# print(df)\n",
    "#these are left over metrics from the helper functions from landry paper replace with better options for looking at metrics###\n",
    "first_frame = True #starting dataframe for saving metrics\n",
    "correctness_frame = pd.DataFrame()\n",
    "metrics_frame = pd.DataFrame()\n",
    "print_metrics = 1 #0, doesn't show metrics while runnning for each model, 1 does show metrics\n"
   ],
   "metadata": {
    "collapsed": false,
    "pycharm": {
     "name": "#%%\n"
    }
   }
  },
  {
   "cell_type": "code",
   "execution_count": null,
   "outputs": [],
   "source": [
    "labels"
   ],
   "metadata": {
    "collapsed": false,
    "pycharm": {
     "name": "#%%\n"
    }
   }
  },
  {
   "cell_type": "code",
   "execution_count": null,
   "outputs": [],
   "source": [
    "data_complete"
   ],
   "metadata": {
    "collapsed": false,
    "pycharm": {
     "name": "#%%\n"
    }
   }
  },
  {
   "cell_type": "code",
   "execution_count": null,
   "outputs": [],
   "source": [
    "#Run recursive feature elimination to determine top features to select\n",
    "#currently selecting 15 although that is arbitrary\n",
    "### COME UP with better more objective way for determining number of features####\n",
    "from sklearn.feature_selection import RFE\n",
    "\n",
    "estimator = RandomForestRegressor(n_estimators=100)\n",
    "selector = RFE(estimator, n_features_to_select= 15, step=1)\n",
    "selector = selector.fit(df,labels)\n",
    "selector.support_"
   ],
   "metadata": {
    "collapsed": false,
    "pycharm": {
     "name": "#%%\n"
    }
   }
  },
  {
   "cell_type": "code",
   "execution_count": null,
   "outputs": [],
   "source": [
    "selector.ranking_"
   ],
   "metadata": {
    "collapsed": false,
    "pycharm": {
     "name": "#%%\n"
    }
   }
  },
  {
   "cell_type": "code",
   "execution_count": null,
   "outputs": [],
   "source": [
    "feat_list=selector.get_feature_names_out()\n",
    "print(feat_list)"
   ],
   "metadata": {
    "collapsed": false,
    "pycharm": {
     "name": "#%%\n"
    }
   }
  },
  {
   "cell_type": "code",
   "execution_count": null,
   "outputs": [],
   "source": [
    "df_rfe=df[feat_list].copy()\n",
    "df_rfe"
   ],
   "metadata": {
    "collapsed": false,
    "pycharm": {
     "name": "#%%\n"
    }
   }
  },
  {
   "cell_type": "code",
   "execution_count": null,
   "outputs": [],
   "source": [],
   "metadata": {
    "collapsed": false,
    "pycharm": {
     "name": "#%%\n"
    }
   }
  },
  {
   "cell_type": "code",
   "execution_count": null,
   "outputs": [],
   "source": [
    "\n",
    "x_train, x_test, y_train, y_test = train_test_split(df_rfe,labels, test_size = 0.33, random_state=42)\n",
    "# sss = StratifiedShuffleSplit(n_splits=1, test_size=0.4, random_state=2016)\n",
    "# for train_index, test_index in sss.split(df, labels):\n",
    "# x_train = df.iloc[train_index]\n",
    "# X_test = df.iloc[test_index]\n",
    "# y_train = labels.iloc[train_index]\n",
    "# y_test = labels.iloc[test_index]\n",
    "\n",
    "rfg=RandomForestRegressor(n_estimators=100)\n",
    "rfg.fit(x_train,y_train)\n",
    "print(rfg.score(x_test,y_test))\n",
    "# print(rfg.feature_importances_)\n",
    "\n",
    "# metrics_dict = {'AUC':metrics.roc_auc_score(y_test, rfg.predict_proba(x_test)[:, 1]),\n",
    "#             'Accuracy':rfg.score(x_test, y_test), 'Recall':recall_score(y_test, rfg.predict(x_test)),\n",
    "#             'Precision':precision_score(y_test, rfg.predict(x_test), zero_division=0), 'F1':f1_score(y_test, rfg.predict(x_test))}\n",
    "# metrics_frame = pd.DataFrame.from_dict(data=metrics_dict,orient='index').transpose()"
   ],
   "metadata": {
    "collapsed": false,
    "pycharm": {
     "name": "#%%\n"
    }
   }
  },
  {
   "cell_type": "code",
   "execution_count": null,
   "outputs": [],
   "source": [
    "feat_importances=rfg.feature_importances_\n",
    "# print(feat_importances)\n",
    "print('feature: importance score')\n",
    "for i,col in enumerate(df_rfe.columns):\n",
    "    print(col,feat_importances[i])"
   ],
   "metadata": {
    "collapsed": false,
    "pycharm": {
     "name": "#%%\n"
    }
   }
  },
  {
   "cell_type": "code",
   "execution_count": 22,
   "outputs": [
    {
     "name": "stdout",
     "output_type": "stream",
     "text": [
      "0.43730337548323595\n"
     ]
    }
   ],
   "source": [
    "\n",
    "x_train, x_test, y_train, y_test = train_test_split(df_rfe,labels, test_size = 0.33, random_state=42)\n",
    "# sss = StratifiedShuffleSplit(n_splits=1, test_size=0.4, random_state=2016)\n",
    "# for train_index, test_index in sss.split(df, labels):\n",
    "# x_train = df.iloc[train_index]\n",
    "# X_test = df.iloc[test_index]\n",
    "# y_train = labels.iloc[train_index]\n",
    "# y_test = labels.iloc[test_index]\n",
    "\n",
    "rfg=RandomForestRegressor(n_estimators=100)\n",
    "rfg.fit(x_train,y_train)\n",
    "print(rfg.score(x_test,y_test))\n",
    "# print(rfg.feature_importances_)\n",
    "\n",
    "# metrics_dict = {'AUC':metrics.roc_auc_score(y_test, rfg.predict_proba(x_test)[:, 1]),\n",
    "#             'Accuracy':rfg.score(x_test, y_test), 'Recall':recall_score(y_test, rfg.predict(x_test)),\n",
    "#             'Precision':precision_score(y_test, rfg.predict(x_test), zero_division=0), 'F1':f1_score(y_test, rfg.predict(x_test))}\n",
    "# metrics_frame = pd.DataFrame.from_dict(data=metrics_dict,orient='index').transpose()"
   ],
   "metadata": {
    "collapsed": false,
    "pycharm": {
     "name": "#%%\n"
    }
   }
  },
  {
   "cell_type": "code",
   "execution_count": 28,
   "outputs": [
    {
     "name": "stdout",
     "output_type": "stream",
     "text": [
      "feature: importance score\n",
      "frac_aa_I 0.06596630314032861\n",
      "frac_aa_Q 0.05914304079572\n",
      "frac_aa_W 0.06973760909851004\n",
      "molecular_weight 0.055950814276992854\n",
      "flexibility_var 0.060526394166567826\n",
      "flexibility_min 0.06685478674919744\n",
      "fraction_exposed_polar_exposed 0.06073350567070096\n",
      "rsa_std 0.06858982375397228\n",
      "fraction_total_exposed_M 0.07155243384020243\n",
      "fraction_total_exposed_Y 0.062404576064288855\n",
      "fraction_exposed_exposed_A 0.04876247693133964\n",
      "fraction_exposed_exposed_H 0.05787822204456944\n",
      "fraction_exposed_exposed_T 0.061567447024784984\n",
      "Zeta Potential 0.09787628088636142\n",
      "NP_incubation Concentration (mg/mL) 0.09245628555646303\n"
     ]
    }
   ],
   "source": [
    "feat_importances=rfg.feature_importances_\n",
    "# print(feat_importances)\n",
    "print('feature: importance score')\n",
    "for i,col in enumerate(df_rfe.columns):\n",
    "    print(col,feat_importances[i])"
   ],
   "metadata": {
    "collapsed": false,
    "pycharm": {
     "name": "#%%\n"
    }
   }
  }
 ],
 "metadata": {
  "kernelspec": {
   "display_name": "Python 3",
   "language": "python",
   "name": "python3"
  },
  "language_info": {
   "codemirror_mode": {
    "name": "ipython",
    "version": 2
   },
   "file_extension": ".py",
   "mimetype": "text/x-python",
   "name": "python",
   "nbconvert_exporter": "python",
   "pygments_lexer": "ipython2",
   "version": "2.7.6"
  }
 },
 "nbformat": 4,
 "nbformat_minor": 0
}
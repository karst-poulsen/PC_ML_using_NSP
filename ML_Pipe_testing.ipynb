{
 "cells": [
  {
   "cell_type": "code",
   "execution_count": 1,
   "outputs": [],
   "source": [
    "import os\n",
    "import pandas as pd\n",
    "import numpy as np\n",
    "from sklearn.ensemble import RandomForestClassifier\n",
    "from sklearn.ensemble import RandomForestRegressor\n",
    "from sklearn import metrics\n",
    "import matplotlib.pyplot as plt\n",
    "import seaborn as sns\n",
    "from helper_functions_pipe_testing import *\n",
    "from sklearn.metrics import  f1_score, recall_score, precision_score, confusion_matrix\n",
    "from sklearn.model_selection import StratifiedShuffleSplit\n",
    "from sklearn.model_selection import train_test_split\n",
    "from sklearn.preprocessing import MinMaxScaler\n",
    "from imblearn.over_sampling import *\n"
   ],
   "metadata": {
    "collapsed": false,
    "pycharm": {
     "name": "#%%\n"
    }
   }
  },
  {
   "cell_type": "markdown",
   "source": [
    "#Instructions for the pipeline\n",
    "Requires four inputs:\n",
    "    - Mass spec data with corresponding NP surface characteristics and experimental conditions (time, concentration)\n",
    "    - Proteome data from uniprot (Mass, length, sequence, GO for later analysis)\n",
    "    - NetsurfP data for the proteins that are to be searched\n",
    "    - X characteristics to predict\n",
    "\n",
    "pipeline\n",
    "Take mass spec spreadsheet\n",
    "Accession,Enrichment,Dh,TEM,Zp,BET,Composition,Ligand,Shape,IncubationTime,IncubationConcentration\n",
    "Merge with Proteome data to get file that has\n",
    "Accession,Enrichment,Dh,TEM,Zp,BET,Composition,Ligand,Shape,IncubationTime,IncubationConcentration,Mass,Length,Sequence\n",
    "Calculate protein features using biopython\n",
    "Merge with NSP data to get all protein features\n",
    "\n",
    "Split into X and Y dataset with Entries as labels"
   ],
   "metadata": {
    "collapsed": false,
    "pycharm": {
     "name": "#%% md\n"
    }
   }
  },
  {
   "cell_type": "code",
   "execution_count": 16,
   "outputs": [
    {
     "name": "stderr",
     "output_type": "stream",
     "text": [
      "C:\\Users\\kmp95\\Anaconda3\\lib\\site-packages\\pandas\\core\\arraylike.py:397: RuntimeWarning: divide by zero encountered in log2\n",
      "  result = getattr(ufunc, method)(*inputs, **kwargs)\n"
     ]
    }
   ],
   "source": [
    "### New Data workup for RFG\n",
    "\n",
    "# Pull together Proteomic data\n",
    "in_dir=\"Input_data/Proteomic data/abundance/\"\n",
    "#Mass Spec data input in one excel spreadsheet - Entry - Abundance labeled by NP Unique ID\n",
    "#Abundance as a percent\n",
    "files= os.listdir(in_dir)\n",
    "for i,f in enumerate(files):\n",
    "    if i==0:\n",
    "        raw_MS_data=pd.read_excel(in_dir+f,header=0)\n",
    "    else:\n",
    "        temp = pd.read_excel(in_dir+f,header=0)\n",
    "        raw_MS_data=raw_MS_data.merge(temp,how='outer',on='Entry')\n",
    "# melt to make it an accession number, NPID, Abundance dataset\n",
    "raw_MS_data = pd.melt(raw_MS_data, id_vars=['Entry'],var_name='NPUNID', value_name='Abundance')\n",
    "#remove prots that were added due to merge\n",
    "raw_MS_data=raw_MS_data.dropna()"
   ],
   "metadata": {
    "collapsed": false,
    "pycharm": {
     "name": "#%%\n"
    }
   }
  },
  {
   "cell_type": "code",
   "execution_count": 42,
   "outputs": [],
   "source": [
    "###Bring in controls (MS data for serums)##\n",
    "controls=pd.read_excel('Input_data/Proteomic data/controls.xlsx',header=0)\n",
    "MS_data_controls = pd.merge(raw_MS_data,controls,how='inner', on='Entry')\n",
    "###Bring in Uniprot_data,NSPdata and NP data##\n",
    "uniprot_filepath='UniProt/Bovine_Mouse_proteome_biopyCalcs.xlsx'\n",
    "uniprot_dat=pd.read_excel(uniprot_filepath,header=0)\n",
    "NSPfilePath='NetsurfP_Proteomes/Bovine_Mouse_proteome_complete.xlsx'\n",
    "NSP_data=pd.read_excel(NSPfilePath)\n",
    "###Bring in NP data and merge to get complete NP dataset###\n",
    "NP_filepath='Input_data/NPs/NP_Database.xlsx'\n",
    "NPUNdata=pd.read_excel(NP_filepath,header=0,sheet_name='NPUNID')\n",
    "NPprop=pd.read_excel(NP_filepath,header=0,sheet_name='NP_Props')\n",
    "NPdata=pd.merge(NPUNdata,NPprop,how=\"left\",on='NPID')"
   ],
   "metadata": {
    "collapsed": false,
    "pycharm": {
     "name": "#%%\n"
    }
   }
  },
  {
   "cell_type": "code",
   "execution_count": 43,
   "outputs": [
    {
     "name": "stderr",
     "output_type": "stream",
     "text": [
      "C:\\Users\\kmp95\\Anaconda3\\lib\\site-packages\\pandas\\core\\arraylike.py:397: RuntimeWarning: divide by zero encountered in log2\n",
      "  result = getattr(ufunc, method)(*inputs, **kwargs)\n"
     ]
    }
   ],
   "source": [
    "#calculate Enrichment\n",
    "#####MAYBE add binning here to to keep negative results and improve capapbilities######\n",
    "MS_data_controls['Enrichment']= np.log2(MS_data_controls['Abundance']/MS_data_controls['Abundance_Controls'])\n",
    "MS_data=MS_data_controls.drop(columns=['Abundance','Abundance_Controls'])\n",
    "raw_prop_data=pd.merge(MS_data, uniprot_dat, how='left',on='Entry')"
   ],
   "metadata": {
    "collapsed": false,
    "pycharm": {
     "name": "#%%\n"
    }
   }
  },
  {
   "cell_type": "code",
   "execution_count": 44,
   "outputs": [],
   "source": [
    "MS_data_clean = raw_MS_data.copy()\n",
    "PROT_cleaned_data = normalize_mass_length_1DF(raw_prop_data) #function found in data_prep_functions line 167, normalizes mass, length and mw by dividing all values by the max in the column\n",
    "Protein_data_complete = pd.merge(PROT_cleaned_data, NSP_data, left_on='Entry', right_on='Entry') #merges netsurfp features and biopython features\n",
    "#creates new column called asa_sum_normalized which is the asa_sum value divide by the mass of the protein\n",
    "for df in [Protein_data_complete]:\n",
    "    for col in ['asa_sum']:\n",
    "        df[col+'_normalized'] = df[col] / df['Mass']\n",
    "\n",
    "data_complete= pd.merge(Protein_data_complete,NPdata,how='left', on='NPUNID')\n",
    "data_complete.drop(columns=['notes','Notes','BET','NPUNID'],inplace=True)\n",
    "#Optional here to drop all enrichment values that are NA - also have to deal with positive/negative infinity values\n",
    "# data_complete.dropna(subset=['Enrichment'],inplace=True)"
   ],
   "metadata": {
    "collapsed": false,
    "pycharm": {
     "name": "#%%\n"
    }
   }
  },
  {
   "cell_type": "code",
   "execution_count": 56,
   "outputs": [],
   "source": [
    "data_complete.dropna(inplace=True)\n",
    "data_complete= data_complete.replace([-np.inf],'-12')\n",
    "data_complete=data_complete.replace([np.inf],'12')"
   ],
   "metadata": {
    "collapsed": false,
    "pycharm": {
     "name": "#%%\n"
    }
   }
  },
  {
   "cell_type": "code",
   "execution_count": 57,
   "outputs": [
    {
     "name": "stdout",
     "output_type": "stream",
     "text": [
      "[-3.058068989758959 -2.6263436622455423 -2.6607046134587575 ...\n",
      " 1.7890225357232328 '-12' '-12']\n"
     ]
    }
   ],
   "source": [
    "labels=data_complete['Enrichment'].copy()\n",
    "labels=np.ravel(labels)\n",
    "df=data_complete.drop(['Entry','Sequence','Core Material','Ligand','NPID'],axis=1)\n",
    "\n",
    "print(labels)\n",
    "# print(labels)\n",
    "# print(df)\n",
    "first_frame = True #starting dataframe for saving metrics\n",
    "correctness_frame = pd.DataFrame()\n",
    "metrics_frame = pd.DataFrame()\n",
    "print_metrics = 1 #0, doesn't show metrics while runnning for each model, 1 does show metrics\n",
    "trials = 100\n"
   ],
   "metadata": {
    "collapsed": false,
    "pycharm": {
     "name": "#%%\n"
    }
   }
  },
  {
   "cell_type": "code",
   "execution_count": null,
   "outputs": [],
   "source": [
    "labels"
   ],
   "metadata": {
    "collapsed": false,
    "pycharm": {
     "name": "#%%\n",
     "is_executing": true
    }
   }
  },
  {
   "cell_type": "code",
   "execution_count": 55,
   "outputs": [
    {
     "data": {
      "text/plain": "       Entry  Enrichment                                           Sequence  \\\n0     P02769   -3.058069  MKWVTFISLLLLFSSAYSRGVFRRDTHKSEIAHRFKDLGEEHFKGL...   \n1     P02769   -2.626344  MKWVTFISLLLLFSSAYSRGVFRRDTHKSEIAHRFKDLGEEHFKGL...   \n2     P02769   -2.660705  MKWVTFISLLLLFSSAYSRGVFRRDTHKSEIAHRFKDLGEEHFKGL...   \n6     P41361    4.586080  MISNGIGTVTAGKRSICLLPLLLIGLWGCVTCHRSPVEDVCTAKPR...   \n7     P41361    4.631187  MISNGIGTVTAGKRSICLLPLLLIGLWGCVTCHRSPVEDVCTAKPR...   \n...      ...         ...                                                ...   \n3149  Q00896        -inf  MTPSISWGLLLLAGLCCLVPSFLAEDVQETDTSQKDQSPASHEIAT...   \n3150  Q00896        -inf  MTPSISWGLLLLAGLCCLVPSFLAEDVQETDTSQKDQSPASHEIAT...   \n3151  Q00896    1.789023  MTPSISWGLLLLAGLCCLVPSFLAEDVQETDTSQKDQSPASHEIAT...   \n3152  Q00896        -inf  MTPSISWGLLLLAGLCCLVPSFLAEDVQETDTSQKDQSPASHEIAT...   \n3153  Q00896        -inf  MTPSISWGLLLLAGLCCLVPSFLAEDVQETDTSQKDQSPASHEIAT...   \n\n      Length     Mass  frac_aa_A  frac_aa_C  frac_aa_D  frac_aa_E  frac_aa_F  \\\n0      607.0  69293.0   0.079077   0.057661   0.065898   0.097199   0.049423   \n1      607.0  69293.0   0.079077   0.057661   0.065898   0.097199   0.049423   \n2      607.0  69293.0   0.079077   0.057661   0.065898   0.097199   0.049423   \n6      465.0  52347.0   0.064516   0.019355   0.045161   0.075269   0.053763   \n7      465.0  52347.0   0.064516   0.019355   0.045161   0.075269   0.053763   \n...      ...      ...        ...        ...        ...        ...        ...   \n3149   412.0  45823.0   0.070388   0.007282   0.050971   0.072816   0.060680   \n3150   412.0  45823.0   0.070388   0.007282   0.050971   0.072816   0.060680   \n3151   412.0  45823.0   0.070388   0.007282   0.050971   0.072816   0.060680   \n3152   412.0  45823.0   0.070388   0.007282   0.050971   0.072816   0.060680   \n3153   412.0  45823.0   0.070388   0.007282   0.050971   0.072816   0.060680   \n\n      ...  Core Material           Ligand   Dtem     Dh  Shaken  Centrifuged  \\\n0     ...     Iron Oxide  Carboxylate BSA  100.0  230.0     1.0          0.0   \n1     ...     Iron Oxide  Carboxylate BSA  100.0  230.0     1.0          0.0   \n2     ...     Iron Oxide  Carboxylate BSA  100.0  230.0     1.0          0.0   \n6     ...     Iron Oxide  Carboxylate BSA  100.0  230.0     1.0          0.0   \n7     ...     Iron Oxide  Carboxylate BSA  100.0  230.0     1.0          0.0   \n...   ...            ...              ...    ...    ...     ...          ...   \n3149  ...           R101             none  800.0  680.0     1.0          1.0   \n3150  ...            P25             none  378.0  410.0     1.0          1.0   \n3151  ...            P25             none  378.0  410.0     1.0          1.0   \n3152  ...            P25             none  378.0  410.0     1.0          1.0   \n3153  ...     Iron Oxide  Carboxylate BSA  100.0  230.0     1.0          0.0   \n\n      NP_incubation Concentration (mg/mL)  Incubation Concentration (mg/ml)  \\\n0                                     3.2                               4.0   \n1                                     3.2                               4.0   \n2                                     3.2                               4.0   \n6                                     3.2                               4.0   \n7                                     3.2                               4.0   \n...                                   ...                               ...   \n3149                                125.0                               0.2   \n3150                                 62.5                               0.2   \n3151                                 62.5                               0.2   \n3152                                 62.5                               0.2   \n3153                                 25.0                               0.2   \n\n      Incubation Time (minutes)  Temperature  \n0                          30.0         25.0  \n1                          30.0         25.0  \n2                          30.0         25.0  \n6                          30.0         25.0  \n7                          30.0         25.0  \n...                         ...          ...  \n3149                       60.0         25.0  \n3150                       60.0         25.0  \n3151                       60.0         25.0  \n3152                       60.0         25.0  \n3153                       60.0         25.0  \n\n[1845 rows x 110 columns]",
      "text/html": "<div>\n<style scoped>\n    .dataframe tbody tr th:only-of-type {\n        vertical-align: middle;\n    }\n\n    .dataframe tbody tr th {\n        vertical-align: top;\n    }\n\n    .dataframe thead th {\n        text-align: right;\n    }\n</style>\n<table border=\"1\" class=\"dataframe\">\n  <thead>\n    <tr style=\"text-align: right;\">\n      <th></th>\n      <th>Entry</th>\n      <th>Enrichment</th>\n      <th>Sequence</th>\n      <th>Length</th>\n      <th>Mass</th>\n      <th>frac_aa_A</th>\n      <th>frac_aa_C</th>\n      <th>frac_aa_D</th>\n      <th>frac_aa_E</th>\n      <th>frac_aa_F</th>\n      <th>...</th>\n      <th>Core Material</th>\n      <th>Ligand</th>\n      <th>Dtem</th>\n      <th>Dh</th>\n      <th>Shaken</th>\n      <th>Centrifuged</th>\n      <th>NP_incubation Concentration (mg/mL)</th>\n      <th>Incubation Concentration (mg/ml)</th>\n      <th>Incubation Time (minutes)</th>\n      <th>Temperature</th>\n    </tr>\n  </thead>\n  <tbody>\n    <tr>\n      <th>0</th>\n      <td>P02769</td>\n      <td>-3.058069</td>\n      <td>MKWVTFISLLLLFSSAYSRGVFRRDTHKSEIAHRFKDLGEEHFKGL...</td>\n      <td>607.0</td>\n      <td>69293.0</td>\n      <td>0.079077</td>\n      <td>0.057661</td>\n      <td>0.065898</td>\n      <td>0.097199</td>\n      <td>0.049423</td>\n      <td>...</td>\n      <td>Iron Oxide</td>\n      <td>Carboxylate BSA</td>\n      <td>100.0</td>\n      <td>230.0</td>\n      <td>1.0</td>\n      <td>0.0</td>\n      <td>3.2</td>\n      <td>4.0</td>\n      <td>30.0</td>\n      <td>25.0</td>\n    </tr>\n    <tr>\n      <th>1</th>\n      <td>P02769</td>\n      <td>-2.626344</td>\n      <td>MKWVTFISLLLLFSSAYSRGVFRRDTHKSEIAHRFKDLGEEHFKGL...</td>\n      <td>607.0</td>\n      <td>69293.0</td>\n      <td>0.079077</td>\n      <td>0.057661</td>\n      <td>0.065898</td>\n      <td>0.097199</td>\n      <td>0.049423</td>\n      <td>...</td>\n      <td>Iron Oxide</td>\n      <td>Carboxylate BSA</td>\n      <td>100.0</td>\n      <td>230.0</td>\n      <td>1.0</td>\n      <td>0.0</td>\n      <td>3.2</td>\n      <td>4.0</td>\n      <td>30.0</td>\n      <td>25.0</td>\n    </tr>\n    <tr>\n      <th>2</th>\n      <td>P02769</td>\n      <td>-2.660705</td>\n      <td>MKWVTFISLLLLFSSAYSRGVFRRDTHKSEIAHRFKDLGEEHFKGL...</td>\n      <td>607.0</td>\n      <td>69293.0</td>\n      <td>0.079077</td>\n      <td>0.057661</td>\n      <td>0.065898</td>\n      <td>0.097199</td>\n      <td>0.049423</td>\n      <td>...</td>\n      <td>Iron Oxide</td>\n      <td>Carboxylate BSA</td>\n      <td>100.0</td>\n      <td>230.0</td>\n      <td>1.0</td>\n      <td>0.0</td>\n      <td>3.2</td>\n      <td>4.0</td>\n      <td>30.0</td>\n      <td>25.0</td>\n    </tr>\n    <tr>\n      <th>6</th>\n      <td>P41361</td>\n      <td>4.586080</td>\n      <td>MISNGIGTVTAGKRSICLLPLLLIGLWGCVTCHRSPVEDVCTAKPR...</td>\n      <td>465.0</td>\n      <td>52347.0</td>\n      <td>0.064516</td>\n      <td>0.019355</td>\n      <td>0.045161</td>\n      <td>0.075269</td>\n      <td>0.053763</td>\n      <td>...</td>\n      <td>Iron Oxide</td>\n      <td>Carboxylate BSA</td>\n      <td>100.0</td>\n      <td>230.0</td>\n      <td>1.0</td>\n      <td>0.0</td>\n      <td>3.2</td>\n      <td>4.0</td>\n      <td>30.0</td>\n      <td>25.0</td>\n    </tr>\n    <tr>\n      <th>7</th>\n      <td>P41361</td>\n      <td>4.631187</td>\n      <td>MISNGIGTVTAGKRSICLLPLLLIGLWGCVTCHRSPVEDVCTAKPR...</td>\n      <td>465.0</td>\n      <td>52347.0</td>\n      <td>0.064516</td>\n      <td>0.019355</td>\n      <td>0.045161</td>\n      <td>0.075269</td>\n      <td>0.053763</td>\n      <td>...</td>\n      <td>Iron Oxide</td>\n      <td>Carboxylate BSA</td>\n      <td>100.0</td>\n      <td>230.0</td>\n      <td>1.0</td>\n      <td>0.0</td>\n      <td>3.2</td>\n      <td>4.0</td>\n      <td>30.0</td>\n      <td>25.0</td>\n    </tr>\n    <tr>\n      <th>...</th>\n      <td>...</td>\n      <td>...</td>\n      <td>...</td>\n      <td>...</td>\n      <td>...</td>\n      <td>...</td>\n      <td>...</td>\n      <td>...</td>\n      <td>...</td>\n      <td>...</td>\n      <td>...</td>\n      <td>...</td>\n      <td>...</td>\n      <td>...</td>\n      <td>...</td>\n      <td>...</td>\n      <td>...</td>\n      <td>...</td>\n      <td>...</td>\n      <td>...</td>\n      <td>...</td>\n    </tr>\n    <tr>\n      <th>3149</th>\n      <td>Q00896</td>\n      <td>-inf</td>\n      <td>MTPSISWGLLLLAGLCCLVPSFLAEDVQETDTSQKDQSPASHEIAT...</td>\n      <td>412.0</td>\n      <td>45823.0</td>\n      <td>0.070388</td>\n      <td>0.007282</td>\n      <td>0.050971</td>\n      <td>0.072816</td>\n      <td>0.060680</td>\n      <td>...</td>\n      <td>R101</td>\n      <td>none</td>\n      <td>800.0</td>\n      <td>680.0</td>\n      <td>1.0</td>\n      <td>1.0</td>\n      <td>125.0</td>\n      <td>0.2</td>\n      <td>60.0</td>\n      <td>25.0</td>\n    </tr>\n    <tr>\n      <th>3150</th>\n      <td>Q00896</td>\n      <td>-inf</td>\n      <td>MTPSISWGLLLLAGLCCLVPSFLAEDVQETDTSQKDQSPASHEIAT...</td>\n      <td>412.0</td>\n      <td>45823.0</td>\n      <td>0.070388</td>\n      <td>0.007282</td>\n      <td>0.050971</td>\n      <td>0.072816</td>\n      <td>0.060680</td>\n      <td>...</td>\n      <td>P25</td>\n      <td>none</td>\n      <td>378.0</td>\n      <td>410.0</td>\n      <td>1.0</td>\n      <td>1.0</td>\n      <td>62.5</td>\n      <td>0.2</td>\n      <td>60.0</td>\n      <td>25.0</td>\n    </tr>\n    <tr>\n      <th>3151</th>\n      <td>Q00896</td>\n      <td>1.789023</td>\n      <td>MTPSISWGLLLLAGLCCLVPSFLAEDVQETDTSQKDQSPASHEIAT...</td>\n      <td>412.0</td>\n      <td>45823.0</td>\n      <td>0.070388</td>\n      <td>0.007282</td>\n      <td>0.050971</td>\n      <td>0.072816</td>\n      <td>0.060680</td>\n      <td>...</td>\n      <td>P25</td>\n      <td>none</td>\n      <td>378.0</td>\n      <td>410.0</td>\n      <td>1.0</td>\n      <td>1.0</td>\n      <td>62.5</td>\n      <td>0.2</td>\n      <td>60.0</td>\n      <td>25.0</td>\n    </tr>\n    <tr>\n      <th>3152</th>\n      <td>Q00896</td>\n      <td>-inf</td>\n      <td>MTPSISWGLLLLAGLCCLVPSFLAEDVQETDTSQKDQSPASHEIAT...</td>\n      <td>412.0</td>\n      <td>45823.0</td>\n      <td>0.070388</td>\n      <td>0.007282</td>\n      <td>0.050971</td>\n      <td>0.072816</td>\n      <td>0.060680</td>\n      <td>...</td>\n      <td>P25</td>\n      <td>none</td>\n      <td>378.0</td>\n      <td>410.0</td>\n      <td>1.0</td>\n      <td>1.0</td>\n      <td>62.5</td>\n      <td>0.2</td>\n      <td>60.0</td>\n      <td>25.0</td>\n    </tr>\n    <tr>\n      <th>3153</th>\n      <td>Q00896</td>\n      <td>-inf</td>\n      <td>MTPSISWGLLLLAGLCCLVPSFLAEDVQETDTSQKDQSPASHEIAT...</td>\n      <td>412.0</td>\n      <td>45823.0</td>\n      <td>0.070388</td>\n      <td>0.007282</td>\n      <td>0.050971</td>\n      <td>0.072816</td>\n      <td>0.060680</td>\n      <td>...</td>\n      <td>Iron Oxide</td>\n      <td>Carboxylate BSA</td>\n      <td>100.0</td>\n      <td>230.0</td>\n      <td>1.0</td>\n      <td>0.0</td>\n      <td>25.0</td>\n      <td>0.2</td>\n      <td>60.0</td>\n      <td>25.0</td>\n    </tr>\n  </tbody>\n</table>\n<p>1845 rows × 110 columns</p>\n</div>"
     },
     "execution_count": 55,
     "metadata": {},
     "output_type": "execute_result"
    }
   ],
   "source": [
    "data_complete"
   ],
   "metadata": {
    "collapsed": false,
    "pycharm": {
     "name": "#%%\n"
    }
   }
  },
  {
   "cell_type": "code",
   "execution_count": 58,
   "outputs": [
    {
     "name": "stdout",
     "output_type": "stream",
     "text": [
      "0.9999681602344153\n",
      "[9.99921760e-01 2.22346775e-07 6.01045972e-07 3.28850935e-07\n",
      " 5.96458240e-07 8.80757309e-07 4.17870146e-07 3.59552379e-07\n",
      " 3.19444882e-07 2.78839481e-06 1.86980884e-06 2.17877683e-07\n",
      " 3.40349131e-07 3.20147365e-06 1.06437586e-06 4.84770299e-07\n",
      " 3.00224079e-07 6.97063210e-07 2.14266090e-06 3.10213969e-07\n",
      " 3.40916047e-07 4.71621536e-07 3.60570788e-07 1.73777291e-06\n",
      " 7.23113983e-07 8.64487110e-07 1.14721172e-06 1.29777998e-06\n",
      " 1.19392275e-06 9.48903200e-07 1.22892577e-06 2.14824464e-07\n",
      " 5.51107051e-07 3.21262628e-07 6.90644914e-07 8.71654786e-07\n",
      " 2.05013630e-07 5.29798989e-07 1.01313169e-06 3.81778561e-07\n",
      " 6.25352477e-07 6.41705450e-07 2.95448240e-07 2.86558745e-07\n",
      " 2.37096736e-07 5.00695877e-07 3.47492655e-07 1.30598774e-07\n",
      " 2.70355052e-07 1.89955741e-06 3.96283561e-07 1.40978729e-06\n",
      " 5.68083607e-07 3.58533177e-07 5.48554481e-07 3.05013354e-07\n",
      " 7.47399110e-07 3.19365925e-06 5.94403877e-07 9.31216532e-07\n",
      " 4.66643966e-07 6.33956015e-07 1.45921486e-06 2.43577874e-07\n",
      " 4.83631158e-07 7.08171050e-07 2.24802422e-06 1.31636714e-06\n",
      " 2.99317228e-07 7.32838973e-07 3.99842987e-07 6.35541444e-07\n",
      " 3.70257980e-07 6.66055471e-07 8.29150331e-07 9.14380341e-07\n",
      " 8.00645124e-07 2.51527254e-07 3.92353240e-07 2.27653173e-06\n",
      " 3.35430044e-07 4.18894825e-07 9.87899159e-07 2.96079083e-07\n",
      " 2.00756653e-06 6.51666868e-07 9.38459652e-07 1.40658886e-06\n",
      " 6.62525528e-07 3.76561697e-07 1.02844845e-07 2.31102809e-07\n",
      " 6.69690928e-07 9.29854312e-07 2.30176411e-07 5.14702831e-07\n",
      " 1.39174575e-06 1.65317999e-06 5.10786258e-07 0.00000000e+00\n",
      " 8.38888419e-08 6.12990865e-07 2.62609990e-07 3.10726152e-07\n",
      " 0.00000000e+00]\n"
     ]
    }
   ],
   "source": [
    "\n",
    "x_train, x_test, y_train, y_test = train_test_split(df,labels, test_size = 0.33, random_state=42)\n",
    "# sss = StratifiedShuffleSplit(n_splits=1, test_size=0.4, random_state=2016)\n",
    "# for train_index, test_index in sss.split(df, labels):\n",
    "# x_train = df.iloc[train_index]\n",
    "# X_test = df.iloc[test_index]\n",
    "# y_train = labels.iloc[train_index]\n",
    "# y_test = labels.iloc[test_index]\n",
    "\n",
    "rfg=RandomForestRegressor(n_estimators=100)\n",
    "rfg.fit(x_train,y_train)\n",
    "print(rfg.score(x_test,y_test))\n",
    "print(rfg.feature_importances_)\n",
    "# metrics_dict = {'AUC':metrics.roc_auc_score(y_test, rfg.predict_proba(x_test)[:, 1]),\n",
    "#             'Accuracy':rfg.score(x_test, y_test), 'Recall':recall_score(y_test, rfg.predict(x_test)),\n",
    "#             'Precision':precision_score(y_test, rfg.predict(x_test), zero_division=0), 'F1':f1_score(y_test, rfg.predict(x_test))}\n",
    "# metrics_frame = pd.DataFrame.from_dict(data=metrics_dict,orient='index').transpose()"
   ],
   "metadata": {
    "collapsed": false,
    "pycharm": {
     "name": "#%%\n"
    }
   }
  },
  {
   "cell_type": "code",
   "execution_count": null,
   "outputs": [],
   "source": [],
   "metadata": {
    "collapsed": false,
    "pycharm": {
     "name": "#%%\n"
    }
   }
  }
 ],
 "metadata": {
  "kernelspec": {
   "display_name": "Python 3",
   "language": "python",
   "name": "python3"
  },
  "language_info": {
   "codemirror_mode": {
    "name": "ipython",
    "version": 2
   },
   "file_extension": ".py",
   "mimetype": "text/x-python",
   "name": "python",
   "nbconvert_exporter": "python",
   "pygments_lexer": "ipython2",
   "version": "2.7.6"
  }
 },
 "nbformat": 4,
 "nbformat_minor": 0
}
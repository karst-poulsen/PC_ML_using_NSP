{
 "cells": [
  {
   "cell_type": "code",
   "execution_count": 1,
   "outputs": [],
   "source": [
    "import os\n",
    "import pandas as pd\n",
    "import numpy as np\n",
    "from sklearn.ensemble import RandomForestClassifier\n",
    "from sklearn.ensemble import RandomForestRegressor\n",
    "from sklearn import metrics\n",
    "import matplotlib.pyplot as plt\n",
    "import seaborn as sns\n",
    "from helper_functions_pipe_testing import *\n",
    "from sklearn.metrics import  f1_score, recall_score, precision_score, confusion_matrix\n",
    "from sklearn.model_selection import StratifiedShuffleSplit\n",
    "from sklearn.model_selection import train_test_split\n",
    "from sklearn.preprocessing import MinMaxScaler\n",
    "from imblearn.over_sampling import *\n"
   ],
   "metadata": {
    "collapsed": false,
    "pycharm": {
     "name": "#%%\n"
    }
   }
  },
  {
   "cell_type": "markdown",
   "source": [
    "#Instructions for the pipeline\n",
    "Requires four inputs:\n",
    "    - Mass spec data with corresponding NP surface characteristics and experimental conditions (time, concentration)\n",
    "    - Proteome data from uniprot (Mass, length, sequence, GO for later analysis)\n",
    "    - NetsurfP data for the proteins that are to be searched\n",
    "    - X characteristics to predict\n",
    "\n",
    "pipeline\n",
    "Take mass spec spreadsheet\n",
    "Accession,Enrichment,Dh,TEM,Zp,BET,Composition,Ligand,Shape,IncubationTime,IncubationConcentration\n",
    "Merge with Proteome data to get file that has\n",
    "Accession,Enrichment,Dh,TEM,Zp,BET,Composition,Ligand,Shape,IncubationTime,IncubationConcentration,Mass,Length,Sequence\n",
    "Calculate protein features using biopython\n",
    "Merge with NSP data to get all protein features\n",
    "\n",
    "Split into X and Y dataset with Entries as labels"
   ],
   "metadata": {
    "collapsed": false,
    "pycharm": {
     "name": "#%% md\n"
    }
   }
  },
  {
   "cell_type": "code",
   "execution_count": 16,
   "outputs": [
    {
     "name": "stderr",
     "output_type": "stream",
     "text": [
      "C:\\Users\\kmp95\\Anaconda3\\lib\\site-packages\\pandas\\core\\arraylike.py:397: RuntimeWarning: divide by zero encountered in log2\n",
      "  result = getattr(ufunc, method)(*inputs, **kwargs)\n"
     ]
    }
   ],
   "source": [
    "### New Data workup for RFG\n",
    "\n",
    "# Pull together Proteomic data\n",
    "in_dir=\"Input_data/Proteomic data/abundance/\"\n",
    "#Mass Spec data input in one excel spreadsheet - Entry - Abundance labeled by NP Unique ID\n",
    "#Abundance as a percent\n",
    "files= os.listdir(in_dir)\n",
    "for i,f in enumerate(files):\n",
    "    if i==0:\n",
    "        raw_MS_data=pd.read_excel(in_dir+f,header=0)\n",
    "    else:\n",
    "        temp = pd.read_excel(in_dir+f,header=0)\n",
    "        raw_MS_data=raw_MS_data.merge(temp,how='outer',on='Entry')\n",
    "# melt to make it an accession number, NPID, Abundance dataset\n",
    "raw_MS_data = pd.melt(raw_MS_data, id_vars=['Entry'],var_name='NPUNID', value_name='Abundance')\n",
    "#remove prots that were added due to merge\n",
    "raw_MS_data=raw_MS_data.dropna()"
   ],
   "metadata": {
    "collapsed": false,
    "pycharm": {
     "name": "#%%\n"
    }
   }
  },
  {
   "cell_type": "code",
   "execution_count": 42,
   "outputs": [],
   "source": [
    "###Bring in controls (MS data for serums)##\n",
    "controls=pd.read_excel('Input_data/Proteomic data/controls.xlsx',header=0)\n",
    "MS_data_controls = pd.merge(raw_MS_data,controls,how='inner', on='Entry')\n",
    "###Bring in Uniprot_data,NSPdata and NP data##\n",
    "uniprot_filepath='UniProt/Bovine_Mouse_proteome_biopyCalcs.xlsx'\n",
    "uniprot_dat=pd.read_excel(uniprot_filepath,header=0)\n",
    "NSPfilePath='NetsurfP_Proteomes/Bovine_Mouse_proteome_complete.xlsx'\n",
    "NSP_data=pd.read_excel(NSPfilePath)\n",
    "###Bring in NP data and merge to get complete NP dataset###\n",
    "NP_filepath='Input_data/NPs/NP_Database.xlsx'\n",
    "NPUNdata=pd.read_excel(NP_filepath,header=0,sheet_name='NPUNID')\n",
    "NPprop=pd.read_excel(NP_filepath,header=0,sheet_name='NP_Props')\n",
    "NPdata=pd.merge(NPUNdata,NPprop,how=\"left\",on='NPID')"
   ],
   "metadata": {
    "collapsed": false,
    "pycharm": {
     "name": "#%%\n"
    }
   }
  },
  {
   "cell_type": "code",
   "execution_count": 43,
   "outputs": [
    {
     "name": "stderr",
     "output_type": "stream",
     "text": [
      "C:\\Users\\kmp95\\Anaconda3\\lib\\site-packages\\pandas\\core\\arraylike.py:397: RuntimeWarning: divide by zero encountered in log2\n",
      "  result = getattr(ufunc, method)(*inputs, **kwargs)\n"
     ]
    }
   ],
   "source": [
    "#calculate Enrichment\n",
    "#####MAYBE add binning here to to keep negative results and improve capapbilities######\n",
    "MS_data_controls['Enrichment']= np.log2(MS_data_controls['Abundance']/MS_data_controls['Abundance_Controls'])\n",
    "MS_data=MS_data_controls.drop(columns=['Abundance','Abundance_Controls'])\n",
    "raw_prop_data=pd.merge(MS_data, uniprot_dat, how='left',on='Entry')"
   ],
   "metadata": {
    "collapsed": false,
    "pycharm": {
     "name": "#%%\n"
    }
   }
  },
  {
   "cell_type": "code",
   "execution_count": 44,
   "outputs": [],
   "source": [
    "MS_data_clean = raw_MS_data.copy()\n",
    "PROT_cleaned_data = normalize_mass_length_1DF(raw_prop_data) #function found in data_prep_functions line 167, normalizes mass, length and mw by dividing all values by the max in the column\n",
    "Protein_data_complete = pd.merge(PROT_cleaned_data, NSP_data, left_on='Entry', right_on='Entry') #merges netsurfp features and biopython features\n",
    "#creates new column called asa_sum_normalized which is the asa_sum value divide by the mass of the protein\n",
    "for df in [Protein_data_complete]:\n",
    "    for col in ['asa_sum']:\n",
    "        df[col+'_normalized'] = df[col] / df['Mass']\n",
    "\n",
    "data_complete= pd.merge(Protein_data_complete,NPdata,how='left', on='NPUNID')\n",
    "data_complete.drop(columns=['notes','Notes','BET','NPUNID'],inplace=True)\n",
    "#Optional here to drop all enrichment values that are NA - also have to deal with positive/negative infinity values\n",
    "# data_complete.dropna(subset=['Enrichment'],inplace=True)"
   ],
   "metadata": {
    "collapsed": false,
    "pycharm": {
     "name": "#%%\n"
    }
   }
  },
  {
   "cell_type": "code",
   "execution_count": 56,
   "outputs": [],
   "source": [
    "data_complete.dropna(inplace=True)\n",
    "data_complete= data_complete.replace([-np.inf],'-12')\n",
    "data_complete=data_complete.replace([np.inf],'12')"
   ],
   "metadata": {
    "collapsed": false,
    "pycharm": {
     "name": "#%%\n"
    }
   }
  },
  {
   "cell_type": "code",
   "execution_count": 65,
   "outputs": [
    {
     "name": "stdout",
     "output_type": "stream",
     "text": [
      "[-3.058068989758959 -2.6263436622455423 -2.6607046134587575 ...\n",
      " 1.7890225357232328 '-12' '-12']\n"
     ]
    }
   ],
   "source": [
    "labels=data_complete['Enrichment'].copy()\n",
    "labels=np.ravel(labels)\n",
    "df=data_complete.drop(['Entry','Sequence','Core Material','Ligand','NPID','Enrichment'],axis=1)\n",
    "\n",
    "print(labels)\n",
    "# print(labels)\n",
    "# print(df)\n",
    "first_frame = True #starting dataframe for saving metrics\n",
    "correctness_frame = pd.DataFrame()\n",
    "metrics_frame = pd.DataFrame()\n",
    "print_metrics = 1 #0, doesn't show metrics while runnning for each model, 1 does show metrics\n",
    "trials = 100\n"
   ],
   "metadata": {
    "collapsed": false,
    "pycharm": {
     "name": "#%%\n"
    }
   }
  },
  {
   "cell_type": "code",
   "execution_count": null,
   "outputs": [],
   "source": [
    "labels"
   ],
   "metadata": {
    "collapsed": false,
    "pycharm": {
     "name": "#%%\n",
     "is_executing": true
    }
   }
  },
  {
   "cell_type": "code",
   "execution_count": 55,
   "outputs": [
    {
     "data": {
      "text/plain": "       Entry  Enrichment                                           Sequence  \\\n0     P02769   -3.058069  MKWVTFISLLLLFSSAYSRGVFRRDTHKSEIAHRFKDLGEEHFKGL...   \n1     P02769   -2.626344  MKWVTFISLLLLFSSAYSRGVFRRDTHKSEIAHRFKDLGEEHFKGL...   \n2     P02769   -2.660705  MKWVTFISLLLLFSSAYSRGVFRRDTHKSEIAHRFKDLGEEHFKGL...   \n6     P41361    4.586080  MISNGIGTVTAGKRSICLLPLLLIGLWGCVTCHRSPVEDVCTAKPR...   \n7     P41361    4.631187  MISNGIGTVTAGKRSICLLPLLLIGLWGCVTCHRSPVEDVCTAKPR...   \n...      ...         ...                                                ...   \n3149  Q00896        -inf  MTPSISWGLLLLAGLCCLVPSFLAEDVQETDTSQKDQSPASHEIAT...   \n3150  Q00896        -inf  MTPSISWGLLLLAGLCCLVPSFLAEDVQETDTSQKDQSPASHEIAT...   \n3151  Q00896    1.789023  MTPSISWGLLLLAGLCCLVPSFLAEDVQETDTSQKDQSPASHEIAT...   \n3152  Q00896        -inf  MTPSISWGLLLLAGLCCLVPSFLAEDVQETDTSQKDQSPASHEIAT...   \n3153  Q00896        -inf  MTPSISWGLLLLAGLCCLVPSFLAEDVQETDTSQKDQSPASHEIAT...   \n\n      Length     Mass  frac_aa_A  frac_aa_C  frac_aa_D  frac_aa_E  frac_aa_F  \\\n0      607.0  69293.0   0.079077   0.057661   0.065898   0.097199   0.049423   \n1      607.0  69293.0   0.079077   0.057661   0.065898   0.097199   0.049423   \n2      607.0  69293.0   0.079077   0.057661   0.065898   0.097199   0.049423   \n6      465.0  52347.0   0.064516   0.019355   0.045161   0.075269   0.053763   \n7      465.0  52347.0   0.064516   0.019355   0.045161   0.075269   0.053763   \n...      ...      ...        ...        ...        ...        ...        ...   \n3149   412.0  45823.0   0.070388   0.007282   0.050971   0.072816   0.060680   \n3150   412.0  45823.0   0.070388   0.007282   0.050971   0.072816   0.060680   \n3151   412.0  45823.0   0.070388   0.007282   0.050971   0.072816   0.060680   \n3152   412.0  45823.0   0.070388   0.007282   0.050971   0.072816   0.060680   \n3153   412.0  45823.0   0.070388   0.007282   0.050971   0.072816   0.060680   \n\n      ...  Core Material           Ligand   Dtem     Dh  Shaken  Centrifuged  \\\n0     ...     Iron Oxide  Carboxylate BSA  100.0  230.0     1.0          0.0   \n1     ...     Iron Oxide  Carboxylate BSA  100.0  230.0     1.0          0.0   \n2     ...     Iron Oxide  Carboxylate BSA  100.0  230.0     1.0          0.0   \n6     ...     Iron Oxide  Carboxylate BSA  100.0  230.0     1.0          0.0   \n7     ...     Iron Oxide  Carboxylate BSA  100.0  230.0     1.0          0.0   \n...   ...            ...              ...    ...    ...     ...          ...   \n3149  ...           R101             none  800.0  680.0     1.0          1.0   \n3150  ...            P25             none  378.0  410.0     1.0          1.0   \n3151  ...            P25             none  378.0  410.0     1.0          1.0   \n3152  ...            P25             none  378.0  410.0     1.0          1.0   \n3153  ...     Iron Oxide  Carboxylate BSA  100.0  230.0     1.0          0.0   \n\n      NP_incubation Concentration (mg/mL)  Incubation Concentration (mg/ml)  \\\n0                                     3.2                               4.0   \n1                                     3.2                               4.0   \n2                                     3.2                               4.0   \n6                                     3.2                               4.0   \n7                                     3.2                               4.0   \n...                                   ...                               ...   \n3149                                125.0                               0.2   \n3150                                 62.5                               0.2   \n3151                                 62.5                               0.2   \n3152                                 62.5                               0.2   \n3153                                 25.0                               0.2   \n\n      Incubation Time (minutes)  Temperature  \n0                          30.0         25.0  \n1                          30.0         25.0  \n2                          30.0         25.0  \n6                          30.0         25.0  \n7                          30.0         25.0  \n...                         ...          ...  \n3149                       60.0         25.0  \n3150                       60.0         25.0  \n3151                       60.0         25.0  \n3152                       60.0         25.0  \n3153                       60.0         25.0  \n\n[1845 rows x 110 columns]",
      "text/html": "<div>\n<style scoped>\n    .dataframe tbody tr th:only-of-type {\n        vertical-align: middle;\n    }\n\n    .dataframe tbody tr th {\n        vertical-align: top;\n    }\n\n    .dataframe thead th {\n        text-align: right;\n    }\n</style>\n<table border=\"1\" class=\"dataframe\">\n  <thead>\n    <tr style=\"text-align: right;\">\n      <th></th>\n      <th>Entry</th>\n      <th>Enrichment</th>\n      <th>Sequence</th>\n      <th>Length</th>\n      <th>Mass</th>\n      <th>frac_aa_A</th>\n      <th>frac_aa_C</th>\n      <th>frac_aa_D</th>\n      <th>frac_aa_E</th>\n      <th>frac_aa_F</th>\n      <th>...</th>\n      <th>Core Material</th>\n      <th>Ligand</th>\n      <th>Dtem</th>\n      <th>Dh</th>\n      <th>Shaken</th>\n      <th>Centrifuged</th>\n      <th>NP_incubation Concentration (mg/mL)</th>\n      <th>Incubation Concentration (mg/ml)</th>\n      <th>Incubation Time (minutes)</th>\n      <th>Temperature</th>\n    </tr>\n  </thead>\n  <tbody>\n    <tr>\n      <th>0</th>\n      <td>P02769</td>\n      <td>-3.058069</td>\n      <td>MKWVTFISLLLLFSSAYSRGVFRRDTHKSEIAHRFKDLGEEHFKGL...</td>\n      <td>607.0</td>\n      <td>69293.0</td>\n      <td>0.079077</td>\n      <td>0.057661</td>\n      <td>0.065898</td>\n      <td>0.097199</td>\n      <td>0.049423</td>\n      <td>...</td>\n      <td>Iron Oxide</td>\n      <td>Carboxylate BSA</td>\n      <td>100.0</td>\n      <td>230.0</td>\n      <td>1.0</td>\n      <td>0.0</td>\n      <td>3.2</td>\n      <td>4.0</td>\n      <td>30.0</td>\n      <td>25.0</td>\n    </tr>\n    <tr>\n      <th>1</th>\n      <td>P02769</td>\n      <td>-2.626344</td>\n      <td>MKWVTFISLLLLFSSAYSRGVFRRDTHKSEIAHRFKDLGEEHFKGL...</td>\n      <td>607.0</td>\n      <td>69293.0</td>\n      <td>0.079077</td>\n      <td>0.057661</td>\n      <td>0.065898</td>\n      <td>0.097199</td>\n      <td>0.049423</td>\n      <td>...</td>\n      <td>Iron Oxide</td>\n      <td>Carboxylate BSA</td>\n      <td>100.0</td>\n      <td>230.0</td>\n      <td>1.0</td>\n      <td>0.0</td>\n      <td>3.2</td>\n      <td>4.0</td>\n      <td>30.0</td>\n      <td>25.0</td>\n    </tr>\n    <tr>\n      <th>2</th>\n      <td>P02769</td>\n      <td>-2.660705</td>\n      <td>MKWVTFISLLLLFSSAYSRGVFRRDTHKSEIAHRFKDLGEEHFKGL...</td>\n      <td>607.0</td>\n      <td>69293.0</td>\n      <td>0.079077</td>\n      <td>0.057661</td>\n      <td>0.065898</td>\n      <td>0.097199</td>\n      <td>0.049423</td>\n      <td>...</td>\n      <td>Iron Oxide</td>\n      <td>Carboxylate BSA</td>\n      <td>100.0</td>\n      <td>230.0</td>\n      <td>1.0</td>\n      <td>0.0</td>\n      <td>3.2</td>\n      <td>4.0</td>\n      <td>30.0</td>\n      <td>25.0</td>\n    </tr>\n    <tr>\n      <th>6</th>\n      <td>P41361</td>\n      <td>4.586080</td>\n      <td>MISNGIGTVTAGKRSICLLPLLLIGLWGCVTCHRSPVEDVCTAKPR...</td>\n      <td>465.0</td>\n      <td>52347.0</td>\n      <td>0.064516</td>\n      <td>0.019355</td>\n      <td>0.045161</td>\n      <td>0.075269</td>\n      <td>0.053763</td>\n      <td>...</td>\n      <td>Iron Oxide</td>\n      <td>Carboxylate BSA</td>\n      <td>100.0</td>\n      <td>230.0</td>\n      <td>1.0</td>\n      <td>0.0</td>\n      <td>3.2</td>\n      <td>4.0</td>\n      <td>30.0</td>\n      <td>25.0</td>\n    </tr>\n    <tr>\n      <th>7</th>\n      <td>P41361</td>\n      <td>4.631187</td>\n      <td>MISNGIGTVTAGKRSICLLPLLLIGLWGCVTCHRSPVEDVCTAKPR...</td>\n      <td>465.0</td>\n      <td>52347.0</td>\n      <td>0.064516</td>\n      <td>0.019355</td>\n      <td>0.045161</td>\n      <td>0.075269</td>\n      <td>0.053763</td>\n      <td>...</td>\n      <td>Iron Oxide</td>\n      <td>Carboxylate BSA</td>\n      <td>100.0</td>\n      <td>230.0</td>\n      <td>1.0</td>\n      <td>0.0</td>\n      <td>3.2</td>\n      <td>4.0</td>\n      <td>30.0</td>\n      <td>25.0</td>\n    </tr>\n    <tr>\n      <th>...</th>\n      <td>...</td>\n      <td>...</td>\n      <td>...</td>\n      <td>...</td>\n      <td>...</td>\n      <td>...</td>\n      <td>...</td>\n      <td>...</td>\n      <td>...</td>\n      <td>...</td>\n      <td>...</td>\n      <td>...</td>\n      <td>...</td>\n      <td>...</td>\n      <td>...</td>\n      <td>...</td>\n      <td>...</td>\n      <td>...</td>\n      <td>...</td>\n      <td>...</td>\n      <td>...</td>\n    </tr>\n    <tr>\n      <th>3149</th>\n      <td>Q00896</td>\n      <td>-inf</td>\n      <td>MTPSISWGLLLLAGLCCLVPSFLAEDVQETDTSQKDQSPASHEIAT...</td>\n      <td>412.0</td>\n      <td>45823.0</td>\n      <td>0.070388</td>\n      <td>0.007282</td>\n      <td>0.050971</td>\n      <td>0.072816</td>\n      <td>0.060680</td>\n      <td>...</td>\n      <td>R101</td>\n      <td>none</td>\n      <td>800.0</td>\n      <td>680.0</td>\n      <td>1.0</td>\n      <td>1.0</td>\n      <td>125.0</td>\n      <td>0.2</td>\n      <td>60.0</td>\n      <td>25.0</td>\n    </tr>\n    <tr>\n      <th>3150</th>\n      <td>Q00896</td>\n      <td>-inf</td>\n      <td>MTPSISWGLLLLAGLCCLVPSFLAEDVQETDTSQKDQSPASHEIAT...</td>\n      <td>412.0</td>\n      <td>45823.0</td>\n      <td>0.070388</td>\n      <td>0.007282</td>\n      <td>0.050971</td>\n      <td>0.072816</td>\n      <td>0.060680</td>\n      <td>...</td>\n      <td>P25</td>\n      <td>none</td>\n      <td>378.0</td>\n      <td>410.0</td>\n      <td>1.0</td>\n      <td>1.0</td>\n      <td>62.5</td>\n      <td>0.2</td>\n      <td>60.0</td>\n      <td>25.0</td>\n    </tr>\n    <tr>\n      <th>3151</th>\n      <td>Q00896</td>\n      <td>1.789023</td>\n      <td>MTPSISWGLLLLAGLCCLVPSFLAEDVQETDTSQKDQSPASHEIAT...</td>\n      <td>412.0</td>\n      <td>45823.0</td>\n      <td>0.070388</td>\n      <td>0.007282</td>\n      <td>0.050971</td>\n      <td>0.072816</td>\n      <td>0.060680</td>\n      <td>...</td>\n      <td>P25</td>\n      <td>none</td>\n      <td>378.0</td>\n      <td>410.0</td>\n      <td>1.0</td>\n      <td>1.0</td>\n      <td>62.5</td>\n      <td>0.2</td>\n      <td>60.0</td>\n      <td>25.0</td>\n    </tr>\n    <tr>\n      <th>3152</th>\n      <td>Q00896</td>\n      <td>-inf</td>\n      <td>MTPSISWGLLLLAGLCCLVPSFLAEDVQETDTSQKDQSPASHEIAT...</td>\n      <td>412.0</td>\n      <td>45823.0</td>\n      <td>0.070388</td>\n      <td>0.007282</td>\n      <td>0.050971</td>\n      <td>0.072816</td>\n      <td>0.060680</td>\n      <td>...</td>\n      <td>P25</td>\n      <td>none</td>\n      <td>378.0</td>\n      <td>410.0</td>\n      <td>1.0</td>\n      <td>1.0</td>\n      <td>62.5</td>\n      <td>0.2</td>\n      <td>60.0</td>\n      <td>25.0</td>\n    </tr>\n    <tr>\n      <th>3153</th>\n      <td>Q00896</td>\n      <td>-inf</td>\n      <td>MTPSISWGLLLLAGLCCLVPSFLAEDVQETDTSQKDQSPASHEIAT...</td>\n      <td>412.0</td>\n      <td>45823.0</td>\n      <td>0.070388</td>\n      <td>0.007282</td>\n      <td>0.050971</td>\n      <td>0.072816</td>\n      <td>0.060680</td>\n      <td>...</td>\n      <td>Iron Oxide</td>\n      <td>Carboxylate BSA</td>\n      <td>100.0</td>\n      <td>230.0</td>\n      <td>1.0</td>\n      <td>0.0</td>\n      <td>25.0</td>\n      <td>0.2</td>\n      <td>60.0</td>\n      <td>25.0</td>\n    </tr>\n  </tbody>\n</table>\n<p>1845 rows × 110 columns</p>\n</div>"
     },
     "execution_count": 55,
     "metadata": {},
     "output_type": "execute_result"
    }
   ],
   "source": [
    "data_complete"
   ],
   "metadata": {
    "collapsed": false,
    "pycharm": {
     "name": "#%%\n"
    }
   }
  },
  {
   "cell_type": "code",
   "execution_count": 66,
   "outputs": [
    {
     "data": {
      "text/plain": "array([False, False, False, False, False, False, False, False, False,\n        True, False, False, False, False, False,  True, False, False,\n       False, False, False, False, False, False, False, False, False,\n        True, False,  True, False, False, False, False, False,  True,\n       False, False,  True,  True, False, False, False, False, False,\n        True, False, False,  True, False, False, False, False, False,\n       False, False, False, False, False, False,  True, False, False,\n       False, False, False, False, False, False,  True,  True, False,\n       False, False, False, False, False, False, False, False, False,\n       False, False, False, False, False,  True, False, False, False,\n       False, False, False, False, False,  True,  True, False, False,\n       False, False, False, False, False])"
     },
     "execution_count": 66,
     "metadata": {},
     "output_type": "execute_result"
    }
   ],
   "source": [
    "from sklearn.feature_selection import RFE\n",
    "\n",
    "estimator = RandomForestRegressor(n_estimators=100)\n",
    "selector = RFE(estimator, n_features_to_select= 15, step=1)\n",
    "selector = selector.fit(df,labels)\n",
    "selector.support_"
   ],
   "metadata": {
    "collapsed": false,
    "pycharm": {
     "name": "#%%\n"
    }
   }
  },
  {
   "cell_type": "code",
   "execution_count": 70,
   "outputs": [
    {
     "data": {
      "text/plain": "array([70, 84, 25, 35, 57, 66, 26,  3, 44,  1, 50, 19, 14, 12, 78,  1, 16,\n       72, 37, 39,  6, 43, 73, 20,  8,  9, 15,  1,  4,  1, 41, 22, 52, 56,\n       32,  1, 29, 85,  1,  1, 80, 61, 30, 68, 83,  1, 82, 86,  1, 33, 13,\n       62, 49, 76, 69, 48,  5, 71, 27, 60,  1, 54, 59, 65, 45,  2, 38, 74,\n       81,  1,  1, 79, 58, 53, 42, 67, 31, 47, 23, 10,  7, 28, 24, 34, 55,\n       40,  1, 36, 63, 18, 46, 21, 64, 51, 75,  1,  1, 11, 89, 77, 17, 87,\n       88, 90])"
     },
     "execution_count": 70,
     "metadata": {},
     "output_type": "execute_result"
    }
   ],
   "source": [
    "selector.ranking_"
   ],
   "metadata": {
    "collapsed": false,
    "pycharm": {
     "name": "#%%\n"
    }
   }
  },
  {
   "cell_type": "code",
   "execution_count": 67,
   "outputs": [
    {
     "name": "stdout",
     "output_type": "stream",
     "text": [
      "['frac_aa_I' 'frac_aa_Q' 'flexibility_var' 'flexibility_min'\n",
      " 'secondary_structure_fraction_disordered' 'mass' 'Unnamed: 0'\n",
      " 'fraction_exposed_polar_exposed' 'rsa_std' 'fraction_total_exposed_M'\n",
      " 'fraction_total_exposed_Y' 'fraction_exposed_exposed_A'\n",
      " 'fraction_exposed_exposed_T' 'Zeta Potential' 'Dtem']\n"
     ]
    }
   ],
   "source": [
    "feat_list=selector.get_feature_names_out()\n",
    "print(feat_list)"
   ],
   "metadata": {
    "collapsed": false,
    "pycharm": {
     "name": "#%%\n"
    }
   }
  },
  {
   "cell_type": "code",
   "execution_count": 68,
   "outputs": [
    {
     "data": {
      "text/plain": "      frac_aa_I  frac_aa_Q  flexibility_var  flexibility_min  \\\n0      0.024712   0.032949         0.000695         0.936357   \n1      0.024712   0.032949         0.000695         0.936357   \n2      0.024712   0.032949         0.000695         0.936357   \n6      0.062366   0.034409         0.000804         0.931119   \n7      0.062366   0.034409         0.000804         0.931119   \n...         ...        ...              ...              ...   \n3149   0.048544   0.043689         0.000799         0.936714   \n3150   0.048544   0.043689         0.000799         0.936714   \n3151   0.048544   0.043689         0.000799         0.936714   \n3152   0.048544   0.043689         0.000799         0.936714   \n3153   0.048544   0.043689         0.000799         0.936714   \n\n      secondary_structure_fraction_disordered      mass  Unnamed: 0  \\\n0                                    0.275124  0.136020        4766   \n1                                    0.275124  0.136020        4766   \n2                                    0.275124  0.136020        4766   \n6                                    0.193548  0.102756         279   \n7                                    0.193548  0.102756         279   \n...                                       ...       ...         ...   \n3149                                 0.162621  0.089949       19815   \n3150                                 0.162621  0.089949       19815   \n3151                                 0.162621  0.089949       19815   \n3152                                 0.162621  0.089949       19815   \n3153                                 0.162621  0.089949       19815   \n\n      fraction_exposed_polar_exposed  rsa_std  fraction_total_exposed_M  \\\n0                           0.742604    0.223                  0.003295   \n1                           0.742604    0.223                  0.003295   \n2                           0.742604    0.223                  0.003295   \n6                           0.691176    0.252                  0.004301   \n7                           0.691176    0.252                  0.004301   \n...                              ...      ...                       ...   \n3149                        0.741071    0.258                  0.007282   \n3150                        0.741071    0.258                  0.007282   \n3151                        0.741071    0.258                  0.007282   \n3152                        0.741071    0.258                  0.007282   \n3153                        0.741071    0.258                  0.007282   \n\n      fraction_total_exposed_Y  fraction_exposed_exposed_A  \\\n0                     0.006590                    0.082840   \n1                     0.006590                    0.082840   \n2                     0.006590                    0.082840   \n6                     0.008602                    0.040441   \n7                     0.008602                    0.040441   \n...                        ...                         ...   \n3149                  0.002427                    0.044643   \n3150                  0.002427                    0.044643   \n3151                  0.002427                    0.044643   \n3152                  0.002427                    0.044643   \n3153                  0.002427                    0.044643   \n\n      fraction_exposed_exposed_T  Zeta Potential   Dtem  \n0                       0.073964           -38.0  100.0  \n1                       0.073964           -38.0  100.0  \n2                       0.073964           -38.0  100.0  \n6                       0.062500           -38.0  100.0  \n7                       0.062500           -38.0  100.0  \n...                          ...             ...    ...  \n3149                    0.084821           -52.0  800.0  \n3150                    0.084821           -21.0  378.0  \n3151                    0.084821           -21.0  378.0  \n3152                    0.084821           -21.0  378.0  \n3153                    0.084821           -38.0  100.0  \n\n[1845 rows x 15 columns]",
      "text/html": "<div>\n<style scoped>\n    .dataframe tbody tr th:only-of-type {\n        vertical-align: middle;\n    }\n\n    .dataframe tbody tr th {\n        vertical-align: top;\n    }\n\n    .dataframe thead th {\n        text-align: right;\n    }\n</style>\n<table border=\"1\" class=\"dataframe\">\n  <thead>\n    <tr style=\"text-align: right;\">\n      <th></th>\n      <th>frac_aa_I</th>\n      <th>frac_aa_Q</th>\n      <th>flexibility_var</th>\n      <th>flexibility_min</th>\n      <th>secondary_structure_fraction_disordered</th>\n      <th>mass</th>\n      <th>Unnamed: 0</th>\n      <th>fraction_exposed_polar_exposed</th>\n      <th>rsa_std</th>\n      <th>fraction_total_exposed_M</th>\n      <th>fraction_total_exposed_Y</th>\n      <th>fraction_exposed_exposed_A</th>\n      <th>fraction_exposed_exposed_T</th>\n      <th>Zeta Potential</th>\n      <th>Dtem</th>\n    </tr>\n  </thead>\n  <tbody>\n    <tr>\n      <th>0</th>\n      <td>0.024712</td>\n      <td>0.032949</td>\n      <td>0.000695</td>\n      <td>0.936357</td>\n      <td>0.275124</td>\n      <td>0.136020</td>\n      <td>4766</td>\n      <td>0.742604</td>\n      <td>0.223</td>\n      <td>0.003295</td>\n      <td>0.006590</td>\n      <td>0.082840</td>\n      <td>0.073964</td>\n      <td>-38.0</td>\n      <td>100.0</td>\n    </tr>\n    <tr>\n      <th>1</th>\n      <td>0.024712</td>\n      <td>0.032949</td>\n      <td>0.000695</td>\n      <td>0.936357</td>\n      <td>0.275124</td>\n      <td>0.136020</td>\n      <td>4766</td>\n      <td>0.742604</td>\n      <td>0.223</td>\n      <td>0.003295</td>\n      <td>0.006590</td>\n      <td>0.082840</td>\n      <td>0.073964</td>\n      <td>-38.0</td>\n      <td>100.0</td>\n    </tr>\n    <tr>\n      <th>2</th>\n      <td>0.024712</td>\n      <td>0.032949</td>\n      <td>0.000695</td>\n      <td>0.936357</td>\n      <td>0.275124</td>\n      <td>0.136020</td>\n      <td>4766</td>\n      <td>0.742604</td>\n      <td>0.223</td>\n      <td>0.003295</td>\n      <td>0.006590</td>\n      <td>0.082840</td>\n      <td>0.073964</td>\n      <td>-38.0</td>\n      <td>100.0</td>\n    </tr>\n    <tr>\n      <th>6</th>\n      <td>0.062366</td>\n      <td>0.034409</td>\n      <td>0.000804</td>\n      <td>0.931119</td>\n      <td>0.193548</td>\n      <td>0.102756</td>\n      <td>279</td>\n      <td>0.691176</td>\n      <td>0.252</td>\n      <td>0.004301</td>\n      <td>0.008602</td>\n      <td>0.040441</td>\n      <td>0.062500</td>\n      <td>-38.0</td>\n      <td>100.0</td>\n    </tr>\n    <tr>\n      <th>7</th>\n      <td>0.062366</td>\n      <td>0.034409</td>\n      <td>0.000804</td>\n      <td>0.931119</td>\n      <td>0.193548</td>\n      <td>0.102756</td>\n      <td>279</td>\n      <td>0.691176</td>\n      <td>0.252</td>\n      <td>0.004301</td>\n      <td>0.008602</td>\n      <td>0.040441</td>\n      <td>0.062500</td>\n      <td>-38.0</td>\n      <td>100.0</td>\n    </tr>\n    <tr>\n      <th>...</th>\n      <td>...</td>\n      <td>...</td>\n      <td>...</td>\n      <td>...</td>\n      <td>...</td>\n      <td>...</td>\n      <td>...</td>\n      <td>...</td>\n      <td>...</td>\n      <td>...</td>\n      <td>...</td>\n      <td>...</td>\n      <td>...</td>\n      <td>...</td>\n      <td>...</td>\n    </tr>\n    <tr>\n      <th>3149</th>\n      <td>0.048544</td>\n      <td>0.043689</td>\n      <td>0.000799</td>\n      <td>0.936714</td>\n      <td>0.162621</td>\n      <td>0.089949</td>\n      <td>19815</td>\n      <td>0.741071</td>\n      <td>0.258</td>\n      <td>0.007282</td>\n      <td>0.002427</td>\n      <td>0.044643</td>\n      <td>0.084821</td>\n      <td>-52.0</td>\n      <td>800.0</td>\n    </tr>\n    <tr>\n      <th>3150</th>\n      <td>0.048544</td>\n      <td>0.043689</td>\n      <td>0.000799</td>\n      <td>0.936714</td>\n      <td>0.162621</td>\n      <td>0.089949</td>\n      <td>19815</td>\n      <td>0.741071</td>\n      <td>0.258</td>\n      <td>0.007282</td>\n      <td>0.002427</td>\n      <td>0.044643</td>\n      <td>0.084821</td>\n      <td>-21.0</td>\n      <td>378.0</td>\n    </tr>\n    <tr>\n      <th>3151</th>\n      <td>0.048544</td>\n      <td>0.043689</td>\n      <td>0.000799</td>\n      <td>0.936714</td>\n      <td>0.162621</td>\n      <td>0.089949</td>\n      <td>19815</td>\n      <td>0.741071</td>\n      <td>0.258</td>\n      <td>0.007282</td>\n      <td>0.002427</td>\n      <td>0.044643</td>\n      <td>0.084821</td>\n      <td>-21.0</td>\n      <td>378.0</td>\n    </tr>\n    <tr>\n      <th>3152</th>\n      <td>0.048544</td>\n      <td>0.043689</td>\n      <td>0.000799</td>\n      <td>0.936714</td>\n      <td>0.162621</td>\n      <td>0.089949</td>\n      <td>19815</td>\n      <td>0.741071</td>\n      <td>0.258</td>\n      <td>0.007282</td>\n      <td>0.002427</td>\n      <td>0.044643</td>\n      <td>0.084821</td>\n      <td>-21.0</td>\n      <td>378.0</td>\n    </tr>\n    <tr>\n      <th>3153</th>\n      <td>0.048544</td>\n      <td>0.043689</td>\n      <td>0.000799</td>\n      <td>0.936714</td>\n      <td>0.162621</td>\n      <td>0.089949</td>\n      <td>19815</td>\n      <td>0.741071</td>\n      <td>0.258</td>\n      <td>0.007282</td>\n      <td>0.002427</td>\n      <td>0.044643</td>\n      <td>0.084821</td>\n      <td>-38.0</td>\n      <td>100.0</td>\n    </tr>\n  </tbody>\n</table>\n<p>1845 rows × 15 columns</p>\n</div>"
     },
     "execution_count": 68,
     "metadata": {},
     "output_type": "execute_result"
    }
   ],
   "source": [
    "df_rfe=df[feat_list].copy()\n",
    "df_rfe"
   ],
   "metadata": {
    "collapsed": false,
    "pycharm": {
     "name": "#%%\n"
    }
   }
  },
  {
   "cell_type": "code",
   "execution_count": 69,
   "outputs": [
    {
     "name": "stdout",
     "output_type": "stream",
     "text": [
      "0.4842597983369027\n",
      "[0.00278302 0.01030632 0.01313748 0.00875351 0.00683374 0.00498888\n",
      " 0.00796487 0.01251578 0.01133626 0.01843671 0.01336709 0.01117691\n",
      " 0.00953963 0.00808017 0.00633013 0.02551137 0.00680407 0.0072462\n",
      " 0.0124571  0.00805565 0.01321333 0.0067056  0.00746923 0.01131588\n",
      " 0.00887882 0.01156137 0.01620082 0.01228784 0.01350195 0.02472102\n",
      " 0.00711607 0.00778677 0.00615023 0.00591355 0.00860451 0.00880385\n",
      " 0.00864762 0.00271799 0.00863806 0.03504366 0.0027549  0.00329766\n",
      " 0.00451402 0.00649205 0.0038334  0.00535787 0.00313132 0.00301483\n",
      " 0.02121946 0.00734019 0.01365409 0.00623983 0.00609741 0.00650613\n",
      " 0.00411996 0.00666445 0.00879869 0.0048202  0.00757055 0.00852602\n",
      " 0.02106027 0.00683431 0.00653906 0.00685978 0.00693153 0.0105419\n",
      " 0.01069131 0.00524909 0.00643607 0.01594246 0.0158922  0.00476728\n",
      " 0.00617462 0.01078512 0.00416028 0.00651023 0.01069121 0.00579392\n",
      " 0.00614301 0.00792539 0.01731439 0.00465425 0.00989679 0.00894439\n",
      " 0.00590931 0.00736137 0.01059044 0.00662479 0.00585274 0.01553652\n",
      " 0.00862957 0.01180324 0.00657303 0.00835077 0.00404714 0.03707844\n",
      " 0.0297489  0.02668154 0.         0.00401384 0.02535712 0.00333681\n",
      " 0.00090952 0.        ]\n"
     ]
    }
   ],
   "source": [
    "\n",
    "x_train, x_test, y_train, y_test = train_test_split(df,labels, test_size = 0.33, random_state=42)\n",
    "# sss = StratifiedShuffleSplit(n_splits=1, test_size=0.4, random_state=2016)\n",
    "# for train_index, test_index in sss.split(df, labels):\n",
    "# x_train = df.iloc[train_index]\n",
    "# X_test = df.iloc[test_index]\n",
    "# y_train = labels.iloc[train_index]\n",
    "# y_test = labels.iloc[test_index]\n",
    "\n",
    "rfg=RandomForestRegressor(n_estimators=100)\n",
    "rfg.fit(x_train,y_train)\n",
    "print(rfg.score(x_test,y_test))\n",
    "print(rfg.feature_importances_)\n",
    "# metrics_dict = {'AUC':metrics.roc_auc_score(y_test, rfg.predict_proba(x_test)[:, 1]),\n",
    "#             'Accuracy':rfg.score(x_test, y_test), 'Recall':recall_score(y_test, rfg.predict(x_test)),\n",
    "#             'Precision':precision_score(y_test, rfg.predict(x_test), zero_division=0), 'F1':f1_score(y_test, rfg.predict(x_test))}\n",
    "# metrics_frame = pd.DataFrame.from_dict(data=metrics_dict,orient='index').transpose()"
   ],
   "metadata": {
    "collapsed": false,
    "pycharm": {
     "name": "#%%\n"
    }
   }
  },
  {
   "cell_type": "code",
   "execution_count": null,
   "outputs": [],
   "source": [],
   "metadata": {
    "collapsed": false,
    "pycharm": {
     "name": "#%%\n"
    }
   }
  }
 ],
 "metadata": {
  "kernelspec": {
   "display_name": "Python 3",
   "language": "python",
   "name": "python3"
  },
  "language_info": {
   "codemirror_mode": {
    "name": "ipython",
    "version": 2
   },
   "file_extension": ".py",
   "mimetype": "text/x-python",
   "name": "python",
   "nbconvert_exporter": "python",
   "pygments_lexer": "ipython2",
   "version": "2.7.6"
  }
 },
 "nbformat": 4,
 "nbformat_minor": 0
}
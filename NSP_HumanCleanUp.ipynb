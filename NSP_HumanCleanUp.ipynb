{
 "cells": [
  {
   "cell_type": "code",
   "execution_count": 14,
   "metadata": {
    "collapsed": true,
    "pycharm": {
     "name": "#%%\n"
    }
   },
   "outputs": [
    {
     "name": "stdout",
     "output_type": "stream",
     "text": [
      "['results50.csv', 'results52.csv', 'results53.csv', 'results59.csv', 'results179.csv', 'results188.csv', 'results194.csv']\n"
     ]
    }
   ],
   "source": [
    "#figure out what files were skipped for/are missing from results\n",
    "\n",
    "import os\n",
    "import time\n",
    "from os import listdir\n",
    "from os.path import isfile, join\n",
    "\n",
    "direct2= 'C:/Users/pouls/Documents/NSP3_workingstuff/Human/splits/'\n",
    "direct3= 'C:/Users/pouls/Documents/NSP3_workingstuff/Human_results/'\n",
    "files = [f for f in listdir(direct2) if isfile(join(direct2,f)) ]\n",
    "results =  [f for f in listdir(direct3) if isfile(join(direct3,f)) ]\n",
    "files.sort()\n",
    "pot_res=[]\n",
    "for i in range(215):\n",
    "    temp='results'+str(i)+'.csv'\n",
    "    pot_res.append(temp)\n",
    "missing = [name for name in pot_res if name not in results]\n",
    "print(missing)\n",
    "filestorun=[]\n",
    "for i in missing:\n",
    "    temp= i[:-4]\n",
    "    temp=int(temp[7:])\n",
    "    filestorun.append(files[temp])\n",
    "\n",
    "# print(files)\n",
    "# print(results)"
   ]
  },
  {
   "cell_type": "code",
   "execution_count": 15,
   "outputs": [
    {
     "data": {
      "text/plain": "['human1039.fasta',\n 'human1040.fasta',\n 'human1041.fasta',\n 'human1047.fasta',\n 'human1155.fasta',\n 'human1163.fasta',\n 'human1169.fasta']"
     },
     "execution_count": 15,
     "metadata": {},
     "output_type": "execute_result"
    }
   ],
   "source": [
    "filestorun"
   ],
   "metadata": {
    "collapsed": false,
    "pycharm": {
     "name": "#%%\n"
    }
   }
  },
  {
   "cell_type": "code",
   "execution_count": 4,
   "outputs": [],
   "source": [
    "pot_res=[]\n",
    "for i in range(225):\n",
    "    temp='results'+str(i)+'.csv'\n",
    "    pot_res.append(temp)"
   ],
   "metadata": {
    "collapsed": false,
    "pycharm": {
     "name": "#%%\n"
    }
   }
  },
  {
   "cell_type": "code",
   "execution_count": 11,
   "outputs": [
    {
     "data": {
      "text/plain": "'1'"
     },
     "execution_count": 11,
     "metadata": {},
     "output_type": "execute_result"
    }
   ],
   "source": [
    "temp=missing[1][:-4]\n",
    "temp=temp[7:]\n",
    "temp"
   ],
   "metadata": {
    "collapsed": false,
    "pycharm": {
     "name": "#%%\n"
    }
   }
  }
 ],
 "metadata": {
  "kernelspec": {
   "display_name": "Python 3",
   "language": "python",
   "name": "python3"
  },
  "language_info": {
   "codemirror_mode": {
    "name": "ipython",
    "version": 2
   },
   "file_extension": ".py",
   "mimetype": "text/x-python",
   "name": "python",
   "nbconvert_exporter": "python",
   "pygments_lexer": "ipython2",
   "version": "2.7.6"
  }
 },
 "nbformat": 4,
 "nbformat_minor": 0
}